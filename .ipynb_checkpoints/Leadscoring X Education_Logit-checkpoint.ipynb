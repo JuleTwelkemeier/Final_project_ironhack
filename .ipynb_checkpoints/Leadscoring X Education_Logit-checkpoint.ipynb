{
 "cells": [
  {
   "cell_type": "markdown",
   "id": "7be98d2c",
   "metadata": {},
   "source": [
    "# Problem Statement\n",
    "\n",
    "X Education sells online courses to industry professionals. The company markets its courses on several websites and search engines like Google. \n",
    "Although X Education gets a lot of leads, its lead conversion rate is very poor. To make this process more efficient, the company wishes to identify the most potential leads, also known as ‘Hot Leads’.\n",
    "\n",
    "The company needs a model where each lead from the lead list is assigned a lead score so that customers with a higher lead score have a higher chance of converting and customers with a lower lead score have a lower chance of converting. \n",
    "\n",
    "The CEO, in particular, has given a ballpark of the target lead conversion rate to be around 80%."
   ]
  },
  {
   "cell_type": "markdown",
   "id": "ba7d9f40",
   "metadata": {},
   "source": [
    "## Libraries"
   ]
  },
  {
   "cell_type": "code",
   "execution_count": 666,
   "id": "99ac521b",
   "metadata": {},
   "outputs": [],
   "source": [
    "import pandas as pd\n",
    "pd.set_option('display.max_colwidth', None) #to display full text in df'S\n",
    "import numpy as np\n",
    "import scipy as sc\n",
    "from openpyxl import Workbook\n",
    "from ipywidgets import interactive\n",
    "import ipywidgets as widgets\n",
    "from sklearn.metrics import mean_absolute_error as mae\n",
    "from sklearn.metrics import mean_squared_error, r2_score\n",
    "from sklearn.preprocessing import StandardScaler\n",
    "from sklearn.preprocessing import OneHotEncoder\n",
    "from sklearn.preprocessing import QuantileTransformer\n",
    "from sklearn.linear_model import LogisticRegression\n",
    "from sklearn.svm import LinearSVC\n",
    "from sklearn.tree import DecisionTreeClassifier\n",
    "from sklearn.ensemble import RandomForestClassifier\n",
    "from sklearn.naive_bayes import GaussianNB\n",
    "from sklearn.neighbors import KNeighborsClassifier\n",
    "from sklearn.model_selection import RandomizedSearchCV\n",
    "from sklearn.model_selection import train_test_split\n",
    "from sklearn.preprocessing import PowerTransformer\n",
    "from sklearn.model_selection import cross_val_score\n",
    "from sklearn.experimental import enable_iterative_imputer\n",
    "from sklearn.impute import SimpleImputer\n",
    "from sklearn.metrics import r2_score, mean_absolute_error, mean_squared_error\n",
    "from scipy.stats import boxcox\n",
    "from scipy import stats\n",
    "pd.options.display.max_rows = 50\n",
    "pd.options.display.max_columns = 999\n",
    "from matplotlib import pyplot\n",
    "import matplotlib.pyplot as plt\n",
    "from matplotlib.collections import LineCollection\n",
    "%matplotlib inline\n",
    "import seaborn as sns\n",
    "import datetime\n",
    "from sklearn.metrics import classification_report\n",
    "from sklearn.metrics import accuracy_score, precision_score, recall_score, confusion_matrix\n",
    "from sklearn.metrics import plot_confusion_matrix\n",
    "import warnings\n",
    "warnings.filterwarnings('ignore')\n",
    "import statsmodels.api as sm\n",
    "import statsmodels.formula.api as smf\n",
    "from sklearn.feature_selection import RFE\n",
    "from statsmodels.stats.outliers_influence import variance_inflation_factor\n"
   ]
  },
  {
   "cell_type": "markdown",
   "id": "401b0e91",
   "metadata": {},
   "source": [
    "## Pipeline\n",
    "\n",
    "Results from the analysis you see below"
   ]
  },
  {
   "cell_type": "code",
   "execution_count": 667,
   "id": "36959a6a",
   "metadata": {},
   "outputs": [],
   "source": [
    "## Data cleaning /handling NaNs / bucketing /handling outliers\n",
    "\n",
    "\n",
    "def clean_data(df):\n",
    "    df.columns=[e.lower().replace(' ', '_') for e in df.columns] #all columns in lower case and with _\n",
    "    \n",
    "    # 'select' is a placehholder and needs to be treated like NaN\n",
    "    df.replace('Select', np.NaN, inplace =True)\n",
    "    \n",
    "    #dropping cloumns with > 30% nulls\n",
    "    #missing_value_df = df.isnull()\n",
    "    percent_missing = df.isnull().sum() * 100 / len(df)\n",
    "    missing_value_df = pd.DataFrame({'column_name': df.columns,\n",
    "                                     'percent_missing': percent_missing})\n",
    "    missing_data_30 = list(missing_value_df[missing_value_df['percent_missing']>30]['column_name'])\n",
    "    df.drop(columns=missing_data_30, inplace= True)\n",
    "    \n",
    "    # replacement with median to deal with the ouliers\n",
    "    df['totalvisits'].fillna(df['totalvisits'].median(),inplace=True)\n",
    "    df['page_views_per_visit'].fillna(df['page_views_per_visit'].median(),inplace=True)\n",
    "    \n",
    "    #using the most frequent method to fill values\n",
    "    df.last_activity.replace(np.NaN, 'Email Opened', inplace =True)\n",
    "    df.lead_source.replace(np.NaN, 'Google', inplace =True)\n",
    "    \n",
    "    #bucketing Google and goggle\n",
    "    df.lead_source.replace('google','Google', inplace = True)\n",
    "    \n",
    "    #bucketing referrals\n",
    "    df.lead_source.replace(('Referral Sites','Reference'),'Referral', inplace = True)\n",
    "    \n",
    "    #bucketing marked spam as unsubscribed\n",
    "    df.lead_source.replace('Email Marked Spam','Unsubscribed', inplace = True)\n",
    "    df.last_notable_activity.replace('Email Marked Spam','Unsubscribed', inplace = True)\n",
    "    \n",
    "    #bucketing values < 30 to 'Other'\n",
    "    df.last_activity.replace(('Approached upfront','View in browser link Clicked','Email Received','Email Marked Spam','Visited Booth in Tradeshow','Resubscribed to emails'), 'Other', inplace = True)\n",
    "    df.lead_source.replace(('bing','google','blog','Payoer Click Ads','Social Media','WeLearn','Click2call','Live Chat','welearnblog_Home','youtubechannel','testone','Press_Release','NC_EDM', 'Pay per Click Ads'), 'Other', inplace = True)\n",
    "    df.last_notable_activity.replace(('Had a Phone Conversation','Approached upfront','Resubscribed to emails','View in browser link Clicked','Form Submitted on Website','Email Received'), 'Other', inplace = True)\n",
    "    # bucket buisnessman and working professional \n",
    "    df.what_is_your_current_occupation.replace('Businessman', 'Working Professional', inplace =True)\n",
    "    #bucketing add forms\n",
    "    df.lead_origin.replace(('Quick Add Form','Lead Add Form'),'Add Form', inplace =True)\n",
    "    #bucketing email bounced and unreachable\n",
    "    df.last_notable_activity.replace('Email Bounced','Unreachable', inplace = True)\n",
    "    \n",
    "    # as NaN can be seen equal to other (not known), I will replace NaN's with 'Other' in occupation\n",
    "    df.what_is_your_current_occupation.replace(np.NaN, 'Other', inplace =True)\n",
    "    df.what_matters_most_to_you_in_choosing_a_course.replace(np.NaN, 'Other', inplace =True)\n",
    "    \n",
    "    \n",
    "    #drop column which is just for identification\n",
    "    df.drop(columns = 'prospect_id', inplace =True)\n",
    "    \n",
    "    \n",
    "    #drop columns which have no or little variance\n",
    "    df.drop(columns = 'country', inplace =True) #A/B testing\n",
    "    df.drop(columns = 'search', inplace =True) #A/B testing\n",
    "    df.drop(columns = 'what_matters_most_to_you_in_choosing_a_course', inplace =True)\n",
    "    df.drop(columns = 'magazine', inplace =True)\n",
    "    df.drop(columns = 'newspaper_article', inplace =True)\n",
    "    df.drop(columns = 'x_education_forums', inplace =True)\n",
    "    df.drop(columns = 'newspaper', inplace =True)\n",
    "    df.drop(columns = 'digital_advertisement', inplace =True)\n",
    "    df.drop(columns = 'through_recommendations', inplace =True)\n",
    "    df.drop(columns = 'receive_more_updates_about_our_courses', inplace =True)\n",
    "    df.drop(columns = 'get_updates_on_dm_content', inplace =True)\n",
    "    df.drop(columns = 'i_agree_to_pay_the_amount_through_cheque', inplace =True)\n",
    "    df.drop(columns = 'update_me_on_supply_chain_content', inplace = True)\n",
    "    df.drop(columns = 'do_not_call', inplace = True)\n",
    "    \n",
    "    #treating outliers with z scorre > 3\n",
    "    z = np.abs(stats.zscore(df.page_views_per_visit))\n",
    "    threshold = 5\n",
    "    outliers_pagevisits =(np.where(z > 3))\n",
    "    outliers_pagevisits = np.array(outliers_pagevisits).tolist()\n",
    "    z1 = np.abs(stats.zscore(df.totalvisits))\n",
    "    threshold = 5\n",
    "    outliers_totalvisits =(np.where(z1 > 3))\n",
    "    outliers_totalvisits = np.array(outliers_totalvisits).tolist()\n",
    "    #combine both lists to the drop these rows\n",
    "    outliers = [*outliers_totalvisits, *outliers_pagevisits]\n",
    "    for i in outliers:\n",
    "        df.drop(df.index[[i]], inplace = True)\n",
    "    #df.drop(columns = 'lead_number', inplace =True) #--> will use it later to give the score based on this number\n",
    "    \n",
    "    \n",
    "    #display(df.isnull().sum())\n",
    "    return df\n",
    "    "
   ]
  },
  {
   "cell_type": "markdown",
   "id": "e27cc0a8",
   "metadata": {},
   "source": [
    "## Metadata"
   ]
  },
  {
   "cell_type": "code",
   "execution_count": 668,
   "id": "886cb9fb",
   "metadata": {},
   "outputs": [
    {
     "data": {
      "text/html": [
       "<div>\n",
       "<style scoped>\n",
       "    .dataframe tbody tr th:only-of-type {\n",
       "        vertical-align: middle;\n",
       "    }\n",
       "\n",
       "    .dataframe tbody tr th {\n",
       "        vertical-align: top;\n",
       "    }\n",
       "\n",
       "    .dataframe thead th {\n",
       "        text-align: right;\n",
       "    }\n",
       "</style>\n",
       "<table border=\"1\" class=\"dataframe\">\n",
       "  <thead>\n",
       "    <tr style=\"text-align: right;\">\n",
       "      <th></th>\n",
       "      <th>Column</th>\n",
       "      <th>Describtion</th>\n",
       "    </tr>\n",
       "  </thead>\n",
       "  <tbody>\n",
       "    <tr>\n",
       "      <th>0</th>\n",
       "      <td>Prospect ID</td>\n",
       "      <td>A unique ID with which the customer is identified.</td>\n",
       "    </tr>\n",
       "    <tr>\n",
       "      <th>1</th>\n",
       "      <td>Lead Number</td>\n",
       "      <td>A lead number assigned to each lead procured.</td>\n",
       "    </tr>\n",
       "    <tr>\n",
       "      <th>2</th>\n",
       "      <td>Lead Origin</td>\n",
       "      <td>The origin identifier with which the customer was identified to be a lead. Includes API, Landing Page Submission, etc.</td>\n",
       "    </tr>\n",
       "    <tr>\n",
       "      <th>3</th>\n",
       "      <td>Lead Source</td>\n",
       "      <td>The source of the lead. Includes Google, Organic Search, Olark Chat, etc.</td>\n",
       "    </tr>\n",
       "    <tr>\n",
       "      <th>4</th>\n",
       "      <td>Do Not Email</td>\n",
       "      <td>An indicator variable selected by the customer wherein they select whether of not they want to be emailed about the course or not.</td>\n",
       "    </tr>\n",
       "    <tr>\n",
       "      <th>5</th>\n",
       "      <td>Do Not Call</td>\n",
       "      <td>An indicator variable selected by the customer wherein they select whether of not they want to be called about the course or not.</td>\n",
       "    </tr>\n",
       "    <tr>\n",
       "      <th>6</th>\n",
       "      <td>Converted</td>\n",
       "      <td>The target variable. Indicates whether a lead has been successfully converted or not.</td>\n",
       "    </tr>\n",
       "    <tr>\n",
       "      <th>7</th>\n",
       "      <td>TotalVisits</td>\n",
       "      <td>The total number of visits made by the customer on the website.</td>\n",
       "    </tr>\n",
       "    <tr>\n",
       "      <th>8</th>\n",
       "      <td>Total Time Spent on Website</td>\n",
       "      <td>The total time spent by the customer on the website.</td>\n",
       "    </tr>\n",
       "    <tr>\n",
       "      <th>9</th>\n",
       "      <td>Page Views Per Visit</td>\n",
       "      <td>Average number of pages on the website viewed during the visits.</td>\n",
       "    </tr>\n",
       "    <tr>\n",
       "      <th>10</th>\n",
       "      <td>Last Activity</td>\n",
       "      <td>Last activity performed by the customer. Includes Email Opened, Olark Chat Conversation, etc.</td>\n",
       "    </tr>\n",
       "    <tr>\n",
       "      <th>11</th>\n",
       "      <td>Country</td>\n",
       "      <td>The country of the customer.</td>\n",
       "    </tr>\n",
       "    <tr>\n",
       "      <th>12</th>\n",
       "      <td>Specialization</td>\n",
       "      <td>The industry domain in which the customer worked before. Includes the level 'Select Specialization' which means the customer had not selected this option while filling the form.</td>\n",
       "    </tr>\n",
       "    <tr>\n",
       "      <th>13</th>\n",
       "      <td>How did you hear about X Education</td>\n",
       "      <td>The source from which the customer heard about X Education.</td>\n",
       "    </tr>\n",
       "    <tr>\n",
       "      <th>14</th>\n",
       "      <td>What is your current occupation</td>\n",
       "      <td>Indicates whether the customer is a student, umemployed or employed.</td>\n",
       "    </tr>\n",
       "    <tr>\n",
       "      <th>15</th>\n",
       "      <td>What matters most to you in choosing this course</td>\n",
       "      <td>An option selected by the customer indicating what is their main motto behind doing this course.</td>\n",
       "    </tr>\n",
       "    <tr>\n",
       "      <th>16</th>\n",
       "      <td>Search</td>\n",
       "      <td>Indicating whether the customer had seen the ad in any of the listed items.</td>\n",
       "    </tr>\n",
       "    <tr>\n",
       "      <th>17</th>\n",
       "      <td>Magazine</td>\n",
       "      <td>NaN</td>\n",
       "    </tr>\n",
       "    <tr>\n",
       "      <th>18</th>\n",
       "      <td>Newspaper Article</td>\n",
       "      <td>NaN</td>\n",
       "    </tr>\n",
       "    <tr>\n",
       "      <th>19</th>\n",
       "      <td>X Education Forums</td>\n",
       "      <td>NaN</td>\n",
       "    </tr>\n",
       "    <tr>\n",
       "      <th>20</th>\n",
       "      <td>Newspaper</td>\n",
       "      <td>NaN</td>\n",
       "    </tr>\n",
       "    <tr>\n",
       "      <th>21</th>\n",
       "      <td>Digital Advertisement</td>\n",
       "      <td>NaN</td>\n",
       "    </tr>\n",
       "    <tr>\n",
       "      <th>22</th>\n",
       "      <td>Through Recommendations</td>\n",
       "      <td>Indicates whether the customer came in through recommendations.</td>\n",
       "    </tr>\n",
       "    <tr>\n",
       "      <th>23</th>\n",
       "      <td>Receive More Updates About Our Courses</td>\n",
       "      <td>Indicates whether the customer chose to receive more updates about the courses.</td>\n",
       "    </tr>\n",
       "    <tr>\n",
       "      <th>24</th>\n",
       "      <td>Tags</td>\n",
       "      <td>Tags assigned to customers indicating the current status of the lead.</td>\n",
       "    </tr>\n",
       "    <tr>\n",
       "      <th>25</th>\n",
       "      <td>Lead Quality</td>\n",
       "      <td>Indicates the quality of lead based on the data and intuition the the employee who has been assigned to the lead.</td>\n",
       "    </tr>\n",
       "    <tr>\n",
       "      <th>26</th>\n",
       "      <td>Update me on Supply Chain Content</td>\n",
       "      <td>Indicates whether the customer wants updates on the Supply Chain Content.</td>\n",
       "    </tr>\n",
       "    <tr>\n",
       "      <th>27</th>\n",
       "      <td>Get updates on DM Content</td>\n",
       "      <td>Indicates whether the customer wants updates on the DM Content.</td>\n",
       "    </tr>\n",
       "    <tr>\n",
       "      <th>28</th>\n",
       "      <td>Lead Profile</td>\n",
       "      <td>A lead level assigned to each customer based on their profile.</td>\n",
       "    </tr>\n",
       "    <tr>\n",
       "      <th>29</th>\n",
       "      <td>City</td>\n",
       "      <td>The city of the customer.</td>\n",
       "    </tr>\n",
       "    <tr>\n",
       "      <th>30</th>\n",
       "      <td>Asymmetrique Activity Index</td>\n",
       "      <td>An index and score assigned to each customer based on their activity and their profile</td>\n",
       "    </tr>\n",
       "    <tr>\n",
       "      <th>31</th>\n",
       "      <td>Asymmetrique Profile Index</td>\n",
       "      <td>NaN</td>\n",
       "    </tr>\n",
       "    <tr>\n",
       "      <th>32</th>\n",
       "      <td>Asymmetrique Activity Score</td>\n",
       "      <td>NaN</td>\n",
       "    </tr>\n",
       "    <tr>\n",
       "      <th>33</th>\n",
       "      <td>Asymmetrique Profile Score</td>\n",
       "      <td>NaN</td>\n",
       "    </tr>\n",
       "    <tr>\n",
       "      <th>34</th>\n",
       "      <td>I agree to pay the amount through cheque</td>\n",
       "      <td>Indicates whether the customer has agreed to pay the amount through cheque or not.</td>\n",
       "    </tr>\n",
       "    <tr>\n",
       "      <th>35</th>\n",
       "      <td>a free copy of Mastering The Interview</td>\n",
       "      <td>Indicates whether the customer wants a free copy of 'Mastering the Interview' or not.</td>\n",
       "    </tr>\n",
       "    <tr>\n",
       "      <th>36</th>\n",
       "      <td>Last Notable Activity</td>\n",
       "      <td>The last notable acitivity performed by the student.</td>\n",
       "    </tr>\n",
       "  </tbody>\n",
       "</table>\n",
       "</div>"
      ],
      "text/plain": [
       "                                              Column  \\\n",
       "0                                        Prospect ID   \n",
       "1                                        Lead Number   \n",
       "2                                        Lead Origin   \n",
       "3                                        Lead Source   \n",
       "4                                       Do Not Email   \n",
       "5                                        Do Not Call   \n",
       "6                                          Converted   \n",
       "7                                        TotalVisits   \n",
       "8                        Total Time Spent on Website   \n",
       "9                               Page Views Per Visit   \n",
       "10                                     Last Activity   \n",
       "11                                           Country   \n",
       "12                                    Specialization   \n",
       "13                How did you hear about X Education   \n",
       "14                   What is your current occupation   \n",
       "15  What matters most to you in choosing this course   \n",
       "16                                            Search   \n",
       "17                                          Magazine   \n",
       "18                                 Newspaper Article   \n",
       "19                                X Education Forums   \n",
       "20                                         Newspaper   \n",
       "21                             Digital Advertisement   \n",
       "22                           Through Recommendations   \n",
       "23            Receive More Updates About Our Courses   \n",
       "24                                              Tags   \n",
       "25                                      Lead Quality   \n",
       "26                 Update me on Supply Chain Content   \n",
       "27                         Get updates on DM Content   \n",
       "28                                      Lead Profile   \n",
       "29                                              City   \n",
       "30                       Asymmetrique Activity Index   \n",
       "31                        Asymmetrique Profile Index   \n",
       "32                       Asymmetrique Activity Score   \n",
       "33                        Asymmetrique Profile Score   \n",
       "34          I agree to pay the amount through cheque   \n",
       "35            a free copy of Mastering The Interview   \n",
       "36                             Last Notable Activity   \n",
       "\n",
       "                                                                                                                                                                          Describtion  \n",
       "0                                                                                                                                  A unique ID with which the customer is identified.  \n",
       "1                                                                                                                                       A lead number assigned to each lead procured.  \n",
       "2                                                              The origin identifier with which the customer was identified to be a lead. Includes API, Landing Page Submission, etc.  \n",
       "3                                                                                                           The source of the lead. Includes Google, Organic Search, Olark Chat, etc.  \n",
       "4                                                  An indicator variable selected by the customer wherein they select whether of not they want to be emailed about the course or not.  \n",
       "5                                                   An indicator variable selected by the customer wherein they select whether of not they want to be called about the course or not.  \n",
       "6                                                                                               The target variable. Indicates whether a lead has been successfully converted or not.  \n",
       "7                                                                                                                     The total number of visits made by the customer on the website.  \n",
       "8                                                                                                                                The total time spent by the customer on the website.  \n",
       "9                                                                                                                    Average number of pages on the website viewed during the visits.  \n",
       "10                                                                                      Last activity performed by the customer. Includes Email Opened, Olark Chat Conversation, etc.  \n",
       "11                                                                                                                                                       The country of the customer.  \n",
       "12  The industry domain in which the customer worked before. Includes the level 'Select Specialization' which means the customer had not selected this option while filling the form.  \n",
       "13                                                                                                                        The source from which the customer heard about X Education.  \n",
       "14                                                                                                               Indicates whether the customer is a student, umemployed or employed.  \n",
       "15                                                                                   An option selected by the customer indicating what is their main motto behind doing this course.  \n",
       "16                                                                                                        Indicating whether the customer had seen the ad in any of the listed items.  \n",
       "17                                                                                                                                                                                NaN  \n",
       "18                                                                                                                                                                                NaN  \n",
       "19                                                                                                                                                                                NaN  \n",
       "20                                                                                                                                                                                NaN  \n",
       "21                                                                                                                                                                                NaN  \n",
       "22                                                                                                                    Indicates whether the customer came in through recommendations.  \n",
       "23                                                                                                    Indicates whether the customer chose to receive more updates about the courses.  \n",
       "24                                                                                                              Tags assigned to customers indicating the current status of the lead.  \n",
       "25                                                                  Indicates the quality of lead based on the data and intuition the the employee who has been assigned to the lead.  \n",
       "26                                                                                                          Indicates whether the customer wants updates on the Supply Chain Content.  \n",
       "27                                                                                                                    Indicates whether the customer wants updates on the DM Content.  \n",
       "28                                                                                                                     A lead level assigned to each customer based on their profile.  \n",
       "29                                                                                                                                                          The city of the customer.  \n",
       "30                                                                                             An index and score assigned to each customer based on their activity and their profile  \n",
       "31                                                                                                                                                                                NaN  \n",
       "32                                                                                                                                                                                NaN  \n",
       "33                                                                                                                                                                                NaN  \n",
       "34                                                                                                 Indicates whether the customer has agreed to pay the amount through cheque or not.  \n",
       "35                                                                                              Indicates whether the customer wants a free copy of 'Mastering the Interview' or not.  \n",
       "36                                                                                                                               The last notable acitivity performed by the student.  "
      ]
     },
     "execution_count": 668,
     "metadata": {},
     "output_type": "execute_result"
    }
   ],
   "source": [
    "metadata = pd.read_excel('files/Leads Data Dictionary.xlsx')\n",
    "#metadata= metadata.drop(metadata.index[:2])\n",
    "metadata= metadata.drop(columns ='Unnamed: 0').rename(columns={'Unnamed: 1': 'Column', 'Unnamed: 2': 'Describtion'}).drop(metadata.index[:2]).reset_index().drop(columns='index')\n",
    "metadata"
   ]
  },
  {
   "cell_type": "markdown",
   "id": "1a7c20d2",
   "metadata": {},
   "source": [
    "## Lead Dataset"
   ]
  },
  {
   "cell_type": "code",
   "execution_count": 669,
   "id": "274de0e4",
   "metadata": {},
   "outputs": [],
   "source": [
    "## Kaggle dataset into df\n",
    "lead_df = pd.read_csv('files/Lead Scoring.csv')\n",
    "lead_df.columns=[e.lower().replace(' ', '_') for e in lead_df.columns] #all columns in lower case and with _"
   ]
  },
  {
   "cell_type": "markdown",
   "id": "9d8f77bb",
   "metadata": {},
   "source": [
    "### Checking the current Conversion Rate"
   ]
  },
  {
   "cell_type": "code",
   "execution_count": 670,
   "id": "7f7ed5c3",
   "metadata": {},
   "outputs": [
    {
     "name": "stdout",
     "output_type": "stream",
     "text": [
      "The current conversion rate from X Education is  39 %\n"
     ]
    }
   ],
   "source": [
    "print(\"The current conversion rate from X Education is \", round((sum(lead_df['converted'])/len(lead_df['converted'].index))*100), \"%\")"
   ]
  },
  {
   "cell_type": "markdown",
   "id": "4e8551e7",
   "metadata": {},
   "source": [
    "### Check & handle Null Values"
   ]
  },
  {
   "cell_type": "code",
   "execution_count": 671,
   "id": "82a079be",
   "metadata": {},
   "outputs": [
    {
     "name": "stdout",
     "output_type": "stream",
     "text": [
      "<class 'pandas.core.frame.DataFrame'>\n",
      "RangeIndex: 9240 entries, 0 to 9239\n",
      "Data columns (total 37 columns):\n",
      " #   Column                                         Non-Null Count  Dtype  \n",
      "---  ------                                         --------------  -----  \n",
      " 0   prospect_id                                    9240 non-null   object \n",
      " 1   lead_number                                    9240 non-null   int64  \n",
      " 2   lead_origin                                    9240 non-null   object \n",
      " 3   lead_source                                    9204 non-null   object \n",
      " 4   do_not_email                                   9240 non-null   object \n",
      " 5   do_not_call                                    9240 non-null   object \n",
      " 6   converted                                      9240 non-null   int64  \n",
      " 7   totalvisits                                    9103 non-null   float64\n",
      " 8   total_time_spent_on_website                    9240 non-null   int64  \n",
      " 9   page_views_per_visit                           9103 non-null   float64\n",
      " 10  last_activity                                  9137 non-null   object \n",
      " 11  country                                        6779 non-null   object \n",
      " 12  specialization                                 7802 non-null   object \n",
      " 13  how_did_you_hear_about_x_education             7033 non-null   object \n",
      " 14  what_is_your_current_occupation                6550 non-null   object \n",
      " 15  what_matters_most_to_you_in_choosing_a_course  6531 non-null   object \n",
      " 16  search                                         9240 non-null   object \n",
      " 17  magazine                                       9240 non-null   object \n",
      " 18  newspaper_article                              9240 non-null   object \n",
      " 19  x_education_forums                             9240 non-null   object \n",
      " 20  newspaper                                      9240 non-null   object \n",
      " 21  digital_advertisement                          9240 non-null   object \n",
      " 22  through_recommendations                        9240 non-null   object \n",
      " 23  receive_more_updates_about_our_courses         9240 non-null   object \n",
      " 24  tags                                           5887 non-null   object \n",
      " 25  lead_quality                                   4473 non-null   object \n",
      " 26  update_me_on_supply_chain_content              9240 non-null   object \n",
      " 27  get_updates_on_dm_content                      9240 non-null   object \n",
      " 28  lead_profile                                   6531 non-null   object \n",
      " 29  city                                           7820 non-null   object \n",
      " 30  asymmetrique_activity_index                    5022 non-null   object \n",
      " 31  asymmetrique_profile_index                     5022 non-null   object \n",
      " 32  asymmetrique_activity_score                    5022 non-null   float64\n",
      " 33  asymmetrique_profile_score                     5022 non-null   float64\n",
      " 34  i_agree_to_pay_the_amount_through_cheque       9240 non-null   object \n",
      " 35  a_free_copy_of_mastering_the_interview         9240 non-null   object \n",
      " 36  last_notable_activity                          9240 non-null   object \n",
      "dtypes: float64(4), int64(3), object(30)\n",
      "memory usage: 2.6+ MB\n"
     ]
    }
   ],
   "source": [
    "lead_df.info()"
   ]
  },
  {
   "cell_type": "markdown",
   "id": "121bed2c",
   "metadata": {},
   "source": [
    "#### Duplicates /Missing Values"
   ]
  },
  {
   "cell_type": "code",
   "execution_count": 672,
   "id": "15061e10",
   "metadata": {},
   "outputs": [
    {
     "data": {
      "text/plain": [
       "(9240, 37)"
      ]
     },
     "metadata": {},
     "output_type": "display_data"
    },
    {
     "data": {
      "text/plain": [
       "(9240, 37)"
      ]
     },
     "execution_count": 672,
     "metadata": {},
     "output_type": "execute_result"
    }
   ],
   "source": [
    "#check & delete duplicates\n",
    "display(lead_df.shape)\n",
    "lead_df= lead_df.drop_duplicates()\n",
    "lead_df.shape"
   ]
  },
  {
   "cell_type": "code",
   "execution_count": 673,
   "id": "87e3195e",
   "metadata": {},
   "outputs": [
    {
     "data": {
      "text/plain": [
       "(9240, 37)"
      ]
     },
     "metadata": {},
     "output_type": "display_data"
    },
    {
     "data": {
      "text/plain": [
       "(9240, 37)"
      ]
     },
     "execution_count": 673,
     "metadata": {},
     "output_type": "execute_result"
    }
   ],
   "source": [
    "#check &delete empty rows\n",
    "display(lead_df.shape)\n",
    "lead_df =lead_df.dropna(how ='all')\n",
    "lead_df.shape"
   ]
  },
  {
   "cell_type": "code",
   "execution_count": 674,
   "id": "17f8a736",
   "metadata": {},
   "outputs": [
    {
     "data": {
      "text/plain": [
       "prospect_id                                         0\n",
       "lead_number                                         0\n",
       "lead_origin                                         0\n",
       "lead_source                                        36\n",
       "do_not_email                                        0\n",
       "do_not_call                                         0\n",
       "converted                                           0\n",
       "totalvisits                                       137\n",
       "total_time_spent_on_website                         0\n",
       "page_views_per_visit                              137\n",
       "last_activity                                     103\n",
       "country                                          2461\n",
       "specialization                                   1438\n",
       "how_did_you_hear_about_x_education               2207\n",
       "what_is_your_current_occupation                  2690\n",
       "what_matters_most_to_you_in_choosing_a_course    2709\n",
       "search                                              0\n",
       "magazine                                            0\n",
       "newspaper_article                                   0\n",
       "x_education_forums                                  0\n",
       "newspaper                                           0\n",
       "digital_advertisement                               0\n",
       "through_recommendations                             0\n",
       "receive_more_updates_about_our_courses              0\n",
       "tags                                             3353\n",
       "lead_quality                                     4767\n",
       "update_me_on_supply_chain_content                   0\n",
       "get_updates_on_dm_content                           0\n",
       "lead_profile                                     2709\n",
       "city                                             1420\n",
       "asymmetrique_activity_index                      4218\n",
       "asymmetrique_profile_index                       4218\n",
       "asymmetrique_activity_score                      4218\n",
       "asymmetrique_profile_score                       4218\n",
       "i_agree_to_pay_the_amount_through_cheque            0\n",
       "a_free_copy_of_mastering_the_interview              0\n",
       "last_notable_activity                               0\n",
       "dtype: int64"
      ]
     },
     "execution_count": 674,
     "metadata": {},
     "output_type": "execute_result"
    }
   ],
   "source": [
    "lead_df.isnull().sum()"
   ]
  },
  {
   "cell_type": "markdown",
   "id": "29765ca0",
   "metadata": {},
   "source": [
    "#### Deleting columns with more than 30% missing values"
   ]
  },
  {
   "cell_type": "code",
   "execution_count": 675,
   "id": "c73a81ce",
   "metadata": {},
   "outputs": [
    {
     "data": {
      "text/plain": [
       "(6,\n",
       " ['tags',\n",
       "  'lead_quality',\n",
       "  'asymmetrique_activity_index',\n",
       "  'asymmetrique_profile_index',\n",
       "  'asymmetrique_activity_score',\n",
       "  'asymmetrique_profile_score'])"
      ]
     },
     "execution_count": 675,
     "metadata": {},
     "output_type": "execute_result"
    }
   ],
   "source": [
    "#get columns with more than 30% missing values (assumption these columns shouldn't be filled with means/medians)\n",
    "missing_value_df = lead_df.isnull()\n",
    "#get % of missing values\n",
    "percent_missing = lead_df.isnull().sum() * 100 / len(lead_df)\n",
    "missing_value_df = pd.DataFrame({'column_name': lead_df.columns,\n",
    "                                 'percent_missing': percent_missing})\n",
    "\n",
    "\n",
    "missing_data_30 = list(missing_value_df[missing_value_df['percent_missing']>30]['column_name'])\n",
    "len(missing_data_30), missing_data_30\n"
   ]
  },
  {
   "cell_type": "code",
   "execution_count": 676,
   "id": "d380a6de",
   "metadata": {},
   "outputs": [
    {
     "data": {
      "text/plain": [
       "Might be             1560\n",
       "Not Sure             1092\n",
       "High in Relevance     637\n",
       "Worst                 601\n",
       "Low in Relevance      583\n",
       "Name: lead_quality, dtype: int64"
      ]
     },
     "execution_count": 676,
     "metadata": {},
     "output_type": "execute_result"
    }
   ],
   "source": [
    "#checking lead_quality\n",
    "lead_df.lead_quality.value_counts()\n",
    "#column gives no great insight as it is based on the data and intuition the employee who has been assigned to the lead.\n",
    "#there seems to be no aligned process and it is really dependent from the lead owner\n",
    "#will use it for the presentation"
   ]
  },
  {
   "cell_type": "code",
   "execution_count": 677,
   "id": "3680f44a",
   "metadata": {},
   "outputs": [
    {
     "name": "stdout",
     "output_type": "stream",
     "text": [
      "Originally the dataset had 37 columns\n",
      "Now the dataset has 31 columns\n"
     ]
    }
   ],
   "source": [
    "# dropping columns with more than 30& missing valueslead\n",
    "print('Originally the dataset had', len(lead_df.columns), 'columns')\n",
    "lead_df.drop(columns=missing_data_30, inplace= True)\n",
    "print('Now the dataset has', len(lead_df.columns), 'columns')\n"
   ]
  },
  {
   "cell_type": "markdown",
   "id": "ad7611f6",
   "metadata": {},
   "source": [
    "#### Columns with missing data < 30 %"
   ]
  },
  {
   "cell_type": "code",
   "execution_count": 678,
   "id": "75c033db",
   "metadata": {},
   "outputs": [
    {
     "data": {
      "text/plain": [
       "(11,\n",
       " ['lead_source',\n",
       "  'totalvisits',\n",
       "  'page_views_per_visit',\n",
       "  'last_activity',\n",
       "  'country',\n",
       "  'specialization',\n",
       "  'how_did_you_hear_about_x_education',\n",
       "  'what_is_your_current_occupation',\n",
       "  'what_matters_most_to_you_in_choosing_a_course',\n",
       "  'lead_profile',\n",
       "  'city'])"
      ]
     },
     "execution_count": 678,
     "metadata": {},
     "output_type": "execute_result"
    }
   ],
   "source": [
    "missing_value_df = lead_df.isnull()\n",
    "#get % of missing values\n",
    "percent_missing = lead_df.isnull().sum() * 100 / len(lead_df)\n",
    "missing_value_df = pd.DataFrame({'column_name': lead_df.columns,\n",
    "                                 'percent_missing': percent_missing})\n",
    "\n",
    "\n",
    "missing_data = list(missing_value_df[missing_value_df['percent_missing']!=0]['column_name'])\n",
    "len(missing_data), missing_data"
   ]
  },
  {
   "cell_type": "markdown",
   "id": "24d38ac4",
   "metadata": {},
   "source": [
    "Totalvisits"
   ]
  },
  {
   "cell_type": "code",
   "execution_count": 679,
   "id": "66c99206",
   "metadata": {},
   "outputs": [
    {
     "data": {
      "text/plain": [
       "False    9103\n",
       "True      137\n",
       "Name: totalvisits, dtype: int64"
      ]
     },
     "metadata": {},
     "output_type": "display_data"
    },
    {
     "data": {
      "text/plain": [
       "<AxesSubplot:xlabel='totalvisits'>"
      ]
     },
     "execution_count": 679,
     "metadata": {},
     "output_type": "execute_result"
    },
    {
     "data": {
      "image/png": "[encoded data removed]",
      "text/plain": [
       "<Figure size 432x288 with 1 Axes>"
      ]
     },
     "metadata": {
      "needs_background": "light"
     },
     "output_type": "display_data"
    }
   ],
   "source": [
    "display(lead_df.totalvisits.isnull().value_counts())\n",
    "#check for outliers\n",
    "sns.boxplot(lead_df.totalvisits)"
   ]
  },
  {
   "cell_type": "code",
   "execution_count": 680,
   "id": "b97498d4",
   "metadata": {},
   "outputs": [
    {
     "data": {
      "text/plain": [
       "0"
      ]
     },
     "execution_count": 680,
     "metadata": {},
     "output_type": "execute_result"
    }
   ],
   "source": [
    "# replacement with median to deal with the ouliers ->will later remove outliers\n",
    "lead_df['totalvisits'].fillna(lead_df['totalvisits'].median(),inplace=True)\n",
    "lead_df['totalvisits'].isnull().sum()"
   ]
  },
  {
   "cell_type": "markdown",
   "id": "85b21851",
   "metadata": {},
   "source": [
    "Page_views_per_visit"
   ]
  },
  {
   "cell_type": "code",
   "execution_count": 681,
   "id": "672e7fb9",
   "metadata": {},
   "outputs": [
    {
     "data": {
      "text/plain": [
       "False    9103\n",
       "True      137\n",
       "Name: page_views_per_visit, dtype: int64"
      ]
     },
     "metadata": {},
     "output_type": "display_data"
    },
    {
     "data": {
      "text/plain": [
       "<AxesSubplot:xlabel='page_views_per_visit'>"
      ]
     },
     "execution_count": 681,
     "metadata": {},
     "output_type": "execute_result"
    },
    {
     "data": {
      "image/png": "[encoded data removed]",
      "text/plain": [
       "<Figure size 432x288 with 1 Axes>"
      ]
     },
     "metadata": {
      "needs_background": "light"
     },
     "output_type": "display_data"
    }
   ],
   "source": [
    "display(lead_df.page_views_per_visit.isnull().value_counts())\n",
    "#check for outliers\n",
    "sns.boxplot(lead_df.page_views_per_visit)"
   ]
  },
  {
   "cell_type": "code",
   "execution_count": 682,
   "id": "8a42b794",
   "metadata": {},
   "outputs": [
    {
     "data": {
      "text/plain": [
       "0"
      ]
     },
     "execution_count": 682,
     "metadata": {},
     "output_type": "execute_result"
    }
   ],
   "source": [
    "# replacement with median to deal with the ouliers\n",
    "lead_df['page_views_per_visit'].fillna(lead_df['page_views_per_visit'].median(),inplace=True)\n",
    "lead_df['page_views_per_visit'].isnull().sum()"
   ]
  },
  {
   "cell_type": "markdown",
   "id": "611644d6",
   "metadata": {},
   "source": [
    "Last_activity"
   ]
  },
  {
   "cell_type": "code",
   "execution_count": 683,
   "id": "0cd47c6d",
   "metadata": {},
   "outputs": [
    {
     "data": {
      "text/plain": [
       "False    9137\n",
       "True      103\n",
       "Name: last_activity, dtype: int64"
      ]
     },
     "metadata": {},
     "output_type": "display_data"
    },
    {
     "data": {
      "text/plain": [
       "Email Opened                    3437\n",
       "SMS Sent                        2745\n",
       "Olark Chat Conversation          973\n",
       "Page Visited on Website          640\n",
       "Converted to Lead                428\n",
       "Email Bounced                    326\n",
       "Email Link Clicked               267\n",
       "Form Submitted on Website        116\n",
       "Unreachable                       93\n",
       "Unsubscribed                      61\n",
       "Had a Phone Conversation          30\n",
       "Approached upfront                 9\n",
       "View in browser link Clicked       6\n",
       "Email Received                     2\n",
       "Email Marked Spam                  2\n",
       "Visited Booth in Tradeshow         1\n",
       "Resubscribed to emails             1\n",
       "Name: last_activity, dtype: int64"
      ]
     },
     "execution_count": 683,
     "metadata": {},
     "output_type": "execute_result"
    }
   ],
   "source": [
    "display(lead_df.last_activity.isnull().value_counts())\n",
    "#check values\n",
    "lead_df.last_activity.value_counts()"
   ]
  },
  {
   "cell_type": "code",
   "execution_count": 684,
   "id": "d8719ce4",
   "metadata": {},
   "outputs": [
    {
     "data": {
      "text/plain": [
       "False    9240\n",
       "Name: last_activity, dtype: int64"
      ]
     },
     "metadata": {},
     "output_type": "display_data"
    },
    {
     "data": {
      "text/plain": [
       "Email Opened                    3540\n",
       "SMS Sent                        2745\n",
       "Olark Chat Conversation          973\n",
       "Page Visited on Website          640\n",
       "Converted to Lead                428\n",
       "Email Bounced                    326\n",
       "Email Link Clicked               267\n",
       "Form Submitted on Website        116\n",
       "Unreachable                       93\n",
       "Unsubscribed                      61\n",
       "Had a Phone Conversation          30\n",
       "Approached upfront                 9\n",
       "View in browser link Clicked       6\n",
       "Email Received                     2\n",
       "Email Marked Spam                  2\n",
       "Visited Booth in Tradeshow         1\n",
       "Resubscribed to emails             1\n",
       "Name: last_activity, dtype: int64"
      ]
     },
     "execution_count": 684,
     "metadata": {},
     "output_type": "execute_result"
    }
   ],
   "source": [
    "#using the most frequent method to fill values\n",
    "lead_df.last_activity.replace(np.NaN, 'Email Opened', inplace =True)\n",
    "\n",
    "display(lead_df.last_activity.isnull().value_counts())\n",
    "lead_df.last_activity.value_counts()"
   ]
  },
  {
   "cell_type": "code",
   "execution_count": 685,
   "id": "b24e1695",
   "metadata": {},
   "outputs": [],
   "source": [
    "#bucketing values < 30 to 'Other'\n",
    "lead_df.last_activity.replace(('Approached upfront','View in browser link Clicked','Email Received','Email Marked Spam','Visited Booth in Tradeshow','Resubscribed to emails'), 'Other', inplace = True)\n",
    "\n"
   ]
  },
  {
   "cell_type": "markdown",
   "id": "48895f80",
   "metadata": {},
   "source": [
    "Country"
   ]
  },
  {
   "cell_type": "code",
   "execution_count": 686,
   "id": "4b5d87c2",
   "metadata": {},
   "outputs": [
    {
     "data": {
      "text/plain": [
       "False    6779\n",
       "True     2461\n",
       "Name: country, dtype: int64"
      ]
     },
     "metadata": {},
     "output_type": "display_data"
    },
    {
     "data": {
      "text/plain": [
       "India                   6492\n",
       "United States             69\n",
       "United Arab Emirates      53\n",
       "Singapore                 24\n",
       "Saudi Arabia              21\n",
       "United Kingdom            15\n",
       "Australia                 13\n",
       "Qatar                     10\n",
       "Hong Kong                  7\n",
       "Bahrain                    7\n",
       "Oman                       6\n",
       "France                     6\n",
       "unknown                    5\n",
       "South Africa               4\n",
       "Nigeria                    4\n",
       "Germany                    4\n",
       "Kuwait                     4\n",
       "Canada                     4\n",
       "Sweden                     3\n",
       "China                      2\n",
       "Asia/Pacific Region        2\n",
       "Uganda                     2\n",
       "Bangladesh                 2\n",
       "Italy                      2\n",
       "Belgium                    2\n",
       "Netherlands                2\n",
       "Ghana                      2\n",
       "Philippines                2\n",
       "Russia                     1\n",
       "Switzerland                1\n",
       "Vietnam                    1\n",
       "Denmark                    1\n",
       "Tanzania                   1\n",
       "Liberia                    1\n",
       "Malaysia                   1\n",
       "Kenya                      1\n",
       "Sri Lanka                  1\n",
       "Indonesia                  1\n",
       "Name: country, dtype: int64"
      ]
     },
     "execution_count": 686,
     "metadata": {},
     "output_type": "execute_result"
    }
   ],
   "source": [
    "display(lead_df.country.isnull().value_counts())\n",
    "#check unique values\n",
    "lead_df.country.value_counts()\n",
    "# problem: no variation (most values from india)\n",
    "#probably will drop the column"
   ]
  },
  {
   "cell_type": "markdown",
   "id": "8ad33b24",
   "metadata": {},
   "source": [
    "Specialization"
   ]
  },
  {
   "cell_type": "code",
   "execution_count": 687,
   "id": "5fc43357",
   "metadata": {},
   "outputs": [
    {
     "data": {
      "text/plain": [
       "False    7802\n",
       "True     1438\n",
       "Name: specialization, dtype: int64"
      ]
     },
     "metadata": {},
     "output_type": "display_data"
    },
    {
     "data": {
      "text/plain": [
       "Select                               1942\n",
       "Finance Management                    976\n",
       "Human Resource Management             848\n",
       "Marketing Management                  838\n",
       "Operations Management                 503\n",
       "Business Administration               403\n",
       "IT Projects Management                366\n",
       "Supply Chain Management               349\n",
       "Banking, Investment And Insurance     338\n",
       "Travel and Tourism                    203\n",
       "Media and Advertising                 203\n",
       "International Business                178\n",
       "Healthcare Management                 159\n",
       "Hospitality Management                114\n",
       "E-COMMERCE                            112\n",
       "Retail Management                     100\n",
       "Rural and Agribusiness                 73\n",
       "E-Business                             57\n",
       "Services Excellence                    40\n",
       "Name: specialization, dtype: int64"
      ]
     },
     "execution_count": 687,
     "metadata": {},
     "output_type": "execute_result"
    }
   ],
   "source": [
    "display(lead_df.specialization.isnull().value_counts())\n",
    "#check unique values\n",
    "lead_df.specialization.value_counts()"
   ]
  },
  {
   "cell_type": "code",
   "execution_count": 688,
   "id": "163383d0",
   "metadata": {},
   "outputs": [
    {
     "data": {
      "text/plain": [
       "prospect_id                                         0\n",
       "lead_number                                         0\n",
       "lead_origin                                         0\n",
       "lead_source                                         0\n",
       "do_not_email                                        0\n",
       "do_not_call                                         0\n",
       "converted                                           0\n",
       "totalvisits                                         0\n",
       "total_time_spent_on_website                         0\n",
       "page_views_per_visit                                0\n",
       "last_activity                                       0\n",
       "country                                             0\n",
       "specialization                                   1942\n",
       "how_did_you_hear_about_x_education               5043\n",
       "what_is_your_current_occupation                     0\n",
       "what_matters_most_to_you_in_choosing_a_course       0\n",
       "search                                              0\n",
       "magazine                                            0\n",
       "newspaper_article                                   0\n",
       "x_education_forums                                  0\n",
       "newspaper                                           0\n",
       "digital_advertisement                               0\n",
       "through_recommendations                             0\n",
       "receive_more_updates_about_our_courses              0\n",
       "update_me_on_supply_chain_content                   0\n",
       "get_updates_on_dm_content                           0\n",
       "lead_profile                                     4146\n",
       "city                                             2249\n",
       "i_agree_to_pay_the_amount_through_cheque            0\n",
       "a_free_copy_of_mastering_the_interview              0\n",
       "last_notable_activity                               0\n",
       "dtype: int64"
      ]
     },
     "execution_count": 688,
     "metadata": {},
     "output_type": "execute_result"
    }
   ],
   "source": [
    "#checking df for more select values\n",
    "lead_df[lead_df == 'Select'].count()"
   ]
  },
  {
   "cell_type": "code",
   "execution_count": 689,
   "id": "acea4c72",
   "metadata": {},
   "outputs": [],
   "source": [
    "#checking df for  select values\n",
    "lead_df[lead_df == 'Select'].count()\n",
    "# select seems to be a placeholder - will treat it as null value --> will be included in Pipeline\n",
    "lead_df.replace('Select', np.NaN, inplace =True)\n",
    "# will be dropped as it has now more than 30% missing values\n"
   ]
  },
  {
   "cell_type": "markdown",
   "id": "650afe54",
   "metadata": {},
   "source": [
    "What_is_your_current_occupation"
   ]
  },
  {
   "cell_type": "code",
   "execution_count": 690,
   "id": "cea9dd78",
   "metadata": {},
   "outputs": [
    {
     "data": {
      "text/plain": [
       "2690"
      ]
     },
     "metadata": {},
     "output_type": "display_data"
    },
    {
     "data": {
      "text/plain": [
       "Unemployed              5600\n",
       "Working Professional     706\n",
       "Student                  210\n",
       "Other                     16\n",
       "Housewife                 10\n",
       "Businessman                8\n",
       "Name: what_is_your_current_occupation, dtype: int64"
      ]
     },
     "execution_count": 690,
     "metadata": {},
     "output_type": "execute_result"
    }
   ],
   "source": [
    "display(lead_df.what_is_your_current_occupation.isnull().sum())\n",
    "lead_df.what_is_your_current_occupation.value_counts()\n"
   ]
  },
  {
   "cell_type": "code",
   "execution_count": 691,
   "id": "0c466a7d",
   "metadata": {},
   "outputs": [
    {
     "data": {
      "text/plain": [
       "Unemployed              5600\n",
       "Other                   2706\n",
       "Working Professional     714\n",
       "Student                  210\n",
       "Housewife                 10\n",
       "Name: what_is_your_current_occupation, dtype: int64"
      ]
     },
     "execution_count": 691,
     "metadata": {},
     "output_type": "execute_result"
    }
   ],
   "source": [
    "# as NaN can be seen equal to other (not known), I will replace NaN's with 'Other'\n",
    "lead_df.what_is_your_current_occupation.replace(np.NaN, 'Other', inplace =True)\n",
    "\n",
    "# buisnessman and working professional are similar, so i will bucket it together\n",
    "lead_df.what_is_your_current_occupation.replace('Businessman', 'Working Professional', inplace =True)\n",
    "lead_df.what_is_your_current_occupation.value_counts()"
   ]
  },
  {
   "cell_type": "markdown",
   "id": "4c49f48b",
   "metadata": {},
   "source": [
    "What_matters_most_to_you_in_choosing_a_course"
   ]
  },
  {
   "cell_type": "code",
   "execution_count": 692,
   "id": "51c0984e",
   "metadata": {},
   "outputs": [
    {
     "data": {
      "text/plain": [
       "2709"
      ]
     },
     "metadata": {},
     "output_type": "display_data"
    },
    {
     "data": {
      "text/plain": [
       "Better Career Prospects      6528\n",
       "Flexibility & Convenience       2\n",
       "Other                           1\n",
       "Name: what_matters_most_to_you_in_choosing_a_course, dtype: int64"
      ]
     },
     "execution_count": 692,
     "metadata": {},
     "output_type": "execute_result"
    }
   ],
   "source": [
    "display(lead_df.what_matters_most_to_you_in_choosing_a_course.isnull().sum())\n",
    "lead_df.what_matters_most_to_you_in_choosing_a_course.value_counts()"
   ]
  },
  {
   "cell_type": "code",
   "execution_count": 693,
   "id": "b5710644",
   "metadata": {},
   "outputs": [
    {
     "data": {
      "text/plain": [
       "Better Career Prospects      6528\n",
       "Other                        2710\n",
       "Flexibility & Convenience       2\n",
       "Name: what_matters_most_to_you_in_choosing_a_course, dtype: int64"
      ]
     },
     "execution_count": 693,
     "metadata": {},
     "output_type": "execute_result"
    }
   ],
   "source": [
    "# as NaN can be seen equal to other (not known), I will replace NaN's with 'Other'\n",
    "lead_df.what_matters_most_to_you_in_choosing_a_course.replace(np.NaN, 'Other', inplace =True)\n",
    "lead_df.what_matters_most_to_you_in_choosing_a_course.value_counts()"
   ]
  },
  {
   "cell_type": "code",
   "execution_count": 694,
   "id": "96aae5fa",
   "metadata": {
    "scrolled": true
   },
   "outputs": [
    {
     "data": {
      "text/plain": [
       "Better Career Prospects      6528\n",
       "Other                        2710\n",
       "Flexibility & Convenience       2\n",
       "Name: what_matters_most_to_you_in_choosing_a_course, dtype: int64"
      ]
     },
     "metadata": {},
     "output_type": "display_data"
    },
    {
     "data": {
      "text/plain": [
       "<AxesSubplot:xlabel='count', ylabel='what_matters_most_to_you_in_choosing_a_course'>"
      ]
     },
     "execution_count": 694,
     "metadata": {},
     "output_type": "execute_result"
    },
    {
     "data": {
      "image/png": "[encoded data removed]",
      "text/plain": [
       "<Figure size 432x288 with 1 Axes>"
      ]
     },
     "metadata": {
      "needs_background": "light"
     },
     "output_type": "display_data"
    }
   ],
   "source": [
    "display(lead_df.what_matters_most_to_you_in_choosing_a_course.value_counts())\n",
    "sns.countplot( y=lead_df.what_matters_most_to_you_in_choosing_a_course, hue = lead_df.converted)\n",
    "\n",
    "# no high variance / importance for analysing what makes people to convert or not --> will drop column"
   ]
  },
  {
   "cell_type": "markdown",
   "id": "bc190406",
   "metadata": {},
   "source": [
    "Lead_source"
   ]
  },
  {
   "cell_type": "code",
   "execution_count": 695,
   "id": "ce105015",
   "metadata": {},
   "outputs": [
    {
     "data": {
      "text/plain": [
       "36"
      ]
     },
     "metadata": {},
     "output_type": "display_data"
    },
    {
     "data": {
      "text/plain": [
       "Google               2868\n",
       "Direct Traffic       2543\n",
       "Olark Chat           1755\n",
       "Organic Search       1154\n",
       "Reference             534\n",
       "Welingak Website      142\n",
       "Referral Sites        125\n",
       "Facebook               55\n",
       "bing                    6\n",
       "google                  5\n",
       "Click2call              4\n",
       "Press_Release           2\n",
       "Social Media            2\n",
       "Live Chat               2\n",
       "youtubechannel          1\n",
       "testone                 1\n",
       "Pay per Click Ads       1\n",
       "welearnblog_Home        1\n",
       "WeLearn                 1\n",
       "blog                    1\n",
       "NC_EDM                  1\n",
       "Name: lead_source, dtype: int64"
      ]
     },
     "execution_count": 695,
     "metadata": {},
     "output_type": "execute_result"
    }
   ],
   "source": [
    "display(lead_df.lead_source.isnull().sum())\n",
    "lead_df.lead_source.value_counts()"
   ]
  },
  {
   "cell_type": "code",
   "execution_count": 696,
   "id": "7c7e41ae",
   "metadata": {
    "scrolled": true
   },
   "outputs": [
    {
     "data": {
      "text/plain": [
       "False    9240\n",
       "Name: lead_source, dtype: int64"
      ]
     },
     "metadata": {},
     "output_type": "display_data"
    },
    {
     "data": {
      "text/plain": [
       "Google               2904\n",
       "Direct Traffic       2543\n",
       "Olark Chat           1755\n",
       "Organic Search       1154\n",
       "Reference             534\n",
       "Welingak Website      142\n",
       "Referral Sites        125\n",
       "Facebook               55\n",
       "bing                    6\n",
       "google                  5\n",
       "Click2call              4\n",
       "Press_Release           2\n",
       "Social Media            2\n",
       "Live Chat               2\n",
       "youtubechannel          1\n",
       "testone                 1\n",
       "Pay per Click Ads       1\n",
       "welearnblog_Home        1\n",
       "WeLearn                 1\n",
       "blog                    1\n",
       "NC_EDM                  1\n",
       "Name: lead_source, dtype: int64"
      ]
     },
     "execution_count": 696,
     "metadata": {},
     "output_type": "execute_result"
    }
   ],
   "source": [
    "#using the most frequent method to fill values\n",
    "lead_df.lead_source.replace(np.NaN, 'Google', inplace =True)\n",
    "\n",
    "display(lead_df.lead_source.isnull().value_counts())\n",
    "lead_df.lead_source.value_counts()"
   ]
  },
  {
   "cell_type": "code",
   "execution_count": 697,
   "id": "f2dc8e5c",
   "metadata": {},
   "outputs": [],
   "source": [
    "#bucketing Google and goggle\n",
    "lead_df.lead_source.replace('google','Google', inplace = True)\n",
    "#bucketing spam as unsubscribed\n",
    "lead_df.lead_source.replace('Email Marked Spam','Unsubscribed', inplace = True)\n",
    "#bucketing referrals\n",
    "lead_df.lead_source.replace(('Referral Sites','Reference'),'Referral', inplace = True)\n",
    "#bucketing values < 30 to 'Other'\n",
    "lead_df.lead_source.replace(('bing','google','blog','Payoer Click Ads','Social Media','WeLearn','Click2call','Live Chat','welearnblog_Home','youtubechannel','testone','Press_Release','NC_EDM','Pay per Click Ads' ), 'Other', inplace = True)"
   ]
  },
  {
   "cell_type": "code",
   "execution_count": 698,
   "id": "b24b3969",
   "metadata": {},
   "outputs": [
    {
     "data": {
      "text/plain": [
       "Google              2909\n",
       "Direct Traffic      2543\n",
       "Olark Chat          1755\n",
       "Organic Search      1154\n",
       "Referral             659\n",
       "Welingak Website     142\n",
       "Facebook              55\n",
       "Other                 23\n",
       "Name: lead_source, dtype: int64"
      ]
     },
     "execution_count": 698,
     "metadata": {},
     "output_type": "execute_result"
    }
   ],
   "source": [
    "lead_df.lead_source.value_counts()"
   ]
  },
  {
   "cell_type": "markdown",
   "id": "3eb63dd6",
   "metadata": {},
   "source": [
    "#### Analysing columns with no missing values"
   ]
  },
  {
   "cell_type": "markdown",
   "id": "1be466e4",
   "metadata": {},
   "source": [
    "Lead_origin"
   ]
  },
  {
   "cell_type": "code",
   "execution_count": 580,
   "id": "c4f103f4",
   "metadata": {},
   "outputs": [
    {
     "data": {
      "text/plain": [
       "Landing Page Submission    4886\n",
       "API                        3580\n",
       "Lead Add Form               718\n",
       "Lead Import                  55\n",
       "Quick Add Form                1\n",
       "Name: lead_origin, dtype: int64"
      ]
     },
     "metadata": {},
     "output_type": "display_data"
    },
    {
     "data": {
      "text/plain": [
       "Landing Page Submission    4886\n",
       "API                        3580\n",
       "Add Form                    719\n",
       "Lead Import                  55\n",
       "Name: lead_origin, dtype: int64"
      ]
     },
     "metadata": {},
     "output_type": "display_data"
    },
    {
     "data": {
      "text/plain": [
       "<AxesSubplot:xlabel='count', ylabel='lead_origin'>"
      ]
     },
     "execution_count": 580,
     "metadata": {},
     "output_type": "execute_result"
    },
    {
     "data": {
      "image/png": "[encoded data removed]",
      "text/plain": [
       "<Figure size 432x288 with 1 Axes>"
      ]
     },
     "metadata": {
      "needs_background": "light"
     },
     "output_type": "display_data"
    }
   ],
   "source": [
    "display(lead_df.lead_origin.value_counts())\n",
    "#bucketing add forms together\n",
    "lead_df.lead_origin.replace(('Quick Add Form','Lead Add Form'),'Add Form', inplace =True)\n",
    "display(lead_df.lead_origin.value_counts())\n",
    "sns.countplot( y=lead_df.lead_origin, hue = lead_df.converted)\n",
    "\n",
    "#The conversion from the API and LP submission are really poor -> first recommendation to improve these channels"
   ]
  },
  {
   "cell_type": "markdown",
   "id": "1593093b",
   "metadata": {},
   "source": [
    "Do_not_email"
   ]
  },
  {
   "cell_type": "code",
   "execution_count": 581,
   "id": "f28c422a",
   "metadata": {},
   "outputs": [
    {
     "data": {
      "text/plain": [
       "No     8506\n",
       "Yes     734\n",
       "Name: do_not_email, dtype: int64"
      ]
     },
     "execution_count": 581,
     "metadata": {},
     "output_type": "execute_result"
    }
   ],
   "source": [
    "lead_df.do_not_email.value_counts()"
   ]
  },
  {
   "cell_type": "markdown",
   "id": "27764b50",
   "metadata": {},
   "source": [
    "Do_not_call"
   ]
  },
  {
   "cell_type": "code",
   "execution_count": 582,
   "id": "90c4302a",
   "metadata": {},
   "outputs": [
    {
     "data": {
      "text/plain": [
       "No     9238\n",
       "Yes       2\n",
       "Name: do_not_call, dtype: int64"
      ]
     },
     "execution_count": 582,
     "metadata": {},
     "output_type": "execute_result"
    }
   ],
   "source": [
    "lead_df.do_not_call.value_counts()\n",
    "#almost no variance will drop it"
   ]
  },
  {
   "cell_type": "markdown",
   "id": "6d498d17",
   "metadata": {},
   "source": [
    "Total_time_spent_on_website"
   ]
  },
  {
   "cell_type": "code",
   "execution_count": 583,
   "id": "78c02a99",
   "metadata": {},
   "outputs": [
    {
     "data": {
      "text/plain": [
       "<seaborn.axisgrid.FacetGrid at 0x7f8d21b21e20>"
      ]
     },
     "execution_count": 583,
     "metadata": {},
     "output_type": "execute_result"
    },
    {
     "data": {
      "image/png": "[encoded data removed]",
      "text/plain": [
       "<Figure size 360x360 with 1 Axes>"
      ]
     },
     "metadata": {
      "needs_background": "light"
     },
     "output_type": "display_data"
    }
   ],
   "source": [
    "lead_df.total_time_spent_on_website.value_counts()\n",
    "sns.displot(data=lead_df.total_time_spent_on_website)"
   ]
  },
  {
   "cell_type": "markdown",
   "id": "6481ac94",
   "metadata": {},
   "source": [
    "Search"
   ]
  },
  {
   "cell_type": "code",
   "execution_count": 584,
   "id": "e68007a7",
   "metadata": {},
   "outputs": [
    {
     "data": {
      "text/plain": [
       "No     9226\n",
       "Yes      14\n",
       "Name: search, dtype: int64"
      ]
     },
     "execution_count": 584,
     "metadata": {},
     "output_type": "execute_result"
    }
   ],
   "source": [
    "lead_df.search.value_counts()\n",
    "#not great variance, might be using it in B in a A/B testing"
   ]
  },
  {
   "cell_type": "markdown",
   "id": "4a136c7d",
   "metadata": {},
   "source": [
    "Magazine"
   ]
  },
  {
   "cell_type": "code",
   "execution_count": 585,
   "id": "8cacb812",
   "metadata": {},
   "outputs": [
    {
     "data": {
      "text/plain": [
       "No    9240\n",
       "Name: magazine, dtype: int64"
      ]
     },
     "execution_count": 585,
     "metadata": {},
     "output_type": "execute_result"
    }
   ],
   "source": [
    "lead_df.magazine.value_counts()\n",
    "#just one value, no importance so will drop the column"
   ]
  },
  {
   "cell_type": "markdown",
   "id": "3b8b57f7",
   "metadata": {},
   "source": [
    "Newspaper_article"
   ]
  },
  {
   "cell_type": "code",
   "execution_count": 586,
   "id": "5f4d946a",
   "metadata": {},
   "outputs": [
    {
     "data": {
      "text/plain": [
       "No     9238\n",
       "Yes       2\n",
       "Name: newspaper_article, dtype: int64"
      ]
     },
     "execution_count": 586,
     "metadata": {},
     "output_type": "execute_result"
    }
   ],
   "source": [
    "lead_df.newspaper_article.value_counts()\n",
    "#again almost no variance, no importance so will drop the column"
   ]
  },
  {
   "cell_type": "markdown",
   "id": "f72d5a7b",
   "metadata": {},
   "source": [
    "X_education_forums"
   ]
  },
  {
   "cell_type": "code",
   "execution_count": 587,
   "id": "8569bbd6",
   "metadata": {},
   "outputs": [
    {
     "data": {
      "text/plain": [
       "No     9239\n",
       "Yes       1\n",
       "Name: x_education_forums, dtype: int64"
      ]
     },
     "execution_count": 587,
     "metadata": {},
     "output_type": "execute_result"
    }
   ],
   "source": [
    "lead_df.x_education_forums.value_counts()\n",
    "#again almost no variance, no importance so will drop the column"
   ]
  },
  {
   "cell_type": "markdown",
   "id": "ed15bb4f",
   "metadata": {},
   "source": [
    "Update_me_on_supply_chain"
   ]
  },
  {
   "cell_type": "code",
   "execution_count": 588,
   "id": "d72cbb12",
   "metadata": {},
   "outputs": [
    {
     "data": {
      "text/plain": [
       "No    9240\n",
       "Name: update_me_on_supply_chain_content, dtype: int64"
      ]
     },
     "execution_count": 588,
     "metadata": {},
     "output_type": "execute_result"
    }
   ],
   "source": [
    "lead_df.update_me_on_supply_chain_content.value_counts()\n",
    "#again no variance, no importance so will drop the column"
   ]
  },
  {
   "cell_type": "markdown",
   "id": "2a5439c1",
   "metadata": {},
   "source": [
    "Newspaper"
   ]
  },
  {
   "cell_type": "code",
   "execution_count": 589,
   "id": "70466244",
   "metadata": {},
   "outputs": [
    {
     "data": {
      "text/plain": [
       "No     9239\n",
       "Yes       1\n",
       "Name: newspaper, dtype: int64"
      ]
     },
     "execution_count": 589,
     "metadata": {},
     "output_type": "execute_result"
    }
   ],
   "source": [
    "lead_df.newspaper.value_counts()\n",
    "#again almost no variance, no importance so will drop the column"
   ]
  },
  {
   "cell_type": "markdown",
   "id": "4cc24f1c",
   "metadata": {},
   "source": [
    "Digital_advertisement"
   ]
  },
  {
   "cell_type": "code",
   "execution_count": 590,
   "id": "6e114229",
   "metadata": {},
   "outputs": [
    {
     "data": {
      "text/plain": [
       "No     9236\n",
       "Yes       4\n",
       "Name: digital_advertisement, dtype: int64"
      ]
     },
     "execution_count": 590,
     "metadata": {},
     "output_type": "execute_result"
    }
   ],
   "source": [
    "lead_df.digital_advertisement.value_counts()\n",
    "#again almost no variance, no importance so will drop the column"
   ]
  },
  {
   "cell_type": "markdown",
   "id": "57d72bc6",
   "metadata": {},
   "source": [
    "Through_recommendations"
   ]
  },
  {
   "cell_type": "code",
   "execution_count": 591,
   "id": "9bff5ed0",
   "metadata": {},
   "outputs": [
    {
     "data": {
      "text/plain": [
       "No     9233\n",
       "Yes       7\n",
       "Name: through_recommendations, dtype: int64"
      ]
     },
     "execution_count": 591,
     "metadata": {},
     "output_type": "execute_result"
    }
   ],
   "source": [
    "lead_df.through_recommendations.value_counts()\n",
    "#again almost no variance, no importance so will drop the column"
   ]
  },
  {
   "cell_type": "markdown",
   "id": "999dbbce",
   "metadata": {},
   "source": [
    "Receive_more_updates_about_our_courses"
   ]
  },
  {
   "cell_type": "code",
   "execution_count": 592,
   "id": "ca9bda6b",
   "metadata": {},
   "outputs": [
    {
     "data": {
      "text/plain": [
       "No    9240\n",
       "Name: receive_more_updates_about_our_courses, dtype: int64"
      ]
     },
     "execution_count": 592,
     "metadata": {},
     "output_type": "execute_result"
    }
   ],
   "source": [
    "lead_df.receive_more_updates_about_our_courses.value_counts()\n",
    "# no variance, no importance so will drop the column"
   ]
  },
  {
   "cell_type": "markdown",
   "id": "0f04f8ab",
   "metadata": {},
   "source": [
    "Updates_on_dm_content"
   ]
  },
  {
   "cell_type": "code",
   "execution_count": 593,
   "id": "10a63d99",
   "metadata": {},
   "outputs": [
    {
     "data": {
      "text/plain": [
       "No    9240\n",
       "Name: get_updates_on_dm_content, dtype: int64"
      ]
     },
     "execution_count": 593,
     "metadata": {},
     "output_type": "execute_result"
    }
   ],
   "source": [
    "lead_df.get_updates_on_dm_content.value_counts()\n",
    "# no variance, no importance so will drop the column"
   ]
  },
  {
   "cell_type": "markdown",
   "id": "9d8c4288",
   "metadata": {},
   "source": [
    "I_agree_to_pay_the_amount_through_cheque"
   ]
  },
  {
   "cell_type": "code",
   "execution_count": 594,
   "id": "97ed9da1",
   "metadata": {},
   "outputs": [
    {
     "data": {
      "text/plain": [
       "No    9240\n",
       "Name: i_agree_to_pay_the_amount_through_cheque, dtype: int64"
      ]
     },
     "execution_count": 594,
     "metadata": {},
     "output_type": "execute_result"
    }
   ],
   "source": [
    "lead_df.i_agree_to_pay_the_amount_through_cheque.value_counts()\n",
    "# no variance, no importance so will drop the column"
   ]
  },
  {
   "cell_type": "markdown",
   "id": "c641be7f",
   "metadata": {},
   "source": [
    "A_free_copy_of_mastering_the_interview"
   ]
  },
  {
   "cell_type": "code",
   "execution_count": 595,
   "id": "c28d08e3",
   "metadata": {},
   "outputs": [
    {
     "data": {
      "text/plain": [
       "No     6352\n",
       "Yes    2888\n",
       "Name: a_free_copy_of_mastering_the_interview, dtype: int64"
      ]
     },
     "metadata": {},
     "output_type": "display_data"
    },
    {
     "data": {
      "text/plain": [
       "<AxesSubplot:xlabel='count', ylabel='a_free_copy_of_mastering_the_interview'>"
      ]
     },
     "execution_count": 595,
     "metadata": {},
     "output_type": "execute_result"
    },
    {
     "data": {
      "image/png": "[encoded data removed]",
      "text/plain": [
       "<Figure size 432x288 with 1 Axes>"
      ]
     },
     "metadata": {
      "needs_background": "light"
     },
     "output_type": "display_data"
    }
   ],
   "source": [
    "display(lead_df.a_free_copy_of_mastering_the_interview.value_counts())\n",
    "sns.countplot( y=lead_df.a_free_copy_of_mastering_the_interview, hue = lead_df.converted)\n",
    "#has apperantly no big influence on ppl to convert"
   ]
  },
  {
   "cell_type": "markdown",
   "id": "a0efd2b5",
   "metadata": {},
   "source": [
    "Last_notable_activity"
   ]
  },
  {
   "cell_type": "code",
   "execution_count": 596,
   "id": "9c35d856",
   "metadata": {},
   "outputs": [
    {
     "data": {
      "text/plain": [
       "Modified                        3407\n",
       "Email Opened                    2827\n",
       "SMS Sent                        2172\n",
       "Page Visited on Website          318\n",
       "Olark Chat Conversation          183\n",
       "Email Link Clicked               173\n",
       "Email Bounced                     60\n",
       "Unsubscribed                      47\n",
       "Unreachable                       32\n",
       "Had a Phone Conversation          14\n",
       "Email Marked Spam                  2\n",
       "Approached upfront                 1\n",
       "Resubscribed to emails             1\n",
       "View in browser link Clicked       1\n",
       "Form Submitted on Website          1\n",
       "Email Received                     1\n",
       "Name: last_notable_activity, dtype: int64"
      ]
     },
     "metadata": {},
     "output_type": "display_data"
    },
    {
     "data": {
      "text/plain": [
       "Modified                   3407\n",
       "Email Opened               2827\n",
       "SMS Sent                   2172\n",
       "Page Visited on Website     318\n",
       "Olark Chat Conversation     183\n",
       "Email Link Clicked          173\n",
       "Unreachable                  92\n",
       "Unsubscribed                 49\n",
       "Other                        19\n",
       "Name: last_notable_activity, dtype: int64"
      ]
     },
     "execution_count": 596,
     "metadata": {},
     "output_type": "execute_result"
    }
   ],
   "source": [
    "display(lead_df.last_notable_activity.value_counts())\n",
    "#bucketing unsubscribed and Email marked spam\n",
    "lead_df.last_notable_activity.replace('Email Marked Spam','Unsubscribed', inplace = True)\n",
    "#bucketing bounced and unrechable\n",
    "lead_df.last_notable_activity.replace('Email Bounced','Unreachable', inplace = True)\n",
    "#bucketing under 30 to other\n",
    "lead_df.last_notable_activity.replace(('Had a Phone Conversation','Approached upfront','Resubscribed to emails','View in browser link Clicked','Form Submitted on Website','Email Received'), 'Other', inplace = True)\n",
    "lead_df.last_notable_activity.value_counts()"
   ]
  },
  {
   "cell_type": "markdown",
   "id": "9cd63f4f",
   "metadata": {},
   "source": [
    "### Check Outliers in numerical features"
   ]
  },
  {
   "cell_type": "code",
   "execution_count": 597,
   "id": "9854ac04",
   "metadata": {},
   "outputs": [],
   "source": [
    "# getting numerical  values\n",
    "lead_numerical = lead_df.select_dtypes(include=np.number)\n",
    "#dropping lead number and converted(target variabble)\n",
    "lead_numerical.drop(columns =(['lead_number', 'converted']),inplace = True)"
   ]
  },
  {
   "cell_type": "code",
   "execution_count": 598,
   "id": "3ba63dda",
   "metadata": {},
   "outputs": [
    {
     "data": {
      "image/png": "[encoded data removed]",
      "text/plain": [
       "<Figure size 432x288 with 1 Axes>"
      ]
     },
     "metadata": {
      "needs_background": "light"
     },
     "output_type": "display_data"
    },
    {
     "data": {
      "image/png": "[encoded data removed]",
      "text/plain": [
       "<Figure size 432x288 with 1 Axes>"
      ]
     },
     "metadata": {
      "needs_background": "light"
     },
     "output_type": "display_data"
    },
    {
     "data": {
      "image/png": "[encoded data removed]",
      "text/plain": [
       "<Figure size 432x288 with 1 Axes>"
      ]
     },
     "metadata": {
      "needs_background": "light"
     },
     "output_type": "display_data"
    }
   ],
   "source": [
    "#total_visits\n",
    "for i in lead_numerical:\n",
    "    \n",
    "    sns.boxplot(i, data =lead_numerical)\n",
    "    plt.show()"
   ]
  },
  {
   "cell_type": "markdown",
   "id": "15e2b4f6",
   "metadata": {},
   "source": [
    "#### Outliers detected in page_views_per_visit and totalvisits with z-score\n",
    "\n",
    "A Z-score of zero represents a value that equals the mean. The further away an observation's Z-score is from zero, the more unusual it is. A standard cut-off value for finding outliers are Z-scores of +/-3 or further from zero."
   ]
  },
  {
   "cell_type": "code",
   "execution_count": 599,
   "id": "e7362933",
   "metadata": {},
   "outputs": [],
   "source": [
    "z = np.abs(stats.zscore(lead_df.page_views_per_visit))\n",
    "threshold = 5\n",
    "outliers_pagevisits =(np.where(z > 3))\n",
    "outliers_pagevisits = np.array(outliers_pagevisits).tolist()\n",
    "\n",
    "z1 = np.abs(stats.zscore(lead_df.totalvisits))\n",
    "threshold = 5\n",
    "outliers_totalvisits =(np.where(z1 > 3))\n",
    "outliers_totalvisits = np.array(outliers_totalvisits).tolist()\n",
    "\n",
    "#combine both lists to the drop these rows\n",
    "outliers = [*outliers_totalvisits, *outliers_pagevisits]\n",
    "#outliers\n"
   ]
  },
  {
   "cell_type": "code",
   "execution_count": 600,
   "id": "78412efe",
   "metadata": {},
   "outputs": [],
   "source": [
    "a =lead_df.shape"
   ]
  },
  {
   "cell_type": "code",
   "execution_count": 601,
   "id": "457031ae",
   "metadata": {},
   "outputs": [],
   "source": [
    "for i in outliers:\n",
    "    lead_df.drop(lead_df.index[[i]], inplace = True)"
   ]
  },
  {
   "cell_type": "code",
   "execution_count": 602,
   "id": "7633e64d",
   "metadata": {},
   "outputs": [
    {
     "name": "stdout",
     "output_type": "stream",
     "text": [
      "The original df shape was (9240, 31) . After removing the outliers, the dataset shape is: (9037, 31) . 98 % of the dataset rows will be used for the analysis!\n"
     ]
    }
   ],
   "source": [
    "b= lead_df.shape\n",
    "print(\"The original df shape was\",a, \". After removing the outliers, the dataset shape is:\",b,\".\", round(b[0] / a[0] *100), \"% of the dataset rows will be used for the analysis!\")\n"
   ]
  },
  {
   "cell_type": "markdown",
   "id": "465a94ea",
   "metadata": {},
   "source": [
    "### Loading cleaned dataset with pipeline"
   ]
  },
  {
   "cell_type": "code",
   "execution_count": 699,
   "id": "829b6bc2",
   "metadata": {},
   "outputs": [
    {
     "data": {
      "text/html": [
       "<div>\n",
       "<style scoped>\n",
       "    .dataframe tbody tr th:only-of-type {\n",
       "        vertical-align: middle;\n",
       "    }\n",
       "\n",
       "    .dataframe tbody tr th {\n",
       "        vertical-align: top;\n",
       "    }\n",
       "\n",
       "    .dataframe thead th {\n",
       "        text-align: right;\n",
       "    }\n",
       "</style>\n",
       "<table border=\"1\" class=\"dataframe\">\n",
       "  <thead>\n",
       "    <tr style=\"text-align: right;\">\n",
       "      <th></th>\n",
       "      <th>lead_number</th>\n",
       "      <th>lead_origin</th>\n",
       "      <th>lead_source</th>\n",
       "      <th>do_not_email</th>\n",
       "      <th>converted</th>\n",
       "      <th>totalvisits</th>\n",
       "      <th>total_time_spent_on_website</th>\n",
       "      <th>page_views_per_visit</th>\n",
       "      <th>last_activity</th>\n",
       "      <th>what_is_your_current_occupation</th>\n",
       "      <th>a_free_copy_of_mastering_the_interview</th>\n",
       "      <th>last_notable_activity</th>\n",
       "    </tr>\n",
       "  </thead>\n",
       "  <tbody>\n",
       "    <tr>\n",
       "      <th>0</th>\n",
       "      <td>660737</td>\n",
       "      <td>API</td>\n",
       "      <td>Olark Chat</td>\n",
       "      <td>No</td>\n",
       "      <td>0</td>\n",
       "      <td>0.000</td>\n",
       "      <td>0</td>\n",
       "      <td>0.000</td>\n",
       "      <td>Page Visited on Website</td>\n",
       "      <td>Unemployed</td>\n",
       "      <td>No</td>\n",
       "      <td>Modified</td>\n",
       "    </tr>\n",
       "    <tr>\n",
       "      <th>1</th>\n",
       "      <td>660728</td>\n",
       "      <td>API</td>\n",
       "      <td>Organic Search</td>\n",
       "      <td>No</td>\n",
       "      <td>0</td>\n",
       "      <td>5.000</td>\n",
       "      <td>674</td>\n",
       "      <td>2.500</td>\n",
       "      <td>Email Opened</td>\n",
       "      <td>Unemployed</td>\n",
       "      <td>No</td>\n",
       "      <td>Email Opened</td>\n",
       "    </tr>\n",
       "    <tr>\n",
       "      <th>2</th>\n",
       "      <td>660727</td>\n",
       "      <td>Landing Page Submission</td>\n",
       "      <td>Direct Traffic</td>\n",
       "      <td>No</td>\n",
       "      <td>1</td>\n",
       "      <td>2.000</td>\n",
       "      <td>1532</td>\n",
       "      <td>2.000</td>\n",
       "      <td>Email Opened</td>\n",
       "      <td>Student</td>\n",
       "      <td>Yes</td>\n",
       "      <td>Email Opened</td>\n",
       "    </tr>\n",
       "    <tr>\n",
       "      <th>3</th>\n",
       "      <td>660719</td>\n",
       "      <td>Landing Page Submission</td>\n",
       "      <td>Direct Traffic</td>\n",
       "      <td>No</td>\n",
       "      <td>0</td>\n",
       "      <td>1.000</td>\n",
       "      <td>305</td>\n",
       "      <td>1.000</td>\n",
       "      <td>Unreachable</td>\n",
       "      <td>Unemployed</td>\n",
       "      <td>No</td>\n",
       "      <td>Modified</td>\n",
       "    </tr>\n",
       "    <tr>\n",
       "      <th>4</th>\n",
       "      <td>660681</td>\n",
       "      <td>Landing Page Submission</td>\n",
       "      <td>Google</td>\n",
       "      <td>No</td>\n",
       "      <td>1</td>\n",
       "      <td>2.000</td>\n",
       "      <td>1428</td>\n",
       "      <td>1.000</td>\n",
       "      <td>Converted to Lead</td>\n",
       "      <td>Unemployed</td>\n",
       "      <td>No</td>\n",
       "      <td>Modified</td>\n",
       "    </tr>\n",
       "    <tr>\n",
       "      <th>...</th>\n",
       "      <td>...</td>\n",
       "      <td>...</td>\n",
       "      <td>...</td>\n",
       "      <td>...</td>\n",
       "      <td>...</td>\n",
       "      <td>...</td>\n",
       "      <td>...</td>\n",
       "      <td>...</td>\n",
       "      <td>...</td>\n",
       "      <td>...</td>\n",
       "      <td>...</td>\n",
       "      <td>...</td>\n",
       "    </tr>\n",
       "    <tr>\n",
       "      <th>9235</th>\n",
       "      <td>579564</td>\n",
       "      <td>Landing Page Submission</td>\n",
       "      <td>Direct Traffic</td>\n",
       "      <td>Yes</td>\n",
       "      <td>1</td>\n",
       "      <td>8.000</td>\n",
       "      <td>1845</td>\n",
       "      <td>2.670</td>\n",
       "      <td>Other</td>\n",
       "      <td>Unemployed</td>\n",
       "      <td>No</td>\n",
       "      <td>Unsubscribed</td>\n",
       "    </tr>\n",
       "    <tr>\n",
       "      <th>9236</th>\n",
       "      <td>579546</td>\n",
       "      <td>Landing Page Submission</td>\n",
       "      <td>Direct Traffic</td>\n",
       "      <td>No</td>\n",
       "      <td>0</td>\n",
       "      <td>2.000</td>\n",
       "      <td>238</td>\n",
       "      <td>2.000</td>\n",
       "      <td>SMS Sent</td>\n",
       "      <td>Unemployed</td>\n",
       "      <td>Yes</td>\n",
       "      <td>SMS Sent</td>\n",
       "    </tr>\n",
       "    <tr>\n",
       "      <th>9237</th>\n",
       "      <td>579545</td>\n",
       "      <td>Landing Page Submission</td>\n",
       "      <td>Direct Traffic</td>\n",
       "      <td>Yes</td>\n",
       "      <td>0</td>\n",
       "      <td>2.000</td>\n",
       "      <td>199</td>\n",
       "      <td>2.000</td>\n",
       "      <td>SMS Sent</td>\n",
       "      <td>Unemployed</td>\n",
       "      <td>Yes</td>\n",
       "      <td>SMS Sent</td>\n",
       "    </tr>\n",
       "    <tr>\n",
       "      <th>9238</th>\n",
       "      <td>579538</td>\n",
       "      <td>Landing Page Submission</td>\n",
       "      <td>Google</td>\n",
       "      <td>No</td>\n",
       "      <td>1</td>\n",
       "      <td>3.000</td>\n",
       "      <td>499</td>\n",
       "      <td>3.000</td>\n",
       "      <td>SMS Sent</td>\n",
       "      <td>Other</td>\n",
       "      <td>No</td>\n",
       "      <td>SMS Sent</td>\n",
       "    </tr>\n",
       "    <tr>\n",
       "      <th>9239</th>\n",
       "      <td>579533</td>\n",
       "      <td>Landing Page Submission</td>\n",
       "      <td>Direct Traffic</td>\n",
       "      <td>No</td>\n",
       "      <td>1</td>\n",
       "      <td>6.000</td>\n",
       "      <td>1279</td>\n",
       "      <td>3.000</td>\n",
       "      <td>SMS Sent</td>\n",
       "      <td>Unemployed</td>\n",
       "      <td>Yes</td>\n",
       "      <td>Modified</td>\n",
       "    </tr>\n",
       "  </tbody>\n",
       "</table>\n",
       "<p>9037 rows × 12 columns</p>\n",
       "</div>"
      ],
      "text/plain": [
       "      lead_number              lead_origin     lead_source do_not_email  \\\n",
       "0          660737                      API      Olark Chat           No   \n",
       "1          660728                      API  Organic Search           No   \n",
       "2          660727  Landing Page Submission  Direct Traffic           No   \n",
       "3          660719  Landing Page Submission  Direct Traffic           No   \n",
       "4          660681  Landing Page Submission          Google           No   \n",
       "...           ...                      ...             ...          ...   \n",
       "9235       579564  Landing Page Submission  Direct Traffic          Yes   \n",
       "9236       579546  Landing Page Submission  Direct Traffic           No   \n",
       "9237       579545  Landing Page Submission  Direct Traffic          Yes   \n",
       "9238       579538  Landing Page Submission          Google           No   \n",
       "9239       579533  Landing Page Submission  Direct Traffic           No   \n",
       "\n",
       "      converted  totalvisits  total_time_spent_on_website  \\\n",
       "0             0        0.000                            0   \n",
       "1             0        5.000                          674   \n",
       "2             1        2.000                         1532   \n",
       "3             0        1.000                          305   \n",
       "4             1        2.000                         1428   \n",
       "...         ...          ...                          ...   \n",
       "9235          1        8.000                         1845   \n",
       "9236          0        2.000                          238   \n",
       "9237          0        2.000                          199   \n",
       "9238          1        3.000                          499   \n",
       "9239          1        6.000                         1279   \n",
       "\n",
       "      page_views_per_visit            last_activity  \\\n",
       "0                    0.000  Page Visited on Website   \n",
       "1                    2.500             Email Opened   \n",
       "2                    2.000             Email Opened   \n",
       "3                    1.000              Unreachable   \n",
       "4                    1.000        Converted to Lead   \n",
       "...                    ...                      ...   \n",
       "9235                 2.670                    Other   \n",
       "9236                 2.000                 SMS Sent   \n",
       "9237                 2.000                 SMS Sent   \n",
       "9238                 3.000                 SMS Sent   \n",
       "9239                 3.000                 SMS Sent   \n",
       "\n",
       "     what_is_your_current_occupation a_free_copy_of_mastering_the_interview  \\\n",
       "0                         Unemployed                                     No   \n",
       "1                         Unemployed                                     No   \n",
       "2                            Student                                    Yes   \n",
       "3                         Unemployed                                     No   \n",
       "4                         Unemployed                                     No   \n",
       "...                              ...                                    ...   \n",
       "9235                      Unemployed                                     No   \n",
       "9236                      Unemployed                                    Yes   \n",
       "9237                      Unemployed                                    Yes   \n",
       "9238                           Other                                     No   \n",
       "9239                      Unemployed                                    Yes   \n",
       "\n",
       "     last_notable_activity  \n",
       "0                 Modified  \n",
       "1             Email Opened  \n",
       "2             Email Opened  \n",
       "3                 Modified  \n",
       "4                 Modified  \n",
       "...                    ...  \n",
       "9235          Unsubscribed  \n",
       "9236              SMS Sent  \n",
       "9237              SMS Sent  \n",
       "9238              SMS Sent  \n",
       "9239              Modified  \n",
       "\n",
       "[9037 rows x 12 columns]"
      ]
     },
     "execution_count": 699,
     "metadata": {},
     "output_type": "execute_result"
    }
   ],
   "source": [
    "lead_df = pd.read_csv('files/Lead Scoring.csv')\n",
    "clean_data(lead_df)"
   ]
  },
  {
   "cell_type": "markdown",
   "id": "f5571535",
   "metadata": {},
   "source": [
    "## Checking Imbalance of dataset \n",
    "\n",
    "using the dependent variable ='converted' , now concrete cutoff when a dataset is considered imbalanced, however common is to consider it as imbalanced if the ratio is greater than 1:9"
   ]
  },
  {
   "cell_type": "code",
   "execution_count": 700,
   "id": "cdad8dea",
   "metadata": {},
   "outputs": [
    {
     "data": {
      "text/plain": [
       "0    5548\n",
       "1    3489\n",
       "Name: converted, dtype: int64"
      ]
     },
     "execution_count": 700,
     "metadata": {},
     "output_type": "execute_result"
    }
   ],
   "source": [
    "lead_df.converted.value_counts()\n",
    "#dataset imbalance ratio is just 1: 1.6, so no down-or upsampling needed"
   ]
  },
  {
   "cell_type": "markdown",
   "id": "eee92bf9",
   "metadata": {},
   "source": [
    "## Data preprocessing"
   ]
  },
  {
   "cell_type": "code",
   "execution_count": 701,
   "id": "3f2ee3b5",
   "metadata": {},
   "outputs": [
    {
     "data": {
      "text/plain": [
       "(9037, 7)"
      ]
     },
     "execution_count": 701,
     "metadata": {},
     "output_type": "execute_result"
    }
   ],
   "source": [
    "# numerical &categorical values\n",
    "lead_numerical = lead_df.select_dtypes(include=np.number).drop(columns=['lead_number', 'converted'])\n",
    "lead_categorical = lead_df.select_dtypes(include=np.object)\n",
    "lead_categorical.shape"
   ]
  },
  {
   "cell_type": "code",
   "execution_count": 702,
   "id": "9c83bde4",
   "metadata": {},
   "outputs": [
    {
     "name": "stdout",
     "output_type": "stream",
     "text": [
      "['totalvisits', 'total_time_spent_on_website', 'page_views_per_visit']\n"
     ]
    },
    {
     "data": {
      "text/plain": [
       "['lead_origin',\n",
       " 'lead_source',\n",
       " 'do_not_email',\n",
       " 'last_activity',\n",
       " 'what_is_your_current_occupation',\n",
       " 'a_free_copy_of_mastering_the_interview',\n",
       " 'last_notable_activity']"
      ]
     },
     "execution_count": 702,
     "metadata": {},
     "output_type": "execute_result"
    }
   ],
   "source": [
    "print(list(lead_numerical))\n",
    "list(lead_categorical)\n"
   ]
  },
  {
   "cell_type": "markdown",
   "id": "efd0257b",
   "metadata": {},
   "source": [
    "### Checking for high correlation in numerical values"
   ]
  },
  {
   "cell_type": "code",
   "execution_count": 703,
   "id": "b0d08f54",
   "metadata": {},
   "outputs": [
    {
     "data": {
      "image/png": "[encoded data removed]",
      "text/plain": [
       "<Figure size 720x576 with 2 Axes>"
      ]
     },
     "metadata": {
      "needs_background": "light"
     },
     "output_type": "display_data"
    }
   ],
   "source": [
    "#correleation between numerical features\n",
    "#Dropping features that show a high correlation between them (greater than 0.9)\n",
    "\n",
    "correlations = lead_numerical.corr()\n",
    "cmap = sns.cm.rocket_r  ## for reversing the colors\n",
    "mask=np.zeros_like(lead_numerical.corr())\n",
    "mask[np.triu_indices_from(mask)]=True\n",
    "fig, ax=plt.subplots(figsize=(10, 8))\n",
    "ax=sns.heatmap(lead_numerical.corr(), mask=mask, annot=True,cmap=cmap)\n",
    "plt.show()\n",
    "\n",
    "#no high correlation"
   ]
  },
  {
   "cell_type": "markdown",
   "id": "3f79c202",
   "metadata": {},
   "source": [
    "### Encoding"
   ]
  },
  {
   "cell_type": "code",
   "execution_count": 715,
   "id": "5c85b86e",
   "metadata": {},
   "outputs": [
    {
     "data": {
      "text/plain": [
       "(9037, 35)"
      ]
     },
     "metadata": {},
     "output_type": "display_data"
    }
   ],
   "source": [
    "#get dummies for categorical values\n",
    "dummies = pd.get_dummies(data = lead_categorical, drop_first=True)\n",
    "display(dummies.shape)\n"
   ]
  },
  {
   "cell_type": "markdown",
   "id": "581f314a",
   "metadata": {},
   "source": [
    "### Scaling numerical features\n",
    "\n",
    "*data normalization is not needed but also won’t affect the output for Tree/Random Forest classifiers"
   ]
  },
  {
   "cell_type": "code",
   "execution_count": 716,
   "id": "0acdd478",
   "metadata": {},
   "outputs": [
    {
     "data": {
      "text/html": [
       "<div>\n",
       "<style scoped>\n",
       "    .dataframe tbody tr th:only-of-type {\n",
       "        vertical-align: middle;\n",
       "    }\n",
       "\n",
       "    .dataframe tbody tr th {\n",
       "        vertical-align: top;\n",
       "    }\n",
       "\n",
       "    .dataframe thead th {\n",
       "        text-align: right;\n",
       "    }\n",
       "</style>\n",
       "<table border=\"1\" class=\"dataframe\">\n",
       "  <thead>\n",
       "    <tr style=\"text-align: right;\">\n",
       "      <th></th>\n",
       "      <th>totalvisits</th>\n",
       "      <th>total_time_spent_on_website</th>\n",
       "      <th>page_views_per_visit</th>\n",
       "    </tr>\n",
       "  </thead>\n",
       "  <tbody>\n",
       "    <tr>\n",
       "      <th>0</th>\n",
       "      <td>0.000</td>\n",
       "      <td>0</td>\n",
       "      <td>0.000</td>\n",
       "    </tr>\n",
       "    <tr>\n",
       "      <th>1</th>\n",
       "      <td>5.000</td>\n",
       "      <td>674</td>\n",
       "      <td>2.500</td>\n",
       "    </tr>\n",
       "  </tbody>\n",
       "</table>\n",
       "</div>"
      ],
      "text/plain": [
       "   totalvisits  total_time_spent_on_website  page_views_per_visit\n",
       "0        0.000                            0                 0.000\n",
       "1        5.000                          674                 2.500"
      ]
     },
     "metadata": {},
     "output_type": "display_data"
    },
    {
     "name": "stdout",
     "output_type": "stream",
     "text": [
      "\n"
     ]
    },
    {
     "data": {
      "text/html": [
       "<div>\n",
       "<style scoped>\n",
       "    .dataframe tbody tr th:only-of-type {\n",
       "        vertical-align: middle;\n",
       "    }\n",
       "\n",
       "    .dataframe tbody tr th {\n",
       "        vertical-align: top;\n",
       "    }\n",
       "\n",
       "    .dataframe thead th {\n",
       "        text-align: right;\n",
       "    }\n",
       "</style>\n",
       "<table border=\"1\" class=\"dataframe\">\n",
       "  <thead>\n",
       "    <tr style=\"text-align: right;\">\n",
       "      <th></th>\n",
       "      <th>totalvisits</th>\n",
       "      <th>total_time_spent_on_website</th>\n",
       "      <th>page_views_per_visit</th>\n",
       "    </tr>\n",
       "  </thead>\n",
       "  <tbody>\n",
       "    <tr>\n",
       "      <th>0</th>\n",
       "      <td>-1.082</td>\n",
       "      <td>-0.890</td>\n",
       "      <td>-1.149</td>\n",
       "    </tr>\n",
       "    <tr>\n",
       "      <th>1</th>\n",
       "      <td>0.609</td>\n",
       "      <td>0.340</td>\n",
       "      <td>0.088</td>\n",
       "    </tr>\n",
       "  </tbody>\n",
       "</table>\n",
       "</div>"
      ],
      "text/plain": [
       "   totalvisits  total_time_spent_on_website  page_views_per_visit\n",
       "0       -1.082                       -0.890                -1.149\n",
       "1        0.609                        0.340                 0.088"
      ]
     },
     "metadata": {},
     "output_type": "display_data"
    },
    {
     "data": {
      "text/plain": [
       "(9037, 3)"
      ]
     },
     "execution_count": 716,
     "metadata": {},
     "output_type": "execute_result"
    }
   ],
   "source": [
    "\n",
    "#scaling numerical features\n",
    "\n",
    "scaler = StandardScaler()\n",
    "scaler.fit(lead_numerical) #z score \n",
    "lead_numericals_scaled = scaler.transform(lead_numerical) #gives an array\n",
    "lead_numericals_scaled = pd.DataFrame(lead_numericals_scaled, columns = lead_numerical.columns) #transform it to a df\n",
    "display(lead_numerical.head(2))\n",
    "print()\n",
    "display(lead_numericals_scaled.head(2))\n",
    "\n",
    "lead_numericals_scaled.shape\n"
   ]
  },
  {
   "cell_type": "markdown",
   "id": "04e6664c",
   "metadata": {},
   "source": [
    "### Plotting categorical Features"
   ]
  },
  {
   "cell_type": "code",
   "execution_count": 717,
   "id": "86fd66f3",
   "metadata": {},
   "outputs": [
    {
     "data": {
      "image/png": "[encoded data removed]",
      "text/plain": [
       "<Figure size 720x360 with 1 Axes>"
      ]
     },
     "metadata": {
      "needs_background": "light"
     },
     "output_type": "display_data"
    },
    {
     "data": {
      "image/png": "[encoded data removed]",
      "text/plain": [
       "<Figure size 720x360 with 1 Axes>"
      ]
     },
     "metadata": {
      "needs_background": "light"
     },
     "output_type": "display_data"
    },
    {
     "data": {
      "image/png": "[encoded data removed]",
      "text/plain": [
       "<Figure size 720x360 with 1 Axes>"
      ]
     },
     "metadata": {
      "needs_background": "light"
     },
     "output_type": "display_data"
    },
    {
     "data": {
      "image/png": "[encoded data removed]",
      "text/plain": [
       "<Figure size 720x360 with 1 Axes>"
      ]
     },
     "metadata": {
      "needs_background": "light"
     },
     "output_type": "display_data"
    },
    {
     "data": {
      "image/png": "[encoded data removed]",
      "text/plain": [
       "<Figure size 720x360 with 1 Axes>"
      ]
     },
     "metadata": {
      "needs_background": "light"
     },
     "output_type": "display_data"
    },
    {
     "data": {
      "image/png": "[encoded data removed]",
      "text/plain": [
       "<Figure size 720x360 with 1 Axes>"
      ]
     },
     "metadata": {
      "needs_background": "light"
     },
     "output_type": "display_data"
    },
    {
     "data": {
      "image/png": "[encoded data removed]",
      "text/plain": [
       "<Figure size 720x360 with 1 Axes>"
      ]
     },
     "metadata": {
      "needs_background": "light"
     },
     "output_type": "display_data"
    }
   ],
   "source": [
    "for c in lead_categorical:\n",
    "    plt.figure(figsize=(10,5))\n",
    "    plt.bar(lead_categorical[c].unique(), lead_categorical[c].value_counts())\n",
    "    plt.title(c)\n",
    "    plt.xticks(rotation=45)\n",
    "    plt.show();"
   ]
  },
  {
   "cell_type": "markdown",
   "id": "32d0d1b4",
   "metadata": {},
   "source": [
    "### Plotting numerical Features"
   ]
  },
  {
   "cell_type": "code",
   "execution_count": 707,
   "id": "5d210a1e",
   "metadata": {},
   "outputs": [
    {
     "data": {
      "image/png": "[encoded data removed]",
      "text/plain": [
       "<Figure size 540x540 with 12 Axes>"
      ]
     },
     "metadata": {
      "needs_background": "light"
     },
     "output_type": "display_data"
    }
   ],
   "source": [
    "#Use seaborn library to construct distribution plots for the numerical_scaled variables##\n",
    "sns.pairplot(lead_numericals_scaled)\n",
    "plt.show()"
   ]
  },
  {
   "cell_type": "markdown",
   "id": "1b40bf12",
   "metadata": {},
   "source": [
    "### Combining scaled numerical and encoded categorical data"
   ]
  },
  {
   "cell_type": "code",
   "execution_count": 718,
   "id": "4a1dca30",
   "metadata": {},
   "outputs": [],
   "source": [
    "#hstack scaled numerical & encoded categorical\n",
    "lead_df_numbers = pd.DataFrame(np.hstack([dummies, lead_numericals_scaled]))\n",
    "\n",
    "#saving column names in a list to append it\n",
    "column_names = [*dummies.columns.tolist(),*lead_numericals_scaled.columns.tolist()]\n",
    "\n",
    "\n",
    "lead_df_numbers.set_axis(column_names,axis =1,inplace=True)\n",
    "\n"
   ]
  },
  {
   "cell_type": "markdown",
   "id": "2b73936b",
   "metadata": {},
   "source": [
    "### Correlation for scaled and encoded dataset"
   ]
  },
  {
   "cell_type": "code",
   "execution_count": 719,
   "id": "a64ec057",
   "metadata": {},
   "outputs": [
    {
     "data": {
      "image/png": "[encoded data removed]",
      "text/plain": [
       "<Figure size 2160x2160 with 2 Axes>"
      ]
     },
     "metadata": {
      "needs_background": "light"
     },
     "output_type": "display_data"
    }
   ],
   "source": [
    "dfCorr = lead_df_numbers.corr()\n",
    "filteredDf = dfCorr[((dfCorr >= .89) | (dfCorr <= -.89)) & (dfCorr !=1.000)] #just showing high correlation without duplicates (1)\n",
    "plt.figure(figsize=(30,30))\n",
    "sns.heatmap(filteredDf, annot=True, cmap=\"Reds\")\n",
    "plt.show()\n",
    "\n",
    "#lead_origin_Lead_import and lead_source_Facebook are highly correlated, will drop"
   ]
  },
  {
   "cell_type": "code",
   "execution_count": 720,
   "id": "6470ab40",
   "metadata": {},
   "outputs": [],
   "source": [
    "#lead_origin_Lead_import and lead_source_Facebook are highly correlated\n",
    "#dropping lead_source_Facebook\n",
    "lead_df_numbers.drop(columns='lead_source_Facebook',inplace=True)"
   ]
  },
  {
   "cell_type": "markdown",
   "id": "34d9ea09",
   "metadata": {},
   "source": [
    "## Saving the cleaned and processed data set"
   ]
  },
  {
   "cell_type": "code",
   "execution_count": 721,
   "id": "4ebc4366",
   "metadata": {},
   "outputs": [],
   "source": [
    "lead_df_numbers.to_csv(\"lead_df_processed.csv\")"
   ]
  },
  {
   "cell_type": "markdown",
   "id": "1e9f0186",
   "metadata": {},
   "source": [
    "## Setting the independent and dependent variable"
   ]
  },
  {
   "cell_type": "code",
   "execution_count": 722,
   "id": "f70c5249",
   "metadata": {},
   "outputs": [
    {
     "data": {
      "text/plain": [
       "(9037, 37)"
      ]
     },
     "metadata": {},
     "output_type": "display_data"
    },
    {
     "data": {
      "text/plain": [
       "(9037,)"
      ]
     },
     "execution_count": 722,
     "metadata": {},
     "output_type": "execute_result"
    }
   ],
   "source": [
    "X = lead_df_numbers\n",
    "display(X.shape)\n",
    "y_lead =lead_df.lead_number\n",
    "#y = lead_df[['converted', 'lead_number']]\n",
    "y =lead_df.converted\n",
    "y = y.values.ravel() #y needs to be converted into a 1D for later modelling\n",
    "y.shape\n"
   ]
  },
  {
   "cell_type": "markdown",
   "id": "401facca",
   "metadata": {},
   "source": [
    "### Train-test split"
   ]
  },
  {
   "cell_type": "code",
   "execution_count": 723,
   "id": "248895df",
   "metadata": {},
   "outputs": [],
   "source": [
    "X_train, X_test, y_train, y_test = train_test_split(X, y, test_size =0.3, random_state = 10)"
   ]
  },
  {
   "cell_type": "code",
   "execution_count": 724,
   "id": "da47eb74",
   "metadata": {},
   "outputs": [],
   "source": [
    "#y_lead_number = y_train.lead_number\n",
    "#y_lead_number_test = y_test.lead_number\n",
    "#y_train.drop(columns='lead_number', inplace =True)\n",
    "#y_test.drop(columns='lead_number', inplace =True)\n",
    "#y.drop(columns='lead_number', inplace =True)"
   ]
  },
  {
   "cell_type": "markdown",
   "id": "b7a8682d",
   "metadata": {},
   "source": [
    "## Testing Models"
   ]
  },
  {
   "cell_type": "code",
   "execution_count": 725,
   "id": "01e9b67b",
   "metadata": {},
   "outputs": [],
   "source": [
    "\n",
    "models = {\n",
    "# Decision Trees\n",
    "\"Decision Tree Classifier\":DecisionTreeClassifier(), \n",
    "# Naive Bayes\n",
    "\"GaussianNB\": GaussianNB(),\n",
    "# Support Vector Machines\n",
    "\"LinearSVC\": LinearSVC(),\n",
    "# Logistic Regression\n",
    "\"Logistic Regression\": LogisticRegression(),\n",
    "#Random Forest\n",
    "\"Random Forest\": RandomForestClassifier()\n",
    "            }"
   ]
  },
  {
   "cell_type": "code",
   "execution_count": 726,
   "id": "44b5368e",
   "metadata": {},
   "outputs": [],
   "source": [
    "def eval_model(x,y,models):\n",
    "    pd.options.display.float_format = \"{:,.3f}\".format #show three decimals in df\n",
    "    accuracy, precision, recall, f1_score = {}, {}, {},{}\n",
    "    #enumerate attachs a number to the running output\n",
    "    for (i, (name, model)) in enumerate (models.items()): #to access the models (name= key , model/items =values in dict)\n",
    "        \n",
    "        #model Training\n",
    "        model.fit(X_train, y_train)\n",
    "        \n",
    "        y_pred = model.predict(X_test)\n",
    "        y_pred_train = model.predict(X_train)\n",
    "        \n",
    "        #confusion matrix (not displaying it as it gets to much output)\n",
    "        #try:\n",
    "        #    print(name,\" Confusion matrix for the train set: \")\n",
    "        #    print(confusion_matrix(y_train,y_pred_train))\n",
    "\n",
    "        #    \n",
    "        #    print(name, \"Confusion matrix for the test set: \")\n",
    "        #    print(confusion_matrix(y_test, y_pred))\n",
    "        #    \n",
    "        #except:\n",
    "        #    print(\"confusion matrix is not available for this model: \", name)\n",
    "\n",
    "        accuracy[name] = accuracy_score(y_pred, y_test)\n",
    "        precision[name] = precision_score(y_pred, y_test)\n",
    "        recall[name] = recall_score(y_pred, y_test)\n",
    "        #F1 score increases as the precision and recall value rises for a model.\n",
    "        #A high score indicates that the model is well versed in terms of handling the class imbalance problem.\n",
    "        f1_score[name] = 2*(( precision[name] * recall[name])/( precision[name] + recall[name]))\n",
    "        cross_val_scores = cross_val_score(model, X_train, y_train, cv=10)\n",
    "        print(name,\": Cross validation score: \",np.mean(cross_val_scores).round(3),\"\\n\")\n",
    "\n",
    "\n",
    "        \n",
    "    df_model = pd.DataFrame(index=models.keys(), columns=['Accuracy', 'Precision', 'Recall'])\n",
    "    df_model['Accuracy'] = accuracy.values()\n",
    "    df_model['Precision'] = precision.values()\n",
    "    df_model['Recall'] = recall.values()\n",
    "    df_model['F1 Score'] = f1_score.values()\n",
    "  \n",
    "    return df_model\n",
    "        "
   ]
  },
  {
   "cell_type": "code",
   "execution_count": 727,
   "id": "cacf5b51",
   "metadata": {},
   "outputs": [
    {
     "name": "stdout",
     "output_type": "stream",
     "text": [
      "Decision Tree Classifier : Cross validation score:  0.774 \n",
      "\n",
      "GaussianNB : Cross validation score:  0.748 \n",
      "\n",
      "LinearSVC : Cross validation score:  0.821 \n",
      "\n",
      "Logistic Regression : Cross validation score:  0.822 \n",
      "\n",
      "Random Forest : Cross validation score:  0.802 \n",
      "\n"
     ]
    },
    {
     "data": {
      "text/html": [
       "<div>\n",
       "<style scoped>\n",
       "    .dataframe tbody tr th:only-of-type {\n",
       "        vertical-align: middle;\n",
       "    }\n",
       "\n",
       "    .dataframe tbody tr th {\n",
       "        vertical-align: top;\n",
       "    }\n",
       "\n",
       "    .dataframe thead th {\n",
       "        text-align: right;\n",
       "    }\n",
       "</style>\n",
       "<table border=\"1\" class=\"dataframe\">\n",
       "  <thead>\n",
       "    <tr style=\"text-align: right;\">\n",
       "      <th></th>\n",
       "      <th>Accuracy</th>\n",
       "      <th>Precision</th>\n",
       "      <th>Recall</th>\n",
       "      <th>F1 Score</th>\n",
       "    </tr>\n",
       "  </thead>\n",
       "  <tbody>\n",
       "    <tr>\n",
       "      <th>Decision Tree Classifier</th>\n",
       "      <td>0.774</td>\n",
       "      <td>0.750</td>\n",
       "      <td>0.687</td>\n",
       "      <td>0.717</td>\n",
       "    </tr>\n",
       "    <tr>\n",
       "      <th>GaussianNB</th>\n",
       "      <td>0.754</td>\n",
       "      <td>0.544</td>\n",
       "      <td>0.741</td>\n",
       "      <td>0.627</td>\n",
       "    </tr>\n",
       "    <tr>\n",
       "      <th>LinearSVC</th>\n",
       "      <td>0.810</td>\n",
       "      <td>0.707</td>\n",
       "      <td>0.776</td>\n",
       "      <td>0.740</td>\n",
       "    </tr>\n",
       "    <tr>\n",
       "      <th>Logistic Regression</th>\n",
       "      <td>0.812</td>\n",
       "      <td>0.705</td>\n",
       "      <td>0.780</td>\n",
       "      <td>0.740</td>\n",
       "    </tr>\n",
       "    <tr>\n",
       "      <th>Random Forest</th>\n",
       "      <td>0.803</td>\n",
       "      <td>0.739</td>\n",
       "      <td>0.742</td>\n",
       "      <td>0.741</td>\n",
       "    </tr>\n",
       "  </tbody>\n",
       "</table>\n",
       "</div>"
      ],
      "text/plain": [
       "                          Accuracy  Precision  Recall  F1 Score\n",
       "Decision Tree Classifier     0.774      0.750   0.687     0.717\n",
       "GaussianNB                   0.754      0.544   0.741     0.627\n",
       "LinearSVC                    0.810      0.707   0.776     0.740\n",
       "Logistic Regression          0.812      0.705   0.780     0.740\n",
       "Random Forest                0.803      0.739   0.742     0.741"
      ]
     },
     "execution_count": 727,
     "metadata": {},
     "output_type": "execute_result"
    }
   ],
   "source": [
    "eval_model(X,y,models)"
   ]
  },
  {
   "cell_type": "markdown",
   "id": "ac52ed09",
   "metadata": {},
   "source": [
    "#### Logistic Regression has overall the best results, therefore I will move forward with it for the feature importance selection"
   ]
  },
  {
   "cell_type": "markdown",
   "id": "825ab455",
   "metadata": {},
   "source": [
    "### Statsmodel analysis of Logistic Regression\n",
    "\n",
    "statsmodels is a Python module that provides classes and functions for the estimation of many different statistical models, as well as for conducting statistical tests, and statistical data exploration. "
   ]
  },
  {
   "cell_type": "code",
   "execution_count": 728,
   "id": "43ac6d4b",
   "metadata": {},
   "outputs": [
    {
     "name": "stdout",
     "output_type": "stream",
     "text": [
      "Warning: Maximum number of iterations has been exceeded.\n",
      "         Current function value: 0.392261\n",
      "         Iterations: 35\n"
     ]
    },
    {
     "data": {
      "text/html": [
       "<table class=\"simpletable\">\n",
       "<caption>Logit Regression Results</caption>\n",
       "<tr>\n",
       "  <th>Dep. Variable:</th>           <td>y</td>        <th>  No. Observations:  </th>  <td>  6325</td> \n",
       "</tr>\n",
       "<tr>\n",
       "  <th>Model:</th>                 <td>Logit</td>      <th>  Df Residuals:      </th>  <td>  6287</td> \n",
       "</tr>\n",
       "<tr>\n",
       "  <th>Method:</th>                 <td>MLE</td>       <th>  Df Model:          </th>  <td>    37</td> \n",
       "</tr>\n",
       "<tr>\n",
       "  <th>Date:</th>            <td>Thu, 07 Oct 2021</td> <th>  Pseudo R-squ.:     </th>  <td>0.4127</td> \n",
       "</tr>\n",
       "<tr>\n",
       "  <th>Time:</th>                <td>15:20:20</td>     <th>  Log-Likelihood:    </th> <td> -2481.0</td>\n",
       "</tr>\n",
       "<tr>\n",
       "  <th>converged:</th>             <td>False</td>      <th>  LL-Null:           </th> <td> -4224.5</td>\n",
       "</tr>\n",
       "<tr>\n",
       "  <th>Covariance Type:</th>     <td>nonrobust</td>    <th>  LLR p-value:       </th>  <td> 0.000</td> \n",
       "</tr>\n",
       "</table>\n",
       "<table class=\"simpletable\">\n",
       "<tr>\n",
       "                            <td></td>                              <th>coef</th>     <th>std err</th>      <th>z</th>      <th>P>|z|</th>  <th>[0.025</th>    <th>0.975]</th>  \n",
       "</tr>\n",
       "<tr>\n",
       "  <th>const</th>                                                <td>   17.1847</td> <td> 3857.098</td> <td>    0.004</td> <td> 0.996</td> <td>-7542.589</td> <td> 7576.958</td>\n",
       "</tr>\n",
       "<tr>\n",
       "  <th>lead_origin_Add Form</th>                                 <td>    3.3956</td> <td>    0.342</td> <td>    9.923</td> <td> 0.000</td> <td>    2.725</td> <td>    4.066</td>\n",
       "</tr>\n",
       "<tr>\n",
       "  <th>lead_origin_Landing Page Submission</th>                  <td>   -0.1984</td> <td>    0.111</td> <td>   -1.792</td> <td> 0.073</td> <td>   -0.415</td> <td>    0.019</td>\n",
       "</tr>\n",
       "<tr>\n",
       "  <th>lead_origin_Lead Import</th>                              <td>    0.5241</td> <td>    0.453</td> <td>    1.157</td> <td> 0.247</td> <td>   -0.364</td> <td>    1.412</td>\n",
       "</tr>\n",
       "<tr>\n",
       "  <th>lead_source_Google</th>                                   <td>    0.2582</td> <td>    0.117</td> <td>    2.198</td> <td> 0.028</td> <td>    0.028</td> <td>    0.488</td>\n",
       "</tr>\n",
       "<tr>\n",
       "  <th>lead_source_Olark Chat</th>                               <td>    1.4545</td> <td>    0.166</td> <td>    8.785</td> <td> 0.000</td> <td>    1.130</td> <td>    1.779</td>\n",
       "</tr>\n",
       "<tr>\n",
       "  <th>lead_source_Organic Search</th>                           <td>    0.1659</td> <td>    0.134</td> <td>    1.242</td> <td> 0.214</td> <td>   -0.096</td> <td>    0.428</td>\n",
       "</tr>\n",
       "<tr>\n",
       "  <th>lead_source_Other</th>                                    <td>    1.0490</td> <td>    0.687</td> <td>    1.528</td> <td> 0.127</td> <td>   -0.297</td> <td>    2.395</td>\n",
       "</tr>\n",
       "<tr>\n",
       "  <th>lead_source_Referral</th>                                 <td>    0.2154</td> <td>    0.311</td> <td>    0.693</td> <td> 0.488</td> <td>   -0.394</td> <td>    0.825</td>\n",
       "</tr>\n",
       "<tr>\n",
       "  <th>lead_source_Welingak Website</th>                         <td>    2.1352</td> <td>    0.801</td> <td>    2.666</td> <td> 0.008</td> <td>    0.565</td> <td>    3.705</td>\n",
       "</tr>\n",
       "<tr>\n",
       "  <th>do_not_email_Yes</th>                                     <td>   -1.1579</td> <td>    0.215</td> <td>   -5.382</td> <td> 0.000</td> <td>   -1.580</td> <td>   -0.736</td>\n",
       "</tr>\n",
       "<tr>\n",
       "  <th>last_activity_Email Bounced</th>                          <td>   -0.3923</td> <td>    0.485</td> <td>   -0.808</td> <td> 0.419</td> <td>   -1.344</td> <td>    0.559</td>\n",
       "</tr>\n",
       "<tr>\n",
       "  <th>last_activity_Email Link Clicked</th>                     <td>    0.4494</td> <td>    0.433</td> <td>    1.038</td> <td> 0.299</td> <td>   -0.399</td> <td>    1.298</td>\n",
       "</tr>\n",
       "<tr>\n",
       "  <th>last_activity_Email Opened</th>                           <td>    0.8616</td> <td>    0.240</td> <td>    3.588</td> <td> 0.000</td> <td>    0.391</td> <td>    1.332</td>\n",
       "</tr>\n",
       "<tr>\n",
       "  <th>last_activity_Form Submitted on Website</th>              <td>    0.0819</td> <td>    0.415</td> <td>    0.198</td> <td> 0.843</td> <td>   -0.731</td> <td>    0.895</td>\n",
       "</tr>\n",
       "<tr>\n",
       "  <th>last_activity_Had a Phone Conversation</th>               <td>    1.0682</td> <td>    0.841</td> <td>    1.270</td> <td> 0.204</td> <td>   -0.580</td> <td>    2.717</td>\n",
       "</tr>\n",
       "<tr>\n",
       "  <th>last_activity_Olark Chat Conversation</th>                <td>   -0.5459</td> <td>    0.273</td> <td>   -2.002</td> <td> 0.045</td> <td>   -1.080</td> <td>   -0.011</td>\n",
       "</tr>\n",
       "<tr>\n",
       "  <th>last_activity_Other</th>                                  <td>    1.5992</td> <td>    1.070</td> <td>    1.494</td> <td> 0.135</td> <td>   -0.499</td> <td>    3.697</td>\n",
       "</tr>\n",
       "<tr>\n",
       "  <th>last_activity_Page Visited on Website</th>                <td>    0.1607</td> <td>    0.297</td> <td>    0.540</td> <td> 0.589</td> <td>   -0.422</td> <td>    0.743</td>\n",
       "</tr>\n",
       "<tr>\n",
       "  <th>last_activity_SMS Sent</th>                               <td>    1.2061</td> <td>    0.247</td> <td>    4.888</td> <td> 0.000</td> <td>    0.723</td> <td>    1.690</td>\n",
       "</tr>\n",
       "<tr>\n",
       "  <th>last_activity_Unreachable</th>                            <td>    0.2508</td> <td>    0.478</td> <td>    0.524</td> <td> 0.600</td> <td>   -0.687</td> <td>    1.189</td>\n",
       "</tr>\n",
       "<tr>\n",
       "  <th>last_activity_Unsubscribed</th>                           <td>    1.0755</td> <td>    1.122</td> <td>    0.958</td> <td> 0.338</td> <td>   -1.124</td> <td>    3.275</td>\n",
       "</tr>\n",
       "<tr>\n",
       "  <th>what_is_your_current_occupation_Other</th>                <td>  -20.2856</td> <td> 3857.098</td> <td>   -0.005</td> <td> 0.996</td> <td>-7580.059</td> <td> 7539.488</td>\n",
       "</tr>\n",
       "<tr>\n",
       "  <th>what_is_your_current_occupation_Student</th>              <td>  -19.0939</td> <td> 3857.098</td> <td>   -0.005</td> <td> 0.996</td> <td>-7578.868</td> <td> 7540.680</td>\n",
       "</tr>\n",
       "<tr>\n",
       "  <th>what_is_your_current_occupation_Unemployed</th>           <td>  -19.0451</td> <td> 3857.098</td> <td>   -0.005</td> <td> 0.996</td> <td>-7578.819</td> <td> 7540.729</td>\n",
       "</tr>\n",
       "<tr>\n",
       "  <th>what_is_your_current_occupation_Working Professional</th> <td>  -16.6888</td> <td> 3857.098</td> <td>   -0.004</td> <td> 0.997</td> <td>-7576.462</td> <td> 7543.085</td>\n",
       "</tr>\n",
       "<tr>\n",
       "  <th>a_free_copy_of_mastering_the_interview_Yes</th>           <td>   -0.0704</td> <td>    0.109</td> <td>   -0.644</td> <td> 0.519</td> <td>   -0.284</td> <td>    0.144</td>\n",
       "</tr>\n",
       "<tr>\n",
       "  <th>last_notable_activity_Email Opened</th>                   <td>    0.0524</td> <td>    0.486</td> <td>    0.108</td> <td> 0.914</td> <td>   -0.899</td> <td>    1.004</td>\n",
       "</tr>\n",
       "<tr>\n",
       "  <th>last_notable_activity_Modified</th>                       <td>   -0.1709</td> <td>    0.466</td> <td>   -0.367</td> <td> 0.714</td> <td>   -1.083</td> <td>    0.742</td>\n",
       "</tr>\n",
       "<tr>\n",
       "  <th>last_notable_activity_Olark Chat Conversation</th>        <td>   -0.2315</td> <td>    0.612</td> <td>   -0.378</td> <td> 0.705</td> <td>   -1.430</td> <td>    0.967</td>\n",
       "</tr>\n",
       "<tr>\n",
       "  <th>last_notable_activity_Other</th>                          <td>    2.4132</td> <td>    1.212</td> <td>    1.992</td> <td> 0.046</td> <td>    0.038</td> <td>    4.788</td>\n",
       "</tr>\n",
       "<tr>\n",
       "  <th>last_notable_activity_Page Visited on Website</th>        <td>    0.2871</td> <td>    0.553</td> <td>    0.519</td> <td> 0.604</td> <td>   -0.797</td> <td>    1.371</td>\n",
       "</tr>\n",
       "<tr>\n",
       "  <th>last_notable_activity_SMS Sent</th>                       <td>    1.0901</td> <td>    0.490</td> <td>    2.223</td> <td> 0.026</td> <td>    0.129</td> <td>    2.051</td>\n",
       "</tr>\n",
       "<tr>\n",
       "  <th>last_notable_activity_Unreachable</th>                    <td>    1.6132</td> <td>    0.678</td> <td>    2.379</td> <td> 0.017</td> <td>    0.284</td> <td>    2.942</td>\n",
       "</tr>\n",
       "<tr>\n",
       "  <th>last_notable_activity_Unsubscribed</th>                   <td>    1.2120</td> <td>    1.262</td> <td>    0.960</td> <td> 0.337</td> <td>   -1.261</td> <td>    3.685</td>\n",
       "</tr>\n",
       "<tr>\n",
       "  <th>totalvisits</th>                                          <td>    0.2743</td> <td>    0.054</td> <td>    5.097</td> <td> 0.000</td> <td>    0.169</td> <td>    0.380</td>\n",
       "</tr>\n",
       "<tr>\n",
       "  <th>total_time_spent_on_website</th>                          <td>    1.1468</td> <td>    0.042</td> <td>   27.076</td> <td> 0.000</td> <td>    1.064</td> <td>    1.230</td>\n",
       "</tr>\n",
       "<tr>\n",
       "  <th>page_views_per_visit</th>                                 <td>   -0.1948</td> <td>    0.056</td> <td>   -3.456</td> <td> 0.001</td> <td>   -0.305</td> <td>   -0.084</td>\n",
       "</tr>\n",
       "</table>"
      ],
      "text/plain": [
       "<class 'statsmodels.iolib.summary.Summary'>\n",
       "\"\"\"\n",
       "                           Logit Regression Results                           \n",
       "==============================================================================\n",
       "Dep. Variable:                      y   No. Observations:                 6325\n",
       "Model:                          Logit   Df Residuals:                     6287\n",
       "Method:                           MLE   Df Model:                           37\n",
       "Date:                Thu, 07 Oct 2021   Pseudo R-squ.:                  0.4127\n",
       "Time:                        15:20:20   Log-Likelihood:                -2481.0\n",
       "converged:                      False   LL-Null:                       -4224.5\n",
       "Covariance Type:            nonrobust   LLR p-value:                     0.000\n",
       "========================================================================================================================\n",
       "                                                           coef    std err          z      P>|z|      [0.025      0.975]\n",
       "------------------------------------------------------------------------------------------------------------------------\n",
       "const                                                   17.1847   3857.098      0.004      0.996   -7542.589    7576.958\n",
       "lead_origin_Add Form                                     3.3956      0.342      9.923      0.000       2.725       4.066\n",
       "lead_origin_Landing Page Submission                     -0.1984      0.111     -1.792      0.073      -0.415       0.019\n",
       "lead_origin_Lead Import                                  0.5241      0.453      1.157      0.247      -0.364       1.412\n",
       "lead_source_Google                                       0.2582      0.117      2.198      0.028       0.028       0.488\n",
       "lead_source_Olark Chat                                   1.4545      0.166      8.785      0.000       1.130       1.779\n",
       "lead_source_Organic Search                               0.1659      0.134      1.242      0.214      -0.096       0.428\n",
       "lead_source_Other                                        1.0490      0.687      1.528      0.127      -0.297       2.395\n",
       "lead_source_Referral                                     0.2154      0.311      0.693      0.488      -0.394       0.825\n",
       "lead_source_Welingak Website                             2.1352      0.801      2.666      0.008       0.565       3.705\n",
       "do_not_email_Yes                                        -1.1579      0.215     -5.382      0.000      -1.580      -0.736\n",
       "last_activity_Email Bounced                             -0.3923      0.485     -0.808      0.419      -1.344       0.559\n",
       "last_activity_Email Link Clicked                         0.4494      0.433      1.038      0.299      -0.399       1.298\n",
       "last_activity_Email Opened                               0.8616      0.240      3.588      0.000       0.391       1.332\n",
       "last_activity_Form Submitted on Website                  0.0819      0.415      0.198      0.843      -0.731       0.895\n",
       "last_activity_Had a Phone Conversation                   1.0682      0.841      1.270      0.204      -0.580       2.717\n",
       "last_activity_Olark Chat Conversation                   -0.5459      0.273     -2.002      0.045      -1.080      -0.011\n",
       "last_activity_Other                                      1.5992      1.070      1.494      0.135      -0.499       3.697\n",
       "last_activity_Page Visited on Website                    0.1607      0.297      0.540      0.589      -0.422       0.743\n",
       "last_activity_SMS Sent                                   1.2061      0.247      4.888      0.000       0.723       1.690\n",
       "last_activity_Unreachable                                0.2508      0.478      0.524      0.600      -0.687       1.189\n",
       "last_activity_Unsubscribed                               1.0755      1.122      0.958      0.338      -1.124       3.275\n",
       "what_is_your_current_occupation_Other                  -20.2856   3857.098     -0.005      0.996   -7580.059    7539.488\n",
       "what_is_your_current_occupation_Student                -19.0939   3857.098     -0.005      0.996   -7578.868    7540.680\n",
       "what_is_your_current_occupation_Unemployed             -19.0451   3857.098     -0.005      0.996   -7578.819    7540.729\n",
       "what_is_your_current_occupation_Working Professional   -16.6888   3857.098     -0.004      0.997   -7576.462    7543.085\n",
       "a_free_copy_of_mastering_the_interview_Yes              -0.0704      0.109     -0.644      0.519      -0.284       0.144\n",
       "last_notable_activity_Email Opened                       0.0524      0.486      0.108      0.914      -0.899       1.004\n",
       "last_notable_activity_Modified                          -0.1709      0.466     -0.367      0.714      -1.083       0.742\n",
       "last_notable_activity_Olark Chat Conversation           -0.2315      0.612     -0.378      0.705      -1.430       0.967\n",
       "last_notable_activity_Other                              2.4132      1.212      1.992      0.046       0.038       4.788\n",
       "last_notable_activity_Page Visited on Website            0.2871      0.553      0.519      0.604      -0.797       1.371\n",
       "last_notable_activity_SMS Sent                           1.0901      0.490      2.223      0.026       0.129       2.051\n",
       "last_notable_activity_Unreachable                        1.6132      0.678      2.379      0.017       0.284       2.942\n",
       "last_notable_activity_Unsubscribed                       1.2120      1.262      0.960      0.337      -1.261       3.685\n",
       "totalvisits                                              0.2743      0.054      5.097      0.000       0.169       0.380\n",
       "total_time_spent_on_website                              1.1468      0.042     27.076      0.000       1.064       1.230\n",
       "page_views_per_visit                                    -0.1948      0.056     -3.456      0.001      -0.305      -0.084\n",
       "========================================================================================================================\n",
       "\"\"\""
      ]
     },
     "execution_count": 728,
     "metadata": {},
     "output_type": "execute_result"
    }
   ],
   "source": [
    "# Logistic regression = Logit\n",
    "logm1 = sm.Logit(y_train,(sm.add_constant(X_train)), family = sm.families.Binomial())\n",
    "result= logm1.fit()\n",
    "result.summary()\n",
    "    "
   ]
  },
  {
   "cell_type": "markdown",
   "id": "f628af9f",
   "metadata": {},
   "source": [
    "#### The p-Value: The p-value for each term tests the null hypothesis that the coefficient is equal to zero (no effect). A low p-value (< 0.05) indicates that you can reject the null hypothesis. In other words, a predictor that has a low p-value is likely to be a meaningful addition to your model because changes in the predictor's value are related to changes in the response variable.\n",
    "\n",
    "Conversely, a larger (insignificant) p-value suggests that changes in the predictor are not associated with changes in the response.\n",
    "\n",
    "#### It is also important to avoid high correlation between the selected features. Using the VIF (Variance Inflation Factor) method this can be detected.\n",
    "\n",
    "Note: Values of VIF that exceed 10 are often regarded as indicating multicollinearity, but in even values above 2.5 may be a cause for concern. "
   ]
  },
  {
   "cell_type": "code",
   "execution_count": 729,
   "id": "353a3dd3",
   "metadata": {},
   "outputs": [],
   "source": [
    "def check_vif(X_train):\n",
    "    vif = pd.DataFrame()\n",
    "    vif['Features']=X_train.columns\n",
    "    vif['VIF'] = [variance_inflation_factor(X_train.values,i) for i in range(X_train.shape[1])]\n",
    "    vif=vif.sort_values(by='VIF', ascending = False)\n",
    "    vif['Ranking'] = range(len(vif), 0, -1)\n",
    "    return vif\n"
   ]
  },
  {
   "cell_type": "code",
   "execution_count": 730,
   "id": "d8d1640e",
   "metadata": {
    "scrolled": true
   },
   "outputs": [
    {
     "data": {
      "text/html": [
       "<div>\n",
       "<style scoped>\n",
       "    .dataframe tbody tr th:only-of-type {\n",
       "        vertical-align: middle;\n",
       "    }\n",
       "\n",
       "    .dataframe tbody tr th {\n",
       "        vertical-align: top;\n",
       "    }\n",
       "\n",
       "    .dataframe thead th {\n",
       "        text-align: right;\n",
       "    }\n",
       "</style>\n",
       "<table border=\"1\" class=\"dataframe\">\n",
       "  <thead>\n",
       "    <tr style=\"text-align: right;\">\n",
       "      <th></th>\n",
       "      <th>Features</th>\n",
       "      <th>VIF</th>\n",
       "      <th>Ranking</th>\n",
       "    </tr>\n",
       "  </thead>\n",
       "  <tbody>\n",
       "    <tr>\n",
       "      <th>23</th>\n",
       "      <td>what_is_your_current_occupation_Unemployed</td>\n",
       "      <td>98.236</td>\n",
       "      <td>37</td>\n",
       "    </tr>\n",
       "    <tr>\n",
       "      <th>27</th>\n",
       "      <td>last_notable_activity_Modified</td>\n",
       "      <td>52.272</td>\n",
       "      <td>36</td>\n",
       "    </tr>\n",
       "    <tr>\n",
       "      <th>21</th>\n",
       "      <td>what_is_your_current_occupation_Other</td>\n",
       "      <td>48.675</td>\n",
       "      <td>35</td>\n",
       "    </tr>\n",
       "    <tr>\n",
       "      <th>26</th>\n",
       "      <td>last_notable_activity_Email Opened</td>\n",
       "      <td>47.956</td>\n",
       "      <td>34</td>\n",
       "    </tr>\n",
       "    <tr>\n",
       "      <th>31</th>\n",
       "      <td>last_notable_activity_SMS Sent</td>\n",
       "      <td>38.317</td>\n",
       "      <td>33</td>\n",
       "    </tr>\n",
       "    <tr>\n",
       "      <th>12</th>\n",
       "      <td>last_activity_Email Opened</td>\n",
       "      <td>14.016</td>\n",
       "      <td>32</td>\n",
       "    </tr>\n",
       "    <tr>\n",
       "      <th>24</th>\n",
       "      <td>what_is_your_current_occupation_Working Professional</td>\n",
       "      <td>13.264</td>\n",
       "      <td>31</td>\n",
       "    </tr>\n",
       "    <tr>\n",
       "      <th>18</th>\n",
       "      <td>last_activity_SMS Sent</td>\n",
       "      <td>11.696</td>\n",
       "      <td>30</td>\n",
       "    </tr>\n",
       "    <tr>\n",
       "      <th>30</th>\n",
       "      <td>last_notable_activity_Page Visited on Website</td>\n",
       "      <td>6.325</td>\n",
       "      <td>29</td>\n",
       "    </tr>\n",
       "    <tr>\n",
       "      <th>0</th>\n",
       "      <td>lead_origin_Add Form</td>\n",
       "      <td>5.614</td>\n",
       "      <td>28</td>\n",
       "    </tr>\n",
       "    <tr>\n",
       "      <th>1</th>\n",
       "      <td>lead_origin_Landing Page Submission</td>\n",
       "      <td>5.380</td>\n",
       "      <td>27</td>\n",
       "    </tr>\n",
       "    <tr>\n",
       "      <th>7</th>\n",
       "      <td>lead_source_Referral</td>\n",
       "      <td>4.725</td>\n",
       "      <td>26</td>\n",
       "    </tr>\n",
       "    <tr>\n",
       "      <th>22</th>\n",
       "      <td>what_is_your_current_occupation_Student</td>\n",
       "      <td>4.619</td>\n",
       "      <td>25</td>\n",
       "    </tr>\n",
       "    <tr>\n",
       "      <th>4</th>\n",
       "      <td>lead_source_Olark Chat</td>\n",
       "      <td>4.264</td>\n",
       "      <td>24</td>\n",
       "    </tr>\n",
       "    <tr>\n",
       "      <th>28</th>\n",
       "      <td>last_notable_activity_Olark Chat Conversation</td>\n",
       "      <td>4.059</td>\n",
       "      <td>23</td>\n",
       "    </tr>\n",
       "    <tr>\n",
       "      <th>15</th>\n",
       "      <td>last_activity_Olark Chat Conversation</td>\n",
       "      <td>3.997</td>\n",
       "      <td>22</td>\n",
       "    </tr>\n",
       "    <tr>\n",
       "      <th>33</th>\n",
       "      <td>last_notable_activity_Unsubscribed</td>\n",
       "      <td>3.967</td>\n",
       "      <td>21</td>\n",
       "    </tr>\n",
       "    <tr>\n",
       "      <th>3</th>\n",
       "      <td>lead_source_Google</td>\n",
       "      <td>3.509</td>\n",
       "      <td>20</td>\n",
       "    </tr>\n",
       "    <tr>\n",
       "      <th>17</th>\n",
       "      <td>last_activity_Page Visited on Website</td>\n",
       "      <td>3.482</td>\n",
       "      <td>19</td>\n",
       "    </tr>\n",
       "    <tr>\n",
       "      <th>20</th>\n",
       "      <td>last_activity_Unsubscribed</td>\n",
       "      <td>3.452</td>\n",
       "      <td>18</td>\n",
       "    </tr>\n",
       "    <tr>\n",
       "      <th>11</th>\n",
       "      <td>last_activity_Email Link Clicked</td>\n",
       "      <td>3.111</td>\n",
       "      <td>17</td>\n",
       "    </tr>\n",
       "    <tr>\n",
       "      <th>25</th>\n",
       "      <td>a_free_copy_of_mastering_the_interview_Yes</td>\n",
       "      <td>2.972</td>\n",
       "      <td>16</td>\n",
       "    </tr>\n",
       "    <tr>\n",
       "      <th>36</th>\n",
       "      <td>page_views_per_visit</td>\n",
       "      <td>2.816</td>\n",
       "      <td>15</td>\n",
       "    </tr>\n",
       "    <tr>\n",
       "      <th>10</th>\n",
       "      <td>last_activity_Email Bounced</td>\n",
       "      <td>2.805</td>\n",
       "      <td>14</td>\n",
       "    </tr>\n",
       "    <tr>\n",
       "      <th>32</th>\n",
       "      <td>last_notable_activity_Unreachable</td>\n",
       "      <td>2.630</td>\n",
       "      <td>13</td>\n",
       "    </tr>\n",
       "    <tr>\n",
       "      <th>34</th>\n",
       "      <td>totalvisits</td>\n",
       "      <td>2.573</td>\n",
       "      <td>12</td>\n",
       "    </tr>\n",
       "    <tr>\n",
       "      <th>8</th>\n",
       "      <td>lead_source_Welingak Website</td>\n",
       "      <td>2.200</td>\n",
       "      <td>11</td>\n",
       "    </tr>\n",
       "    <tr>\n",
       "      <th>9</th>\n",
       "      <td>do_not_email_Yes</td>\n",
       "      <td>2.151</td>\n",
       "      <td>10</td>\n",
       "    </tr>\n",
       "    <tr>\n",
       "      <th>29</th>\n",
       "      <td>last_notable_activity_Other</td>\n",
       "      <td>2.053</td>\n",
       "      <td>9</td>\n",
       "    </tr>\n",
       "    <tr>\n",
       "      <th>5</th>\n",
       "      <td>lead_source_Organic Search</td>\n",
       "      <td>1.811</td>\n",
       "      <td>8</td>\n",
       "    </tr>\n",
       "    <tr>\n",
       "      <th>14</th>\n",
       "      <td>last_activity_Had a Phone Conversation</td>\n",
       "      <td>1.708</td>\n",
       "      <td>7</td>\n",
       "    </tr>\n",
       "    <tr>\n",
       "      <th>19</th>\n",
       "      <td>last_activity_Unreachable</td>\n",
       "      <td>1.332</td>\n",
       "      <td>6</td>\n",
       "    </tr>\n",
       "    <tr>\n",
       "      <th>35</th>\n",
       "      <td>total_time_spent_on_website</td>\n",
       "      <td>1.322</td>\n",
       "      <td>5</td>\n",
       "    </tr>\n",
       "    <tr>\n",
       "      <th>13</th>\n",
       "      <td>last_activity_Form Submitted on Website</td>\n",
       "      <td>1.286</td>\n",
       "      <td>4</td>\n",
       "    </tr>\n",
       "    <tr>\n",
       "      <th>16</th>\n",
       "      <td>last_activity_Other</td>\n",
       "      <td>1.237</td>\n",
       "      <td>3</td>\n",
       "    </tr>\n",
       "    <tr>\n",
       "      <th>2</th>\n",
       "      <td>lead_origin_Lead Import</td>\n",
       "      <td>1.097</td>\n",
       "      <td>2</td>\n",
       "    </tr>\n",
       "    <tr>\n",
       "      <th>6</th>\n",
       "      <td>lead_source_Other</td>\n",
       "      <td>1.029</td>\n",
       "      <td>1</td>\n",
       "    </tr>\n",
       "  </tbody>\n",
       "</table>\n",
       "</div>"
      ],
      "text/plain": [
       "                                                Features    VIF  Ranking\n",
       "23            what_is_your_current_occupation_Unemployed 98.236       37\n",
       "27                        last_notable_activity_Modified 52.272       36\n",
       "21                 what_is_your_current_occupation_Other 48.675       35\n",
       "26                    last_notable_activity_Email Opened 47.956       34\n",
       "31                        last_notable_activity_SMS Sent 38.317       33\n",
       "12                            last_activity_Email Opened 14.016       32\n",
       "24  what_is_your_current_occupation_Working Professional 13.264       31\n",
       "18                                last_activity_SMS Sent 11.696       30\n",
       "30         last_notable_activity_Page Visited on Website  6.325       29\n",
       "0                                   lead_origin_Add Form  5.614       28\n",
       "1                    lead_origin_Landing Page Submission  5.380       27\n",
       "7                                   lead_source_Referral  4.725       26\n",
       "22               what_is_your_current_occupation_Student  4.619       25\n",
       "4                                 lead_source_Olark Chat  4.264       24\n",
       "28         last_notable_activity_Olark Chat Conversation  4.059       23\n",
       "15                 last_activity_Olark Chat Conversation  3.997       22\n",
       "33                    last_notable_activity_Unsubscribed  3.967       21\n",
       "3                                     lead_source_Google  3.509       20\n",
       "17                 last_activity_Page Visited on Website  3.482       19\n",
       "20                            last_activity_Unsubscribed  3.452       18\n",
       "11                      last_activity_Email Link Clicked  3.111       17\n",
       "25            a_free_copy_of_mastering_the_interview_Yes  2.972       16\n",
       "36                                  page_views_per_visit  2.816       15\n",
       "10                           last_activity_Email Bounced  2.805       14\n",
       "32                     last_notable_activity_Unreachable  2.630       13\n",
       "34                                           totalvisits  2.573       12\n",
       "8                           lead_source_Welingak Website  2.200       11\n",
       "9                                       do_not_email_Yes  2.151       10\n",
       "29                           last_notable_activity_Other  2.053        9\n",
       "5                             lead_source_Organic Search  1.811        8\n",
       "14                last_activity_Had a Phone Conversation  1.708        7\n",
       "19                             last_activity_Unreachable  1.332        6\n",
       "35                           total_time_spent_on_website  1.322        5\n",
       "13               last_activity_Form Submitted on Website  1.286        4\n",
       "16                                   last_activity_Other  1.237        3\n",
       "2                                lead_origin_Lead Import  1.097        2\n",
       "6                                      lead_source_Other  1.029        1"
      ]
     },
     "execution_count": 730,
     "metadata": {},
     "output_type": "execute_result"
    }
   ],
   "source": [
    "check_vif(X_train)"
   ]
  },
  {
   "cell_type": "markdown",
   "id": "77c39029",
   "metadata": {},
   "source": [
    "There are several columns with a VIF > 2.5 , for the next step of Feature selection, I will only consider 11 features (which have a VIF< 2.5)"
   ]
  },
  {
   "cell_type": "markdown",
   "id": "c46d6900",
   "metadata": {},
   "source": [
    "### Recursive feature elimination\n",
    "\n",
    "RFE is a wrapper-type feature selection algorithm. In this case the model= LogisticRegression is used in the core of the method, is wrapped by RFE, and used to help select features. "
   ]
  },
  {
   "cell_type": "code",
   "execution_count": 735,
   "id": "caeea068",
   "metadata": {},
   "outputs": [
    {
     "name": "stdout",
     "output_type": "stream",
     "text": [
      "Final selected features: \n"
     ]
    },
    {
     "data": {
      "text/html": [
       "<div>\n",
       "<style scoped>\n",
       "    .dataframe tbody tr th:only-of-type {\n",
       "        vertical-align: middle;\n",
       "    }\n",
       "\n",
       "    .dataframe tbody tr th {\n",
       "        vertical-align: top;\n",
       "    }\n",
       "\n",
       "    .dataframe thead th {\n",
       "        text-align: right;\n",
       "    }\n",
       "</style>\n",
       "<table border=\"1\" class=\"dataframe\">\n",
       "  <thead>\n",
       "    <tr style=\"text-align: right;\">\n",
       "      <th></th>\n",
       "      <th>lead_origin_Add Form</th>\n",
       "      <th>lead_source_Olark Chat</th>\n",
       "      <th>lead_source_Welingak Website</th>\n",
       "      <th>do_not_email_Yes</th>\n",
       "      <th>last_activity_Olark Chat Conversation</th>\n",
       "      <th>what_is_your_current_occupation_Other</th>\n",
       "      <th>what_is_your_current_occupation_Working Professional</th>\n",
       "      <th>last_notable_activity_Other</th>\n",
       "      <th>last_notable_activity_SMS Sent</th>\n",
       "      <th>last_notable_activity_Unsubscribed</th>\n",
       "      <th>total_time_spent_on_website</th>\n",
       "    </tr>\n",
       "  </thead>\n",
       "  <tbody>\n",
       "    <tr>\n",
       "      <th>0</th>\n",
       "      <td>0.000</td>\n",
       "      <td>0.000</td>\n",
       "      <td>0.000</td>\n",
       "      <td>0.000</td>\n",
       "      <td>0.000</td>\n",
       "      <td>0.000</td>\n",
       "      <td>0.000</td>\n",
       "      <td>0.000</td>\n",
       "      <td>0.000</td>\n",
       "      <td>0.000</td>\n",
       "      <td>-0.370</td>\n",
       "    </tr>\n",
       "    <tr>\n",
       "      <th>1</th>\n",
       "      <td>0.000</td>\n",
       "      <td>1.000</td>\n",
       "      <td>0.000</td>\n",
       "      <td>0.000</td>\n",
       "      <td>1.000</td>\n",
       "      <td>1.000</td>\n",
       "      <td>0.000</td>\n",
       "      <td>0.000</td>\n",
       "      <td>0.000</td>\n",
       "      <td>0.000</td>\n",
       "      <td>-0.890</td>\n",
       "    </tr>\n",
       "  </tbody>\n",
       "</table>\n",
       "</div>"
      ],
      "text/plain": [
       "   lead_origin_Add Form  lead_source_Olark Chat  lead_source_Welingak Website  \\\n",
       "0                 0.000                   0.000                         0.000   \n",
       "1                 0.000                   1.000                         0.000   \n",
       "\n",
       "   do_not_email_Yes  last_activity_Olark Chat Conversation  \\\n",
       "0             0.000                                  0.000   \n",
       "1             0.000                                  1.000   \n",
       "\n",
       "   what_is_your_current_occupation_Other  \\\n",
       "0                                  0.000   \n",
       "1                                  1.000   \n",
       "\n",
       "   what_is_your_current_occupation_Working Professional  \\\n",
       "0                                                 0.000   \n",
       "1                                                 0.000   \n",
       "\n",
       "   last_notable_activity_Other  last_notable_activity_SMS Sent  \\\n",
       "0                        0.000                           0.000   \n",
       "1                        0.000                           0.000   \n",
       "\n",
       "   last_notable_activity_Unsubscribed  total_time_spent_on_website  \n",
       "0                               0.000                       -0.370  \n",
       "1                               0.000                       -0.890  "
      ]
     },
     "metadata": {},
     "output_type": "display_data"
    },
    {
     "data": {
      "text/html": [
       "<div>\n",
       "<style scoped>\n",
       "    .dataframe tbody tr th:only-of-type {\n",
       "        vertical-align: middle;\n",
       "    }\n",
       "\n",
       "    .dataframe tbody tr th {\n",
       "        vertical-align: top;\n",
       "    }\n",
       "\n",
       "    .dataframe thead th {\n",
       "        text-align: right;\n",
       "    }\n",
       "</style>\n",
       "<table border=\"1\" class=\"dataframe\">\n",
       "  <thead>\n",
       "    <tr style=\"text-align: right;\">\n",
       "      <th></th>\n",
       "      <th>Features</th>\n",
       "    </tr>\n",
       "  </thead>\n",
       "  <tbody>\n",
       "    <tr>\n",
       "      <th>0</th>\n",
       "      <td>lead_origin_Add Form</td>\n",
       "    </tr>\n",
       "    <tr>\n",
       "      <th>1</th>\n",
       "      <td>lead_source_Olark Chat</td>\n",
       "    </tr>\n",
       "    <tr>\n",
       "      <th>2</th>\n",
       "      <td>lead_source_Welingak Website</td>\n",
       "    </tr>\n",
       "    <tr>\n",
       "      <th>3</th>\n",
       "      <td>do_not_email_Yes</td>\n",
       "    </tr>\n",
       "    <tr>\n",
       "      <th>4</th>\n",
       "      <td>last_activity_Olark Chat Conversation</td>\n",
       "    </tr>\n",
       "    <tr>\n",
       "      <th>5</th>\n",
       "      <td>what_is_your_current_occupation_Other</td>\n",
       "    </tr>\n",
       "    <tr>\n",
       "      <th>6</th>\n",
       "      <td>what_is_your_current_occupation_Working Professional</td>\n",
       "    </tr>\n",
       "    <tr>\n",
       "      <th>7</th>\n",
       "      <td>last_notable_activity_Other</td>\n",
       "    </tr>\n",
       "    <tr>\n",
       "      <th>8</th>\n",
       "      <td>last_notable_activity_SMS Sent</td>\n",
       "    </tr>\n",
       "    <tr>\n",
       "      <th>9</th>\n",
       "      <td>last_notable_activity_Unsubscribed</td>\n",
       "    </tr>\n",
       "    <tr>\n",
       "      <th>10</th>\n",
       "      <td>total_time_spent_on_website</td>\n",
       "    </tr>\n",
       "  </tbody>\n",
       "</table>\n",
       "</div>"
      ],
      "text/plain": [
       "                                                Features\n",
       "0                                   lead_origin_Add Form\n",
       "1                                 lead_source_Olark Chat\n",
       "2                           lead_source_Welingak Website\n",
       "3                                       do_not_email_Yes\n",
       "4                  last_activity_Olark Chat Conversation\n",
       "5                  what_is_your_current_occupation_Other\n",
       "6   what_is_your_current_occupation_Working Professional\n",
       "7                            last_notable_activity_Other\n",
       "8                         last_notable_activity_SMS Sent\n",
       "9                     last_notable_activity_Unsubscribed\n",
       "10                           total_time_spent_on_website"
      ]
     },
     "metadata": {},
     "output_type": "display_data"
    },
    {
     "name": "stdout",
     "output_type": "stream",
     "text": [
      "Cross validation score:  0.814 . Cross validation score with all features: 0.822\n"
     ]
    }
   ],
   "source": [
    "# Inputing 11 features selected for RFE\n",
    "# We will then optimize the model further by inspecting VIF and p-value of the features\n",
    "\n",
    "model = LogisticRegression()\n",
    "selector = RFE(model, n_features_to_select=11, step = 1) # Step is how many features to add or drop everytime  \n",
    "selector = selector.fit(X_train, y_train)\n",
    "\n",
    "list(zip(X_train.columns, rfe.support_, rfe.ranking_))\n",
    "\n",
    "kept_features = selector.get_support(indices = True) \n",
    "kept_features = list(X_train.iloc[:,kept_features].columns)\n",
    "\n",
    "X_train = selector.transform(X_train)\n",
    "X_test  = selector.transform(X_test)\n",
    "\n",
    "X_train = pd.DataFrame(X_train, columns=kept_features)\n",
    "X_test  = pd.DataFrame(X_test, columns=kept_features)\n",
    "\n",
    "\n",
    "print(\"Final selected features: \")\n",
    "display(X_train.head(2))\n",
    "top_10 =pd.DataFrame()\n",
    "top_10['Features']=(X_train.columns)\n",
    "display(top_10)\n",
    "\n",
    "cross_val_scores_new = cross_val_score(selector, X_train_ref, y_train_ref, cv=10)\n",
    "print(\"Cross validation score: \",np.mean(cross_val_scores_new).round(3), \". Cross validation score with all features: 0.822\")\n"
   ]
  },
  {
   "cell_type": "markdown",
   "id": "c37a68f6",
   "metadata": {},
   "source": [
    "##### The cross validation score hasn't changed a lot, which shows that the selected variables can greatly explain the convertion.\n",
    "\n",
    "### Checking again the VIF of the selected features:"
   ]
  },
  {
   "cell_type": "code",
   "execution_count": 736,
   "id": "10cdc8b7",
   "metadata": {},
   "outputs": [],
   "source": [
    "col = X_train.columns[selector.support_] # saving selected columns"
   ]
  },
  {
   "cell_type": "markdown",
   "id": "838e98b4",
   "metadata": {},
   "source": [
    "### Statsmodels for the selected 11 features"
   ]
  },
  {
   "cell_type": "code",
   "execution_count": 737,
   "id": "11312e32",
   "metadata": {},
   "outputs": [
    {
     "name": "stdout",
     "output_type": "stream",
     "text": [
      "Optimization terminated successfully.\n",
      "         Current function value: 0.403489\n",
      "         Iterations 8\n"
     ]
    },
    {
     "data": {
      "text/html": [
       "<table class=\"simpletable\">\n",
       "<caption>Logit Regression Results</caption>\n",
       "<tr>\n",
       "  <th>Dep. Variable:</th>           <td>y</td>        <th>  No. Observations:  </th>  <td>  6325</td> \n",
       "</tr>\n",
       "<tr>\n",
       "  <th>Model:</th>                 <td>Logit</td>      <th>  Df Residuals:      </th>  <td>  6313</td> \n",
       "</tr>\n",
       "<tr>\n",
       "  <th>Method:</th>                 <td>MLE</td>       <th>  Df Model:          </th>  <td>    11</td> \n",
       "</tr>\n",
       "<tr>\n",
       "  <th>Date:</th>            <td>Thu, 07 Oct 2021</td> <th>  Pseudo R-squ.:     </th>  <td>0.3959</td> \n",
       "</tr>\n",
       "<tr>\n",
       "  <th>Time:</th>                <td>15:23:48</td>     <th>  Log-Likelihood:    </th> <td> -2552.1</td>\n",
       "</tr>\n",
       "<tr>\n",
       "  <th>converged:</th>             <td>True</td>       <th>  LL-Null:           </th> <td> -4224.5</td>\n",
       "</tr>\n",
       "<tr>\n",
       "  <th>Covariance Type:</th>     <td>nonrobust</td>    <th>  LLR p-value:       </th>  <td> 0.000</td> \n",
       "</tr>\n",
       "</table>\n",
       "<table class=\"simpletable\">\n",
       "<tr>\n",
       "                            <td></td>                              <th>coef</th>     <th>std err</th>      <th>z</th>      <th>P>|z|</th>  <th>[0.025</th>    <th>0.975]</th>  \n",
       "</tr>\n",
       "<tr>\n",
       "  <th>const</th>                                                <td>   -1.1460</td> <td>    0.055</td> <td>  -20.904</td> <td> 0.000</td> <td>   -1.253</td> <td>   -1.039</td>\n",
       "</tr>\n",
       "<tr>\n",
       "  <th>lead_origin_Add Form</th>                                 <td>    3.6460</td> <td>    0.203</td> <td>   17.987</td> <td> 0.000</td> <td>    3.249</td> <td>    4.043</td>\n",
       "</tr>\n",
       "<tr>\n",
       "  <th>lead_source_Olark Chat</th>                               <td>    1.4530</td> <td>    0.107</td> <td>   13.604</td> <td> 0.000</td> <td>    1.244</td> <td>    1.662</td>\n",
       "</tr>\n",
       "<tr>\n",
       "  <th>lead_source_Welingak Website</th>                         <td>    2.0102</td> <td>    0.749</td> <td>    2.685</td> <td> 0.007</td> <td>    0.543</td> <td>    3.478</td>\n",
       "</tr>\n",
       "<tr>\n",
       "  <th>do_not_email_Yes</th>                                     <td>   -1.4101</td> <td>    0.174</td> <td>   -8.116</td> <td> 0.000</td> <td>   -1.751</td> <td>   -1.070</td>\n",
       "</tr>\n",
       "<tr>\n",
       "  <th>last_activity_Olark Chat Conversation</th>                <td>   -1.4080</td> <td>    0.166</td> <td>   -8.464</td> <td> 0.000</td> <td>   -1.734</td> <td>   -1.082</td>\n",
       "</tr>\n",
       "<tr>\n",
       "  <th>what_is_your_current_occupation_Other</th>                <td>   -1.1985</td> <td>    0.089</td> <td>  -13.483</td> <td> 0.000</td> <td>   -1.373</td> <td>   -1.024</td>\n",
       "</tr>\n",
       "<tr>\n",
       "  <th>what_is_your_current_occupation_Working Professional</th> <td>    2.3258</td> <td>    0.181</td> <td>   12.816</td> <td> 0.000</td> <td>    1.970</td> <td>    2.681</td>\n",
       "</tr>\n",
       "<tr>\n",
       "  <th>last_notable_activity_Other</th>                          <td>    3.0490</td> <td>    0.837</td> <td>    3.645</td> <td> 0.000</td> <td>    1.409</td> <td>    4.689</td>\n",
       "</tr>\n",
       "<tr>\n",
       "  <th>last_notable_activity_SMS Sent</th>                       <td>    1.5475</td> <td>    0.081</td> <td>   19.143</td> <td> 0.000</td> <td>    1.389</td> <td>    1.706</td>\n",
       "</tr>\n",
       "<tr>\n",
       "  <th>last_notable_activity_Unsubscribed</th>                   <td>    1.7537</td> <td>    0.512</td> <td>    3.427</td> <td> 0.001</td> <td>    0.751</td> <td>    2.757</td>\n",
       "</tr>\n",
       "<tr>\n",
       "  <th>total_time_spent_on_website</th>                          <td>    1.1563</td> <td>    0.041</td> <td>   27.929</td> <td> 0.000</td> <td>    1.075</td> <td>    1.237</td>\n",
       "</tr>\n",
       "</table>"
      ],
      "text/plain": [
       "<class 'statsmodels.iolib.summary.Summary'>\n",
       "\"\"\"\n",
       "                           Logit Regression Results                           \n",
       "==============================================================================\n",
       "Dep. Variable:                      y   No. Observations:                 6325\n",
       "Model:                          Logit   Df Residuals:                     6313\n",
       "Method:                           MLE   Df Model:                           11\n",
       "Date:                Thu, 07 Oct 2021   Pseudo R-squ.:                  0.3959\n",
       "Time:                        15:23:48   Log-Likelihood:                -2552.1\n",
       "converged:                       True   LL-Null:                       -4224.5\n",
       "Covariance Type:            nonrobust   LLR p-value:                     0.000\n",
       "========================================================================================================================\n",
       "                                                           coef    std err          z      P>|z|      [0.025      0.975]\n",
       "------------------------------------------------------------------------------------------------------------------------\n",
       "const                                                   -1.1460      0.055    -20.904      0.000      -1.253      -1.039\n",
       "lead_origin_Add Form                                     3.6460      0.203     17.987      0.000       3.249       4.043\n",
       "lead_source_Olark Chat                                   1.4530      0.107     13.604      0.000       1.244       1.662\n",
       "lead_source_Welingak Website                             2.0102      0.749      2.685      0.007       0.543       3.478\n",
       "do_not_email_Yes                                        -1.4101      0.174     -8.116      0.000      -1.751      -1.070\n",
       "last_activity_Olark Chat Conversation                   -1.4080      0.166     -8.464      0.000      -1.734      -1.082\n",
       "what_is_your_current_occupation_Other                   -1.1985      0.089    -13.483      0.000      -1.373      -1.024\n",
       "what_is_your_current_occupation_Working Professional     2.3258      0.181     12.816      0.000       1.970       2.681\n",
       "last_notable_activity_Other                              3.0490      0.837      3.645      0.000       1.409       4.689\n",
       "last_notable_activity_SMS Sent                           1.5475      0.081     19.143      0.000       1.389       1.706\n",
       "last_notable_activity_Unsubscribed                       1.7537      0.512      3.427      0.001       0.751       2.757\n",
       "total_time_spent_on_website                              1.1563      0.041     27.929      0.000       1.075       1.237\n",
       "========================================================================================================================\n",
       "\"\"\""
      ]
     },
     "execution_count": 737,
     "metadata": {},
     "output_type": "execute_result"
    }
   ],
   "source": [
    "X_train_sm = sm.add_constant(X_train[col])\n",
    "logm2 = sm.Logit(y_train,X_train_sm, family = sm.families.Binomial())\n",
    "result = logm2.fit()\n",
    "result.summary()"
   ]
  },
  {
   "cell_type": "code",
   "execution_count": 738,
   "id": "82501781",
   "metadata": {},
   "outputs": [
    {
     "data": {
      "text/html": [
       "<div>\n",
       "<style scoped>\n",
       "    .dataframe tbody tr th:only-of-type {\n",
       "        vertical-align: middle;\n",
       "    }\n",
       "\n",
       "    .dataframe tbody tr th {\n",
       "        vertical-align: top;\n",
       "    }\n",
       "\n",
       "    .dataframe thead th {\n",
       "        text-align: right;\n",
       "    }\n",
       "</style>\n",
       "<table border=\"1\" class=\"dataframe\">\n",
       "  <thead>\n",
       "    <tr style=\"text-align: right;\">\n",
       "      <th></th>\n",
       "      <th>Features</th>\n",
       "      <th>VIF</th>\n",
       "      <th>Ranking</th>\n",
       "    </tr>\n",
       "  </thead>\n",
       "  <tbody>\n",
       "    <tr>\n",
       "      <th>0</th>\n",
       "      <td>const</td>\n",
       "      <td>2.619</td>\n",
       "      <td>12</td>\n",
       "    </tr>\n",
       "    <tr>\n",
       "      <th>2</th>\n",
       "      <td>lead_source_Olark Chat</td>\n",
       "      <td>1.453</td>\n",
       "      <td>11</td>\n",
       "    </tr>\n",
       "    <tr>\n",
       "      <th>1</th>\n",
       "      <td>lead_origin_Add Form</td>\n",
       "      <td>1.392</td>\n",
       "      <td>10</td>\n",
       "    </tr>\n",
       "    <tr>\n",
       "      <th>5</th>\n",
       "      <td>last_activity_Olark Chat Conversation</td>\n",
       "      <td>1.278</td>\n",
       "      <td>9</td>\n",
       "    </tr>\n",
       "    <tr>\n",
       "      <th>11</th>\n",
       "      <td>total_time_spent_on_website</td>\n",
       "      <td>1.275</td>\n",
       "      <td>8</td>\n",
       "    </tr>\n",
       "    <tr>\n",
       "      <th>3</th>\n",
       "      <td>lead_source_Welingak Website</td>\n",
       "      <td>1.260</td>\n",
       "      <td>7</td>\n",
       "    </tr>\n",
       "    <tr>\n",
       "      <th>6</th>\n",
       "      <td>what_is_your_current_occupation_Other</td>\n",
       "      <td>1.148</td>\n",
       "      <td>6</td>\n",
       "    </tr>\n",
       "    <tr>\n",
       "      <th>7</th>\n",
       "      <td>what_is_your_current_occupation_Working Professional</td>\n",
       "      <td>1.095</td>\n",
       "      <td>5</td>\n",
       "    </tr>\n",
       "    <tr>\n",
       "      <th>9</th>\n",
       "      <td>last_notable_activity_SMS Sent</td>\n",
       "      <td>1.089</td>\n",
       "      <td>4</td>\n",
       "    </tr>\n",
       "    <tr>\n",
       "      <th>4</th>\n",
       "      <td>do_not_email_Yes</td>\n",
       "      <td>1.075</td>\n",
       "      <td>3</td>\n",
       "    </tr>\n",
       "    <tr>\n",
       "      <th>10</th>\n",
       "      <td>last_notable_activity_Unsubscribed</td>\n",
       "      <td>1.060</td>\n",
       "      <td>2</td>\n",
       "    </tr>\n",
       "    <tr>\n",
       "      <th>8</th>\n",
       "      <td>last_notable_activity_Other</td>\n",
       "      <td>1.002</td>\n",
       "      <td>1</td>\n",
       "    </tr>\n",
       "  </tbody>\n",
       "</table>\n",
       "</div>"
      ],
      "text/plain": [
       "                                                Features   VIF  Ranking\n",
       "0                                                  const 2.619       12\n",
       "2                                 lead_source_Olark Chat 1.453       11\n",
       "1                                   lead_origin_Add Form 1.392       10\n",
       "5                  last_activity_Olark Chat Conversation 1.278        9\n",
       "11                           total_time_spent_on_website 1.275        8\n",
       "3                           lead_source_Welingak Website 1.260        7\n",
       "6                  what_is_your_current_occupation_Other 1.148        6\n",
       "7   what_is_your_current_occupation_Working Professional 1.095        5\n",
       "9                         last_notable_activity_SMS Sent 1.089        4\n",
       "4                                       do_not_email_Yes 1.075        3\n",
       "10                    last_notable_activity_Unsubscribed 1.060        2\n",
       "8                            last_notable_activity_Other 1.002        1"
      ]
     },
     "execution_count": 738,
     "metadata": {},
     "output_type": "execute_result"
    }
   ],
   "source": [
    "check_vif(X_train_sm)"
   ]
  },
  {
   "cell_type": "markdown",
   "id": "d57212b2",
   "metadata": {},
   "source": [
    "##### Selected Feature have no VIF > 2.5 and therefore a good selection for the lead scoring"
   ]
  },
  {
   "cell_type": "markdown",
   "id": "035d6e3b",
   "metadata": {},
   "source": [
    "## Getting the Likelihood to convert on the train data"
   ]
  },
  {
   "cell_type": "code",
   "execution_count": 739,
   "id": "62859860",
   "metadata": {},
   "outputs": [
    {
     "data": {
      "text/plain": [
       "(0.9994357809646175, 0.0026795402058284474, 0.3881422924901211)"
      ]
     },
     "execution_count": 739,
     "metadata": {},
     "output_type": "execute_result"
    }
   ],
   "source": [
    "\n",
    "y_train_pred = result.predict(X_train_sm)\n",
    "y_train_pred.max(), y_train_pred.min(), y_train_pred.mean() #reflect the liklihood calculated from the model that a lead will convert"
   ]
  },
  {
   "cell_type": "code",
   "execution_count": 740,
   "id": "9fa76b82",
   "metadata": {},
   "outputs": [
    {
     "name": "stdout",
     "output_type": "stream",
     "text": [
      "There are 3457 leads in the train set that have a probability of converting higher than 80%.\n"
     ]
    }
   ],
   "source": [
    "conversion_80= [i for i in y_train_pred.value_counts() if i > 0.8]\n",
    "print(\"There are\",len(conversion_80), \"leads in the train set that have a probability of converting higher than 80%.\")\n"
   ]
  },
  {
   "cell_type": "code",
   "execution_count": 741,
   "id": "3bd2812f",
   "metadata": {},
   "outputs": [
    {
     "data": {
      "text/html": [
       "<div>\n",
       "<style scoped>\n",
       "    .dataframe tbody tr th:only-of-type {\n",
       "        vertical-align: middle;\n",
       "    }\n",
       "\n",
       "    .dataframe tbody tr th {\n",
       "        vertical-align: top;\n",
       "    }\n",
       "\n",
       "    .dataframe thead th {\n",
       "        text-align: right;\n",
       "    }\n",
       "</style>\n",
       "<table border=\"1\" class=\"dataframe\">\n",
       "  <thead>\n",
       "    <tr style=\"text-align: right;\">\n",
       "      <th></th>\n",
       "      <th>convertion_prob</th>\n",
       "      <th>converted</th>\n",
       "      <th>percentage</th>\n",
       "    </tr>\n",
       "  </thead>\n",
       "  <tbody>\n",
       "    <tr>\n",
       "      <th>3</th>\n",
       "      <td>0.869</td>\n",
       "      <td>0</td>\n",
       "      <td>86.900</td>\n",
       "    </tr>\n",
       "    <tr>\n",
       "      <th>41</th>\n",
       "      <td>0.983</td>\n",
       "      <td>0</td>\n",
       "      <td>98.300</td>\n",
       "    </tr>\n",
       "    <tr>\n",
       "      <th>153</th>\n",
       "      <td>0.953</td>\n",
       "      <td>0</td>\n",
       "      <td>95.300</td>\n",
       "    </tr>\n",
       "    <tr>\n",
       "      <th>173</th>\n",
       "      <td>0.953</td>\n",
       "      <td>0</td>\n",
       "      <td>95.300</td>\n",
       "    </tr>\n",
       "    <tr>\n",
       "      <th>205</th>\n",
       "      <td>0.996</td>\n",
       "      <td>0</td>\n",
       "      <td>99.600</td>\n",
       "    </tr>\n",
       "    <tr>\n",
       "      <th>...</th>\n",
       "      <td>...</td>\n",
       "      <td>...</td>\n",
       "      <td>...</td>\n",
       "    </tr>\n",
       "    <tr>\n",
       "      <th>6137</th>\n",
       "      <td>0.953</td>\n",
       "      <td>0</td>\n",
       "      <td>95.300</td>\n",
       "    </tr>\n",
       "    <tr>\n",
       "      <th>6154</th>\n",
       "      <td>0.896</td>\n",
       "      <td>0</td>\n",
       "      <td>89.600</td>\n",
       "    </tr>\n",
       "    <tr>\n",
       "      <th>6228</th>\n",
       "      <td>0.819</td>\n",
       "      <td>0</td>\n",
       "      <td>81.900</td>\n",
       "    </tr>\n",
       "    <tr>\n",
       "      <th>6243</th>\n",
       "      <td>0.956</td>\n",
       "      <td>0</td>\n",
       "      <td>95.600</td>\n",
       "    </tr>\n",
       "    <tr>\n",
       "      <th>6315</th>\n",
       "      <td>0.840</td>\n",
       "      <td>0</td>\n",
       "      <td>84.000</td>\n",
       "    </tr>\n",
       "  </tbody>\n",
       "</table>\n",
       "<p>128 rows × 3 columns</p>\n",
       "</div>"
      ],
      "text/plain": [
       "      convertion_prob  converted  percentage\n",
       "3               0.869          0      86.900\n",
       "41              0.983          0      98.300\n",
       "153             0.953          0      95.300\n",
       "173             0.953          0      95.300\n",
       "205             0.996          0      99.600\n",
       "...               ...        ...         ...\n",
       "6137            0.953          0      95.300\n",
       "6154            0.896          0      89.600\n",
       "6228            0.819          0      81.900\n",
       "6243            0.956          0      95.600\n",
       "6315            0.840          0      84.000\n",
       "\n",
       "[128 rows x 3 columns]"
      ]
     },
     "execution_count": 741,
     "metadata": {},
     "output_type": "execute_result"
    }
   ],
   "source": [
    "y_train_pred_df = pd.DataFrame()\n",
    "y_train_pred_df['convertion_prob']=y_train_pred\n",
    "y_train_pred_df['converted'] = y_train\n",
    "y_train_pred_df['percentage'] =(y_train_pred* 100).round(1)\n",
    "prob_80_df = y_train_pred_df[y_train_pred_df['convertion_prob']>0.8]\n",
    "prob_80_df_not_converted = prob_80_df[prob_80_df['converted']==0]\n",
    "prob_80_df_not_converted"
   ]
  },
  {
   "cell_type": "code",
   "execution_count": 742,
   "id": "ca0c6792",
   "metadata": {},
   "outputs": [
    {
     "data": {
      "text/plain": [
       "(0.9994051807219477, 0.007266945060731873, 0.3915940441381521)"
      ]
     },
     "execution_count": 742,
     "metadata": {},
     "output_type": "execute_result"
    }
   ],
   "source": [
    "X_test_sm = sm.add_constant(X_test[col])\n",
    "y_pred = result.predict(X_test_sm)\n",
    "y_pred.max(), y_pred.min(), y_pred.mean() #reflect the liklihood calculated from the model that a lead will convert"
   ]
  },
  {
   "cell_type": "code",
   "execution_count": 743,
   "id": "e3b7fcda",
   "metadata": {},
   "outputs": [
    {
     "name": "stdout",
     "output_type": "stream",
     "text": [
      "There are 1783 leads in the test set that have a probability of converting higher than 80%.\n"
     ]
    }
   ],
   "source": [
    "conversion_80_test= [i for i in y_pred.value_counts() if i > 0.8]\n",
    "print(\"There are\",len(conversion_80_test), \"leads in the test set that have a probability of converting higher than 80%.\")\n"
   ]
  },
  {
   "cell_type": "code",
   "execution_count": 744,
   "id": "68db9ca0",
   "metadata": {},
   "outputs": [
    {
     "data": {
      "text/html": [
       "<div>\n",
       "<style scoped>\n",
       "    .dataframe tbody tr th:only-of-type {\n",
       "        vertical-align: middle;\n",
       "    }\n",
       "\n",
       "    .dataframe tbody tr th {\n",
       "        vertical-align: top;\n",
       "    }\n",
       "\n",
       "    .dataframe thead th {\n",
       "        text-align: right;\n",
       "    }\n",
       "</style>\n",
       "<table border=\"1\" class=\"dataframe\">\n",
       "  <thead>\n",
       "    <tr style=\"text-align: right;\">\n",
       "      <th></th>\n",
       "      <th>convertion_prob</th>\n",
       "      <th>converted</th>\n",
       "      <th>percentage</th>\n",
       "    </tr>\n",
       "  </thead>\n",
       "  <tbody>\n",
       "    <tr>\n",
       "      <th>3</th>\n",
       "      <td>0.869</td>\n",
       "      <td>0</td>\n",
       "      <td>86.900</td>\n",
       "    </tr>\n",
       "    <tr>\n",
       "      <th>41</th>\n",
       "      <td>0.983</td>\n",
       "      <td>0</td>\n",
       "      <td>98.300</td>\n",
       "    </tr>\n",
       "    <tr>\n",
       "      <th>153</th>\n",
       "      <td>0.953</td>\n",
       "      <td>0</td>\n",
       "      <td>95.300</td>\n",
       "    </tr>\n",
       "    <tr>\n",
       "      <th>173</th>\n",
       "      <td>0.953</td>\n",
       "      <td>0</td>\n",
       "      <td>95.300</td>\n",
       "    </tr>\n",
       "    <tr>\n",
       "      <th>205</th>\n",
       "      <td>0.996</td>\n",
       "      <td>0</td>\n",
       "      <td>99.600</td>\n",
       "    </tr>\n",
       "    <tr>\n",
       "      <th>...</th>\n",
       "      <td>...</td>\n",
       "      <td>...</td>\n",
       "      <td>...</td>\n",
       "    </tr>\n",
       "    <tr>\n",
       "      <th>6137</th>\n",
       "      <td>0.953</td>\n",
       "      <td>0</td>\n",
       "      <td>95.300</td>\n",
       "    </tr>\n",
       "    <tr>\n",
       "      <th>6154</th>\n",
       "      <td>0.896</td>\n",
       "      <td>0</td>\n",
       "      <td>89.600</td>\n",
       "    </tr>\n",
       "    <tr>\n",
       "      <th>6228</th>\n",
       "      <td>0.819</td>\n",
       "      <td>0</td>\n",
       "      <td>81.900</td>\n",
       "    </tr>\n",
       "    <tr>\n",
       "      <th>6243</th>\n",
       "      <td>0.956</td>\n",
       "      <td>0</td>\n",
       "      <td>95.600</td>\n",
       "    </tr>\n",
       "    <tr>\n",
       "      <th>6315</th>\n",
       "      <td>0.840</td>\n",
       "      <td>0</td>\n",
       "      <td>84.000</td>\n",
       "    </tr>\n",
       "  </tbody>\n",
       "</table>\n",
       "<p>128 rows × 3 columns</p>\n",
       "</div>"
      ],
      "text/plain": [
       "      convertion_prob  converted  percentage\n",
       "3               0.869          0      86.900\n",
       "41              0.983          0      98.300\n",
       "153             0.953          0      95.300\n",
       "173             0.953          0      95.300\n",
       "205             0.996          0      99.600\n",
       "...               ...        ...         ...\n",
       "6137            0.953          0      95.300\n",
       "6154            0.896          0      89.600\n",
       "6228            0.819          0      81.900\n",
       "6243            0.956          0      95.600\n",
       "6315            0.840          0      84.000\n",
       "\n",
       "[128 rows x 3 columns]"
      ]
     },
     "execution_count": 744,
     "metadata": {},
     "output_type": "execute_result"
    }
   ],
   "source": [
    "y_pred_df = pd.DataFrame()\n",
    "y_pred_df['convertion_prob']=y_pred\n",
    "y_pred_df['converted'] = y_test\n",
    "y_pred_df['percentage'] = (y_pred* 100).round(1)\n",
    "prob_80_df_test = y_pred_df[y_pred_df['convertion_prob']>0.8]\n",
    "prob_80_df_not_converted_test = prob_80_df[prob_80_df['converted']==0]\n",
    "prob_80_df_not_converted_test"
   ]
  },
  {
   "cell_type": "markdown",
   "id": "18e85b7e",
   "metadata": {},
   "source": [
    "### Concating both train_test to display the overall likelihood to convert with more than 80% chance"
   ]
  },
  {
   "cell_type": "code",
   "execution_count": 397,
   "id": "03b8c012",
   "metadata": {},
   "outputs": [],
   "source": [
    "Leadlist_focus = pd.concat([prob_80_df_not_converted, prob_80_df_not_converted_test], ignore_index=True)"
   ]
  },
  {
   "cell_type": "code",
   "execution_count": 398,
   "id": "35def99d",
   "metadata": {},
   "outputs": [
    {
     "data": {
      "text/html": [
       "<div>\n",
       "<style scoped>\n",
       "    .dataframe tbody tr th:only-of-type {\n",
       "        vertical-align: middle;\n",
       "    }\n",
       "\n",
       "    .dataframe tbody tr th {\n",
       "        vertical-align: top;\n",
       "    }\n",
       "\n",
       "    .dataframe thead th {\n",
       "        text-align: right;\n",
       "    }\n",
       "</style>\n",
       "<table border=\"1\" class=\"dataframe\">\n",
       "  <thead>\n",
       "    <tr style=\"text-align: right;\">\n",
       "      <th></th>\n",
       "      <th>convertion_prob</th>\n",
       "      <th>converted</th>\n",
       "      <th>percentage</th>\n",
       "    </tr>\n",
       "  </thead>\n",
       "  <tbody>\n",
       "    <tr>\n",
       "      <th>0</th>\n",
       "      <td>0.874</td>\n",
       "      <td>0</td>\n",
       "      <td>87.400</td>\n",
       "    </tr>\n",
       "    <tr>\n",
       "      <th>1</th>\n",
       "      <td>0.831</td>\n",
       "      <td>0</td>\n",
       "      <td>83.100</td>\n",
       "    </tr>\n",
       "    <tr>\n",
       "      <th>2</th>\n",
       "      <td>0.818</td>\n",
       "      <td>0</td>\n",
       "      <td>81.800</td>\n",
       "    </tr>\n",
       "    <tr>\n",
       "      <th>3</th>\n",
       "      <td>0.945</td>\n",
       "      <td>0</td>\n",
       "      <td>94.500</td>\n",
       "    </tr>\n",
       "    <tr>\n",
       "      <th>4</th>\n",
       "      <td>0.887</td>\n",
       "      <td>0</td>\n",
       "      <td>88.700</td>\n",
       "    </tr>\n",
       "    <tr>\n",
       "      <th>...</th>\n",
       "      <td>...</td>\n",
       "      <td>...</td>\n",
       "      <td>...</td>\n",
       "    </tr>\n",
       "    <tr>\n",
       "      <th>247</th>\n",
       "      <td>0.960</td>\n",
       "      <td>0</td>\n",
       "      <td>96.000</td>\n",
       "    </tr>\n",
       "    <tr>\n",
       "      <th>248</th>\n",
       "      <td>0.852</td>\n",
       "      <td>0</td>\n",
       "      <td>85.200</td>\n",
       "    </tr>\n",
       "    <tr>\n",
       "      <th>249</th>\n",
       "      <td>0.846</td>\n",
       "      <td>0</td>\n",
       "      <td>84.600</td>\n",
       "    </tr>\n",
       "    <tr>\n",
       "      <th>250</th>\n",
       "      <td>0.982</td>\n",
       "      <td>0</td>\n",
       "      <td>98.200</td>\n",
       "    </tr>\n",
       "    <tr>\n",
       "      <th>251</th>\n",
       "      <td>0.900</td>\n",
       "      <td>0</td>\n",
       "      <td>90.000</td>\n",
       "    </tr>\n",
       "  </tbody>\n",
       "</table>\n",
       "<p>252 rows × 3 columns</p>\n",
       "</div>"
      ],
      "text/plain": [
       "     convertion_prob  converted  percentage\n",
       "0              0.874          0      87.400\n",
       "1              0.831          0      83.100\n",
       "2              0.818          0      81.800\n",
       "3              0.945          0      94.500\n",
       "4              0.887          0      88.700\n",
       "..               ...        ...         ...\n",
       "247            0.960          0      96.000\n",
       "248            0.852          0      85.200\n",
       "249            0.846          0      84.600\n",
       "250            0.982          0      98.200\n",
       "251            0.900          0      90.000\n",
       "\n",
       "[252 rows x 3 columns]"
      ]
     },
     "execution_count": 398,
     "metadata": {},
     "output_type": "execute_result"
    }
   ],
   "source": [
    "Leadlist_focus"
   ]
  },
  {
   "cell_type": "code",
   "execution_count": null,
   "id": "618260f3",
   "metadata": {},
   "outputs": [],
   "source": []
  }
 ],
 "metadata": {
  "kernelspec": {
   "display_name": "Python 3",
   "language": "python",
   "name": "python3"
  },
  "language_info": {
   "codemirror_mode": {
    "name": "ipython",
    "version": 3
   },
   "file_extension": ".py",
   "mimetype": "text/x-python",
   "name": "python",
   "nbconvert_exporter": "python",
   "pygments_lexer": "ipython3",
   "version": "3.9.6"
  }
 },
 "nbformat": 4,
 "nbformat_minor": 5
}
