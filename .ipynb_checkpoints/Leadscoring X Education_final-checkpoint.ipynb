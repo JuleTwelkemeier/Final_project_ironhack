{
 "cells": [
  {
   "cell_type": "markdown",
   "id": "7be98d2c",
   "metadata": {},
   "source": [
    "# Problem Statement\n",
    "\n",
    "X Education sells online courses to industry professionals. The company markets its courses on several websites and search engines like Google. \n",
    "Although X Education gets a lot of leads, its lead conversion rate is very poor. To make this process more efficient, the company wishes to identify the most potential leads, also known as ‘Hot Leads’.\n",
    "\n",
    "The company needs a model where each lead from the lead list is assigned a lead score so that customers with a higher lead score have a higher chance of converting and customers with a lower lead score have a lower chance of converting. \n",
    "\n",
    "The CEO, in particular, has given a ballpark of the target lead conversion rate to be around 80%."
   ]
  },
  {
   "cell_type": "markdown",
   "id": "ba7d9f40",
   "metadata": {},
   "source": [
    "## Libraries"
   ]
  },
  {
   "cell_type": "code",
   "execution_count": 27,
   "id": "99ac521b",
   "metadata": {},
   "outputs": [],
   "source": [
    "import pandas as pd\n",
    "pd.set_option('display.max_colwidth', None) #to display full text in df'S\n",
    "import numpy as np\n",
    "import scipy as sc\n",
    "from openpyxl import Workbook\n",
    "from ipywidgets import interactive\n",
    "import ipywidgets as widgets\n",
    "from sklearn.metrics import mean_absolute_error as mae\n",
    "from sklearn.metrics import mean_squared_error, r2_score\n",
    "from sklearn.preprocessing import StandardScaler\n",
    "from sklearn.preprocessing import OneHotEncoder\n",
    "from sklearn.preprocessing import QuantileTransformer\n",
    "from sklearn.linear_model import LogisticRegression\n",
    "from sklearn.svm import LinearSVC\n",
    "from sklearn.tree import DecisionTreeClassifier\n",
    "from sklearn.ensemble import RandomForestClassifier\n",
    "from sklearn.naive_bayes import GaussianNB\n",
    "from sklearn.neighbors import KNeighborsClassifier\n",
    "from sklearn.model_selection import RandomizedSearchCV\n",
    "from sklearn.model_selection import train_test_split\n",
    "from sklearn.preprocessing import PowerTransformer\n",
    "from sklearn.model_selection import cross_val_score\n",
    "from sklearn.experimental import enable_iterative_imputer\n",
    "from sklearn.impute import SimpleImputer\n",
    "from sklearn.metrics import r2_score, mean_absolute_error, mean_squared_error\n",
    "from sklearn import metrics\n",
    "from sklearn.metrics import confusion_matrix\n",
    "from sklearn.metrics import precision_score\n",
    "from sklearn.metrics import precision_recall_curve\n",
    "from scipy.stats import boxcox\n",
    "from scipy import stats\n",
    "pd.options.display.max_rows = 50\n",
    "pd.options.display.max_columns = 999\n",
    "from matplotlib import pyplot\n",
    "import matplotlib.pyplot as plt\n",
    "from matplotlib.collections import LineCollection\n",
    "%matplotlib inline\n",
    "import seaborn as sns\n",
    "import datetime\n",
    "from sklearn.metrics import classification_report\n",
    "from sklearn.metrics import accuracy_score, precision_score, recall_score, confusion_matrix\n",
    "from sklearn.metrics import plot_confusion_matrix\n",
    "import warnings\n",
    "warnings.filterwarnings('ignore')\n",
    "import statsmodels.api as sm\n",
    "import statsmodels.formula.api as smf\n",
    "from sklearn.feature_selection import RFE\n",
    "from statsmodels.stats.outliers_influence import variance_inflation_factor\n"
   ]
  },
  {
   "cell_type": "markdown",
   "id": "401b0e91",
   "metadata": {},
   "source": [
    "## Pipeline\n",
    "\n",
    "Results from the analysis you see below"
   ]
  },
  {
   "cell_type": "code",
   "execution_count": 28,
   "id": "36959a6a",
   "metadata": {},
   "outputs": [],
   "source": [
    "## Data cleaning /handling NaNs / bucketing /handling outliers\n",
    "\n",
    "\n",
    "def clean_data(df):\n",
    "    df.columns=[e.lower().replace(' ', '_') for e in df.columns] #all columns in lower case and with _\n",
    "    \n",
    "    # 'select' is a placehholder and needs to be treated like NaN\n",
    "    df.replace('Select', np.NaN, inplace =True)\n",
    "    \n",
    "    #dropping cloumns with > 30% nulls\n",
    "    #missing_value_df = df.isnull()\n",
    "    percent_missing = df.isnull().sum() * 100 / len(df)\n",
    "    missing_value_df = pd.DataFrame({'column_name': df.columns,\n",
    "                                     'percent_missing': percent_missing})\n",
    "    missing_data_30 = list(missing_value_df[missing_value_df['percent_missing']>30]['column_name'])\n",
    "    df.drop(columns=missing_data_30, inplace= True)\n",
    "    \n",
    "    # replacement with median to deal with the ouliers\n",
    "    df['totalvisits'].fillna(df['totalvisits'].median(),inplace=True)\n",
    "    df['page_views_per_visit'].fillna(df['page_views_per_visit'].median(),inplace=True)\n",
    "    \n",
    "    #using the most frequent method to fill values\n",
    "    df.last_activity.replace(np.NaN, 'Email Opened', inplace =True)\n",
    "    df.lead_source.replace(np.NaN, 'Google', inplace =True)\n",
    "    \n",
    "    #bucketing Google and goggle\n",
    "    df.lead_source.replace('google','Google', inplace = True)\n",
    "    \n",
    "    #bucketing referrals\n",
    "    df.lead_source.replace(('Referral Sites','Reference'),'Referral', inplace = True)\n",
    "    \n",
    "    #bucketing marked spam as unsubscribed\n",
    "    df.lead_source.replace('Email Marked Spam','Unsubscribed', inplace = True)\n",
    "    df.last_notable_activity.replace('Email Marked Spam','Unsubscribed', inplace = True)\n",
    "    \n",
    "    #bucketing values < 30 to 'Other'\n",
    "    df.last_activity.replace(('Approached upfront','View in browser link Clicked','Email Received','Email Marked Spam','Visited Booth in Tradeshow','Resubscribed to emails'), 'Other', inplace = True)\n",
    "    df.lead_source.replace(('bing','google','blog','Payoer Click Ads','Social Media','WeLearn','Click2call','Live Chat','welearnblog_Home','youtubechannel','testone','Press_Release','NC_EDM', 'Pay per Click Ads'), 'Other', inplace = True)\n",
    "    df.last_notable_activity.replace(('Had a Phone Conversation','Approached upfront','Resubscribed to emails','View in browser link Clicked','Form Submitted on Website','Email Received'), 'Other', inplace = True)\n",
    "    # bucket buisnessman and working professional \n",
    "    df.what_is_your_current_occupation.replace('Businessman', 'Working Professional', inplace =True)\n",
    "    #bucketing add forms\n",
    "    df.lead_origin.replace(('Quick Add Form','Lead Add Form'),'Add Form', inplace =True)\n",
    "    #bucketing email bounced and unreachable\n",
    "    df.last_notable_activity.replace('Email Bounced','Unreachable', inplace = True)\n",
    "    \n",
    "    # as NaN can be seen equal to other (not known), I will replace NaN's with 'Other' in occupation\n",
    "    df.what_is_your_current_occupation.replace(np.NaN, 'Other', inplace =True)\n",
    "    df.what_matters_most_to_you_in_choosing_a_course.replace(np.NaN, 'Other', inplace =True)\n",
    "    \n",
    "    \n",
    "    #drop column which is just for identification\n",
    "    df.drop(columns = 'prospect_id', inplace =True)\n",
    "    \n",
    "    \n",
    "    #drop columns which have no or little variance\n",
    "    df.drop(columns = 'country', inplace =True) #A/B testing\n",
    "    df.drop(columns = 'search', inplace =True) #A/B testing\n",
    "    df.drop(columns = 'what_matters_most_to_you_in_choosing_a_course', inplace =True)\n",
    "    df.drop(columns = 'magazine', inplace =True)\n",
    "    df.drop(columns = 'newspaper_article', inplace =True)\n",
    "    df.drop(columns = 'x_education_forums', inplace =True)\n",
    "    df.drop(columns = 'newspaper', inplace =True)\n",
    "    df.drop(columns = 'digital_advertisement', inplace =True)\n",
    "    df.drop(columns = 'through_recommendations', inplace =True)\n",
    "    df.drop(columns = 'receive_more_updates_about_our_courses', inplace =True)\n",
    "    df.drop(columns = 'get_updates_on_dm_content', inplace =True)\n",
    "    df.drop(columns = 'i_agree_to_pay_the_amount_through_cheque', inplace =True)\n",
    "    df.drop(columns = 'update_me_on_supply_chain_content', inplace = True)\n",
    "    df.drop(columns = 'do_not_call', inplace = True)\n",
    "    \n",
    "    #treating outliers with z scorre > 3\n",
    "    z = np.abs(stats.zscore(df.page_views_per_visit))\n",
    "    threshold = 5\n",
    "    outliers_pagevisits =(np.where(z > 3))\n",
    "    outliers_pagevisits = np.array(outliers_pagevisits).tolist()\n",
    "    z1 = np.abs(stats.zscore(df.totalvisits))\n",
    "    threshold = 5\n",
    "    outliers_totalvisits =(np.where(z1 > 3))\n",
    "    outliers_totalvisits = np.array(outliers_totalvisits).tolist()\n",
    "    #combine both lists to the drop these rows\n",
    "    outliers = [*outliers_totalvisits, *outliers_pagevisits]\n",
    "    for i in outliers:\n",
    "        df.drop(df.index[[i]], inplace = True)\n",
    "    #df.drop(columns = 'lead_number', inplace =True) #--> will use it later to give the score based on this number\n",
    "    \n",
    "    \n",
    "    #display(df.isnull().sum())\n",
    "    return df\n",
    "    "
   ]
  },
  {
   "cell_type": "markdown",
   "id": "e27cc0a8",
   "metadata": {},
   "source": [
    "## Metadata"
   ]
  },
  {
   "cell_type": "code",
   "execution_count": 29,
   "id": "886cb9fb",
   "metadata": {},
   "outputs": [
    {
     "data": {
      "text/html": [
       "<div>\n",
       "<style scoped>\n",
       "    .dataframe tbody tr th:only-of-type {\n",
       "        vertical-align: middle;\n",
       "    }\n",
       "\n",
       "    .dataframe tbody tr th {\n",
       "        vertical-align: top;\n",
       "    }\n",
       "\n",
       "    .dataframe thead th {\n",
       "        text-align: right;\n",
       "    }\n",
       "</style>\n",
       "<table border=\"1\" class=\"dataframe\">\n",
       "  <thead>\n",
       "    <tr style=\"text-align: right;\">\n",
       "      <th></th>\n",
       "      <th>Column</th>\n",
       "      <th>Describtion</th>\n",
       "    </tr>\n",
       "  </thead>\n",
       "  <tbody>\n",
       "    <tr>\n",
       "      <th>0</th>\n",
       "      <td>Prospect ID</td>\n",
       "      <td>A unique ID with which the customer is identified.</td>\n",
       "    </tr>\n",
       "    <tr>\n",
       "      <th>1</th>\n",
       "      <td>Lead Number</td>\n",
       "      <td>A lead number assigned to each lead procured.</td>\n",
       "    </tr>\n",
       "    <tr>\n",
       "      <th>2</th>\n",
       "      <td>Lead Origin</td>\n",
       "      <td>The origin identifier with which the customer was identified to be a lead. Includes API, Landing Page Submission, etc.</td>\n",
       "    </tr>\n",
       "    <tr>\n",
       "      <th>3</th>\n",
       "      <td>Lead Source</td>\n",
       "      <td>The source of the lead. Includes Google, Organic Search, Olark Chat, etc.</td>\n",
       "    </tr>\n",
       "    <tr>\n",
       "      <th>4</th>\n",
       "      <td>Do Not Email</td>\n",
       "      <td>An indicator variable selected by the customer wherein they select whether of not they want to be emailed about the course or not.</td>\n",
       "    </tr>\n",
       "    <tr>\n",
       "      <th>5</th>\n",
       "      <td>Do Not Call</td>\n",
       "      <td>An indicator variable selected by the customer wherein they select whether of not they want to be called about the course or not.</td>\n",
       "    </tr>\n",
       "    <tr>\n",
       "      <th>6</th>\n",
       "      <td>Converted</td>\n",
       "      <td>The target variable. Indicates whether a lead has been successfully converted or not.</td>\n",
       "    </tr>\n",
       "    <tr>\n",
       "      <th>7</th>\n",
       "      <td>TotalVisits</td>\n",
       "      <td>The total number of visits made by the customer on the website.</td>\n",
       "    </tr>\n",
       "    <tr>\n",
       "      <th>8</th>\n",
       "      <td>Total Time Spent on Website</td>\n",
       "      <td>The total time spent by the customer on the website.</td>\n",
       "    </tr>\n",
       "    <tr>\n",
       "      <th>9</th>\n",
       "      <td>Page Views Per Visit</td>\n",
       "      <td>Average number of pages on the website viewed during the visits.</td>\n",
       "    </tr>\n",
       "    <tr>\n",
       "      <th>10</th>\n",
       "      <td>Last Activity</td>\n",
       "      <td>Last activity performed by the customer. Includes Email Opened, Olark Chat Conversation, etc.</td>\n",
       "    </tr>\n",
       "    <tr>\n",
       "      <th>11</th>\n",
       "      <td>Country</td>\n",
       "      <td>The country of the customer.</td>\n",
       "    </tr>\n",
       "    <tr>\n",
       "      <th>12</th>\n",
       "      <td>Specialization</td>\n",
       "      <td>The industry domain in which the customer worked before. Includes the level 'Select Specialization' which means the customer had not selected this option while filling the form.</td>\n",
       "    </tr>\n",
       "    <tr>\n",
       "      <th>13</th>\n",
       "      <td>How did you hear about X Education</td>\n",
       "      <td>The source from which the customer heard about X Education.</td>\n",
       "    </tr>\n",
       "    <tr>\n",
       "      <th>14</th>\n",
       "      <td>What is your current occupation</td>\n",
       "      <td>Indicates whether the customer is a student, umemployed or employed.</td>\n",
       "    </tr>\n",
       "    <tr>\n",
       "      <th>15</th>\n",
       "      <td>What matters most to you in choosing this course</td>\n",
       "      <td>An option selected by the customer indicating what is their main motto behind doing this course.</td>\n",
       "    </tr>\n",
       "    <tr>\n",
       "      <th>16</th>\n",
       "      <td>Search</td>\n",
       "      <td>Indicating whether the customer had seen the ad in any of the listed items.</td>\n",
       "    </tr>\n",
       "    <tr>\n",
       "      <th>17</th>\n",
       "      <td>Magazine</td>\n",
       "      <td>NaN</td>\n",
       "    </tr>\n",
       "    <tr>\n",
       "      <th>18</th>\n",
       "      <td>Newspaper Article</td>\n",
       "      <td>NaN</td>\n",
       "    </tr>\n",
       "    <tr>\n",
       "      <th>19</th>\n",
       "      <td>X Education Forums</td>\n",
       "      <td>NaN</td>\n",
       "    </tr>\n",
       "    <tr>\n",
       "      <th>20</th>\n",
       "      <td>Newspaper</td>\n",
       "      <td>NaN</td>\n",
       "    </tr>\n",
       "    <tr>\n",
       "      <th>21</th>\n",
       "      <td>Digital Advertisement</td>\n",
       "      <td>NaN</td>\n",
       "    </tr>\n",
       "    <tr>\n",
       "      <th>22</th>\n",
       "      <td>Through Recommendations</td>\n",
       "      <td>Indicates whether the customer came in through recommendations.</td>\n",
       "    </tr>\n",
       "    <tr>\n",
       "      <th>23</th>\n",
       "      <td>Receive More Updates About Our Courses</td>\n",
       "      <td>Indicates whether the customer chose to receive more updates about the courses.</td>\n",
       "    </tr>\n",
       "    <tr>\n",
       "      <th>24</th>\n",
       "      <td>Tags</td>\n",
       "      <td>Tags assigned to customers indicating the current status of the lead.</td>\n",
       "    </tr>\n",
       "    <tr>\n",
       "      <th>25</th>\n",
       "      <td>Lead Quality</td>\n",
       "      <td>Indicates the quality of lead based on the data and intuition the the employee who has been assigned to the lead.</td>\n",
       "    </tr>\n",
       "    <tr>\n",
       "      <th>26</th>\n",
       "      <td>Update me on Supply Chain Content</td>\n",
       "      <td>Indicates whether the customer wants updates on the Supply Chain Content.</td>\n",
       "    </tr>\n",
       "    <tr>\n",
       "      <th>27</th>\n",
       "      <td>Get updates on DM Content</td>\n",
       "      <td>Indicates whether the customer wants updates on the DM Content.</td>\n",
       "    </tr>\n",
       "    <tr>\n",
       "      <th>28</th>\n",
       "      <td>Lead Profile</td>\n",
       "      <td>A lead level assigned to each customer based on their profile.</td>\n",
       "    </tr>\n",
       "    <tr>\n",
       "      <th>29</th>\n",
       "      <td>City</td>\n",
       "      <td>The city of the customer.</td>\n",
       "    </tr>\n",
       "    <tr>\n",
       "      <th>30</th>\n",
       "      <td>Asymmetrique Activity Index</td>\n",
       "      <td>An index and score assigned to each customer based on their activity and their profile</td>\n",
       "    </tr>\n",
       "    <tr>\n",
       "      <th>31</th>\n",
       "      <td>Asymmetrique Profile Index</td>\n",
       "      <td>NaN</td>\n",
       "    </tr>\n",
       "    <tr>\n",
       "      <th>32</th>\n",
       "      <td>Asymmetrique Activity Score</td>\n",
       "      <td>NaN</td>\n",
       "    </tr>\n",
       "    <tr>\n",
       "      <th>33</th>\n",
       "      <td>Asymmetrique Profile Score</td>\n",
       "      <td>NaN</td>\n",
       "    </tr>\n",
       "    <tr>\n",
       "      <th>34</th>\n",
       "      <td>I agree to pay the amount through cheque</td>\n",
       "      <td>Indicates whether the customer has agreed to pay the amount through cheque or not.</td>\n",
       "    </tr>\n",
       "    <tr>\n",
       "      <th>35</th>\n",
       "      <td>a free copy of Mastering The Interview</td>\n",
       "      <td>Indicates whether the customer wants a free copy of 'Mastering the Interview' or not.</td>\n",
       "    </tr>\n",
       "    <tr>\n",
       "      <th>36</th>\n",
       "      <td>Last Notable Activity</td>\n",
       "      <td>The last notable acitivity performed by the student.</td>\n",
       "    </tr>\n",
       "  </tbody>\n",
       "</table>\n",
       "</div>"
      ],
      "text/plain": [
       "                                              Column  \\\n",
       "0                                        Prospect ID   \n",
       "1                                        Lead Number   \n",
       "2                                        Lead Origin   \n",
       "3                                        Lead Source   \n",
       "4                                       Do Not Email   \n",
       "5                                        Do Not Call   \n",
       "6                                          Converted   \n",
       "7                                        TotalVisits   \n",
       "8                        Total Time Spent on Website   \n",
       "9                               Page Views Per Visit   \n",
       "10                                     Last Activity   \n",
       "11                                           Country   \n",
       "12                                    Specialization   \n",
       "13                How did you hear about X Education   \n",
       "14                   What is your current occupation   \n",
       "15  What matters most to you in choosing this course   \n",
       "16                                            Search   \n",
       "17                                          Magazine   \n",
       "18                                 Newspaper Article   \n",
       "19                                X Education Forums   \n",
       "20                                         Newspaper   \n",
       "21                             Digital Advertisement   \n",
       "22                           Through Recommendations   \n",
       "23            Receive More Updates About Our Courses   \n",
       "24                                              Tags   \n",
       "25                                      Lead Quality   \n",
       "26                 Update me on Supply Chain Content   \n",
       "27                         Get updates on DM Content   \n",
       "28                                      Lead Profile   \n",
       "29                                              City   \n",
       "30                       Asymmetrique Activity Index   \n",
       "31                        Asymmetrique Profile Index   \n",
       "32                       Asymmetrique Activity Score   \n",
       "33                        Asymmetrique Profile Score   \n",
       "34          I agree to pay the amount through cheque   \n",
       "35            a free copy of Mastering The Interview   \n",
       "36                             Last Notable Activity   \n",
       "\n",
       "                                                                                                                                                                          Describtion  \n",
       "0                                                                                                                                  A unique ID with which the customer is identified.  \n",
       "1                                                                                                                                       A lead number assigned to each lead procured.  \n",
       "2                                                              The origin identifier with which the customer was identified to be a lead. Includes API, Landing Page Submission, etc.  \n",
       "3                                                                                                           The source of the lead. Includes Google, Organic Search, Olark Chat, etc.  \n",
       "4                                                  An indicator variable selected by the customer wherein they select whether of not they want to be emailed about the course or not.  \n",
       "5                                                   An indicator variable selected by the customer wherein they select whether of not they want to be called about the course or not.  \n",
       "6                                                                                               The target variable. Indicates whether a lead has been successfully converted or not.  \n",
       "7                                                                                                                     The total number of visits made by the customer on the website.  \n",
       "8                                                                                                                                The total time spent by the customer on the website.  \n",
       "9                                                                                                                    Average number of pages on the website viewed during the visits.  \n",
       "10                                                                                      Last activity performed by the customer. Includes Email Opened, Olark Chat Conversation, etc.  \n",
       "11                                                                                                                                                       The country of the customer.  \n",
       "12  The industry domain in which the customer worked before. Includes the level 'Select Specialization' which means the customer had not selected this option while filling the form.  \n",
       "13                                                                                                                        The source from which the customer heard about X Education.  \n",
       "14                                                                                                               Indicates whether the customer is a student, umemployed or employed.  \n",
       "15                                                                                   An option selected by the customer indicating what is their main motto behind doing this course.  \n",
       "16                                                                                                        Indicating whether the customer had seen the ad in any of the listed items.  \n",
       "17                                                                                                                                                                                NaN  \n",
       "18                                                                                                                                                                                NaN  \n",
       "19                                                                                                                                                                                NaN  \n",
       "20                                                                                                                                                                                NaN  \n",
       "21                                                                                                                                                                                NaN  \n",
       "22                                                                                                                    Indicates whether the customer came in through recommendations.  \n",
       "23                                                                                                    Indicates whether the customer chose to receive more updates about the courses.  \n",
       "24                                                                                                              Tags assigned to customers indicating the current status of the lead.  \n",
       "25                                                                  Indicates the quality of lead based on the data and intuition the the employee who has been assigned to the lead.  \n",
       "26                                                                                                          Indicates whether the customer wants updates on the Supply Chain Content.  \n",
       "27                                                                                                                    Indicates whether the customer wants updates on the DM Content.  \n",
       "28                                                                                                                     A lead level assigned to each customer based on their profile.  \n",
       "29                                                                                                                                                          The city of the customer.  \n",
       "30                                                                                             An index and score assigned to each customer based on their activity and their profile  \n",
       "31                                                                                                                                                                                NaN  \n",
       "32                                                                                                                                                                                NaN  \n",
       "33                                                                                                                                                                                NaN  \n",
       "34                                                                                                 Indicates whether the customer has agreed to pay the amount through cheque or not.  \n",
       "35                                                                                              Indicates whether the customer wants a free copy of 'Mastering the Interview' or not.  \n",
       "36                                                                                                                               The last notable acitivity performed by the student.  "
      ]
     },
     "execution_count": 29,
     "metadata": {},
     "output_type": "execute_result"
    }
   ],
   "source": [
    "metadata = pd.read_excel('files/Leads Data Dictionary.xlsx')\n",
    "#metadata= metadata.drop(metadata.index[:2])\n",
    "metadata= metadata.drop(columns ='Unnamed: 0').rename(columns={'Unnamed: 1': 'Column', 'Unnamed: 2': 'Describtion'}).drop(metadata.index[:2]).reset_index().drop(columns='index')\n",
    "metadata"
   ]
  },
  {
   "cell_type": "markdown",
   "id": "1a7c20d2",
   "metadata": {},
   "source": [
    "## Lead Dataset"
   ]
  },
  {
   "cell_type": "code",
   "execution_count": 30,
   "id": "274de0e4",
   "metadata": {},
   "outputs": [],
   "source": [
    "## Kaggle dataset into df\n",
    "lead_df = pd.read_csv('files/Lead Scoring.csv')\n",
    "lead_df.columns=[e.lower().replace(' ', '_') for e in lead_df.columns] #all columns in lower case and with _"
   ]
  },
  {
   "cell_type": "markdown",
   "id": "9d8f77bb",
   "metadata": {},
   "source": [
    "### Checking the current Conversion Rate"
   ]
  },
  {
   "cell_type": "code",
   "execution_count": 31,
   "id": "7f7ed5c3",
   "metadata": {},
   "outputs": [
    {
     "name": "stdout",
     "output_type": "stream",
     "text": [
      "The current conversion rate from X Education is  39 %\n"
     ]
    }
   ],
   "source": [
    "print(\"The current conversion rate from X Education is \", round((sum(lead_df['converted'])/len(lead_df['converted'].index))*100), \"%\")"
   ]
  },
  {
   "cell_type": "markdown",
   "id": "4e8551e7",
   "metadata": {},
   "source": [
    "### Check & handle Null Values"
   ]
  },
  {
   "cell_type": "code",
   "execution_count": 32,
   "id": "82a079be",
   "metadata": {},
   "outputs": [
    {
     "name": "stdout",
     "output_type": "stream",
     "text": [
      "<class 'pandas.core.frame.DataFrame'>\n",
      "RangeIndex: 9240 entries, 0 to 9239\n",
      "Data columns (total 37 columns):\n",
      " #   Column                                         Non-Null Count  Dtype  \n",
      "---  ------                                         --------------  -----  \n",
      " 0   prospect_id                                    9240 non-null   object \n",
      " 1   lead_number                                    9240 non-null   int64  \n",
      " 2   lead_origin                                    9240 non-null   object \n",
      " 3   lead_source                                    9204 non-null   object \n",
      " 4   do_not_email                                   9240 non-null   object \n",
      " 5   do_not_call                                    9240 non-null   object \n",
      " 6   converted                                      9240 non-null   int64  \n",
      " 7   totalvisits                                    9103 non-null   float64\n",
      " 8   total_time_spent_on_website                    9240 non-null   int64  \n",
      " 9   page_views_per_visit                           9103 non-null   float64\n",
      " 10  last_activity                                  9137 non-null   object \n",
      " 11  country                                        6779 non-null   object \n",
      " 12  specialization                                 7802 non-null   object \n",
      " 13  how_did_you_hear_about_x_education             7033 non-null   object \n",
      " 14  what_is_your_current_occupation                6550 non-null   object \n",
      " 15  what_matters_most_to_you_in_choosing_a_course  6531 non-null   object \n",
      " 16  search                                         9240 non-null   object \n",
      " 17  magazine                                       9240 non-null   object \n",
      " 18  newspaper_article                              9240 non-null   object \n",
      " 19  x_education_forums                             9240 non-null   object \n",
      " 20  newspaper                                      9240 non-null   object \n",
      " 21  digital_advertisement                          9240 non-null   object \n",
      " 22  through_recommendations                        9240 non-null   object \n",
      " 23  receive_more_updates_about_our_courses         9240 non-null   object \n",
      " 24  tags                                           5887 non-null   object \n",
      " 25  lead_quality                                   4473 non-null   object \n",
      " 26  update_me_on_supply_chain_content              9240 non-null   object \n",
      " 27  get_updates_on_dm_content                      9240 non-null   object \n",
      " 28  lead_profile                                   6531 non-null   object \n",
      " 29  city                                           7820 non-null   object \n",
      " 30  asymmetrique_activity_index                    5022 non-null   object \n",
      " 31  asymmetrique_profile_index                     5022 non-null   object \n",
      " 32  asymmetrique_activity_score                    5022 non-null   float64\n",
      " 33  asymmetrique_profile_score                     5022 non-null   float64\n",
      " 34  i_agree_to_pay_the_amount_through_cheque       9240 non-null   object \n",
      " 35  a_free_copy_of_mastering_the_interview         9240 non-null   object \n",
      " 36  last_notable_activity                          9240 non-null   object \n",
      "dtypes: float64(4), int64(3), object(30)\n",
      "memory usage: 2.6+ MB\n"
     ]
    }
   ],
   "source": [
    "lead_df.info()"
   ]
  },
  {
   "cell_type": "markdown",
   "id": "121bed2c",
   "metadata": {},
   "source": [
    "#### Duplicates /Missing Values"
   ]
  },
  {
   "cell_type": "code",
   "execution_count": 33,
   "id": "15061e10",
   "metadata": {},
   "outputs": [
    {
     "data": {
      "text/plain": [
       "(9240, 37)"
      ]
     },
     "metadata": {},
     "output_type": "display_data"
    },
    {
     "data": {
      "text/plain": [
       "(9240, 37)"
      ]
     },
     "execution_count": 33,
     "metadata": {},
     "output_type": "execute_result"
    }
   ],
   "source": [
    "#check & delete duplicates\n",
    "display(lead_df.shape)\n",
    "lead_df= lead_df.drop_duplicates()\n",
    "lead_df.shape"
   ]
  },
  {
   "cell_type": "code",
   "execution_count": 34,
   "id": "87e3195e",
   "metadata": {},
   "outputs": [
    {
     "data": {
      "text/plain": [
       "(9240, 37)"
      ]
     },
     "metadata": {},
     "output_type": "display_data"
    },
    {
     "data": {
      "text/plain": [
       "(9240, 37)"
      ]
     },
     "execution_count": 34,
     "metadata": {},
     "output_type": "execute_result"
    }
   ],
   "source": [
    "#check &delete empty rows\n",
    "display(lead_df.shape)\n",
    "lead_df =lead_df.dropna(how ='all')\n",
    "lead_df.shape"
   ]
  },
  {
   "cell_type": "code",
   "execution_count": 35,
   "id": "17f8a736",
   "metadata": {},
   "outputs": [
    {
     "data": {
      "text/plain": [
       "prospect_id                                         0\n",
       "lead_number                                         0\n",
       "lead_origin                                         0\n",
       "lead_source                                        36\n",
       "do_not_email                                        0\n",
       "do_not_call                                         0\n",
       "converted                                           0\n",
       "totalvisits                                       137\n",
       "total_time_spent_on_website                         0\n",
       "page_views_per_visit                              137\n",
       "last_activity                                     103\n",
       "country                                          2461\n",
       "specialization                                   1438\n",
       "how_did_you_hear_about_x_education               2207\n",
       "what_is_your_current_occupation                  2690\n",
       "what_matters_most_to_you_in_choosing_a_course    2709\n",
       "search                                              0\n",
       "magazine                                            0\n",
       "newspaper_article                                   0\n",
       "x_education_forums                                  0\n",
       "newspaper                                           0\n",
       "digital_advertisement                               0\n",
       "through_recommendations                             0\n",
       "receive_more_updates_about_our_courses              0\n",
       "tags                                             3353\n",
       "lead_quality                                     4767\n",
       "update_me_on_supply_chain_content                   0\n",
       "get_updates_on_dm_content                           0\n",
       "lead_profile                                     2709\n",
       "city                                             1420\n",
       "asymmetrique_activity_index                      4218\n",
       "asymmetrique_profile_index                       4218\n",
       "asymmetrique_activity_score                      4218\n",
       "asymmetrique_profile_score                       4218\n",
       "i_agree_to_pay_the_amount_through_cheque            0\n",
       "a_free_copy_of_mastering_the_interview              0\n",
       "last_notable_activity                               0\n",
       "dtype: int64"
      ]
     },
     "execution_count": 35,
     "metadata": {},
     "output_type": "execute_result"
    }
   ],
   "source": [
    "lead_df.isnull().sum()"
   ]
  },
  {
   "cell_type": "markdown",
   "id": "29765ca0",
   "metadata": {},
   "source": [
    "#### Deleting columns with more than 30% missing values"
   ]
  },
  {
   "cell_type": "code",
   "execution_count": 36,
   "id": "c73a81ce",
   "metadata": {},
   "outputs": [
    {
     "data": {
      "text/plain": [
       "(6,\n",
       " ['tags',\n",
       "  'lead_quality',\n",
       "  'asymmetrique_activity_index',\n",
       "  'asymmetrique_profile_index',\n",
       "  'asymmetrique_activity_score',\n",
       "  'asymmetrique_profile_score'])"
      ]
     },
     "execution_count": 36,
     "metadata": {},
     "output_type": "execute_result"
    }
   ],
   "source": [
    "#get columns with more than 30% missing values (assumption these columns shouldn't be filled with means/medians)\n",
    "missing_value_df = lead_df.isnull()\n",
    "#get % of missing values\n",
    "percent_missing = lead_df.isnull().sum() * 100 / len(lead_df)\n",
    "missing_value_df = pd.DataFrame({'column_name': lead_df.columns,\n",
    "                                 'percent_missing': percent_missing})\n",
    "\n",
    "\n",
    "missing_data_30 = list(missing_value_df[missing_value_df['percent_missing']>30]['column_name'])\n",
    "len(missing_data_30), missing_data_30\n"
   ]
  },
  {
   "cell_type": "code",
   "execution_count": 37,
   "id": "d380a6de",
   "metadata": {},
   "outputs": [
    {
     "data": {
      "text/plain": [
       "Might be             1560\n",
       "Not Sure             1092\n",
       "High in Relevance     637\n",
       "Worst                 601\n",
       "Low in Relevance      583\n",
       "Name: lead_quality, dtype: int64"
      ]
     },
     "execution_count": 37,
     "metadata": {},
     "output_type": "execute_result"
    }
   ],
   "source": [
    "#checking lead_quality\n",
    "lead_df.lead_quality.value_counts()\n",
    "#column gives no great insight as it is based on the data and intuition the employee who has been assigned to the lead.\n",
    "#there seems to be no aligned process and it is really dependent from the lead owner\n",
    "#will use it for the presentation"
   ]
  },
  {
   "cell_type": "code",
   "execution_count": 38,
   "id": "3680f44a",
   "metadata": {},
   "outputs": [
    {
     "name": "stdout",
     "output_type": "stream",
     "text": [
      "Originally the dataset had 37 columns\n",
      "Now the dataset has 31 columns\n"
     ]
    }
   ],
   "source": [
    "# dropping columns with more than 30& missing valueslead\n",
    "print('Originally the dataset had', len(lead_df.columns), 'columns')\n",
    "lead_df.drop(columns=missing_data_30, inplace= True)\n",
    "print('Now the dataset has', len(lead_df.columns), 'columns')\n"
   ]
  },
  {
   "cell_type": "markdown",
   "id": "ad7611f6",
   "metadata": {},
   "source": [
    "#### Columns with missing data < 30 %"
   ]
  },
  {
   "cell_type": "code",
   "execution_count": 39,
   "id": "75c033db",
   "metadata": {},
   "outputs": [
    {
     "data": {
      "text/plain": [
       "(11,\n",
       " ['lead_source',\n",
       "  'totalvisits',\n",
       "  'page_views_per_visit',\n",
       "  'last_activity',\n",
       "  'country',\n",
       "  'specialization',\n",
       "  'how_did_you_hear_about_x_education',\n",
       "  'what_is_your_current_occupation',\n",
       "  'what_matters_most_to_you_in_choosing_a_course',\n",
       "  'lead_profile',\n",
       "  'city'])"
      ]
     },
     "execution_count": 39,
     "metadata": {},
     "output_type": "execute_result"
    }
   ],
   "source": [
    "missing_value_df = lead_df.isnull()\n",
    "#get % of missing values\n",
    "percent_missing = lead_df.isnull().sum() * 100 / len(lead_df)\n",
    "missing_value_df = pd.DataFrame({'column_name': lead_df.columns,\n",
    "                                 'percent_missing': percent_missing})\n",
    "\n",
    "\n",
    "missing_data = list(missing_value_df[missing_value_df['percent_missing']!=0]['column_name'])\n",
    "len(missing_data), missing_data"
   ]
  },
  {
   "cell_type": "markdown",
   "id": "24d38ac4",
   "metadata": {},
   "source": [
    "Totalvisits"
   ]
  },
  {
   "cell_type": "code",
   "execution_count": 40,
   "id": "66c99206",
   "metadata": {},
   "outputs": [
    {
     "data": {
      "text/plain": [
       "False    9103\n",
       "True      137\n",
       "Name: totalvisits, dtype: int64"
      ]
     },
     "metadata": {},
     "output_type": "display_data"
    },
    {
     "data": {
      "text/plain": [
       "<AxesSubplot:xlabel='totalvisits'>"
      ]
     },
     "execution_count": 40,
     "metadata": {},
     "output_type": "execute_result"
    },
    {
     "data": {
      "image/png": "[encoded data removed]",
      "text/plain": [
       "<Figure size 432x288 with 1 Axes>"
      ]
     },
     "metadata": {
      "needs_background": "light"
     },
     "output_type": "display_data"
    }
   ],
   "source": [
    "display(lead_df.totalvisits.isnull().value_counts())\n",
    "#check for outliers\n",
    "sns.boxplot(lead_df.totalvisits)"
   ]
  },
  {
   "cell_type": "code",
   "execution_count": 41,
   "id": "b97498d4",
   "metadata": {},
   "outputs": [
    {
     "data": {
      "text/plain": [
       "0"
      ]
     },
     "execution_count": 41,
     "metadata": {},
     "output_type": "execute_result"
    }
   ],
   "source": [
    "# replacement with median to deal with the ouliers ->will later remove outliers\n",
    "lead_df['totalvisits'].fillna(lead_df['totalvisits'].median(),inplace=True)\n",
    "lead_df['totalvisits'].isnull().sum()"
   ]
  },
  {
   "cell_type": "markdown",
   "id": "85b21851",
   "metadata": {},
   "source": [
    "Page_views_per_visit"
   ]
  },
  {
   "cell_type": "code",
   "execution_count": 42,
   "id": "672e7fb9",
   "metadata": {},
   "outputs": [
    {
     "data": {
      "text/plain": [
       "False    9103\n",
       "True      137\n",
       "Name: page_views_per_visit, dtype: int64"
      ]
     },
     "metadata": {},
     "output_type": "display_data"
    },
    {
     "data": {
      "text/plain": [
       "<AxesSubplot:xlabel='page_views_per_visit'>"
      ]
     },
     "execution_count": 42,
     "metadata": {},
     "output_type": "execute_result"
    },
    {
     "data": {
      "image/png": "[encoded data removed]",
      "text/plain": [
       "<Figure size 432x288 with 1 Axes>"
      ]
     },
     "metadata": {
      "needs_background": "light"
     },
     "output_type": "display_data"
    }
   ],
   "source": [
    "display(lead_df.page_views_per_visit.isnull().value_counts())\n",
    "#check for outliers\n",
    "sns.boxplot(lead_df.page_views_per_visit)"
   ]
  },
  {
   "cell_type": "code",
   "execution_count": 43,
   "id": "8a42b794",
   "metadata": {},
   "outputs": [
    {
     "data": {
      "text/plain": [
       "0"
      ]
     },
     "execution_count": 43,
     "metadata": {},
     "output_type": "execute_result"
    }
   ],
   "source": [
    "# replacement with median to deal with the ouliers\n",
    "lead_df['page_views_per_visit'].fillna(lead_df['page_views_per_visit'].median(),inplace=True)\n",
    "lead_df['page_views_per_visit'].isnull().sum()"
   ]
  },
  {
   "cell_type": "markdown",
   "id": "611644d6",
   "metadata": {},
   "source": [
    "Last_activity"
   ]
  },
  {
   "cell_type": "code",
   "execution_count": 44,
   "id": "0cd47c6d",
   "metadata": {},
   "outputs": [
    {
     "data": {
      "text/plain": [
       "False    9137\n",
       "True      103\n",
       "Name: last_activity, dtype: int64"
      ]
     },
     "metadata": {},
     "output_type": "display_data"
    },
    {
     "data": {
      "text/plain": [
       "Email Opened                    3437\n",
       "SMS Sent                        2745\n",
       "Olark Chat Conversation          973\n",
       "Page Visited on Website          640\n",
       "Converted to Lead                428\n",
       "Email Bounced                    326\n",
       "Email Link Clicked               267\n",
       "Form Submitted on Website        116\n",
       "Unreachable                       93\n",
       "Unsubscribed                      61\n",
       "Had a Phone Conversation          30\n",
       "Approached upfront                 9\n",
       "View in browser link Clicked       6\n",
       "Email Received                     2\n",
       "Email Marked Spam                  2\n",
       "Visited Booth in Tradeshow         1\n",
       "Resubscribed to emails             1\n",
       "Name: last_activity, dtype: int64"
      ]
     },
     "execution_count": 44,
     "metadata": {},
     "output_type": "execute_result"
    }
   ],
   "source": [
    "display(lead_df.last_activity.isnull().value_counts())\n",
    "#check values\n",
    "lead_df.last_activity.value_counts()"
   ]
  },
  {
   "cell_type": "code",
   "execution_count": 45,
   "id": "d8719ce4",
   "metadata": {},
   "outputs": [
    {
     "data": {
      "text/plain": [
       "False    9240\n",
       "Name: last_activity, dtype: int64"
      ]
     },
     "metadata": {},
     "output_type": "display_data"
    },
    {
     "data": {
      "text/plain": [
       "Email Opened                    3540\n",
       "SMS Sent                        2745\n",
       "Olark Chat Conversation          973\n",
       "Page Visited on Website          640\n",
       "Converted to Lead                428\n",
       "Email Bounced                    326\n",
       "Email Link Clicked               267\n",
       "Form Submitted on Website        116\n",
       "Unreachable                       93\n",
       "Unsubscribed                      61\n",
       "Had a Phone Conversation          30\n",
       "Approached upfront                 9\n",
       "View in browser link Clicked       6\n",
       "Email Received                     2\n",
       "Email Marked Spam                  2\n",
       "Visited Booth in Tradeshow         1\n",
       "Resubscribed to emails             1\n",
       "Name: last_activity, dtype: int64"
      ]
     },
     "execution_count": 45,
     "metadata": {},
     "output_type": "execute_result"
    }
   ],
   "source": [
    "#using the most frequent method to fill values\n",
    "lead_df.last_activity.replace(np.NaN, 'Email Opened', inplace =True)\n",
    "\n",
    "display(lead_df.last_activity.isnull().value_counts())\n",
    "lead_df.last_activity.value_counts()"
   ]
  },
  {
   "cell_type": "code",
   "execution_count": 46,
   "id": "b24e1695",
   "metadata": {},
   "outputs": [],
   "source": [
    "#bucketing values < 30 to 'Other'\n",
    "lead_df.last_activity.replace(('Approached upfront','View in browser link Clicked','Email Received','Email Marked Spam','Visited Booth in Tradeshow','Resubscribed to emails'), 'Other', inplace = True)\n",
    "\n"
   ]
  },
  {
   "cell_type": "markdown",
   "id": "48895f80",
   "metadata": {},
   "source": [
    "Country"
   ]
  },
  {
   "cell_type": "code",
   "execution_count": 47,
   "id": "4b5d87c2",
   "metadata": {},
   "outputs": [
    {
     "data": {
      "text/plain": [
       "False    6779\n",
       "True     2461\n",
       "Name: country, dtype: int64"
      ]
     },
     "metadata": {},
     "output_type": "display_data"
    },
    {
     "data": {
      "text/plain": [
       "India                   6492\n",
       "United States             69\n",
       "United Arab Emirates      53\n",
       "Singapore                 24\n",
       "Saudi Arabia              21\n",
       "United Kingdom            15\n",
       "Australia                 13\n",
       "Qatar                     10\n",
       "Hong Kong                  7\n",
       "Bahrain                    7\n",
       "Oman                       6\n",
       "France                     6\n",
       "unknown                    5\n",
       "South Africa               4\n",
       "Nigeria                    4\n",
       "Germany                    4\n",
       "Kuwait                     4\n",
       "Canada                     4\n",
       "Sweden                     3\n",
       "China                      2\n",
       "Asia/Pacific Region        2\n",
       "Uganda                     2\n",
       "Bangladesh                 2\n",
       "Italy                      2\n",
       "Belgium                    2\n",
       "Netherlands                2\n",
       "Ghana                      2\n",
       "Philippines                2\n",
       "Russia                     1\n",
       "Switzerland                1\n",
       "Vietnam                    1\n",
       "Denmark                    1\n",
       "Tanzania                   1\n",
       "Liberia                    1\n",
       "Malaysia                   1\n",
       "Kenya                      1\n",
       "Sri Lanka                  1\n",
       "Indonesia                  1\n",
       "Name: country, dtype: int64"
      ]
     },
     "execution_count": 47,
     "metadata": {},
     "output_type": "execute_result"
    }
   ],
   "source": [
    "display(lead_df.country.isnull().value_counts())\n",
    "#check unique values\n",
    "lead_df.country.value_counts()\n",
    "# problem: no variation (most values from india)\n",
    "#probably will drop the column"
   ]
  },
  {
   "cell_type": "markdown",
   "id": "8ad33b24",
   "metadata": {},
   "source": [
    "Specialization"
   ]
  },
  {
   "cell_type": "code",
   "execution_count": 48,
   "id": "5fc43357",
   "metadata": {},
   "outputs": [
    {
     "data": {
      "text/plain": [
       "False    7802\n",
       "True     1438\n",
       "Name: specialization, dtype: int64"
      ]
     },
     "metadata": {},
     "output_type": "display_data"
    },
    {
     "data": {
      "text/plain": [
       "Select                               1942\n",
       "Finance Management                    976\n",
       "Human Resource Management             848\n",
       "Marketing Management                  838\n",
       "Operations Management                 503\n",
       "Business Administration               403\n",
       "IT Projects Management                366\n",
       "Supply Chain Management               349\n",
       "Banking, Investment And Insurance     338\n",
       "Travel and Tourism                    203\n",
       "Media and Advertising                 203\n",
       "International Business                178\n",
       "Healthcare Management                 159\n",
       "Hospitality Management                114\n",
       "E-COMMERCE                            112\n",
       "Retail Management                     100\n",
       "Rural and Agribusiness                 73\n",
       "E-Business                             57\n",
       "Services Excellence                    40\n",
       "Name: specialization, dtype: int64"
      ]
     },
     "execution_count": 48,
     "metadata": {},
     "output_type": "execute_result"
    }
   ],
   "source": [
    "display(lead_df.specialization.isnull().value_counts())\n",
    "#check unique values\n",
    "lead_df.specialization.value_counts()"
   ]
  },
  {
   "cell_type": "code",
   "execution_count": 49,
   "id": "163383d0",
   "metadata": {},
   "outputs": [
    {
     "data": {
      "text/plain": [
       "prospect_id                                         0\n",
       "lead_number                                         0\n",
       "lead_origin                                         0\n",
       "lead_source                                         0\n",
       "do_not_email                                        0\n",
       "do_not_call                                         0\n",
       "converted                                           0\n",
       "totalvisits                                         0\n",
       "total_time_spent_on_website                         0\n",
       "page_views_per_visit                                0\n",
       "last_activity                                       0\n",
       "country                                             0\n",
       "specialization                                   1942\n",
       "how_did_you_hear_about_x_education               5043\n",
       "what_is_your_current_occupation                     0\n",
       "what_matters_most_to_you_in_choosing_a_course       0\n",
       "search                                              0\n",
       "magazine                                            0\n",
       "newspaper_article                                   0\n",
       "x_education_forums                                  0\n",
       "newspaper                                           0\n",
       "digital_advertisement                               0\n",
       "through_recommendations                             0\n",
       "receive_more_updates_about_our_courses              0\n",
       "update_me_on_supply_chain_content                   0\n",
       "get_updates_on_dm_content                           0\n",
       "lead_profile                                     4146\n",
       "city                                             2249\n",
       "i_agree_to_pay_the_amount_through_cheque            0\n",
       "a_free_copy_of_mastering_the_interview              0\n",
       "last_notable_activity                               0\n",
       "dtype: int64"
      ]
     },
     "execution_count": 49,
     "metadata": {},
     "output_type": "execute_result"
    }
   ],
   "source": [
    "#checking df for more select values\n",
    "lead_df[lead_df == 'Select'].count()"
   ]
  },
  {
   "cell_type": "code",
   "execution_count": 50,
   "id": "acea4c72",
   "metadata": {},
   "outputs": [],
   "source": [
    "#checking df for  select values\n",
    "lead_df[lead_df == 'Select'].count()\n",
    "# select seems to be a placeholder - will treat it as null value --> will be included in Pipeline\n",
    "lead_df.replace('Select', np.NaN, inplace =True)\n",
    "# will be dropped as it has now more than 30% missing values\n"
   ]
  },
  {
   "cell_type": "markdown",
   "id": "650afe54",
   "metadata": {},
   "source": [
    "What_is_your_current_occupation"
   ]
  },
  {
   "cell_type": "code",
   "execution_count": 51,
   "id": "cea9dd78",
   "metadata": {},
   "outputs": [
    {
     "data": {
      "text/plain": [
       "2690"
      ]
     },
     "metadata": {},
     "output_type": "display_data"
    },
    {
     "data": {
      "text/plain": [
       "Unemployed              5600\n",
       "Working Professional     706\n",
       "Student                  210\n",
       "Other                     16\n",
       "Housewife                 10\n",
       "Businessman                8\n",
       "Name: what_is_your_current_occupation, dtype: int64"
      ]
     },
     "execution_count": 51,
     "metadata": {},
     "output_type": "execute_result"
    }
   ],
   "source": [
    "display(lead_df.what_is_your_current_occupation.isnull().sum())\n",
    "lead_df.what_is_your_current_occupation.value_counts()\n"
   ]
  },
  {
   "cell_type": "code",
   "execution_count": 52,
   "id": "0c466a7d",
   "metadata": {},
   "outputs": [
    {
     "data": {
      "text/plain": [
       "Unemployed              5600\n",
       "Other                   2706\n",
       "Working Professional     714\n",
       "Student                  210\n",
       "Housewife                 10\n",
       "Name: what_is_your_current_occupation, dtype: int64"
      ]
     },
     "execution_count": 52,
     "metadata": {},
     "output_type": "execute_result"
    }
   ],
   "source": [
    "# as NaN can be seen equal to other (not known), I will replace NaN's with 'Other'\n",
    "lead_df.what_is_your_current_occupation.replace(np.NaN, 'Other', inplace =True)\n",
    "\n",
    "# buisnessman and working professional are similar, so i will bucket it together\n",
    "lead_df.what_is_your_current_occupation.replace('Businessman', 'Working Professional', inplace =True)\n",
    "lead_df.what_is_your_current_occupation.value_counts()"
   ]
  },
  {
   "cell_type": "markdown",
   "id": "4c49f48b",
   "metadata": {},
   "source": [
    "What_matters_most_to_you_in_choosing_a_course"
   ]
  },
  {
   "cell_type": "code",
   "execution_count": 53,
   "id": "51c0984e",
   "metadata": {},
   "outputs": [
    {
     "data": {
      "text/plain": [
       "2709"
      ]
     },
     "metadata": {},
     "output_type": "display_data"
    },
    {
     "data": {
      "text/plain": [
       "Better Career Prospects      6528\n",
       "Flexibility & Convenience       2\n",
       "Other                           1\n",
       "Name: what_matters_most_to_you_in_choosing_a_course, dtype: int64"
      ]
     },
     "execution_count": 53,
     "metadata": {},
     "output_type": "execute_result"
    }
   ],
   "source": [
    "display(lead_df.what_matters_most_to_you_in_choosing_a_course.isnull().sum())\n",
    "lead_df.what_matters_most_to_you_in_choosing_a_course.value_counts()"
   ]
  },
  {
   "cell_type": "code",
   "execution_count": 54,
   "id": "b5710644",
   "metadata": {},
   "outputs": [
    {
     "data": {
      "text/plain": [
       "Better Career Prospects      6528\n",
       "Other                        2710\n",
       "Flexibility & Convenience       2\n",
       "Name: what_matters_most_to_you_in_choosing_a_course, dtype: int64"
      ]
     },
     "execution_count": 54,
     "metadata": {},
     "output_type": "execute_result"
    }
   ],
   "source": [
    "# as NaN can be seen equal to other (not known), I will replace NaN's with 'Other'\n",
    "lead_df.what_matters_most_to_you_in_choosing_a_course.replace(np.NaN, 'Other', inplace =True)\n",
    "lead_df.what_matters_most_to_you_in_choosing_a_course.value_counts()"
   ]
  },
  {
   "cell_type": "code",
   "execution_count": 55,
   "id": "96aae5fa",
   "metadata": {
    "scrolled": true
   },
   "outputs": [
    {
     "data": {
      "text/plain": [
       "Better Career Prospects      6528\n",
       "Other                        2710\n",
       "Flexibility & Convenience       2\n",
       "Name: what_matters_most_to_you_in_choosing_a_course, dtype: int64"
      ]
     },
     "metadata": {},
     "output_type": "display_data"
    },
    {
     "data": {
      "text/plain": [
       "<AxesSubplot:xlabel='count', ylabel='what_matters_most_to_you_in_choosing_a_course'>"
      ]
     },
     "execution_count": 55,
     "metadata": {},
     "output_type": "execute_result"
    },
    {
     "data": {
      "image/png": "[encoded data removed]",
      "text/plain": [
       "<Figure size 432x288 with 1 Axes>"
      ]
     },
     "metadata": {
      "needs_background": "light"
     },
     "output_type": "display_data"
    }
   ],
   "source": [
    "display(lead_df.what_matters_most_to_you_in_choosing_a_course.value_counts())\n",
    "sns.countplot( y=lead_df.what_matters_most_to_you_in_choosing_a_course, hue = lead_df.converted)\n",
    "\n",
    "# no high variance / importance for analysing what makes people to convert or not --> will drop column"
   ]
  },
  {
   "cell_type": "markdown",
   "id": "bc190406",
   "metadata": {},
   "source": [
    "Lead_source"
   ]
  },
  {
   "cell_type": "code",
   "execution_count": 56,
   "id": "ce105015",
   "metadata": {},
   "outputs": [
    {
     "data": {
      "text/plain": [
       "36"
      ]
     },
     "metadata": {},
     "output_type": "display_data"
    },
    {
     "data": {
      "text/plain": [
       "Google               2868\n",
       "Direct Traffic       2543\n",
       "Olark Chat           1755\n",
       "Organic Search       1154\n",
       "Reference             534\n",
       "Welingak Website      142\n",
       "Referral Sites        125\n",
       "Facebook               55\n",
       "bing                    6\n",
       "google                  5\n",
       "Click2call              4\n",
       "Press_Release           2\n",
       "Social Media            2\n",
       "Live Chat               2\n",
       "youtubechannel          1\n",
       "testone                 1\n",
       "Pay per Click Ads       1\n",
       "welearnblog_Home        1\n",
       "WeLearn                 1\n",
       "blog                    1\n",
       "NC_EDM                  1\n",
       "Name: lead_source, dtype: int64"
      ]
     },
     "execution_count": 56,
     "metadata": {},
     "output_type": "execute_result"
    }
   ],
   "source": [
    "display(lead_df.lead_source.isnull().sum())\n",
    "lead_df.lead_source.value_counts()"
   ]
  },
  {
   "cell_type": "code",
   "execution_count": 57,
   "id": "7c7e41ae",
   "metadata": {
    "scrolled": true
   },
   "outputs": [
    {
     "data": {
      "text/plain": [
       "False    9240\n",
       "Name: lead_source, dtype: int64"
      ]
     },
     "metadata": {},
     "output_type": "display_data"
    },
    {
     "data": {
      "text/plain": [
       "Google               2904\n",
       "Direct Traffic       2543\n",
       "Olark Chat           1755\n",
       "Organic Search       1154\n",
       "Reference             534\n",
       "Welingak Website      142\n",
       "Referral Sites        125\n",
       "Facebook               55\n",
       "bing                    6\n",
       "google                  5\n",
       "Click2call              4\n",
       "Press_Release           2\n",
       "Social Media            2\n",
       "Live Chat               2\n",
       "youtubechannel          1\n",
       "testone                 1\n",
       "Pay per Click Ads       1\n",
       "welearnblog_Home        1\n",
       "WeLearn                 1\n",
       "blog                    1\n",
       "NC_EDM                  1\n",
       "Name: lead_source, dtype: int64"
      ]
     },
     "execution_count": 57,
     "metadata": {},
     "output_type": "execute_result"
    }
   ],
   "source": [
    "#using the most frequent method to fill values\n",
    "lead_df.lead_source.replace(np.NaN, 'Google', inplace =True)\n",
    "\n",
    "display(lead_df.lead_source.isnull().value_counts())\n",
    "lead_df.lead_source.value_counts()"
   ]
  },
  {
   "cell_type": "code",
   "execution_count": 58,
   "id": "f2dc8e5c",
   "metadata": {},
   "outputs": [],
   "source": [
    "#bucketing Google and goggle\n",
    "lead_df.lead_source.replace('google','Google', inplace = True)\n",
    "#bucketing spam as unsubscribed\n",
    "lead_df.lead_source.replace('Email Marked Spam','Unsubscribed', inplace = True)\n",
    "#bucketing referrals\n",
    "lead_df.lead_source.replace(('Referral Sites','Reference'),'Referral', inplace = True)\n",
    "#bucketing values < 30 to 'Other'\n",
    "lead_df.lead_source.replace(('bing','google','blog','Payoer Click Ads','Social Media','WeLearn','Click2call','Live Chat','welearnblog_Home','youtubechannel','testone','Press_Release','NC_EDM','Pay per Click Ads' ), 'Other', inplace = True)"
   ]
  },
  {
   "cell_type": "code",
   "execution_count": 59,
   "id": "b24b3969",
   "metadata": {},
   "outputs": [
    {
     "data": {
      "text/plain": [
       "Google              2909\n",
       "Direct Traffic      2543\n",
       "Olark Chat          1755\n",
       "Organic Search      1154\n",
       "Referral             659\n",
       "Welingak Website     142\n",
       "Facebook              55\n",
       "Other                 23\n",
       "Name: lead_source, dtype: int64"
      ]
     },
     "execution_count": 59,
     "metadata": {},
     "output_type": "execute_result"
    }
   ],
   "source": [
    "lead_df.lead_source.value_counts()"
   ]
  },
  {
   "cell_type": "markdown",
   "id": "3eb63dd6",
   "metadata": {},
   "source": [
    "#### Analysing columns with no missing values"
   ]
  },
  {
   "cell_type": "markdown",
   "id": "1be466e4",
   "metadata": {},
   "source": [
    "Lead_origin"
   ]
  },
  {
   "cell_type": "code",
   "execution_count": 60,
   "id": "c4f103f4",
   "metadata": {},
   "outputs": [
    {
     "data": {
      "text/plain": [
       "Landing Page Submission    4886\n",
       "API                        3580\n",
       "Lead Add Form               718\n",
       "Lead Import                  55\n",
       "Quick Add Form                1\n",
       "Name: lead_origin, dtype: int64"
      ]
     },
     "metadata": {},
     "output_type": "display_data"
    },
    {
     "data": {
      "text/plain": [
       "Landing Page Submission    4886\n",
       "API                        3580\n",
       "Add Form                    719\n",
       "Lead Import                  55\n",
       "Name: lead_origin, dtype: int64"
      ]
     },
     "metadata": {},
     "output_type": "display_data"
    },
    {
     "data": {
      "text/plain": [
       "<AxesSubplot:xlabel='count', ylabel='lead_origin'>"
      ]
     },
     "execution_count": 60,
     "metadata": {},
     "output_type": "execute_result"
    },
    {
     "data": {
      "image/png": "[encoded data removed]",
      "text/plain": [
       "<Figure size 432x288 with 1 Axes>"
      ]
     },
     "metadata": {
      "needs_background": "light"
     },
     "output_type": "display_data"
    }
   ],
   "source": [
    "display(lead_df.lead_origin.value_counts())\n",
    "#bucketing add forms together\n",
    "lead_df.lead_origin.replace(('Quick Add Form','Lead Add Form'),'Add Form', inplace =True)\n",
    "display(lead_df.lead_origin.value_counts())\n",
    "sns.countplot( y=lead_df.lead_origin, hue = lead_df.converted)\n",
    "\n",
    "#The conversion from the API and LP submission are really poor -> first recommendation to improve these channels"
   ]
  },
  {
   "cell_type": "markdown",
   "id": "1593093b",
   "metadata": {},
   "source": [
    "Do_not_email"
   ]
  },
  {
   "cell_type": "code",
   "execution_count": 61,
   "id": "f28c422a",
   "metadata": {},
   "outputs": [
    {
     "data": {
      "text/plain": [
       "No     8506\n",
       "Yes     734\n",
       "Name: do_not_email, dtype: int64"
      ]
     },
     "execution_count": 61,
     "metadata": {},
     "output_type": "execute_result"
    }
   ],
   "source": [
    "lead_df.do_not_email.value_counts()"
   ]
  },
  {
   "cell_type": "markdown",
   "id": "27764b50",
   "metadata": {},
   "source": [
    "Do_not_call"
   ]
  },
  {
   "cell_type": "code",
   "execution_count": 62,
   "id": "90c4302a",
   "metadata": {},
   "outputs": [
    {
     "data": {
      "text/plain": [
       "No     9238\n",
       "Yes       2\n",
       "Name: do_not_call, dtype: int64"
      ]
     },
     "execution_count": 62,
     "metadata": {},
     "output_type": "execute_result"
    }
   ],
   "source": [
    "lead_df.do_not_call.value_counts()\n",
    "#almost no variance will drop it"
   ]
  },
  {
   "cell_type": "markdown",
   "id": "6d498d17",
   "metadata": {},
   "source": [
    "Total_time_spent_on_website"
   ]
  },
  {
   "cell_type": "code",
   "execution_count": 63,
   "id": "78c02a99",
   "metadata": {},
   "outputs": [
    {
     "data": {
      "text/plain": [
       "<seaborn.axisgrid.FacetGrid at 0x7fe22b7e3be0>"
      ]
     },
     "execution_count": 63,
     "metadata": {},
     "output_type": "execute_result"
    },
    {
     "data": {
      "image/png": "[encoded data removed]",
      "text/plain": [
       "<Figure size 360x360 with 1 Axes>"
      ]
     },
     "metadata": {
      "needs_background": "light"
     },
     "output_type": "display_data"
    }
   ],
   "source": [
    "lead_df.total_time_spent_on_website.value_counts()\n",
    "sns.displot(data=lead_df.total_time_spent_on_website)"
   ]
  },
  {
   "cell_type": "markdown",
   "id": "6481ac94",
   "metadata": {},
   "source": [
    "Search"
   ]
  },
  {
   "cell_type": "code",
   "execution_count": 64,
   "id": "e68007a7",
   "metadata": {},
   "outputs": [
    {
     "data": {
      "text/plain": [
       "No     9226\n",
       "Yes      14\n",
       "Name: search, dtype: int64"
      ]
     },
     "execution_count": 64,
     "metadata": {},
     "output_type": "execute_result"
    }
   ],
   "source": [
    "lead_df.search.value_counts()\n",
    "#not great variance, might be using it in B in a A/B testing"
   ]
  },
  {
   "cell_type": "markdown",
   "id": "4a136c7d",
   "metadata": {},
   "source": [
    "Magazine"
   ]
  },
  {
   "cell_type": "code",
   "execution_count": 65,
   "id": "8cacb812",
   "metadata": {},
   "outputs": [
    {
     "data": {
      "text/plain": [
       "No    9240\n",
       "Name: magazine, dtype: int64"
      ]
     },
     "execution_count": 65,
     "metadata": {},
     "output_type": "execute_result"
    }
   ],
   "source": [
    "lead_df.magazine.value_counts()\n",
    "#just one value, no importance so will drop the column"
   ]
  },
  {
   "cell_type": "markdown",
   "id": "3b8b57f7",
   "metadata": {},
   "source": [
    "Newspaper_article"
   ]
  },
  {
   "cell_type": "code",
   "execution_count": 66,
   "id": "5f4d946a",
   "metadata": {},
   "outputs": [
    {
     "data": {
      "text/plain": [
       "No     9238\n",
       "Yes       2\n",
       "Name: newspaper_article, dtype: int64"
      ]
     },
     "execution_count": 66,
     "metadata": {},
     "output_type": "execute_result"
    }
   ],
   "source": [
    "lead_df.newspaper_article.value_counts()\n",
    "#again almost no variance, no importance so will drop the column"
   ]
  },
  {
   "cell_type": "markdown",
   "id": "f72d5a7b",
   "metadata": {},
   "source": [
    "X_education_forums"
   ]
  },
  {
   "cell_type": "code",
   "execution_count": 67,
   "id": "8569bbd6",
   "metadata": {},
   "outputs": [
    {
     "data": {
      "text/plain": [
       "No     9239\n",
       "Yes       1\n",
       "Name: x_education_forums, dtype: int64"
      ]
     },
     "execution_count": 67,
     "metadata": {},
     "output_type": "execute_result"
    }
   ],
   "source": [
    "lead_df.x_education_forums.value_counts()\n",
    "#again almost no variance, no importance so will drop the column"
   ]
  },
  {
   "cell_type": "markdown",
   "id": "ed15bb4f",
   "metadata": {},
   "source": [
    "Update_me_on_supply_chain"
   ]
  },
  {
   "cell_type": "code",
   "execution_count": 68,
   "id": "d72cbb12",
   "metadata": {},
   "outputs": [
    {
     "data": {
      "text/plain": [
       "No    9240\n",
       "Name: update_me_on_supply_chain_content, dtype: int64"
      ]
     },
     "execution_count": 68,
     "metadata": {},
     "output_type": "execute_result"
    }
   ],
   "source": [
    "lead_df.update_me_on_supply_chain_content.value_counts()\n",
    "#again no variance, no importance so will drop the column"
   ]
  },
  {
   "cell_type": "markdown",
   "id": "2a5439c1",
   "metadata": {},
   "source": [
    "Newspaper"
   ]
  },
  {
   "cell_type": "code",
   "execution_count": 69,
   "id": "70466244",
   "metadata": {},
   "outputs": [
    {
     "data": {
      "text/plain": [
       "No     9239\n",
       "Yes       1\n",
       "Name: newspaper, dtype: int64"
      ]
     },
     "execution_count": 69,
     "metadata": {},
     "output_type": "execute_result"
    }
   ],
   "source": [
    "lead_df.newspaper.value_counts()\n",
    "#again almost no variance, no importance so will drop the column"
   ]
  },
  {
   "cell_type": "markdown",
   "id": "4cc24f1c",
   "metadata": {},
   "source": [
    "Digital_advertisement"
   ]
  },
  {
   "cell_type": "code",
   "execution_count": 70,
   "id": "6e114229",
   "metadata": {},
   "outputs": [
    {
     "data": {
      "text/plain": [
       "No     9236\n",
       "Yes       4\n",
       "Name: digital_advertisement, dtype: int64"
      ]
     },
     "execution_count": 70,
     "metadata": {},
     "output_type": "execute_result"
    }
   ],
   "source": [
    "lead_df.digital_advertisement.value_counts()\n",
    "#again almost no variance, no importance so will drop the column"
   ]
  },
  {
   "cell_type": "markdown",
   "id": "57d72bc6",
   "metadata": {},
   "source": [
    "Through_recommendations"
   ]
  },
  {
   "cell_type": "code",
   "execution_count": 71,
   "id": "9bff5ed0",
   "metadata": {},
   "outputs": [
    {
     "data": {
      "text/plain": [
       "No     9233\n",
       "Yes       7\n",
       "Name: through_recommendations, dtype: int64"
      ]
     },
     "execution_count": 71,
     "metadata": {},
     "output_type": "execute_result"
    }
   ],
   "source": [
    "lead_df.through_recommendations.value_counts()\n",
    "#again almost no variance, no importance so will drop the column"
   ]
  },
  {
   "cell_type": "markdown",
   "id": "999dbbce",
   "metadata": {},
   "source": [
    "Receive_more_updates_about_our_courses"
   ]
  },
  {
   "cell_type": "code",
   "execution_count": 72,
   "id": "ca9bda6b",
   "metadata": {},
   "outputs": [
    {
     "data": {
      "text/plain": [
       "No    9240\n",
       "Name: receive_more_updates_about_our_courses, dtype: int64"
      ]
     },
     "execution_count": 72,
     "metadata": {},
     "output_type": "execute_result"
    }
   ],
   "source": [
    "lead_df.receive_more_updates_about_our_courses.value_counts()\n",
    "# no variance, no importance so will drop the column"
   ]
  },
  {
   "cell_type": "markdown",
   "id": "0f04f8ab",
   "metadata": {},
   "source": [
    "Updates_on_dm_content"
   ]
  },
  {
   "cell_type": "code",
   "execution_count": 73,
   "id": "10a63d99",
   "metadata": {},
   "outputs": [
    {
     "data": {
      "text/plain": [
       "No    9240\n",
       "Name: get_updates_on_dm_content, dtype: int64"
      ]
     },
     "execution_count": 73,
     "metadata": {},
     "output_type": "execute_result"
    }
   ],
   "source": [
    "lead_df.get_updates_on_dm_content.value_counts()\n",
    "# no variance, no importance so will drop the column"
   ]
  },
  {
   "cell_type": "markdown",
   "id": "9d8c4288",
   "metadata": {},
   "source": [
    "I_agree_to_pay_the_amount_through_cheque"
   ]
  },
  {
   "cell_type": "code",
   "execution_count": 74,
   "id": "97ed9da1",
   "metadata": {},
   "outputs": [
    {
     "data": {
      "text/plain": [
       "No    9240\n",
       "Name: i_agree_to_pay_the_amount_through_cheque, dtype: int64"
      ]
     },
     "execution_count": 74,
     "metadata": {},
     "output_type": "execute_result"
    }
   ],
   "source": [
    "lead_df.i_agree_to_pay_the_amount_through_cheque.value_counts()\n",
    "# no variance, no importance so will drop the column"
   ]
  },
  {
   "cell_type": "markdown",
   "id": "c641be7f",
   "metadata": {},
   "source": [
    "A_free_copy_of_mastering_the_interview"
   ]
  },
  {
   "cell_type": "code",
   "execution_count": 75,
   "id": "c28d08e3",
   "metadata": {},
   "outputs": [
    {
     "data": {
      "text/plain": [
       "No     6352\n",
       "Yes    2888\n",
       "Name: a_free_copy_of_mastering_the_interview, dtype: int64"
      ]
     },
     "metadata": {},
     "output_type": "display_data"
    },
    {
     "data": {
      "text/plain": [
       "<AxesSubplot:xlabel='count', ylabel='a_free_copy_of_mastering_the_interview'>"
      ]
     },
     "execution_count": 75,
     "metadata": {},
     "output_type": "execute_result"
    },
    {
     "data": {
      "image/png": "[encoded data removed]",
      "text/plain": [
       "<Figure size 432x288 with 1 Axes>"
      ]
     },
     "metadata": {
      "needs_background": "light"
     },
     "output_type": "display_data"
    }
   ],
   "source": [
    "display(lead_df.a_free_copy_of_mastering_the_interview.value_counts())\n",
    "sns.countplot( y=lead_df.a_free_copy_of_mastering_the_interview, hue = lead_df.converted)\n",
    "#has apperantly no big influence on ppl to convert"
   ]
  },
  {
   "cell_type": "markdown",
   "id": "a0efd2b5",
   "metadata": {},
   "source": [
    "Last_notable_activity"
   ]
  },
  {
   "cell_type": "code",
   "execution_count": 76,
   "id": "9c35d856",
   "metadata": {},
   "outputs": [
    {
     "data": {
      "text/plain": [
       "Modified                        3407\n",
       "Email Opened                    2827\n",
       "SMS Sent                        2172\n",
       "Page Visited on Website          318\n",
       "Olark Chat Conversation          183\n",
       "Email Link Clicked               173\n",
       "Email Bounced                     60\n",
       "Unsubscribed                      47\n",
       "Unreachable                       32\n",
       "Had a Phone Conversation          14\n",
       "Email Marked Spam                  2\n",
       "Approached upfront                 1\n",
       "Resubscribed to emails             1\n",
       "View in browser link Clicked       1\n",
       "Form Submitted on Website          1\n",
       "Email Received                     1\n",
       "Name: last_notable_activity, dtype: int64"
      ]
     },
     "metadata": {},
     "output_type": "display_data"
    },
    {
     "data": {
      "text/plain": [
       "Modified                   3407\n",
       "Email Opened               2827\n",
       "SMS Sent                   2172\n",
       "Page Visited on Website     318\n",
       "Olark Chat Conversation     183\n",
       "Email Link Clicked          173\n",
       "Unreachable                  92\n",
       "Unsubscribed                 49\n",
       "Other                        19\n",
       "Name: last_notable_activity, dtype: int64"
      ]
     },
     "execution_count": 76,
     "metadata": {},
     "output_type": "execute_result"
    }
   ],
   "source": [
    "display(lead_df.last_notable_activity.value_counts())\n",
    "#bucketing unsubscribed and Email marked spam\n",
    "lead_df.last_notable_activity.replace('Email Marked Spam','Unsubscribed', inplace = True)\n",
    "#bucketing bounced and unrechable\n",
    "lead_df.last_notable_activity.replace('Email Bounced','Unreachable', inplace = True)\n",
    "#bucketing under 30 to other\n",
    "lead_df.last_notable_activity.replace(('Had a Phone Conversation','Approached upfront','Resubscribed to emails','View in browser link Clicked','Form Submitted on Website','Email Received'), 'Other', inplace = True)\n",
    "lead_df.last_notable_activity.value_counts()"
   ]
  },
  {
   "cell_type": "markdown",
   "id": "9cd63f4f",
   "metadata": {},
   "source": [
    "### Check Outliers in numerical features"
   ]
  },
  {
   "cell_type": "code",
   "execution_count": 77,
   "id": "9854ac04",
   "metadata": {},
   "outputs": [],
   "source": [
    "# getting numerical  values\n",
    "lead_numerical = lead_df.select_dtypes(include=np.number)\n",
    "#dropping lead number and converted(target variabble)\n",
    "lead_numerical.drop(columns =(['lead_number', 'converted']),inplace = True)"
   ]
  },
  {
   "cell_type": "code",
   "execution_count": 78,
   "id": "3ba63dda",
   "metadata": {},
   "outputs": [
    {
     "data": {
      "image/png": "[encoded data removed]",
      "text/plain": [
       "<Figure size 432x288 with 1 Axes>"
      ]
     },
     "metadata": {
      "needs_background": "light"
     },
     "output_type": "display_data"
    },
    {
     "data": {
      "image/png": "[encoded data removed]",
      "text/plain": [
       "<Figure size 432x288 with 1 Axes>"
      ]
     },
     "metadata": {
      "needs_background": "light"
     },
     "output_type": "display_data"
    },
    {
     "data": {
      "image/png": "[encoded data removed]",
      "text/plain": [
       "<Figure size 432x288 with 1 Axes>"
      ]
     },
     "metadata": {
      "needs_background": "light"
     },
     "output_type": "display_data"
    }
   ],
   "source": [
    "#total_visits\n",
    "for i in lead_numerical:\n",
    "    \n",
    "    sns.boxplot(i, data =lead_numerical)\n",
    "    plt.show()"
   ]
  },
  {
   "cell_type": "markdown",
   "id": "15e2b4f6",
   "metadata": {},
   "source": [
    "#### Outliers detected in page_views_per_visit and totalvisits with z-score\n",
    "\n",
    "A Z-score of zero represents a value that equals the mean. The further away an observation's Z-score is from zero, the more unusual it is. A standard cut-off value for finding outliers are Z-scores of +/-3 or further from zero."
   ]
  },
  {
   "cell_type": "code",
   "execution_count": 79,
   "id": "e7362933",
   "metadata": {},
   "outputs": [],
   "source": [
    "z = np.abs(stats.zscore(lead_df.page_views_per_visit))\n",
    "threshold = 5\n",
    "outliers_pagevisits =(np.where(z > 3))\n",
    "outliers_pagevisits = np.array(outliers_pagevisits).tolist()\n",
    "\n",
    "z1 = np.abs(stats.zscore(lead_df.totalvisits))\n",
    "threshold = 5\n",
    "outliers_totalvisits =(np.where(z1 > 3))\n",
    "outliers_totalvisits = np.array(outliers_totalvisits).tolist()\n",
    "\n",
    "#combine both lists to the drop these rows\n",
    "outliers = [*outliers_totalvisits, *outliers_pagevisits]\n",
    "#outliers\n"
   ]
  },
  {
   "cell_type": "code",
   "execution_count": 80,
   "id": "78412efe",
   "metadata": {},
   "outputs": [],
   "source": [
    "a =lead_df.shape"
   ]
  },
  {
   "cell_type": "code",
   "execution_count": 81,
   "id": "457031ae",
   "metadata": {},
   "outputs": [],
   "source": [
    "for i in outliers:\n",
    "    lead_df.drop(lead_df.index[[i]], inplace = True)"
   ]
  },
  {
   "cell_type": "code",
   "execution_count": 82,
   "id": "7633e64d",
   "metadata": {},
   "outputs": [
    {
     "name": "stdout",
     "output_type": "stream",
     "text": [
      "The original df shape was (9240, 31) . After removing the outliers, the dataset shape is: (9037, 31) . 98 % of the dataset rows will be used for the analysis!\n"
     ]
    }
   ],
   "source": [
    "b= lead_df.shape\n",
    "print(\"The original df shape was\",a, \". After removing the outliers, the dataset shape is:\",b,\".\", round(b[0] / a[0] *100), \"% of the dataset rows will be used for the analysis!\")\n"
   ]
  },
  {
   "cell_type": "markdown",
   "id": "465a94ea",
   "metadata": {},
   "source": [
    "### Loading cleaned dataset with pipeline"
   ]
  },
  {
   "cell_type": "code",
   "execution_count": 97,
   "id": "829b6bc2",
   "metadata": {},
   "outputs": [
    {
     "data": {
      "text/html": [
       "<div>\n",
       "<style scoped>\n",
       "    .dataframe tbody tr th:only-of-type {\n",
       "        vertical-align: middle;\n",
       "    }\n",
       "\n",
       "    .dataframe tbody tr th {\n",
       "        vertical-align: top;\n",
       "    }\n",
       "\n",
       "    .dataframe thead th {\n",
       "        text-align: right;\n",
       "    }\n",
       "</style>\n",
       "<table border=\"1\" class=\"dataframe\">\n",
       "  <thead>\n",
       "    <tr style=\"text-align: right;\">\n",
       "      <th></th>\n",
       "      <th>lead_number</th>\n",
       "      <th>lead_origin</th>\n",
       "      <th>lead_source</th>\n",
       "      <th>do_not_email</th>\n",
       "      <th>converted</th>\n",
       "      <th>totalvisits</th>\n",
       "      <th>total_time_spent_on_website</th>\n",
       "      <th>page_views_per_visit</th>\n",
       "      <th>last_activity</th>\n",
       "      <th>what_is_your_current_occupation</th>\n",
       "      <th>a_free_copy_of_mastering_the_interview</th>\n",
       "      <th>last_notable_activity</th>\n",
       "    </tr>\n",
       "  </thead>\n",
       "  <tbody>\n",
       "    <tr>\n",
       "      <th>0</th>\n",
       "      <td>660737</td>\n",
       "      <td>API</td>\n",
       "      <td>Olark Chat</td>\n",
       "      <td>No</td>\n",
       "      <td>0</td>\n",
       "      <td>0.0</td>\n",
       "      <td>0</td>\n",
       "      <td>0.00</td>\n",
       "      <td>Page Visited on Website</td>\n",
       "      <td>Unemployed</td>\n",
       "      <td>No</td>\n",
       "      <td>Modified</td>\n",
       "    </tr>\n",
       "    <tr>\n",
       "      <th>1</th>\n",
       "      <td>660728</td>\n",
       "      <td>API</td>\n",
       "      <td>Organic Search</td>\n",
       "      <td>No</td>\n",
       "      <td>0</td>\n",
       "      <td>5.0</td>\n",
       "      <td>674</td>\n",
       "      <td>2.50</td>\n",
       "      <td>Email Opened</td>\n",
       "      <td>Unemployed</td>\n",
       "      <td>No</td>\n",
       "      <td>Email Opened</td>\n",
       "    </tr>\n",
       "    <tr>\n",
       "      <th>2</th>\n",
       "      <td>660727</td>\n",
       "      <td>Landing Page Submission</td>\n",
       "      <td>Direct Traffic</td>\n",
       "      <td>No</td>\n",
       "      <td>1</td>\n",
       "      <td>2.0</td>\n",
       "      <td>1532</td>\n",
       "      <td>2.00</td>\n",
       "      <td>Email Opened</td>\n",
       "      <td>Student</td>\n",
       "      <td>Yes</td>\n",
       "      <td>Email Opened</td>\n",
       "    </tr>\n",
       "    <tr>\n",
       "      <th>3</th>\n",
       "      <td>660719</td>\n",
       "      <td>Landing Page Submission</td>\n",
       "      <td>Direct Traffic</td>\n",
       "      <td>No</td>\n",
       "      <td>0</td>\n",
       "      <td>1.0</td>\n",
       "      <td>305</td>\n",
       "      <td>1.00</td>\n",
       "      <td>Unreachable</td>\n",
       "      <td>Unemployed</td>\n",
       "      <td>No</td>\n",
       "      <td>Modified</td>\n",
       "    </tr>\n",
       "    <tr>\n",
       "      <th>4</th>\n",
       "      <td>660681</td>\n",
       "      <td>Landing Page Submission</td>\n",
       "      <td>Google</td>\n",
       "      <td>No</td>\n",
       "      <td>1</td>\n",
       "      <td>2.0</td>\n",
       "      <td>1428</td>\n",
       "      <td>1.00</td>\n",
       "      <td>Converted to Lead</td>\n",
       "      <td>Unemployed</td>\n",
       "      <td>No</td>\n",
       "      <td>Modified</td>\n",
       "    </tr>\n",
       "    <tr>\n",
       "      <th>...</th>\n",
       "      <td>...</td>\n",
       "      <td>...</td>\n",
       "      <td>...</td>\n",
       "      <td>...</td>\n",
       "      <td>...</td>\n",
       "      <td>...</td>\n",
       "      <td>...</td>\n",
       "      <td>...</td>\n",
       "      <td>...</td>\n",
       "      <td>...</td>\n",
       "      <td>...</td>\n",
       "      <td>...</td>\n",
       "    </tr>\n",
       "    <tr>\n",
       "      <th>9235</th>\n",
       "      <td>579564</td>\n",
       "      <td>Landing Page Submission</td>\n",
       "      <td>Direct Traffic</td>\n",
       "      <td>Yes</td>\n",
       "      <td>1</td>\n",
       "      <td>8.0</td>\n",
       "      <td>1845</td>\n",
       "      <td>2.67</td>\n",
       "      <td>Other</td>\n",
       "      <td>Unemployed</td>\n",
       "      <td>No</td>\n",
       "      <td>Unsubscribed</td>\n",
       "    </tr>\n",
       "    <tr>\n",
       "      <th>9236</th>\n",
       "      <td>579546</td>\n",
       "      <td>Landing Page Submission</td>\n",
       "      <td>Direct Traffic</td>\n",
       "      <td>No</td>\n",
       "      <td>0</td>\n",
       "      <td>2.0</td>\n",
       "      <td>238</td>\n",
       "      <td>2.00</td>\n",
       "      <td>SMS Sent</td>\n",
       "      <td>Unemployed</td>\n",
       "      <td>Yes</td>\n",
       "      <td>SMS Sent</td>\n",
       "    </tr>\n",
       "    <tr>\n",
       "      <th>9237</th>\n",
       "      <td>579545</td>\n",
       "      <td>Landing Page Submission</td>\n",
       "      <td>Direct Traffic</td>\n",
       "      <td>Yes</td>\n",
       "      <td>0</td>\n",
       "      <td>2.0</td>\n",
       "      <td>199</td>\n",
       "      <td>2.00</td>\n",
       "      <td>SMS Sent</td>\n",
       "      <td>Unemployed</td>\n",
       "      <td>Yes</td>\n",
       "      <td>SMS Sent</td>\n",
       "    </tr>\n",
       "    <tr>\n",
       "      <th>9238</th>\n",
       "      <td>579538</td>\n",
       "      <td>Landing Page Submission</td>\n",
       "      <td>Google</td>\n",
       "      <td>No</td>\n",
       "      <td>1</td>\n",
       "      <td>3.0</td>\n",
       "      <td>499</td>\n",
       "      <td>3.00</td>\n",
       "      <td>SMS Sent</td>\n",
       "      <td>Other</td>\n",
       "      <td>No</td>\n",
       "      <td>SMS Sent</td>\n",
       "    </tr>\n",
       "    <tr>\n",
       "      <th>9239</th>\n",
       "      <td>579533</td>\n",
       "      <td>Landing Page Submission</td>\n",
       "      <td>Direct Traffic</td>\n",
       "      <td>No</td>\n",
       "      <td>1</td>\n",
       "      <td>6.0</td>\n",
       "      <td>1279</td>\n",
       "      <td>3.00</td>\n",
       "      <td>SMS Sent</td>\n",
       "      <td>Unemployed</td>\n",
       "      <td>Yes</td>\n",
       "      <td>Modified</td>\n",
       "    </tr>\n",
       "  </tbody>\n",
       "</table>\n",
       "<p>9037 rows × 12 columns</p>\n",
       "</div>"
      ],
      "text/plain": [
       "      lead_number              lead_origin     lead_source do_not_email  \\\n",
       "0          660737                      API      Olark Chat           No   \n",
       "1          660728                      API  Organic Search           No   \n",
       "2          660727  Landing Page Submission  Direct Traffic           No   \n",
       "3          660719  Landing Page Submission  Direct Traffic           No   \n",
       "4          660681  Landing Page Submission          Google           No   \n",
       "...           ...                      ...             ...          ...   \n",
       "9235       579564  Landing Page Submission  Direct Traffic          Yes   \n",
       "9236       579546  Landing Page Submission  Direct Traffic           No   \n",
       "9237       579545  Landing Page Submission  Direct Traffic          Yes   \n",
       "9238       579538  Landing Page Submission          Google           No   \n",
       "9239       579533  Landing Page Submission  Direct Traffic           No   \n",
       "\n",
       "      converted  totalvisits  total_time_spent_on_website  \\\n",
       "0             0          0.0                            0   \n",
       "1             0          5.0                          674   \n",
       "2             1          2.0                         1532   \n",
       "3             0          1.0                          305   \n",
       "4             1          2.0                         1428   \n",
       "...         ...          ...                          ...   \n",
       "9235          1          8.0                         1845   \n",
       "9236          0          2.0                          238   \n",
       "9237          0          2.0                          199   \n",
       "9238          1          3.0                          499   \n",
       "9239          1          6.0                         1279   \n",
       "\n",
       "      page_views_per_visit            last_activity  \\\n",
       "0                     0.00  Page Visited on Website   \n",
       "1                     2.50             Email Opened   \n",
       "2                     2.00             Email Opened   \n",
       "3                     1.00              Unreachable   \n",
       "4                     1.00        Converted to Lead   \n",
       "...                    ...                      ...   \n",
       "9235                  2.67                    Other   \n",
       "9236                  2.00                 SMS Sent   \n",
       "9237                  2.00                 SMS Sent   \n",
       "9238                  3.00                 SMS Sent   \n",
       "9239                  3.00                 SMS Sent   \n",
       "\n",
       "     what_is_your_current_occupation a_free_copy_of_mastering_the_interview  \\\n",
       "0                         Unemployed                                     No   \n",
       "1                         Unemployed                                     No   \n",
       "2                            Student                                    Yes   \n",
       "3                         Unemployed                                     No   \n",
       "4                         Unemployed                                     No   \n",
       "...                              ...                                    ...   \n",
       "9235                      Unemployed                                     No   \n",
       "9236                      Unemployed                                    Yes   \n",
       "9237                      Unemployed                                    Yes   \n",
       "9238                           Other                                     No   \n",
       "9239                      Unemployed                                    Yes   \n",
       "\n",
       "     last_notable_activity  \n",
       "0                 Modified  \n",
       "1             Email Opened  \n",
       "2             Email Opened  \n",
       "3                 Modified  \n",
       "4                 Modified  \n",
       "...                    ...  \n",
       "9235          Unsubscribed  \n",
       "9236              SMS Sent  \n",
       "9237              SMS Sent  \n",
       "9238              SMS Sent  \n",
       "9239              Modified  \n",
       "\n",
       "[9037 rows x 12 columns]"
      ]
     },
     "execution_count": 97,
     "metadata": {},
     "output_type": "execute_result"
    }
   ],
   "source": [
    "lead_df = pd.read_csv('files/Lead Scoring.csv')\n",
    "clean_data(lead_df)\n",
    "#lead_df.to_excel('files/template_model_input.xlsx')"
   ]
  },
  {
   "cell_type": "code",
   "execution_count": 98,
   "id": "cff80721",
   "metadata": {},
   "outputs": [
    {
     "data": {
      "text/plain": [
       "Index(['lead_number', 'lead_origin', 'lead_source', 'do_not_email',\n",
       "       'converted', 'totalvisits', 'total_time_spent_on_website',\n",
       "       'page_views_per_visit', 'last_activity',\n",
       "       'what_is_your_current_occupation',\n",
       "       'a_free_copy_of_mastering_the_interview', 'last_notable_activity'],\n",
       "      dtype='object')"
      ]
     },
     "execution_count": 98,
     "metadata": {},
     "output_type": "execute_result"
    }
   ],
   "source": [
    "lead_df.columns"
   ]
  },
  {
   "cell_type": "markdown",
   "id": "f5571535",
   "metadata": {},
   "source": [
    "## Checking Imbalance of dataset \n",
    "\n",
    "using the dependent variable ='converted' , now concrete cutoff when a dataset is considered imbalanced, however common is to consider it as imbalanced if the ratio is greater than 1:9"
   ]
  },
  {
   "cell_type": "code",
   "execution_count": 99,
   "id": "cdad8dea",
   "metadata": {},
   "outputs": [
    {
     "data": {
      "text/plain": [
       "0    5548\n",
       "1    3489\n",
       "Name: converted, dtype: int64"
      ]
     },
     "execution_count": 99,
     "metadata": {},
     "output_type": "execute_result"
    }
   ],
   "source": [
    "lead_df.converted.value_counts()\n",
    "#dataset imbalance ratio is just 1: 1.6, so no down-or upsampling needed"
   ]
  },
  {
   "cell_type": "markdown",
   "id": "eee92bf9",
   "metadata": {},
   "source": [
    "## Data preprocessing"
   ]
  },
  {
   "cell_type": "code",
   "execution_count": 100,
   "id": "3f2ee3b5",
   "metadata": {},
   "outputs": [
    {
     "data": {
      "text/plain": [
       "(9037, 7)"
      ]
     },
     "execution_count": 100,
     "metadata": {},
     "output_type": "execute_result"
    }
   ],
   "source": [
    "# numerical &categorical values\n",
    "lead_numerical = lead_df.select_dtypes(include=np.number).drop(columns=['lead_number', 'converted'])\n",
    "lead_categorical = lead_df.select_dtypes(include=np.object)\n",
    "lead_categorical.shape"
   ]
  },
  {
   "cell_type": "code",
   "execution_count": 101,
   "id": "9c83bde4",
   "metadata": {},
   "outputs": [
    {
     "name": "stdout",
     "output_type": "stream",
     "text": [
      "['totalvisits', 'total_time_spent_on_website', 'page_views_per_visit']\n"
     ]
    },
    {
     "data": {
      "text/plain": [
       "['lead_origin',\n",
       " 'lead_source',\n",
       " 'do_not_email',\n",
       " 'last_activity',\n",
       " 'what_is_your_current_occupation',\n",
       " 'a_free_copy_of_mastering_the_interview',\n",
       " 'last_notable_activity']"
      ]
     },
     "execution_count": 101,
     "metadata": {},
     "output_type": "execute_result"
    }
   ],
   "source": [
    "print(list(lead_numerical))\n",
    "list(lead_categorical)\n"
   ]
  },
  {
   "cell_type": "markdown",
   "id": "efd0257b",
   "metadata": {},
   "source": [
    "### Checking for high correlation in numerical values"
   ]
  },
  {
   "cell_type": "code",
   "execution_count": 102,
   "id": "b0d08f54",
   "metadata": {},
   "outputs": [
    {
     "data": {
      "image/png": "[encoded data removed]",
      "text/plain": [
       "<Figure size 720x576 with 2 Axes>"
      ]
     },
     "metadata": {
      "needs_background": "light"
     },
     "output_type": "display_data"
    }
   ],
   "source": [
    "#correleation between numerical features\n",
    "#Dropping features that show a high correlation between them (greater than 0.9)\n",
    "\n",
    "correlations = lead_numerical.corr()\n",
    "cmap = sns.cm.rocket_r  ## for reversing the colors\n",
    "mask=np.zeros_like(lead_numerical.corr())\n",
    "mask[np.triu_indices_from(mask)]=True\n",
    "fig, ax=plt.subplots(figsize=(10, 8))\n",
    "ax=sns.heatmap(lead_numerical.corr(), mask=mask, annot=True,cmap=cmap)\n",
    "plt.show()\n",
    "\n",
    "#no high correlation"
   ]
  },
  {
   "cell_type": "markdown",
   "id": "3f79c202",
   "metadata": {},
   "source": [
    "### Encoding"
   ]
  },
  {
   "cell_type": "code",
   "execution_count": 103,
   "id": "5c85b86e",
   "metadata": {},
   "outputs": [
    {
     "data": {
      "text/plain": [
       "(9037, 36)"
      ]
     },
     "metadata": {},
     "output_type": "display_data"
    }
   ],
   "source": [
    "#get dummies for categorical values\n",
    "dummies = pd.get_dummies(data = lead_categorical, drop_first=True).reset_index()\n",
    "display(dummies.shape)\n"
   ]
  },
  {
   "cell_type": "markdown",
   "id": "581f314a",
   "metadata": {},
   "source": [
    "### Scaling numerical features\n",
    "\n",
    "*data normalization is not needed but also won’t affect the output for Tree/Random Forest classifiers"
   ]
  },
  {
   "cell_type": "code",
   "execution_count": 104,
   "id": "0acdd478",
   "metadata": {},
   "outputs": [
    {
     "data": {
      "text/html": [
       "<div>\n",
       "<style scoped>\n",
       "    .dataframe tbody tr th:only-of-type {\n",
       "        vertical-align: middle;\n",
       "    }\n",
       "\n",
       "    .dataframe tbody tr th {\n",
       "        vertical-align: top;\n",
       "    }\n",
       "\n",
       "    .dataframe thead th {\n",
       "        text-align: right;\n",
       "    }\n",
       "</style>\n",
       "<table border=\"1\" class=\"dataframe\">\n",
       "  <thead>\n",
       "    <tr style=\"text-align: right;\">\n",
       "      <th></th>\n",
       "      <th>totalvisits</th>\n",
       "      <th>total_time_spent_on_website</th>\n",
       "      <th>page_views_per_visit</th>\n",
       "    </tr>\n",
       "  </thead>\n",
       "  <tbody>\n",
       "    <tr>\n",
       "      <th>0</th>\n",
       "      <td>0.0</td>\n",
       "      <td>0</td>\n",
       "      <td>0.0</td>\n",
       "    </tr>\n",
       "    <tr>\n",
       "      <th>1</th>\n",
       "      <td>5.0</td>\n",
       "      <td>674</td>\n",
       "      <td>2.5</td>\n",
       "    </tr>\n",
       "  </tbody>\n",
       "</table>\n",
       "</div>"
      ],
      "text/plain": [
       "   totalvisits  total_time_spent_on_website  page_views_per_visit\n",
       "0          0.0                            0                   0.0\n",
       "1          5.0                          674                   2.5"
      ]
     },
     "metadata": {},
     "output_type": "display_data"
    },
    {
     "name": "stdout",
     "output_type": "stream",
     "text": [
      "\n"
     ]
    },
    {
     "data": {
      "text/html": [
       "<div>\n",
       "<style scoped>\n",
       "    .dataframe tbody tr th:only-of-type {\n",
       "        vertical-align: middle;\n",
       "    }\n",
       "\n",
       "    .dataframe tbody tr th {\n",
       "        vertical-align: top;\n",
       "    }\n",
       "\n",
       "    .dataframe thead th {\n",
       "        text-align: right;\n",
       "    }\n",
       "</style>\n",
       "<table border=\"1\" class=\"dataframe\">\n",
       "  <thead>\n",
       "    <tr style=\"text-align: right;\">\n",
       "      <th></th>\n",
       "      <th>totalvisits</th>\n",
       "      <th>total_time_spent_on_website</th>\n",
       "      <th>page_views_per_visit</th>\n",
       "    </tr>\n",
       "  </thead>\n",
       "  <tbody>\n",
       "    <tr>\n",
       "      <th>0</th>\n",
       "      <td>-1.081573</td>\n",
       "      <td>-0.889891</td>\n",
       "      <td>-1.148808</td>\n",
       "    </tr>\n",
       "    <tr>\n",
       "      <th>1</th>\n",
       "      <td>0.608993</td>\n",
       "      <td>0.339557</td>\n",
       "      <td>0.087635</td>\n",
       "    </tr>\n",
       "  </tbody>\n",
       "</table>\n",
       "</div>"
      ],
      "text/plain": [
       "   totalvisits  total_time_spent_on_website  page_views_per_visit\n",
       "0    -1.081573                    -0.889891             -1.148808\n",
       "1     0.608993                     0.339557              0.087635"
      ]
     },
     "metadata": {},
     "output_type": "display_data"
    },
    {
     "data": {
      "text/plain": [
       "(9037, 3)"
      ]
     },
     "execution_count": 104,
     "metadata": {},
     "output_type": "execute_result"
    }
   ],
   "source": [
    "\n",
    "#scaling numerical features\n",
    "\n",
    "scaler = StandardScaler()\n",
    "scaler.fit(lead_numerical) #z score \n",
    "lead_numericals_scaled = scaler.transform(lead_numerical) #gives an array\n",
    "lead_numericals_scaled = pd.DataFrame(lead_numericals_scaled, columns = lead_numerical.columns) #transform it to a df\n",
    "display(lead_numerical.head(2))\n",
    "print()\n",
    "display(lead_numericals_scaled.head(2))\n",
    "\n",
    "lead_numericals_scaled.shape\n"
   ]
  },
  {
   "cell_type": "markdown",
   "id": "04e6664c",
   "metadata": {},
   "source": [
    "### Plotting categorical Features"
   ]
  },
  {
   "cell_type": "code",
   "execution_count": 105,
   "id": "86fd66f3",
   "metadata": {},
   "outputs": [
    {
     "data": {
      "image/png": "[encoded data removed]",
      "text/plain": [
       "<Figure size 720x360 with 1 Axes>"
      ]
     },
     "metadata": {
      "needs_background": "light"
     },
     "output_type": "display_data"
    },
    {
     "data": {
      "image/png": "[encoded data removed]",
      "text/plain": [
       "<Figure size 720x360 with 1 Axes>"
      ]
     },
     "metadata": {
      "needs_background": "light"
     },
     "output_type": "display_data"
    },
    {
     "data": {
      "image/png": "[encoded data removed]",
      "text/plain": [
       "<Figure size 720x360 with 1 Axes>"
      ]
     },
     "metadata": {
      "needs_background": "light"
     },
     "output_type": "display_data"
    },
    {
     "data": {
      "image/png": "[encoded data removed]",
      "text/plain": [
       "<Figure size 720x360 with 1 Axes>"
      ]
     },
     "metadata": {
      "needs_background": "light"
     },
     "output_type": "display_data"
    },
    {
     "data": {
      "image/png": "[encoded data removed]",
      "text/plain": [
       "<Figure size 720x360 with 1 Axes>"
      ]
     },
     "metadata": {
      "needs_background": "light"
     },
     "output_type": "display_data"
    },
    {
     "data": {
      "image/png": "[encoded data removed]",
      "text/plain": [
       "<Figure size 720x360 with 1 Axes>"
      ]
     },
     "metadata": {
      "needs_background": "light"
     },
     "output_type": "display_data"
    },
    {
     "data": {
      "image/png": "[encoded data removed]",
      "text/plain": [
       "<Figure size 720x360 with 1 Axes>"
      ]
     },
     "metadata": {
      "needs_background": "light"
     },
     "output_type": "display_data"
    }
   ],
   "source": [
    "for c in lead_categorical:\n",
    "    plt.figure(figsize=(10,5))\n",
    "    plt.bar(lead_categorical[c].unique(), lead_categorical[c].value_counts())\n",
    "    plt.title(c)\n",
    "    plt.xticks(rotation=45)\n",
    "    plt.show();"
   ]
  },
  {
   "cell_type": "markdown",
   "id": "32d0d1b4",
   "metadata": {},
   "source": [
    "### Plotting numerical Features"
   ]
  },
  {
   "cell_type": "code",
   "execution_count": 106,
   "id": "5d210a1e",
   "metadata": {},
   "outputs": [
    {
     "data": {
      "image/png": "[encoded data removed]",
      "text/plain": [
       "<Figure size 540x540 with 12 Axes>"
      ]
     },
     "metadata": {
      "needs_background": "light"
     },
     "output_type": "display_data"
    }
   ],
   "source": [
    "#Use seaborn library to construct distribution plots for the numerical_scaled variables##\n",
    "sns.pairplot(lead_numericals_scaled)\n",
    "plt.show()"
   ]
  },
  {
   "cell_type": "markdown",
   "id": "1b40bf12",
   "metadata": {},
   "source": [
    "### Combining scaled numerical and encoded categorical data"
   ]
  },
  {
   "cell_type": "code",
   "execution_count": 107,
   "id": "651f69a7",
   "metadata": {},
   "outputs": [
    {
     "data": {
      "text/html": [
       "<div>\n",
       "<style scoped>\n",
       "    .dataframe tbody tr th:only-of-type {\n",
       "        vertical-align: middle;\n",
       "    }\n",
       "\n",
       "    .dataframe tbody tr th {\n",
       "        vertical-align: top;\n",
       "    }\n",
       "\n",
       "    .dataframe thead th {\n",
       "        text-align: right;\n",
       "    }\n",
       "</style>\n",
       "<table border=\"1\" class=\"dataframe\">\n",
       "  <thead>\n",
       "    <tr style=\"text-align: right;\">\n",
       "      <th></th>\n",
       "      <th>index</th>\n",
       "      <th>lead_origin_Add Form</th>\n",
       "      <th>lead_origin_Landing Page Submission</th>\n",
       "      <th>lead_origin_Lead Import</th>\n",
       "      <th>lead_source_Facebook</th>\n",
       "      <th>lead_source_Google</th>\n",
       "      <th>lead_source_Olark Chat</th>\n",
       "      <th>lead_source_Organic Search</th>\n",
       "      <th>lead_source_Other</th>\n",
       "      <th>lead_source_Referral</th>\n",
       "      <th>lead_source_Welingak Website</th>\n",
       "      <th>do_not_email_Yes</th>\n",
       "      <th>last_activity_Email Bounced</th>\n",
       "      <th>last_activity_Email Link Clicked</th>\n",
       "      <th>last_activity_Email Opened</th>\n",
       "      <th>last_activity_Form Submitted on Website</th>\n",
       "      <th>last_activity_Had a Phone Conversation</th>\n",
       "      <th>last_activity_Olark Chat Conversation</th>\n",
       "      <th>last_activity_Other</th>\n",
       "      <th>last_activity_Page Visited on Website</th>\n",
       "      <th>last_activity_SMS Sent</th>\n",
       "      <th>last_activity_Unreachable</th>\n",
       "      <th>last_activity_Unsubscribed</th>\n",
       "      <th>what_is_your_current_occupation_Other</th>\n",
       "      <th>what_is_your_current_occupation_Student</th>\n",
       "      <th>what_is_your_current_occupation_Unemployed</th>\n",
       "      <th>what_is_your_current_occupation_Working Professional</th>\n",
       "      <th>a_free_copy_of_mastering_the_interview_Yes</th>\n",
       "      <th>last_notable_activity_Email Opened</th>\n",
       "      <th>last_notable_activity_Modified</th>\n",
       "      <th>last_notable_activity_Olark Chat Conversation</th>\n",
       "      <th>last_notable_activity_Other</th>\n",
       "      <th>last_notable_activity_Page Visited on Website</th>\n",
       "      <th>last_notable_activity_SMS Sent</th>\n",
       "      <th>last_notable_activity_Unreachable</th>\n",
       "      <th>last_notable_activity_Unsubscribed</th>\n",
       "      <th>totalvisits</th>\n",
       "      <th>total_time_spent_on_website</th>\n",
       "      <th>page_views_per_visit</th>\n",
       "    </tr>\n",
       "  </thead>\n",
       "  <tbody>\n",
       "    <tr>\n",
       "      <th>0</th>\n",
       "      <td>0</td>\n",
       "      <td>0</td>\n",
       "      <td>0</td>\n",
       "      <td>0</td>\n",
       "      <td>0</td>\n",
       "      <td>0</td>\n",
       "      <td>1</td>\n",
       "      <td>0</td>\n",
       "      <td>0</td>\n",
       "      <td>0</td>\n",
       "      <td>0</td>\n",
       "      <td>0</td>\n",
       "      <td>0</td>\n",
       "      <td>0</td>\n",
       "      <td>0</td>\n",
       "      <td>0</td>\n",
       "      <td>0</td>\n",
       "      <td>0</td>\n",
       "      <td>0</td>\n",
       "      <td>1</td>\n",
       "      <td>0</td>\n",
       "      <td>0</td>\n",
       "      <td>0</td>\n",
       "      <td>0</td>\n",
       "      <td>0</td>\n",
       "      <td>1</td>\n",
       "      <td>0</td>\n",
       "      <td>0</td>\n",
       "      <td>0</td>\n",
       "      <td>1</td>\n",
       "      <td>0</td>\n",
       "      <td>0</td>\n",
       "      <td>0</td>\n",
       "      <td>0</td>\n",
       "      <td>0</td>\n",
       "      <td>0</td>\n",
       "      <td>-1.081573</td>\n",
       "      <td>-0.889891</td>\n",
       "      <td>-1.148808</td>\n",
       "    </tr>\n",
       "    <tr>\n",
       "      <th>1</th>\n",
       "      <td>1</td>\n",
       "      <td>0</td>\n",
       "      <td>0</td>\n",
       "      <td>0</td>\n",
       "      <td>0</td>\n",
       "      <td>0</td>\n",
       "      <td>0</td>\n",
       "      <td>1</td>\n",
       "      <td>0</td>\n",
       "      <td>0</td>\n",
       "      <td>0</td>\n",
       "      <td>0</td>\n",
       "      <td>0</td>\n",
       "      <td>0</td>\n",
       "      <td>1</td>\n",
       "      <td>0</td>\n",
       "      <td>0</td>\n",
       "      <td>0</td>\n",
       "      <td>0</td>\n",
       "      <td>0</td>\n",
       "      <td>0</td>\n",
       "      <td>0</td>\n",
       "      <td>0</td>\n",
       "      <td>0</td>\n",
       "      <td>0</td>\n",
       "      <td>1</td>\n",
       "      <td>0</td>\n",
       "      <td>0</td>\n",
       "      <td>1</td>\n",
       "      <td>0</td>\n",
       "      <td>0</td>\n",
       "      <td>0</td>\n",
       "      <td>0</td>\n",
       "      <td>0</td>\n",
       "      <td>0</td>\n",
       "      <td>0</td>\n",
       "      <td>0.608993</td>\n",
       "      <td>0.339557</td>\n",
       "      <td>0.087635</td>\n",
       "    </tr>\n",
       "  </tbody>\n",
       "</table>\n",
       "</div>"
      ],
      "text/plain": [
       "   index  lead_origin_Add Form  lead_origin_Landing Page Submission  \\\n",
       "0      0                     0                                    0   \n",
       "1      1                     0                                    0   \n",
       "\n",
       "   lead_origin_Lead Import  lead_source_Facebook  lead_source_Google  \\\n",
       "0                        0                     0                   0   \n",
       "1                        0                     0                   0   \n",
       "\n",
       "   lead_source_Olark Chat  lead_source_Organic Search  lead_source_Other  \\\n",
       "0                       1                           0                  0   \n",
       "1                       0                           1                  0   \n",
       "\n",
       "   lead_source_Referral  lead_source_Welingak Website  do_not_email_Yes  \\\n",
       "0                     0                             0                 0   \n",
       "1                     0                             0                 0   \n",
       "\n",
       "   last_activity_Email Bounced  last_activity_Email Link Clicked  \\\n",
       "0                            0                                 0   \n",
       "1                            0                                 0   \n",
       "\n",
       "   last_activity_Email Opened  last_activity_Form Submitted on Website  \\\n",
       "0                           0                                        0   \n",
       "1                           1                                        0   \n",
       "\n",
       "   last_activity_Had a Phone Conversation  \\\n",
       "0                                       0   \n",
       "1                                       0   \n",
       "\n",
       "   last_activity_Olark Chat Conversation  last_activity_Other  \\\n",
       "0                                      0                    0   \n",
       "1                                      0                    0   \n",
       "\n",
       "   last_activity_Page Visited on Website  last_activity_SMS Sent  \\\n",
       "0                                      1                       0   \n",
       "1                                      0                       0   \n",
       "\n",
       "   last_activity_Unreachable  last_activity_Unsubscribed  \\\n",
       "0                          0                           0   \n",
       "1                          0                           0   \n",
       "\n",
       "   what_is_your_current_occupation_Other  \\\n",
       "0                                      0   \n",
       "1                                      0   \n",
       "\n",
       "   what_is_your_current_occupation_Student  \\\n",
       "0                                        0   \n",
       "1                                        0   \n",
       "\n",
       "   what_is_your_current_occupation_Unemployed  \\\n",
       "0                                           1   \n",
       "1                                           1   \n",
       "\n",
       "   what_is_your_current_occupation_Working Professional  \\\n",
       "0                                                     0   \n",
       "1                                                     0   \n",
       "\n",
       "   a_free_copy_of_mastering_the_interview_Yes  \\\n",
       "0                                           0   \n",
       "1                                           0   \n",
       "\n",
       "   last_notable_activity_Email Opened  last_notable_activity_Modified  \\\n",
       "0                                   0                               1   \n",
       "1                                   1                               0   \n",
       "\n",
       "   last_notable_activity_Olark Chat Conversation  last_notable_activity_Other  \\\n",
       "0                                              0                            0   \n",
       "1                                              0                            0   \n",
       "\n",
       "   last_notable_activity_Page Visited on Website  \\\n",
       "0                                              0   \n",
       "1                                              0   \n",
       "\n",
       "   last_notable_activity_SMS Sent  last_notable_activity_Unreachable  \\\n",
       "0                               0                                  0   \n",
       "1                               0                                  0   \n",
       "\n",
       "   last_notable_activity_Unsubscribed  totalvisits  \\\n",
       "0                                   0    -1.081573   \n",
       "1                                   0     0.608993   \n",
       "\n",
       "   total_time_spent_on_website  page_views_per_visit  \n",
       "0                    -0.889891             -1.148808  \n",
       "1                     0.339557              0.087635  "
      ]
     },
     "execution_count": 107,
     "metadata": {},
     "output_type": "execute_result"
    }
   ],
   "source": [
    "lead_df_numbers = pd.concat([dummies, lead_numericals_scaled], axis =1)\n",
    "lead_df_numbers.head(2)"
   ]
  },
  {
   "cell_type": "markdown",
   "id": "2b73936b",
   "metadata": {},
   "source": [
    "### Correlation for scaled and encoded dataset"
   ]
  },
  {
   "cell_type": "code",
   "execution_count": 108,
   "id": "a64ec057",
   "metadata": {},
   "outputs": [
    {
     "data": {
      "image/png": "[encoded data removed]",
      "text/plain": [
       "<Figure size 2160x2160 with 2 Axes>"
      ]
     },
     "metadata": {
      "needs_background": "light"
     },
     "output_type": "display_data"
    }
   ],
   "source": [
    "dfCorr = lead_df_numbers.corr()\n",
    "filteredDf = dfCorr[((dfCorr >= .89) | (dfCorr <= -.89)) & (dfCorr !=1.000)] #just showing high correlation without duplicates (1)\n",
    "plt.figure(figsize=(30,30))\n",
    "sns.heatmap(filteredDf, annot=True, cmap=\"Reds\")\n",
    "plt.show()\n"
   ]
  },
  {
   "cell_type": "code",
   "execution_count": 109,
   "id": "6470ab40",
   "metadata": {},
   "outputs": [],
   "source": [
    "#lead_origin_Lead_import and lead_source_Facebook are highly correlated\n",
    "#dropping lead_source_Facebook\n",
    "lead_df_numbers.drop(columns='lead_source_Facebook',inplace=True)"
   ]
  },
  {
   "cell_type": "markdown",
   "id": "34d9ea09",
   "metadata": {},
   "source": [
    "## Saving the cleaned and processed data set"
   ]
  },
  {
   "cell_type": "code",
   "execution_count": 110,
   "id": "4ebc4366",
   "metadata": {},
   "outputs": [],
   "source": [
    "#lead_df_numbers.to_csv(\"lead_df_processed.csv\")"
   ]
  },
  {
   "cell_type": "markdown",
   "id": "1e9f0186",
   "metadata": {},
   "source": [
    "## Setting the independent and dependent variable"
   ]
  },
  {
   "cell_type": "code",
   "execution_count": 111,
   "id": "f70c5249",
   "metadata": {},
   "outputs": [
    {
     "data": {
      "text/plain": [
       "(9037, 38)"
      ]
     },
     "metadata": {},
     "output_type": "display_data"
    },
    {
     "data": {
      "text/plain": [
       "(9037, 1)"
      ]
     },
     "execution_count": 111,
     "metadata": {},
     "output_type": "execute_result"
    }
   ],
   "source": [
    "X = lead_df_numbers\n",
    "display(X.shape)\n",
    "y =lead_df.converted\n",
    "y = y.reset_index().drop(columns= 'index')\n",
    "y.shape\n"
   ]
  },
  {
   "cell_type": "markdown",
   "id": "401facca",
   "metadata": {},
   "source": [
    "### Train-test split"
   ]
  },
  {
   "cell_type": "code",
   "execution_count": 112,
   "id": "248895df",
   "metadata": {},
   "outputs": [],
   "source": [
    "X_train, X_test, y_train, y_test = train_test_split(X, y, test_size =0.3, random_state = 10)"
   ]
  },
  {
   "cell_type": "markdown",
   "id": "b7a8682d",
   "metadata": {},
   "source": [
    "## Testing Models"
   ]
  },
  {
   "cell_type": "code",
   "execution_count": 113,
   "id": "01e9b67b",
   "metadata": {},
   "outputs": [],
   "source": [
    "\n",
    "models = {\n",
    "# Decision Trees\n",
    "\"Decision Tree Classifier\":DecisionTreeClassifier(), \n",
    "# Naive Bayes\n",
    "\"GaussianNB\": GaussianNB(),\n",
    "# Support Vector Machines\n",
    "\"LinearSVC\": LinearSVC(),\n",
    "# Logistic Regression\n",
    "\"Logistic Regression\": LogisticRegression(),\n",
    "#Random Forest\n",
    "\"Random Forest\": RandomForestClassifier()\n",
    "            }"
   ]
  },
  {
   "cell_type": "code",
   "execution_count": 114,
   "id": "44b5368e",
   "metadata": {},
   "outputs": [],
   "source": [
    "def eval_model(x,y,models):\n",
    "    pd.options.display.float_format = \"{:,.3f}\".format #show three decimals in df\n",
    "    accuracy, precision, recall, f1_score = {}, {}, {},{}\n",
    "    #enumerate attachs a number to the running output\n",
    "    for (i, (name, model)) in enumerate (models.items()): #to access the models (name= key , model/items =values in dict)\n",
    "        \n",
    "        #model Training\n",
    "        model.fit(X_train, y_train)\n",
    "        \n",
    "        y_pred = model.predict(X_test)\n",
    "        #y_pred_train = model.predict(X_train)\n",
    "        \n",
    "        #confusion matrix (not displaying it as it gets to much output)\n",
    "        #try:\n",
    "        #    print(name,\" Confusion matrix for the train set: \")\n",
    "        #    print(confusion_matrix(y_train,y_pred_train))\n",
    "\n",
    "        #    \n",
    "        #    print(name, \"Confusion matrix for the test set: \")\n",
    "        #    print(confusion_matrix(y_test, y_pred))\n",
    "        #    \n",
    "        #except:\n",
    "        #    print(\"confusion matrix is not available for this model: \", name)\n",
    "\n",
    "        accuracy[name] = accuracy_score(y_pred, y_test)\n",
    "        precision[name] = precision_score(y_pred, y_test)\n",
    "        recall[name] = recall_score(y_pred, y_test)\n",
    "        #F1 score increases as the precision and recall value rises for a model.\n",
    "        #A high score indicates that the model is well versed in terms of handling the class imbalance problem.\n",
    "        f1_score[name] = 2*(( precision[name] * recall[name])/( precision[name] + recall[name]))\n",
    "        cross_val_scores = cross_val_score(model, X_train, y_train, cv=10)\n",
    "        print(name,\": Cross validation score: \",np.mean(cross_val_scores).round(3),\"\\n\")\n",
    "\n",
    "\n",
    "        \n",
    "    df_model = pd.DataFrame(index=models.keys(), columns=['Accuracy', 'Precision', 'Recall'])\n",
    "    df_model['Accuracy'] = accuracy.values()\n",
    "    df_model['Precision'] = precision.values()\n",
    "    df_model['Recall'] = recall.values()\n",
    "    df_model['F1 Score'] = f1_score.values()\n",
    "  \n",
    "    return df_model\n",
    "        "
   ]
  },
  {
   "cell_type": "code",
   "execution_count": 115,
   "id": "cacf5b51",
   "metadata": {},
   "outputs": [
    {
     "name": "stdout",
     "output_type": "stream",
     "text": [
      "Decision Tree Classifier : Cross validation score:  0.784 \n",
      "\n",
      "GaussianNB : Cross validation score:  0.789 \n",
      "\n",
      "LinearSVC : Cross validation score:  0.717 \n",
      "\n",
      "Logistic Regression : Cross validation score:  0.815 \n",
      "\n",
      "Random Forest : Cross validation score:  0.832 \n",
      "\n"
     ]
    },
    {
     "data": {
      "text/html": [
       "<div>\n",
       "<style scoped>\n",
       "    .dataframe tbody tr th:only-of-type {\n",
       "        vertical-align: middle;\n",
       "    }\n",
       "\n",
       "    .dataframe tbody tr th {\n",
       "        vertical-align: top;\n",
       "    }\n",
       "\n",
       "    .dataframe thead th {\n",
       "        text-align: right;\n",
       "    }\n",
       "</style>\n",
       "<table border=\"1\" class=\"dataframe\">\n",
       "  <thead>\n",
       "    <tr style=\"text-align: right;\">\n",
       "      <th></th>\n",
       "      <th>Accuracy</th>\n",
       "      <th>Precision</th>\n",
       "      <th>Recall</th>\n",
       "      <th>F1 Score</th>\n",
       "    </tr>\n",
       "  </thead>\n",
       "  <tbody>\n",
       "    <tr>\n",
       "      <th>Decision Tree Classifier</th>\n",
       "      <td>0.772</td>\n",
       "      <td>0.723</td>\n",
       "      <td>0.692</td>\n",
       "      <td>0.707</td>\n",
       "    </tr>\n",
       "    <tr>\n",
       "      <th>GaussianNB</th>\n",
       "      <td>0.777</td>\n",
       "      <td>0.667</td>\n",
       "      <td>0.725</td>\n",
       "      <td>0.695</td>\n",
       "    </tr>\n",
       "    <tr>\n",
       "      <th>LinearSVC</th>\n",
       "      <td>0.736</td>\n",
       "      <td>0.663</td>\n",
       "      <td>0.650</td>\n",
       "      <td>0.657</td>\n",
       "    </tr>\n",
       "    <tr>\n",
       "      <th>Logistic Regression</th>\n",
       "      <td>0.812</td>\n",
       "      <td>0.707</td>\n",
       "      <td>0.779</td>\n",
       "      <td>0.741</td>\n",
       "    </tr>\n",
       "    <tr>\n",
       "      <th>Random Forest</th>\n",
       "      <td>0.820</td>\n",
       "      <td>0.757</td>\n",
       "      <td>0.768</td>\n",
       "      <td>0.762</td>\n",
       "    </tr>\n",
       "  </tbody>\n",
       "</table>\n",
       "</div>"
      ],
      "text/plain": [
       "                          Accuracy  Precision  Recall  F1 Score\n",
       "Decision Tree Classifier     0.772      0.723   0.692     0.707\n",
       "GaussianNB                   0.777      0.667   0.725     0.695\n",
       "LinearSVC                    0.736      0.663   0.650     0.657\n",
       "Logistic Regression          0.812      0.707   0.779     0.741\n",
       "Random Forest                0.820      0.757   0.768     0.762"
      ]
     },
     "execution_count": 115,
     "metadata": {},
     "output_type": "execute_result"
    }
   ],
   "source": [
    "eval_model(X,y,models)"
   ]
  },
  {
   "cell_type": "markdown",
   "id": "ac52ed09",
   "metadata": {},
   "source": [
    "#### Logistic Regression has overall the best results, therefore I will move forward with it for the feature importance selection"
   ]
  },
  {
   "cell_type": "markdown",
   "id": "825ab455",
   "metadata": {},
   "source": [
    "### Statsmodel analysis of Logistic Regression\n",
    "\n",
    "statsmodels is a Python module that provides classes and functions for the estimation of many different statistical models, as well as for conducting statistical tests, and statistical data exploration. "
   ]
  },
  {
   "cell_type": "code",
   "execution_count": 116,
   "id": "43ac6d4b",
   "metadata": {},
   "outputs": [
    {
     "name": "stdout",
     "output_type": "stream",
     "text": [
      "Warning: Maximum number of iterations has been exceeded.\n",
      "         Current function value: 0.389773\n",
      "         Iterations: 35\n"
     ]
    },
    {
     "data": {
      "text/html": [
       "<table class=\"simpletable\">\n",
       "<caption>Logit Regression Results</caption>\n",
       "<tr>\n",
       "  <th>Dep. Variable:</th>       <td>converted</td>    <th>  No. Observations:  </th>  <td>  6325</td> \n",
       "</tr>\n",
       "<tr>\n",
       "  <th>Model:</th>                 <td>Logit</td>      <th>  Df Residuals:      </th>  <td>  6286</td> \n",
       "</tr>\n",
       "<tr>\n",
       "  <th>Method:</th>                 <td>MLE</td>       <th>  Df Model:          </th>  <td>    38</td> \n",
       "</tr>\n",
       "<tr>\n",
       "  <th>Date:</th>            <td>Fri, 08 Oct 2021</td> <th>  Pseudo R-squ.:     </th>  <td>0.4164</td> \n",
       "</tr>\n",
       "<tr>\n",
       "  <th>Time:</th>                <td>11:13:42</td>     <th>  Log-Likelihood:    </th> <td> -2465.3</td>\n",
       "</tr>\n",
       "<tr>\n",
       "  <th>converged:</th>             <td>False</td>      <th>  LL-Null:           </th> <td> -4224.5</td>\n",
       "</tr>\n",
       "<tr>\n",
       "  <th>Covariance Type:</th>     <td>nonrobust</td>    <th>  LLR p-value:       </th>  <td> 0.000</td> \n",
       "</tr>\n",
       "</table>\n",
       "<table class=\"simpletable\">\n",
       "<tr>\n",
       "                            <td></td>                              <th>coef</th>     <th>std err</th>      <th>z</th>      <th>P>|z|</th>  <th>[0.025</th>    <th>0.975]</th>  \n",
       "</tr>\n",
       "<tr>\n",
       "  <th>const</th>                                                <td>   17.5985</td> <td> 3684.531</td> <td>    0.005</td> <td> 0.996</td> <td>-7203.949</td> <td> 7239.146</td>\n",
       "</tr>\n",
       "<tr>\n",
       "  <th>index</th>                                                <td> -8.02e-05</td> <td> 1.44e-05</td> <td>   -5.582</td> <td> 0.000</td> <td>   -0.000</td> <td> -5.2e-05</td>\n",
       "</tr>\n",
       "<tr>\n",
       "  <th>lead_origin_Add Form</th>                                 <td>    3.5847</td> <td>    0.346</td> <td>   10.360</td> <td> 0.000</td> <td>    2.907</td> <td>    4.263</td>\n",
       "</tr>\n",
       "<tr>\n",
       "  <th>lead_origin_Landing Page Submission</th>                  <td>   -0.1839</td> <td>    0.111</td> <td>   -1.657</td> <td> 0.097</td> <td>   -0.401</td> <td>    0.034</td>\n",
       "</tr>\n",
       "<tr>\n",
       "  <th>lead_origin_Lead Import</th>                              <td>    0.2322</td> <td>    0.457</td> <td>    0.508</td> <td> 0.611</td> <td>   -0.663</td> <td>    1.127</td>\n",
       "</tr>\n",
       "<tr>\n",
       "  <th>lead_source_Google</th>                                   <td>    0.1835</td> <td>    0.118</td> <td>    1.549</td> <td> 0.121</td> <td>   -0.049</td> <td>    0.416</td>\n",
       "</tr>\n",
       "<tr>\n",
       "  <th>lead_source_Olark Chat</th>                               <td>    1.4423</td> <td>    0.166</td> <td>    8.688</td> <td> 0.000</td> <td>    1.117</td> <td>    1.768</td>\n",
       "</tr>\n",
       "<tr>\n",
       "  <th>lead_source_Organic Search</th>                           <td>    0.1452</td> <td>    0.134</td> <td>    1.084</td> <td> 0.278</td> <td>   -0.117</td> <td>    0.408</td>\n",
       "</tr>\n",
       "<tr>\n",
       "  <th>lead_source_Other</th>                                    <td>    0.9508</td> <td>    0.696</td> <td>    1.366</td> <td> 0.172</td> <td>   -0.413</td> <td>    2.315</td>\n",
       "</tr>\n",
       "<tr>\n",
       "  <th>lead_source_Referral</th>                                 <td>   -0.0434</td> <td>    0.314</td> <td>   -0.138</td> <td> 0.890</td> <td>   -0.658</td> <td>    0.571</td>\n",
       "</tr>\n",
       "<tr>\n",
       "  <th>lead_source_Welingak Website</th>                         <td>    1.8658</td> <td>    0.802</td> <td>    2.326</td> <td> 0.020</td> <td>    0.294</td> <td>    3.438</td>\n",
       "</tr>\n",
       "<tr>\n",
       "  <th>do_not_email_Yes</th>                                     <td>   -1.1067</td> <td>    0.216</td> <td>   -5.114</td> <td> 0.000</td> <td>   -1.531</td> <td>   -0.683</td>\n",
       "</tr>\n",
       "<tr>\n",
       "  <th>last_activity_Email Bounced</th>                          <td>   -0.4130</td> <td>    0.493</td> <td>   -0.837</td> <td> 0.402</td> <td>   -1.380</td> <td>    0.554</td>\n",
       "</tr>\n",
       "<tr>\n",
       "  <th>last_activity_Email Link Clicked</th>                     <td>    0.4698</td> <td>    0.430</td> <td>    1.092</td> <td> 0.275</td> <td>   -0.373</td> <td>    1.313</td>\n",
       "</tr>\n",
       "<tr>\n",
       "  <th>last_activity_Email Opened</th>                           <td>    0.9087</td> <td>    0.242</td> <td>    3.749</td> <td> 0.000</td> <td>    0.434</td> <td>    1.384</td>\n",
       "</tr>\n",
       "<tr>\n",
       "  <th>last_activity_Form Submitted on Website</th>              <td>    0.1303</td> <td>    0.414</td> <td>    0.315</td> <td> 0.753</td> <td>   -0.681</td> <td>    0.942</td>\n",
       "</tr>\n",
       "<tr>\n",
       "  <th>last_activity_Had a Phone Conversation</th>               <td>    1.0306</td> <td>    0.828</td> <td>    1.245</td> <td> 0.213</td> <td>   -0.591</td> <td>    2.653</td>\n",
       "</tr>\n",
       "<tr>\n",
       "  <th>last_activity_Olark Chat Conversation</th>                <td>   -0.5079</td> <td>    0.275</td> <td>   -1.847</td> <td> 0.065</td> <td>   -1.047</td> <td>    0.031</td>\n",
       "</tr>\n",
       "<tr>\n",
       "  <th>last_activity_Other</th>                                  <td>    1.6418</td> <td>    1.054</td> <td>    1.557</td> <td> 0.119</td> <td>   -0.425</td> <td>    3.709</td>\n",
       "</tr>\n",
       "<tr>\n",
       "  <th>last_activity_Page Visited on Website</th>                <td>    0.1959</td> <td>    0.299</td> <td>    0.655</td> <td> 0.512</td> <td>   -0.390</td> <td>    0.782</td>\n",
       "</tr>\n",
       "<tr>\n",
       "  <th>last_activity_SMS Sent</th>                               <td>    1.2314</td> <td>    0.249</td> <td>    4.941</td> <td> 0.000</td> <td>    0.743</td> <td>    1.720</td>\n",
       "</tr>\n",
       "<tr>\n",
       "  <th>last_activity_Unreachable</th>                            <td>    0.1350</td> <td>    0.477</td> <td>    0.283</td> <td> 0.777</td> <td>   -0.800</td> <td>    1.070</td>\n",
       "</tr>\n",
       "<tr>\n",
       "  <th>last_activity_Unsubscribed</th>                           <td>    0.9752</td> <td>    1.120</td> <td>    0.871</td> <td> 0.384</td> <td>   -1.220</td> <td>    3.171</td>\n",
       "</tr>\n",
       "<tr>\n",
       "  <th>what_is_your_current_occupation_Other</th>                <td>  -20.3641</td> <td> 3684.531</td> <td>   -0.006</td> <td> 0.996</td> <td>-7241.912</td> <td> 7201.184</td>\n",
       "</tr>\n",
       "<tr>\n",
       "  <th>what_is_your_current_occupation_Student</th>              <td>  -19.1220</td> <td> 3684.531</td> <td>   -0.005</td> <td> 0.996</td> <td>-7240.670</td> <td> 7202.426</td>\n",
       "</tr>\n",
       "<tr>\n",
       "  <th>what_is_your_current_occupation_Unemployed</th>           <td>  -19.1108</td> <td> 3684.531</td> <td>   -0.005</td> <td> 0.996</td> <td>-7240.659</td> <td> 7202.437</td>\n",
       "</tr>\n",
       "<tr>\n",
       "  <th>what_is_your_current_occupation_Working Professional</th> <td>  -16.7299</td> <td> 3684.531</td> <td>   -0.005</td> <td> 0.996</td> <td>-7238.278</td> <td> 7204.818</td>\n",
       "</tr>\n",
       "<tr>\n",
       "  <th>a_free_copy_of_mastering_the_interview_Yes</th>           <td>   -0.0589</td> <td>    0.109</td> <td>   -0.538</td> <td> 0.590</td> <td>   -0.273</td> <td>    0.156</td>\n",
       "</tr>\n",
       "<tr>\n",
       "  <th>last_notable_activity_Email Opened</th>                   <td>    0.0318</td> <td>    0.483</td> <td>    0.066</td> <td> 0.948</td> <td>   -0.916</td> <td>    0.979</td>\n",
       "</tr>\n",
       "<tr>\n",
       "  <th>last_notable_activity_Modified</th>                       <td>   -0.1873</td> <td>    0.463</td> <td>   -0.404</td> <td> 0.686</td> <td>   -1.096</td> <td>    0.721</td>\n",
       "</tr>\n",
       "<tr>\n",
       "  <th>last_notable_activity_Olark Chat Conversation</th>        <td>   -0.1763</td> <td>    0.612</td> <td>   -0.288</td> <td> 0.773</td> <td>   -1.375</td> <td>    1.022</td>\n",
       "</tr>\n",
       "<tr>\n",
       "  <th>last_notable_activity_Other</th>                          <td>    2.4248</td> <td>    1.201</td> <td>    2.019</td> <td> 0.043</td> <td>    0.071</td> <td>    4.779</td>\n",
       "</tr>\n",
       "<tr>\n",
       "  <th>last_notable_activity_Page Visited on Website</th>        <td>    0.2815</td> <td>    0.552</td> <td>    0.510</td> <td> 0.610</td> <td>   -0.800</td> <td>    1.363</td>\n",
       "</tr>\n",
       "<tr>\n",
       "  <th>last_notable_activity_SMS Sent</th>                       <td>    1.1804</td> <td>    0.489</td> <td>    2.415</td> <td> 0.016</td> <td>    0.222</td> <td>    2.139</td>\n",
       "</tr>\n",
       "<tr>\n",
       "  <th>last_notable_activity_Unreachable</th>                    <td>    1.6548</td> <td>    0.679</td> <td>    2.438</td> <td> 0.015</td> <td>    0.324</td> <td>    2.985</td>\n",
       "</tr>\n",
       "<tr>\n",
       "  <th>last_notable_activity_Unsubscribed</th>                   <td>    1.2738</td> <td>    1.255</td> <td>    1.015</td> <td> 0.310</td> <td>   -1.186</td> <td>    3.734</td>\n",
       "</tr>\n",
       "<tr>\n",
       "  <th>totalvisits</th>                                          <td>    0.2784</td> <td>    0.054</td> <td>    5.164</td> <td> 0.000</td> <td>    0.173</td> <td>    0.384</td>\n",
       "</tr>\n",
       "<tr>\n",
       "  <th>total_time_spent_on_website</th>                          <td>    1.1487</td> <td>    0.042</td> <td>   27.074</td> <td> 0.000</td> <td>    1.066</td> <td>    1.232</td>\n",
       "</tr>\n",
       "<tr>\n",
       "  <th>page_views_per_visit</th>                                 <td>   -0.2079</td> <td>    0.057</td> <td>   -3.667</td> <td> 0.000</td> <td>   -0.319</td> <td>   -0.097</td>\n",
       "</tr>\n",
       "</table>"
      ],
      "text/plain": [
       "<class 'statsmodels.iolib.summary.Summary'>\n",
       "\"\"\"\n",
       "                           Logit Regression Results                           \n",
       "==============================================================================\n",
       "Dep. Variable:              converted   No. Observations:                 6325\n",
       "Model:                          Logit   Df Residuals:                     6286\n",
       "Method:                           MLE   Df Model:                           38\n",
       "Date:                Fri, 08 Oct 2021   Pseudo R-squ.:                  0.4164\n",
       "Time:                        11:13:42   Log-Likelihood:                -2465.3\n",
       "converged:                      False   LL-Null:                       -4224.5\n",
       "Covariance Type:            nonrobust   LLR p-value:                     0.000\n",
       "========================================================================================================================\n",
       "                                                           coef    std err          z      P>|z|      [0.025      0.975]\n",
       "------------------------------------------------------------------------------------------------------------------------\n",
       "const                                                   17.5985   3684.531      0.005      0.996   -7203.949    7239.146\n",
       "index                                                 -8.02e-05   1.44e-05     -5.582      0.000      -0.000    -5.2e-05\n",
       "lead_origin_Add Form                                     3.5847      0.346     10.360      0.000       2.907       4.263\n",
       "lead_origin_Landing Page Submission                     -0.1839      0.111     -1.657      0.097      -0.401       0.034\n",
       "lead_origin_Lead Import                                  0.2322      0.457      0.508      0.611      -0.663       1.127\n",
       "lead_source_Google                                       0.1835      0.118      1.549      0.121      -0.049       0.416\n",
       "lead_source_Olark Chat                                   1.4423      0.166      8.688      0.000       1.117       1.768\n",
       "lead_source_Organic Search                               0.1452      0.134      1.084      0.278      -0.117       0.408\n",
       "lead_source_Other                                        0.9508      0.696      1.366      0.172      -0.413       2.315\n",
       "lead_source_Referral                                    -0.0434      0.314     -0.138      0.890      -0.658       0.571\n",
       "lead_source_Welingak Website                             1.8658      0.802      2.326      0.020       0.294       3.438\n",
       "do_not_email_Yes                                        -1.1067      0.216     -5.114      0.000      -1.531      -0.683\n",
       "last_activity_Email Bounced                             -0.4130      0.493     -0.837      0.402      -1.380       0.554\n",
       "last_activity_Email Link Clicked                         0.4698      0.430      1.092      0.275      -0.373       1.313\n",
       "last_activity_Email Opened                               0.9087      0.242      3.749      0.000       0.434       1.384\n",
       "last_activity_Form Submitted on Website                  0.1303      0.414      0.315      0.753      -0.681       0.942\n",
       "last_activity_Had a Phone Conversation                   1.0306      0.828      1.245      0.213      -0.591       2.653\n",
       "last_activity_Olark Chat Conversation                   -0.5079      0.275     -1.847      0.065      -1.047       0.031\n",
       "last_activity_Other                                      1.6418      1.054      1.557      0.119      -0.425       3.709\n",
       "last_activity_Page Visited on Website                    0.1959      0.299      0.655      0.512      -0.390       0.782\n",
       "last_activity_SMS Sent                                   1.2314      0.249      4.941      0.000       0.743       1.720\n",
       "last_activity_Unreachable                                0.1350      0.477      0.283      0.777      -0.800       1.070\n",
       "last_activity_Unsubscribed                               0.9752      1.120      0.871      0.384      -1.220       3.171\n",
       "what_is_your_current_occupation_Other                  -20.3641   3684.531     -0.006      0.996   -7241.912    7201.184\n",
       "what_is_your_current_occupation_Student                -19.1220   3684.531     -0.005      0.996   -7240.670    7202.426\n",
       "what_is_your_current_occupation_Unemployed             -19.1108   3684.531     -0.005      0.996   -7240.659    7202.437\n",
       "what_is_your_current_occupation_Working Professional   -16.7299   3684.531     -0.005      0.996   -7238.278    7204.818\n",
       "a_free_copy_of_mastering_the_interview_Yes              -0.0589      0.109     -0.538      0.590      -0.273       0.156\n",
       "last_notable_activity_Email Opened                       0.0318      0.483      0.066      0.948      -0.916       0.979\n",
       "last_notable_activity_Modified                          -0.1873      0.463     -0.404      0.686      -1.096       0.721\n",
       "last_notable_activity_Olark Chat Conversation           -0.1763      0.612     -0.288      0.773      -1.375       1.022\n",
       "last_notable_activity_Other                              2.4248      1.201      2.019      0.043       0.071       4.779\n",
       "last_notable_activity_Page Visited on Website            0.2815      0.552      0.510      0.610      -0.800       1.363\n",
       "last_notable_activity_SMS Sent                           1.1804      0.489      2.415      0.016       0.222       2.139\n",
       "last_notable_activity_Unreachable                        1.6548      0.679      2.438      0.015       0.324       2.985\n",
       "last_notable_activity_Unsubscribed                       1.2738      1.255      1.015      0.310      -1.186       3.734\n",
       "totalvisits                                              0.2784      0.054      5.164      0.000       0.173       0.384\n",
       "total_time_spent_on_website                              1.1487      0.042     27.074      0.000       1.066       1.232\n",
       "page_views_per_visit                                    -0.2079      0.057     -3.667      0.000      -0.319      -0.097\n",
       "========================================================================================================================\n",
       "\"\"\""
      ]
     },
     "execution_count": 116,
     "metadata": {},
     "output_type": "execute_result"
    }
   ],
   "source": [
    "# Logistic regression = Logit\n",
    "logm1 = sm.Logit(y_train,(sm.add_constant(X_train)), family = sm.families.Binomial())\n",
    "model= logm1.fit()\n",
    "model.summary()\n",
    "    "
   ]
  },
  {
   "cell_type": "markdown",
   "id": "f628af9f",
   "metadata": {},
   "source": [
    "#### The p-Value: The p-value for each term tests the null hypothesis that the coefficient is equal to zero (no effect). A low p-value (< 0.05) indicates that you can reject the null hypothesis. In other words, a predictor that has a low p-value is likely to be a meaningful addition to your model because changes in the predictor's value are related to changes in the response variable.\n",
    "\n",
    "Conversely, a larger (insignificant) p-value suggests that changes in the predictor are not associated with changes in the response.\n",
    "\n",
    "#### It is also important to avoid high correlation between the selected features. Using the VIF (Variance Inflation Factor) method this can be detected.\n",
    "\n",
    "Note: Values of VIF that exceed 10 are often regarded as indicating multicollinearity, but in even values above 2.5 may be a cause for concern. "
   ]
  },
  {
   "cell_type": "code",
   "execution_count": 117,
   "id": "353a3dd3",
   "metadata": {},
   "outputs": [],
   "source": [
    "def check_vif(X_train):\n",
    "    vif = pd.DataFrame()\n",
    "    vif['Features']=X_train.columns\n",
    "    vif['VIF'] = [variance_inflation_factor(X_train.values,i) for i in range(X_train.shape[1])]\n",
    "    vif=vif.sort_values(by='VIF', ascending = False)\n",
    "    vif['Ranking'] = range(len(vif), 0, -1)\n",
    "    return vif\n"
   ]
  },
  {
   "cell_type": "code",
   "execution_count": 118,
   "id": "d8d1640e",
   "metadata": {
    "scrolled": true
   },
   "outputs": [
    {
     "data": {
      "text/html": [
       "<div>\n",
       "<style scoped>\n",
       "    .dataframe tbody tr th:only-of-type {\n",
       "        vertical-align: middle;\n",
       "    }\n",
       "\n",
       "    .dataframe tbody tr th {\n",
       "        vertical-align: top;\n",
       "    }\n",
       "\n",
       "    .dataframe thead th {\n",
       "        text-align: right;\n",
       "    }\n",
       "</style>\n",
       "<table border=\"1\" class=\"dataframe\">\n",
       "  <thead>\n",
       "    <tr style=\"text-align: right;\">\n",
       "      <th></th>\n",
       "      <th>Features</th>\n",
       "      <th>VIF</th>\n",
       "      <th>Ranking</th>\n",
       "    </tr>\n",
       "  </thead>\n",
       "  <tbody>\n",
       "    <tr>\n",
       "      <th>24</th>\n",
       "      <td>what_is_your_current_occupation_Unemployed</td>\n",
       "      <td>99.450</td>\n",
       "      <td>38</td>\n",
       "    </tr>\n",
       "    <tr>\n",
       "      <th>28</th>\n",
       "      <td>last_notable_activity_Modified</td>\n",
       "      <td>52.313</td>\n",
       "      <td>37</td>\n",
       "    </tr>\n",
       "    <tr>\n",
       "      <th>22</th>\n",
       "      <td>what_is_your_current_occupation_Other</td>\n",
       "      <td>49.211</td>\n",
       "      <td>36</td>\n",
       "    </tr>\n",
       "    <tr>\n",
       "      <th>27</th>\n",
       "      <td>last_notable_activity_Email Opened</td>\n",
       "      <td>47.986</td>\n",
       "      <td>35</td>\n",
       "    </tr>\n",
       "    <tr>\n",
       "      <th>32</th>\n",
       "      <td>last_notable_activity_SMS Sent</td>\n",
       "      <td>38.445</td>\n",
       "      <td>34</td>\n",
       "    </tr>\n",
       "    <tr>\n",
       "      <th>13</th>\n",
       "      <td>last_activity_Email Opened</td>\n",
       "      <td>14.018</td>\n",
       "      <td>33</td>\n",
       "    </tr>\n",
       "    <tr>\n",
       "      <th>25</th>\n",
       "      <td>what_is_your_current_occupation_Working Professional</td>\n",
       "      <td>13.428</td>\n",
       "      <td>32</td>\n",
       "    </tr>\n",
       "    <tr>\n",
       "      <th>19</th>\n",
       "      <td>last_activity_SMS Sent</td>\n",
       "      <td>11.696</td>\n",
       "      <td>31</td>\n",
       "    </tr>\n",
       "    <tr>\n",
       "      <th>31</th>\n",
       "      <td>last_notable_activity_Page Visited on Website</td>\n",
       "      <td>6.331</td>\n",
       "      <td>30</td>\n",
       "    </tr>\n",
       "    <tr>\n",
       "      <th>1</th>\n",
       "      <td>lead_origin_Add Form</td>\n",
       "      <td>5.657</td>\n",
       "      <td>29</td>\n",
       "    </tr>\n",
       "    <tr>\n",
       "      <th>2</th>\n",
       "      <td>lead_origin_Landing Page Submission</td>\n",
       "      <td>5.387</td>\n",
       "      <td>28</td>\n",
       "    </tr>\n",
       "    <tr>\n",
       "      <th>8</th>\n",
       "      <td>lead_source_Referral</td>\n",
       "      <td>4.813</td>\n",
       "      <td>27</td>\n",
       "    </tr>\n",
       "    <tr>\n",
       "      <th>23</th>\n",
       "      <td>what_is_your_current_occupation_Student</td>\n",
       "      <td>4.671</td>\n",
       "      <td>26</td>\n",
       "    </tr>\n",
       "    <tr>\n",
       "      <th>0</th>\n",
       "      <td>index</td>\n",
       "      <td>4.463</td>\n",
       "      <td>25</td>\n",
       "    </tr>\n",
       "    <tr>\n",
       "      <th>5</th>\n",
       "      <td>lead_source_Olark Chat</td>\n",
       "      <td>4.264</td>\n",
       "      <td>24</td>\n",
       "    </tr>\n",
       "    <tr>\n",
       "      <th>29</th>\n",
       "      <td>last_notable_activity_Olark Chat Conversation</td>\n",
       "      <td>4.069</td>\n",
       "      <td>23</td>\n",
       "    </tr>\n",
       "    <tr>\n",
       "      <th>16</th>\n",
       "      <td>last_activity_Olark Chat Conversation</td>\n",
       "      <td>3.997</td>\n",
       "      <td>22</td>\n",
       "    </tr>\n",
       "    <tr>\n",
       "      <th>34</th>\n",
       "      <td>last_notable_activity_Unsubscribed</td>\n",
       "      <td>3.969</td>\n",
       "      <td>21</td>\n",
       "    </tr>\n",
       "    <tr>\n",
       "      <th>4</th>\n",
       "      <td>lead_source_Google</td>\n",
       "      <td>3.545</td>\n",
       "      <td>20</td>\n",
       "    </tr>\n",
       "    <tr>\n",
       "      <th>18</th>\n",
       "      <td>last_activity_Page Visited on Website</td>\n",
       "      <td>3.482</td>\n",
       "      <td>19</td>\n",
       "    </tr>\n",
       "    <tr>\n",
       "      <th>21</th>\n",
       "      <td>last_activity_Unsubscribed</td>\n",
       "      <td>3.453</td>\n",
       "      <td>18</td>\n",
       "    </tr>\n",
       "    <tr>\n",
       "      <th>12</th>\n",
       "      <td>last_activity_Email Link Clicked</td>\n",
       "      <td>3.113</td>\n",
       "      <td>17</td>\n",
       "    </tr>\n",
       "    <tr>\n",
       "      <th>26</th>\n",
       "      <td>a_free_copy_of_mastering_the_interview_Yes</td>\n",
       "      <td>2.974</td>\n",
       "      <td>16</td>\n",
       "    </tr>\n",
       "    <tr>\n",
       "      <th>37</th>\n",
       "      <td>page_views_per_visit</td>\n",
       "      <td>2.820</td>\n",
       "      <td>15</td>\n",
       "    </tr>\n",
       "    <tr>\n",
       "      <th>11</th>\n",
       "      <td>last_activity_Email Bounced</td>\n",
       "      <td>2.805</td>\n",
       "      <td>14</td>\n",
       "    </tr>\n",
       "    <tr>\n",
       "      <th>33</th>\n",
       "      <td>last_notable_activity_Unreachable</td>\n",
       "      <td>2.632</td>\n",
       "      <td>13</td>\n",
       "    </tr>\n",
       "    <tr>\n",
       "      <th>35</th>\n",
       "      <td>totalvisits</td>\n",
       "      <td>2.573</td>\n",
       "      <td>12</td>\n",
       "    </tr>\n",
       "    <tr>\n",
       "      <th>9</th>\n",
       "      <td>lead_source_Welingak Website</td>\n",
       "      <td>2.221</td>\n",
       "      <td>11</td>\n",
       "    </tr>\n",
       "    <tr>\n",
       "      <th>10</th>\n",
       "      <td>do_not_email_Yes</td>\n",
       "      <td>2.161</td>\n",
       "      <td>10</td>\n",
       "    </tr>\n",
       "    <tr>\n",
       "      <th>30</th>\n",
       "      <td>last_notable_activity_Other</td>\n",
       "      <td>2.053</td>\n",
       "      <td>9</td>\n",
       "    </tr>\n",
       "    <tr>\n",
       "      <th>6</th>\n",
       "      <td>lead_source_Organic Search</td>\n",
       "      <td>1.811</td>\n",
       "      <td>8</td>\n",
       "    </tr>\n",
       "    <tr>\n",
       "      <th>15</th>\n",
       "      <td>last_activity_Had a Phone Conversation</td>\n",
       "      <td>1.708</td>\n",
       "      <td>7</td>\n",
       "    </tr>\n",
       "    <tr>\n",
       "      <th>20</th>\n",
       "      <td>last_activity_Unreachable</td>\n",
       "      <td>1.336</td>\n",
       "      <td>6</td>\n",
       "    </tr>\n",
       "    <tr>\n",
       "      <th>36</th>\n",
       "      <td>total_time_spent_on_website</td>\n",
       "      <td>1.322</td>\n",
       "      <td>5</td>\n",
       "    </tr>\n",
       "    <tr>\n",
       "      <th>14</th>\n",
       "      <td>last_activity_Form Submitted on Website</td>\n",
       "      <td>1.286</td>\n",
       "      <td>4</td>\n",
       "    </tr>\n",
       "    <tr>\n",
       "      <th>17</th>\n",
       "      <td>last_activity_Other</td>\n",
       "      <td>1.237</td>\n",
       "      <td>3</td>\n",
       "    </tr>\n",
       "    <tr>\n",
       "      <th>3</th>\n",
       "      <td>lead_origin_Lead Import</td>\n",
       "      <td>1.108</td>\n",
       "      <td>2</td>\n",
       "    </tr>\n",
       "    <tr>\n",
       "      <th>7</th>\n",
       "      <td>lead_source_Other</td>\n",
       "      <td>1.030</td>\n",
       "      <td>1</td>\n",
       "    </tr>\n",
       "  </tbody>\n",
       "</table>\n",
       "</div>"
      ],
      "text/plain": [
       "                                                Features    VIF  Ranking\n",
       "24            what_is_your_current_occupation_Unemployed 99.450       38\n",
       "28                        last_notable_activity_Modified 52.313       37\n",
       "22                 what_is_your_current_occupation_Other 49.211       36\n",
       "27                    last_notable_activity_Email Opened 47.986       35\n",
       "32                        last_notable_activity_SMS Sent 38.445       34\n",
       "13                            last_activity_Email Opened 14.018       33\n",
       "25  what_is_your_current_occupation_Working Professional 13.428       32\n",
       "19                                last_activity_SMS Sent 11.696       31\n",
       "31         last_notable_activity_Page Visited on Website  6.331       30\n",
       "1                                   lead_origin_Add Form  5.657       29\n",
       "2                    lead_origin_Landing Page Submission  5.387       28\n",
       "8                                   lead_source_Referral  4.813       27\n",
       "23               what_is_your_current_occupation_Student  4.671       26\n",
       "0                                                  index  4.463       25\n",
       "5                                 lead_source_Olark Chat  4.264       24\n",
       "29         last_notable_activity_Olark Chat Conversation  4.069       23\n",
       "16                 last_activity_Olark Chat Conversation  3.997       22\n",
       "34                    last_notable_activity_Unsubscribed  3.969       21\n",
       "4                                     lead_source_Google  3.545       20\n",
       "18                 last_activity_Page Visited on Website  3.482       19\n",
       "21                            last_activity_Unsubscribed  3.453       18\n",
       "12                      last_activity_Email Link Clicked  3.113       17\n",
       "26            a_free_copy_of_mastering_the_interview_Yes  2.974       16\n",
       "37                                  page_views_per_visit  2.820       15\n",
       "11                           last_activity_Email Bounced  2.805       14\n",
       "33                     last_notable_activity_Unreachable  2.632       13\n",
       "35                                           totalvisits  2.573       12\n",
       "9                           lead_source_Welingak Website  2.221       11\n",
       "10                                      do_not_email_Yes  2.161       10\n",
       "30                           last_notable_activity_Other  2.053        9\n",
       "6                             lead_source_Organic Search  1.811        8\n",
       "15                last_activity_Had a Phone Conversation  1.708        7\n",
       "20                             last_activity_Unreachable  1.336        6\n",
       "36                           total_time_spent_on_website  1.322        5\n",
       "14               last_activity_Form Submitted on Website  1.286        4\n",
       "17                                   last_activity_Other  1.237        3\n",
       "3                                lead_origin_Lead Import  1.108        2\n",
       "7                                      lead_source_Other  1.030        1"
      ]
     },
     "execution_count": 118,
     "metadata": {},
     "output_type": "execute_result"
    }
   ],
   "source": [
    "check_vif(X_train)"
   ]
  },
  {
   "cell_type": "markdown",
   "id": "77c39029",
   "metadata": {},
   "source": [
    "There are several columns with a VIF > 2.5 , for the next step of Feature selection, I will only consider 11 features (which have a VIF< 2.5)"
   ]
  },
  {
   "cell_type": "markdown",
   "id": "c46d6900",
   "metadata": {},
   "source": [
    "### Recursive feature elimination\n",
    "\n",
    "RFE is a wrapper-type feature selection algorithm. In this case the model= LogisticRegression is used in the core of the method, is wrapped by RFE, and used to help select features. "
   ]
  },
  {
   "cell_type": "code",
   "execution_count": 119,
   "id": "caeea068",
   "metadata": {},
   "outputs": [
    {
     "name": "stdout",
     "output_type": "stream",
     "text": [
      "Cross validation score of selected features:  0.812 . Cross validation score with all features: 0.822\n",
      "Final selected features: \n"
     ]
    },
    {
     "data": {
      "text/html": [
       "<div>\n",
       "<style scoped>\n",
       "    .dataframe tbody tr th:only-of-type {\n",
       "        vertical-align: middle;\n",
       "    }\n",
       "\n",
       "    .dataframe tbody tr th {\n",
       "        vertical-align: top;\n",
       "    }\n",
       "\n",
       "    .dataframe thead th {\n",
       "        text-align: right;\n",
       "    }\n",
       "</style>\n",
       "<table border=\"1\" class=\"dataframe\">\n",
       "  <thead>\n",
       "    <tr style=\"text-align: right;\">\n",
       "      <th></th>\n",
       "      <th>Features</th>\n",
       "    </tr>\n",
       "  </thead>\n",
       "  <tbody>\n",
       "    <tr>\n",
       "      <th>0</th>\n",
       "      <td>lead_origin_Add Form</td>\n",
       "    </tr>\n",
       "    <tr>\n",
       "      <th>1</th>\n",
       "      <td>lead_source_Olark Chat</td>\n",
       "    </tr>\n",
       "    <tr>\n",
       "      <th>2</th>\n",
       "      <td>lead_source_Welingak Website</td>\n",
       "    </tr>\n",
       "    <tr>\n",
       "      <th>3</th>\n",
       "      <td>do_not_email_Yes</td>\n",
       "    </tr>\n",
       "    <tr>\n",
       "      <th>4</th>\n",
       "      <td>last_activity_Olark Chat Conversation</td>\n",
       "    </tr>\n",
       "    <tr>\n",
       "      <th>5</th>\n",
       "      <td>what_is_your_current_occupation_Other</td>\n",
       "    </tr>\n",
       "    <tr>\n",
       "      <th>6</th>\n",
       "      <td>what_is_your_current_occupation_Working Professional</td>\n",
       "    </tr>\n",
       "    <tr>\n",
       "      <th>7</th>\n",
       "      <td>last_notable_activity_Other</td>\n",
       "    </tr>\n",
       "    <tr>\n",
       "      <th>8</th>\n",
       "      <td>last_notable_activity_SMS Sent</td>\n",
       "    </tr>\n",
       "    <tr>\n",
       "      <th>9</th>\n",
       "      <td>last_notable_activity_Unsubscribed</td>\n",
       "    </tr>\n",
       "    <tr>\n",
       "      <th>10</th>\n",
       "      <td>total_time_spent_on_website</td>\n",
       "    </tr>\n",
       "  </tbody>\n",
       "</table>\n",
       "</div>"
      ],
      "text/plain": [
       "                                                Features\n",
       "0                                   lead_origin_Add Form\n",
       "1                                 lead_source_Olark Chat\n",
       "2                           lead_source_Welingak Website\n",
       "3                                       do_not_email_Yes\n",
       "4                  last_activity_Olark Chat Conversation\n",
       "5                  what_is_your_current_occupation_Other\n",
       "6   what_is_your_current_occupation_Working Professional\n",
       "7                            last_notable_activity_Other\n",
       "8                         last_notable_activity_SMS Sent\n",
       "9                     last_notable_activity_Unsubscribed\n",
       "10                           total_time_spent_on_website"
      ]
     },
     "metadata": {},
     "output_type": "display_data"
    }
   ],
   "source": [
    "# Inputing 11 features selected for RFE\n",
    "# will then optimize the model further by inspecting VIF and p-value of the features\n",
    "\n",
    "\n",
    "model = LogisticRegression()\n",
    "selector = RFE(model, n_features_to_select=11, step = 1) # Step is how many features to add or drop everytime  \n",
    "selector = selector.fit(X_train, y_train)\n",
    "\n",
    "selector_col = list(X_train.columns[selector.support_])\n",
    "\n",
    "cross_val_scores_new = cross_val_score(selector, X_train, y_train, cv=10)\n",
    "print(\"Cross validation score of selected features: \",np.mean(cross_val_scores_new).round(3), \". Cross validation score with all features: 0.822\")\n",
    "\n",
    "\n",
    "print(\"Final selected features: \")\n",
    "\n",
    "top_10 =pd.DataFrame()\n",
    "top_10['Features']=(selector_col)\n",
    "display(top_10)\n"
   ]
  },
  {
   "cell_type": "code",
   "execution_count": 120,
   "id": "10cdc8b7",
   "metadata": {},
   "outputs": [],
   "source": [
    "#saving selected columns \n",
    "X_train_rfe = X_train[selector_col]\n",
    "\n",
    "X_test_rfe = X_test[selector_col]\n",
    "#X_test_rfe.to_excel('files/template_model_input.xlsx')"
   ]
  },
  {
   "cell_type": "markdown",
   "id": "c37a68f6",
   "metadata": {},
   "source": [
    "##### The cross validation score hasn't changed a lot, which shows that the selected variables can greatly explain the convertion.\n",
    "\n",
    "### Checking again the VIF of the selected features:"
   ]
  },
  {
   "cell_type": "code",
   "execution_count": 121,
   "id": "82501781",
   "metadata": {},
   "outputs": [
    {
     "data": {
      "text/html": [
       "<div>\n",
       "<style scoped>\n",
       "    .dataframe tbody tr th:only-of-type {\n",
       "        vertical-align: middle;\n",
       "    }\n",
       "\n",
       "    .dataframe tbody tr th {\n",
       "        vertical-align: top;\n",
       "    }\n",
       "\n",
       "    .dataframe thead th {\n",
       "        text-align: right;\n",
       "    }\n",
       "</style>\n",
       "<table border=\"1\" class=\"dataframe\">\n",
       "  <thead>\n",
       "    <tr style=\"text-align: right;\">\n",
       "      <th></th>\n",
       "      <th>Features</th>\n",
       "      <th>VIF</th>\n",
       "      <th>Ranking</th>\n",
       "    </tr>\n",
       "  </thead>\n",
       "  <tbody>\n",
       "    <tr>\n",
       "      <th>1</th>\n",
       "      <td>lead_source_Olark Chat</td>\n",
       "      <td>1.675</td>\n",
       "      <td>11</td>\n",
       "    </tr>\n",
       "    <tr>\n",
       "      <th>0</th>\n",
       "      <td>lead_origin_Add Form</td>\n",
       "      <td>1.420</td>\n",
       "      <td>10</td>\n",
       "    </tr>\n",
       "    <tr>\n",
       "      <th>4</th>\n",
       "      <td>last_activity_Olark Chat Conversation</td>\n",
       "      <td>1.403</td>\n",
       "      <td>9</td>\n",
       "    </tr>\n",
       "    <tr>\n",
       "      <th>2</th>\n",
       "      <td>lead_source_Welingak Website</td>\n",
       "      <td>1.280</td>\n",
       "      <td>8</td>\n",
       "    </tr>\n",
       "    <tr>\n",
       "      <th>5</th>\n",
       "      <td>what_is_your_current_occupation_Other</td>\n",
       "      <td>1.269</td>\n",
       "      <td>7</td>\n",
       "    </tr>\n",
       "    <tr>\n",
       "      <th>10</th>\n",
       "      <td>total_time_spent_on_website</td>\n",
       "      <td>1.233</td>\n",
       "      <td>6</td>\n",
       "    </tr>\n",
       "    <tr>\n",
       "      <th>8</th>\n",
       "      <td>last_notable_activity_SMS Sent</td>\n",
       "      <td>1.167</td>\n",
       "      <td>5</td>\n",
       "    </tr>\n",
       "    <tr>\n",
       "      <th>6</th>\n",
       "      <td>what_is_your_current_occupation_Working Professional</td>\n",
       "      <td>1.140</td>\n",
       "      <td>4</td>\n",
       "    </tr>\n",
       "    <tr>\n",
       "      <th>3</th>\n",
       "      <td>do_not_email_Yes</td>\n",
       "      <td>1.118</td>\n",
       "      <td>3</td>\n",
       "    </tr>\n",
       "    <tr>\n",
       "      <th>9</th>\n",
       "      <td>last_notable_activity_Unsubscribed</td>\n",
       "      <td>1.065</td>\n",
       "      <td>2</td>\n",
       "    </tr>\n",
       "    <tr>\n",
       "      <th>7</th>\n",
       "      <td>last_notable_activity_Other</td>\n",
       "      <td>1.002</td>\n",
       "      <td>1</td>\n",
       "    </tr>\n",
       "  </tbody>\n",
       "</table>\n",
       "</div>"
      ],
      "text/plain": [
       "                                                Features   VIF  Ranking\n",
       "1                                 lead_source_Olark Chat 1.675       11\n",
       "0                                   lead_origin_Add Form 1.420       10\n",
       "4                  last_activity_Olark Chat Conversation 1.403        9\n",
       "2                           lead_source_Welingak Website 1.280        8\n",
       "5                  what_is_your_current_occupation_Other 1.269        7\n",
       "10                           total_time_spent_on_website 1.233        6\n",
       "8                         last_notable_activity_SMS Sent 1.167        5\n",
       "6   what_is_your_current_occupation_Working Professional 1.140        4\n",
       "3                                       do_not_email_Yes 1.118        3\n",
       "9                     last_notable_activity_Unsubscribed 1.065        2\n",
       "7                            last_notable_activity_Other 1.002        1"
      ]
     },
     "execution_count": 121,
     "metadata": {},
     "output_type": "execute_result"
    }
   ],
   "source": [
    "features= check_vif(X_train_rfe)\n",
    "features"
   ]
  },
  {
   "cell_type": "markdown",
   "id": "838e98b4",
   "metadata": {},
   "source": [
    "### Statsmodels for the selected 11 features"
   ]
  },
  {
   "cell_type": "code",
   "execution_count": 122,
   "id": "cdda77af",
   "metadata": {},
   "outputs": [
    {
     "name": "stdout",
     "output_type": "stream",
     "text": [
      "Optimization terminated successfully.\n",
      "         Current function value: 0.443563\n",
      "         Iterations 8\n"
     ]
    },
    {
     "data": {
      "text/html": [
       "<table class=\"simpletable\">\n",
       "<caption>Logit Regression Results</caption>\n",
       "<tr>\n",
       "  <th>Dep. Variable:</th>       <td>converted</td>    <th>  No. Observations:  </th>  <td>  6325</td> \n",
       "</tr>\n",
       "<tr>\n",
       "  <th>Model:</th>                 <td>Logit</td>      <th>  Df Residuals:      </th>  <td>  6314</td> \n",
       "</tr>\n",
       "<tr>\n",
       "  <th>Method:</th>                 <td>MLE</td>       <th>  Df Model:          </th>  <td>    10</td> \n",
       "</tr>\n",
       "<tr>\n",
       "  <th>Date:</th>            <td>Fri, 08 Oct 2021</td> <th>  Pseudo R-squ.:     </th>  <td>0.3359</td> \n",
       "</tr>\n",
       "<tr>\n",
       "  <th>Time:</th>                <td>11:14:05</td>     <th>  Log-Likelihood:    </th> <td> -2805.5</td>\n",
       "</tr>\n",
       "<tr>\n",
       "  <th>converged:</th>             <td>True</td>       <th>  LL-Null:           </th> <td> -4224.5</td>\n",
       "</tr>\n",
       "<tr>\n",
       "  <th>Covariance Type:</th>     <td>nonrobust</td>    <th>  LLR p-value:       </th>  <td> 0.000</td> \n",
       "</tr>\n",
       "</table>\n",
       "<table class=\"simpletable\">\n",
       "<tr>\n",
       "                            <td></td>                              <th>coef</th>     <th>std err</th>      <th>z</th>      <th>P>|z|</th>  <th>[0.025</th>    <th>0.975]</th>  \n",
       "</tr>\n",
       "<tr>\n",
       "  <th>lead_origin_Add Form</th>                                 <td>    2.6752</td> <td>    0.196</td> <td>   13.661</td> <td> 0.000</td> <td>    2.291</td> <td>    3.059</td>\n",
       "</tr>\n",
       "<tr>\n",
       "  <th>lead_source_Olark Chat</th>                               <td>    0.6532</td> <td>    0.095</td> <td>    6.898</td> <td> 0.000</td> <td>    0.468</td> <td>    0.839</td>\n",
       "</tr>\n",
       "<tr>\n",
       "  <th>lead_source_Welingak Website</th>                         <td>    2.0327</td> <td>    0.751</td> <td>    2.708</td> <td> 0.007</td> <td>    0.561</td> <td>    3.504</td>\n",
       "</tr>\n",
       "<tr>\n",
       "  <th>do_not_email_Yes</th>                                     <td>   -1.8891</td> <td>    0.161</td> <td>  -11.751</td> <td> 0.000</td> <td>   -2.204</td> <td>   -1.574</td>\n",
       "</tr>\n",
       "<tr>\n",
       "  <th>last_activity_Olark Chat Conversation</th>                <td>   -1.8905</td> <td>    0.163</td> <td>  -11.612</td> <td> 0.000</td> <td>   -2.210</td> <td>   -1.571</td>\n",
       "</tr>\n",
       "<tr>\n",
       "  <th>what_is_your_current_occupation_Other</th>                <td>   -1.8691</td> <td>    0.079</td> <td>  -23.553</td> <td> 0.000</td> <td>   -2.025</td> <td>   -1.714</td>\n",
       "</tr>\n",
       "<tr>\n",
       "  <th>what_is_your_current_occupation_Working Professional</th> <td>    1.5758</td> <td>    0.175</td> <td>    9.020</td> <td> 0.000</td> <td>    1.233</td> <td>    1.918</td>\n",
       "</tr>\n",
       "<tr>\n",
       "  <th>last_notable_activity_Other</th>                          <td>    2.1763</td> <td>    0.868</td> <td>    2.508</td> <td> 0.012</td> <td>    0.475</td> <td>    3.877</td>\n",
       "</tr>\n",
       "<tr>\n",
       "  <th>last_notable_activity_SMS Sent</th>                       <td>    0.7289</td> <td>    0.070</td> <td>   10.391</td> <td> 0.000</td> <td>    0.591</td> <td>    0.866</td>\n",
       "</tr>\n",
       "<tr>\n",
       "  <th>last_notable_activity_Unsubscribed</th>                   <td>    1.4762</td> <td>    0.491</td> <td>    3.008</td> <td> 0.003</td> <td>    0.514</td> <td>    2.438</td>\n",
       "</tr>\n",
       "<tr>\n",
       "  <th>total_time_spent_on_website</th>                          <td>    0.9747</td> <td>    0.040</td> <td>   24.330</td> <td> 0.000</td> <td>    0.896</td> <td>    1.053</td>\n",
       "</tr>\n",
       "</table>"
      ],
      "text/plain": [
       "<class 'statsmodels.iolib.summary.Summary'>\n",
       "\"\"\"\n",
       "                           Logit Regression Results                           \n",
       "==============================================================================\n",
       "Dep. Variable:              converted   No. Observations:                 6325\n",
       "Model:                          Logit   Df Residuals:                     6314\n",
       "Method:                           MLE   Df Model:                           10\n",
       "Date:                Fri, 08 Oct 2021   Pseudo R-squ.:                  0.3359\n",
       "Time:                        11:14:05   Log-Likelihood:                -2805.5\n",
       "converged:                       True   LL-Null:                       -4224.5\n",
       "Covariance Type:            nonrobust   LLR p-value:                     0.000\n",
       "========================================================================================================================\n",
       "                                                           coef    std err          z      P>|z|      [0.025      0.975]\n",
       "------------------------------------------------------------------------------------------------------------------------\n",
       "lead_origin_Add Form                                     2.6752      0.196     13.661      0.000       2.291       3.059\n",
       "lead_source_Olark Chat                                   0.6532      0.095      6.898      0.000       0.468       0.839\n",
       "lead_source_Welingak Website                             2.0327      0.751      2.708      0.007       0.561       3.504\n",
       "do_not_email_Yes                                        -1.8891      0.161    -11.751      0.000      -2.204      -1.574\n",
       "last_activity_Olark Chat Conversation                   -1.8905      0.163    -11.612      0.000      -2.210      -1.571\n",
       "what_is_your_current_occupation_Other                   -1.8691      0.079    -23.553      0.000      -2.025      -1.714\n",
       "what_is_your_current_occupation_Working Professional     1.5758      0.175      9.020      0.000       1.233       1.918\n",
       "last_notable_activity_Other                              2.1763      0.868      2.508      0.012       0.475       3.877\n",
       "last_notable_activity_SMS Sent                           0.7289      0.070     10.391      0.000       0.591       0.866\n",
       "last_notable_activity_Unsubscribed                       1.4762      0.491      3.008      0.003       0.514       2.438\n",
       "total_time_spent_on_website                              0.9747      0.040     24.330      0.000       0.896       1.053\n",
       "========================================================================================================================\n",
       "\"\"\""
      ]
     },
     "execution_count": 122,
     "metadata": {},
     "output_type": "execute_result"
    }
   ],
   "source": [
    "#X_train_sm = sm.add_constant(X_train_rfe)\n",
    "logm2 = sm.Logit(y_train,X_train_rfe, family = sm.families.Binomial())\n",
    "result = logm2.fit()\n",
    "result.summary()"
   ]
  },
  {
   "cell_type": "markdown",
   "id": "d57212b2",
   "metadata": {},
   "source": [
    "##### Selected Feature have no VIF > 2.5 and therefore a good selection for the lead scoring"
   ]
  },
  {
   "cell_type": "markdown",
   "id": "035d6e3b",
   "metadata": {},
   "source": [
    "## Getting the Likelihood to convert on the train data"
   ]
  },
  {
   "cell_type": "code",
   "execution_count": 123,
   "id": "62859860",
   "metadata": {},
   "outputs": [
    {
     "data": {
      "text/plain": [
       "(0.998688704881749, 0.0018572090327847975, 0.46188148190809397)"
      ]
     },
     "execution_count": 123,
     "metadata": {},
     "output_type": "execute_result"
    }
   ],
   "source": [
    "\n",
    "y_train_pred = result.predict(X_train_rfe)\n",
    "y_train_pred.max(), y_train_pred.min(), y_train_pred.mean() #reflect the liklihood calculated from the model that a lead will convert"
   ]
  },
  {
   "cell_type": "code",
   "execution_count": 124,
   "id": "1f78f5bb",
   "metadata": {},
   "outputs": [
    {
     "data": {
      "text/plain": [
       "6325"
      ]
     },
     "execution_count": 124,
     "metadata": {},
     "output_type": "execute_result"
    }
   ],
   "source": [
    "\n",
    "y_train_pred = y_train_pred.values.reshape(-1)\n",
    "len(y_train_pred)"
   ]
  },
  {
   "cell_type": "markdown",
   "id": "2d03a0ba",
   "metadata": {},
   "source": [
    "#### True vs predicted y_train"
   ]
  },
  {
   "cell_type": "code",
   "execution_count": 125,
   "id": "3bd2812f",
   "metadata": {},
   "outputs": [
    {
     "data": {
      "text/html": [
       "<div>\n",
       "<style scoped>\n",
       "    .dataframe tbody tr th:only-of-type {\n",
       "        vertical-align: middle;\n",
       "    }\n",
       "\n",
       "    .dataframe tbody tr th {\n",
       "        vertical-align: top;\n",
       "    }\n",
       "\n",
       "    .dataframe thead th {\n",
       "        text-align: right;\n",
       "    }\n",
       "</style>\n",
       "<table border=\"1\" class=\"dataframe\">\n",
       "  <thead>\n",
       "    <tr style=\"text-align: right;\">\n",
       "      <th></th>\n",
       "      <th>lead_id</th>\n",
       "      <th>conversion_prob</th>\n",
       "      <th>conversion_true</th>\n",
       "      <th>conversion_pred</th>\n",
       "    </tr>\n",
       "  </thead>\n",
       "  <tbody>\n",
       "    <tr>\n",
       "      <th>0</th>\n",
       "      <td>1298</td>\n",
       "      <td>0.411</td>\n",
       "      <td>0</td>\n",
       "      <td>0</td>\n",
       "    </tr>\n",
       "    <tr>\n",
       "      <th>1</th>\n",
       "      <td>3686</td>\n",
       "      <td>0.018</td>\n",
       "      <td>0</td>\n",
       "      <td>0</td>\n",
       "    </tr>\n",
       "    <tr>\n",
       "      <th>2</th>\n",
       "      <td>8417</td>\n",
       "      <td>0.340</td>\n",
       "      <td>0</td>\n",
       "      <td>0</td>\n",
       "    </tr>\n",
       "    <tr>\n",
       "      <th>3</th>\n",
       "      <td>4983</td>\n",
       "      <td>0.879</td>\n",
       "      <td>0</td>\n",
       "      <td>1</td>\n",
       "    </tr>\n",
       "    <tr>\n",
       "      <th>4</th>\n",
       "      <td>6813</td>\n",
       "      <td>0.626</td>\n",
       "      <td>0</td>\n",
       "      <td>1</td>\n",
       "    </tr>\n",
       "    <tr>\n",
       "      <th>...</th>\n",
       "      <td>...</td>\n",
       "      <td>...</td>\n",
       "      <td>...</td>\n",
       "      <td>...</td>\n",
       "    </tr>\n",
       "    <tr>\n",
       "      <th>6320</th>\n",
       "      <td>4829</td>\n",
       "      <td>0.018</td>\n",
       "      <td>0</td>\n",
       "      <td>0</td>\n",
       "    </tr>\n",
       "    <tr>\n",
       "      <th>6321</th>\n",
       "      <td>7291</td>\n",
       "      <td>0.909</td>\n",
       "      <td>1</td>\n",
       "      <td>1</td>\n",
       "    </tr>\n",
       "    <tr>\n",
       "      <th>6322</th>\n",
       "      <td>1344</td>\n",
       "      <td>0.217</td>\n",
       "      <td>1</td>\n",
       "      <td>0</td>\n",
       "    </tr>\n",
       "    <tr>\n",
       "      <th>6323</th>\n",
       "      <td>7293</td>\n",
       "      <td>0.664</td>\n",
       "      <td>0</td>\n",
       "      <td>1</td>\n",
       "    </tr>\n",
       "    <tr>\n",
       "      <th>6324</th>\n",
       "      <td>1289</td>\n",
       "      <td>0.398</td>\n",
       "      <td>0</td>\n",
       "      <td>0</td>\n",
       "    </tr>\n",
       "  </tbody>\n",
       "</table>\n",
       "<p>6325 rows × 4 columns</p>\n",
       "</div>"
      ],
      "text/plain": [
       "      lead_id  conversion_prob  conversion_true  conversion_pred\n",
       "0        1298            0.411                0                0\n",
       "1        3686            0.018                0                0\n",
       "2        8417            0.340                0                0\n",
       "3        4983            0.879                0                1\n",
       "4        6813            0.626                0                1\n",
       "...       ...              ...              ...              ...\n",
       "6320     4829            0.018                0                0\n",
       "6321     7291            0.909                1                1\n",
       "6322     1344            0.217                1                0\n",
       "6323     7293            0.664                0                1\n",
       "6324     1289            0.398                0                0\n",
       "\n",
       "[6325 rows x 4 columns]"
      ]
     },
     "execution_count": 125,
     "metadata": {},
     "output_type": "execute_result"
    }
   ],
   "source": [
    "\n",
    "y_pred_true = pd.DataFrame()\n",
    "y_pred_true['lead_id'] = y_train.index\n",
    "y_pred_true['conversion_prob']=y_train_pred\n",
    "y_pred_true['conversion_true'] = y_train.values.reshape(-1)\n",
    "y_pred_true['conversion_pred'] = y_pred_true.conversion_prob.map(lambda x: 1 if x > 0.5 else 0)\n",
    "y_pred_true\n"
   ]
  },
  {
   "cell_type": "code",
   "execution_count": 126,
   "id": "ed6f27fe",
   "metadata": {
    "scrolled": true
   },
   "outputs": [
    {
     "data": {
      "text/html": [
       "<div>\n",
       "<style scoped>\n",
       "    .dataframe tbody tr th:only-of-type {\n",
       "        vertical-align: middle;\n",
       "    }\n",
       "\n",
       "    .dataframe tbody tr th {\n",
       "        vertical-align: top;\n",
       "    }\n",
       "\n",
       "    .dataframe thead th {\n",
       "        text-align: right;\n",
       "    }\n",
       "</style>\n",
       "<table border=\"1\" class=\"dataframe\">\n",
       "  <thead>\n",
       "    <tr style=\"text-align: right;\">\n",
       "      <th></th>\n",
       "      <th>lead_id</th>\n",
       "      <th>conversion_prob</th>\n",
       "      <th>conversion_true</th>\n",
       "      <th>conversion_pred</th>\n",
       "    </tr>\n",
       "  </thead>\n",
       "  <tbody>\n",
       "    <tr>\n",
       "      <th>0</th>\n",
       "      <td>2862</td>\n",
       "      <td>0.980</td>\n",
       "      <td>1</td>\n",
       "      <td>1</td>\n",
       "    </tr>\n",
       "    <tr>\n",
       "      <th>1</th>\n",
       "      <td>3317</td>\n",
       "      <td>0.395</td>\n",
       "      <td>0</td>\n",
       "      <td>0</td>\n",
       "    </tr>\n",
       "    <tr>\n",
       "      <th>2</th>\n",
       "      <td>6519</td>\n",
       "      <td>0.477</td>\n",
       "      <td>0</td>\n",
       "      <td>0</td>\n",
       "    </tr>\n",
       "    <tr>\n",
       "      <th>3</th>\n",
       "      <td>2449</td>\n",
       "      <td>0.833</td>\n",
       "      <td>1</td>\n",
       "      <td>1</td>\n",
       "    </tr>\n",
       "    <tr>\n",
       "      <th>4</th>\n",
       "      <td>4034</td>\n",
       "      <td>0.560</td>\n",
       "      <td>0</td>\n",
       "      <td>1</td>\n",
       "    </tr>\n",
       "    <tr>\n",
       "      <th>...</th>\n",
       "      <td>...</td>\n",
       "      <td>...</td>\n",
       "      <td>...</td>\n",
       "      <td>...</td>\n",
       "    </tr>\n",
       "    <tr>\n",
       "      <th>2707</th>\n",
       "      <td>4825</td>\n",
       "      <td>0.106</td>\n",
       "      <td>0</td>\n",
       "      <td>0</td>\n",
       "    </tr>\n",
       "    <tr>\n",
       "      <th>2708</th>\n",
       "      <td>308</td>\n",
       "      <td>0.146</td>\n",
       "      <td>1</td>\n",
       "      <td>0</td>\n",
       "    </tr>\n",
       "    <tr>\n",
       "      <th>2709</th>\n",
       "      <td>4789</td>\n",
       "      <td>0.069</td>\n",
       "      <td>0</td>\n",
       "      <td>0</td>\n",
       "    </tr>\n",
       "    <tr>\n",
       "      <th>2710</th>\n",
       "      <td>5667</td>\n",
       "      <td>0.961</td>\n",
       "      <td>1</td>\n",
       "      <td>1</td>\n",
       "    </tr>\n",
       "    <tr>\n",
       "      <th>2711</th>\n",
       "      <td>8727</td>\n",
       "      <td>0.205</td>\n",
       "      <td>1</td>\n",
       "      <td>0</td>\n",
       "    </tr>\n",
       "  </tbody>\n",
       "</table>\n",
       "<p>2712 rows × 4 columns</p>\n",
       "</div>"
      ],
      "text/plain": [
       "      lead_id  conversion_prob  conversion_true  conversion_pred\n",
       "0        2862            0.980                1                1\n",
       "1        3317            0.395                0                0\n",
       "2        6519            0.477                0                0\n",
       "3        2449            0.833                1                1\n",
       "4        4034            0.560                0                1\n",
       "...       ...              ...              ...              ...\n",
       "2707     4825            0.106                0                0\n",
       "2708      308            0.146                1                0\n",
       "2709     4789            0.069                0                0\n",
       "2710     5667            0.961                1                1\n",
       "2711     8727            0.205                1                0\n",
       "\n",
       "[2712 rows x 4 columns]"
      ]
     },
     "execution_count": 126,
     "metadata": {},
     "output_type": "execute_result"
    }
   ],
   "source": [
    "y_pred = result.predict(X_test_rfe)\n",
    "y_pred = y_pred.values.reshape(-1)\n",
    "\n",
    "y_pred_test_true = pd.DataFrame()\n",
    "y_pred_test_true['lead_id'] = y_test.index\n",
    "y_pred_test_true['conversion_prob']=y_pred\n",
    "y_pred_test_true['conversion_true'] = y_test.values.reshape(-1)\n",
    "y_pred_test_true['conversion_pred'] = y_pred_test_true.conversion_prob.map(lambda x: 1 if x > 0.5 else 0)\n",
    "y_pred_test_true"
   ]
  },
  {
   "cell_type": "markdown",
   "id": "e0dac515",
   "metadata": {},
   "source": [
    "#### Accuracy score x Confusion matrix"
   ]
  },
  {
   "cell_type": "code",
   "execution_count": 128,
   "id": "2372949a",
   "metadata": {},
   "outputs": [
    {
     "name": "stdout",
     "output_type": "stream",
     "text": [
      "Accuracy score for test set 0.7868731563421829\n",
      "Confusion matrix for the test set\n"
     ]
    },
    {
     "data": {
      "image/png": "[encoded data removed]",
      "text/plain": [
       "<Figure size 432x288 with 2 Axes>"
      ]
     },
     "metadata": {
      "needs_background": "light"
     },
     "output_type": "display_data"
    }
   ],
   "source": [
    "#will just use test accuracy for presentation\n",
    "\n",
    "#print(\"Accuracy score for train set\", metrics.accuracy_score(y_pred_true.conversion_true, y_pred_true.conversion_pred))\n",
    "#print(\"Confusion matrix for the train set\")\n",
    "##print(confusion_matrix(y_pred_true.conversion_true,y_pred_true.conversion_pred))\n",
    "#IC = type('IdentityClassifier', (), {\"predict\": lambda i : i, \"_estimator_type\": \"classifier\"})\n",
    "#plot_confusion_matrix(IC, y_pred_true.conversion_true,y_pred_true.conversion_pred)\n",
    "#plt.show()\n",
    "#print()\n",
    "#print()\n",
    "\n",
    "\n",
    "IC = type('IdentityClassifier', (), {\"predict\": lambda i : i, \"_estimator_type\": \"classifier\"})\n",
    "plot_confusion_matrix(IC, y_pred_test_true.conversion_true,y_pred_test_true.conversion_pred)\n",
    "print(\"Accuracy score for test set\", metrics.accuracy_score(y_pred_test_true.conversion_true, y_pred_test_true.conversion_pred))\n",
    "print(\"Confusion matrix for the test set\")\n"
   ]
  },
  {
   "cell_type": "code",
   "execution_count": 129,
   "id": "e52bde08",
   "metadata": {},
   "outputs": [
    {
     "data": {
      "text/plain": [
       "<statsmodels.discrete.discrete_model.BinaryResultsWrapper at 0x7fe22aa770d0>"
      ]
     },
     "execution_count": 129,
     "metadata": {},
     "output_type": "execute_result"
    }
   ],
   "source": [
    "result"
   ]
  },
  {
   "cell_type": "code",
   "execution_count": 130,
   "id": "435c67d4",
   "metadata": {},
   "outputs": [],
   "source": [
    "def leadscore():\n",
    "\n",
    "    data=input('Enter the path of your file. Please use the template: files/New_data_xeducation.csv')\n",
    "    df = pd.read_csv(data)\n",
    "    \n",
    "    a=df[['total_time_spent_on_website','placeholder']]\n",
    "    \n",
    "   #scaling numerical features\n",
    "    scaler = StandardScaler()\n",
    "    scaler.fit(a) #z score \n",
    "    lead_scaled = scaler.transform(a) #gives an array\n",
    "    lead_scaled = pd.DataFrame(lead_scaled, columns = a.columns) #transform it to a df\n",
    "    \n",
    "    df.total_time_spent_on_website = a.total_time_spent_on_website\n",
    " \n",
    "    \n",
    "    #defining X \n",
    "    X = df\n",
    "    X.drop(columns='placeholder',inplace=True)\n",
    "    #return X.columns\n",
    "    y =result.predict(X)\n",
    "    y = y*100\n",
    "    Leadscore= pd.DataFrame()\n",
    "    Leadscore['Leadscore']=y\n",
    "    print(\"\\nThe liklihood of conversion for the entered leads are:\")\n",
    "    display(Leadscore)\n",
    "    print(\"\\nFollowing features have been used to predict the score:\")\n",
    "    display(X)\n",
    "   \n"
   ]
  },
  {
   "cell_type": "code",
   "execution_count": 131,
   "id": "e5b47411",
   "metadata": {},
   "outputs": [
    {
     "name": "stdout",
     "output_type": "stream",
     "text": [
      "Enter the path of your file. Please use the template: files/New_data_xeducation.csvfiles/New_data_xeducation.csv\n",
      "\n",
      "The liklihood of conversion for the entered leads are:\n"
     ]
    },
    {
     "data": {
      "text/html": [
       "<div>\n",
       "<style scoped>\n",
       "    .dataframe tbody tr th:only-of-type {\n",
       "        vertical-align: middle;\n",
       "    }\n",
       "\n",
       "    .dataframe tbody tr th {\n",
       "        vertical-align: top;\n",
       "    }\n",
       "\n",
       "    .dataframe thead th {\n",
       "        text-align: right;\n",
       "    }\n",
       "</style>\n",
       "<table border=\"1\" class=\"dataframe\">\n",
       "  <thead>\n",
       "    <tr style=\"text-align: right;\">\n",
       "      <th></th>\n",
       "      <th>Leadscore</th>\n",
       "    </tr>\n",
       "  </thead>\n",
       "  <tbody>\n",
       "    <tr>\n",
       "      <th>0</th>\n",
       "      <td>100.000</td>\n",
       "    </tr>\n",
       "    <tr>\n",
       "      <th>1</th>\n",
       "      <td>28.610</td>\n",
       "    </tr>\n",
       "  </tbody>\n",
       "</table>\n",
       "</div>"
      ],
      "text/plain": [
       "   Leadscore\n",
       "0    100.000\n",
       "1     28.610"
      ]
     },
     "metadata": {},
     "output_type": "display_data"
    },
    {
     "name": "stdout",
     "output_type": "stream",
     "text": [
      "\n",
      "Following features have been used to predict the score:\n"
     ]
    },
    {
     "data": {
      "text/html": [
       "<div>\n",
       "<style scoped>\n",
       "    .dataframe tbody tr th:only-of-type {\n",
       "        vertical-align: middle;\n",
       "    }\n",
       "\n",
       "    .dataframe tbody tr th {\n",
       "        vertical-align: top;\n",
       "    }\n",
       "\n",
       "    .dataframe thead th {\n",
       "        text-align: right;\n",
       "    }\n",
       "</style>\n",
       "<table border=\"1\" class=\"dataframe\">\n",
       "  <thead>\n",
       "    <tr style=\"text-align: right;\">\n",
       "      <th></th>\n",
       "      <th>lead_origin_Add Form</th>\n",
       "      <th>lead_source_Olark Chat</th>\n",
       "      <th>lead_source_Welingak Website</th>\n",
       "      <th>do_not_email_Yes</th>\n",
       "      <th>last_activity_Olark Chat Conversation</th>\n",
       "      <th>what_is_your_current_occupation_Other</th>\n",
       "      <th>what_is_your_current_occupation_Working Professional</th>\n",
       "      <th>last_notable_activity_Other</th>\n",
       "      <th>last_notable_activity_SMS Sent</th>\n",
       "      <th>last_notable_activity_Unsubscribed</th>\n",
       "      <th>total_time_spent_on_website</th>\n",
       "    </tr>\n",
       "  </thead>\n",
       "  <tbody>\n",
       "    <tr>\n",
       "      <th>0</th>\n",
       "      <td>1</td>\n",
       "      <td>1</td>\n",
       "      <td>0</td>\n",
       "      <td>0</td>\n",
       "      <td>1</td>\n",
       "      <td>0</td>\n",
       "      <td>1</td>\n",
       "      <td>0</td>\n",
       "      <td>1</td>\n",
       "      <td>0</td>\n",
       "      <td>100</td>\n",
       "    </tr>\n",
       "    <tr>\n",
       "      <th>1</th>\n",
       "      <td>0</td>\n",
       "      <td>0</td>\n",
       "      <td>0</td>\n",
       "      <td>1</td>\n",
       "      <td>0</td>\n",
       "      <td>0</td>\n",
       "      <td>0</td>\n",
       "      <td>0</td>\n",
       "      <td>0</td>\n",
       "      <td>0</td>\n",
       "      <td>1</td>\n",
       "    </tr>\n",
       "  </tbody>\n",
       "</table>\n",
       "</div>"
      ],
      "text/plain": [
       "   lead_origin_Add Form  lead_source_Olark Chat  lead_source_Welingak Website  \\\n",
       "0                     1                       1                             0   \n",
       "1                     0                       0                             0   \n",
       "\n",
       "   do_not_email_Yes  last_activity_Olark Chat Conversation  \\\n",
       "0                 0                                      1   \n",
       "1                 1                                      0   \n",
       "\n",
       "   what_is_your_current_occupation_Other  \\\n",
       "0                                      0   \n",
       "1                                      0   \n",
       "\n",
       "   what_is_your_current_occupation_Working Professional  \\\n",
       "0                                                     1   \n",
       "1                                                     0   \n",
       "\n",
       "   last_notable_activity_Other  last_notable_activity_SMS Sent  \\\n",
       "0                            0                               1   \n",
       "1                            0                               0   \n",
       "\n",
       "   last_notable_activity_Unsubscribed  total_time_spent_on_website  \n",
       "0                                   0                          100  \n",
       "1                                   0                            1  "
      ]
     },
     "metadata": {},
     "output_type": "display_data"
    }
   ],
   "source": [
    "leadscore()\n"
   ]
  },
  {
   "cell_type": "code",
   "execution_count": null,
   "id": "5b7fa958",
   "metadata": {},
   "outputs": [],
   "source": []
  }
 ],
 "metadata": {
  "kernelspec": {
   "display_name": "Python 3",
   "language": "python",
   "name": "python3"
  },
  "language_info": {
   "codemirror_mode": {
    "name": "ipython",
    "version": 3
   },
   "file_extension": ".py",
   "mimetype": "text/x-python",
   "name": "python",
   "nbconvert_exporter": "python",
   "pygments_lexer": "ipython3",
   "version": "3.9.6"
  }
 },
 "nbformat": 4,
 "nbformat_minor": 5
}
