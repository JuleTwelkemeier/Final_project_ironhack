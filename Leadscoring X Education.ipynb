{
 "cells": [
  {
   "cell_type": "markdown",
   "id": "7be98d2c",
   "metadata": {},
   "source": [
    "Problem Statement\n",
    "\n",
    "An education company named X Education sells online courses to industry professionals. The company markets its courses on several websites and search engines like Google. Once these people land on the website, they might browse the courses or fill up a form for the course or watch some videos. When these people fill up a form providing their email address or phone number, they are classified to be a lead. Now, although X Education gets a lot of leads, its lead conversion rate is very poor. To make this process more efficient, the company wishes to identify the most potential leads, also known as ‘Hot Leads’. X Education has appointed you to help them select the most promising leads, i.e. the leads that are most likely to convert into paying customers."
   ]
  },
  {
   "cell_type": "markdown",
   "id": "ba7d9f40",
   "metadata": {},
   "source": [
    "Libraries"
   ]
  },
  {
   "cell_type": "code",
   "execution_count": 166,
   "id": "99ac521b",
   "metadata": {},
   "outputs": [],
   "source": [
    "import pandas as pd\n",
    "pd.set_option('display.max_colwidth', None) #to display full text in df'S\n",
    "import numpy as np\n",
    "import scipy as sc\n",
    "from openpyxl import Workbook\n",
    "from ipywidgets import interactive\n",
    "import ipywidgets as widgets\n",
    "from sklearn.metrics import mean_absolute_error as mae\n",
    "from sklearn.metrics import mean_squared_error, r2_score\n",
    "from sklearn.preprocessing import StandardScaler\n",
    "from sklearn.preprocessing import OneHotEncoder\n",
    "from sklearn.preprocessing import QuantileTransformer\n",
    "from sklearn.linear_model import LogisticRegression\n",
    "from sklearn.svm import LinearSVC\n",
    "from sklearn.tree import DecisionTreeClassifier\n",
    "from sklearn.ensemble import RandomForestClassifier\n",
    "from sklearn.naive_bayes import GaussianNB\n",
    "from sklearn.neighbors import KNeighborsClassifier\n",
    "from sklearn.model_selection import RandomizedSearchCV\n",
    "from sklearn.model_selection import train_test_split\n",
    "from sklearn.preprocessing import PowerTransformer\n",
    "from sklearn.model_selection import cross_val_score\n",
    "from sklearn.experimental import enable_iterative_imputer\n",
    "from sklearn.impute import SimpleImputer\n",
    "from sklearn.metrics import r2_score, mean_absolute_error, mean_squared_error\n",
    "from scipy.stats import boxcox\n",
    "from scipy import stats\n",
    "pd.options.display.max_rows = 50\n",
    "pd.options.display.max_columns = 999\n",
    "from matplotlib import pyplot\n",
    "import matplotlib.pyplot as plt\n",
    "from matplotlib.collections import LineCollection\n",
    "%matplotlib inline\n",
    "import seaborn as sns\n",
    "import datetime\n",
    "from sklearn.metrics import classification_report\n",
    "from sklearn.metrics import accuracy_score, precision_score, recall_score, confusion_matrix\n",
    "from sklearn.metrics import plot_confusion_matrix\n",
    "import warnings\n",
    "warnings.filterwarnings('ignore')\n",
    "import statsmodels.api as sm\n",
    "import statsmodels.formula.api as smf\n",
    "from sklearn.feature_selection import RFE\n",
    "from statsmodels.stats.outliers_influence import variance_inflation_factor\n"
   ]
  },
  {
   "cell_type": "markdown",
   "id": "28e71641",
   "metadata": {},
   "source": [
    "Pipeline\n",
    "\n",
    "Results from the analysis below"
   ]
  },
  {
   "cell_type": "code",
   "execution_count": 4,
   "id": "36959a6a",
   "metadata": {},
   "outputs": [],
   "source": [
    "## Data cleaning /handling NaNs / bucketing /handling outliers\n",
    "\n",
    "\n",
    "def clean_data(df):\n",
    "    df.columns=[e.lower().replace(' ', '_') for e in df.columns] #all columns in lower case and with _\n",
    "    \n",
    "    # 'select' is a placehholder and needs to be treated like NaN\n",
    "    df.replace('Select', np.NaN, inplace =True)\n",
    "    \n",
    "    #dropping cloumns with > 30% nulls\n",
    "    #missing_value_df = df.isnull()\n",
    "    percent_missing = df.isnull().sum() * 100 / len(df)\n",
    "    missing_value_df = pd.DataFrame({'column_name': df.columns,\n",
    "                                     'percent_missing': percent_missing})\n",
    "    missing_data_30 = list(missing_value_df[missing_value_df['percent_missing']>30]['column_name'])\n",
    "    df.drop(columns=missing_data_30, inplace= True)\n",
    "    \n",
    "    # replacement with median to deal with the ouliers\n",
    "    df['totalvisits'].fillna(df['totalvisits'].median(),inplace=True)\n",
    "    df['page_views_per_visit'].fillna(df['page_views_per_visit'].median(),inplace=True)\n",
    "    \n",
    "    #using the most frequent method to fill values\n",
    "    df.last_activity.replace(np.NaN, 'Email Opened', inplace =True)\n",
    "    df.lead_source.replace(np.NaN, 'Google', inplace =True)\n",
    "    \n",
    "    #bucketing marked spam as unsubscribed\n",
    "    df.lead_source.replace('Email Marked Spam','Unsubscribed', inplace = True)\n",
    "    df.last_notable_activity.replace('Email Marked Spam','Unsubscribed', inplace = True)\n",
    "    \n",
    "    #bucketing values < 30 to 'Other'\n",
    "    df.last_activity.replace(('Approached upfront','View in browser link Clicked','Email Received','Email Marked Spam','Visited Booth in Tradeshow','Resubscribed to emails'), 'Other', inplace = True)\n",
    "    df.lead_source.replace(('bing','google','blog','Payoer Click Ads','Social Media','WeLearn','Click2call','Live Chat','welearnblog_Home','youtubechannel','testone','Press_Release','NC_EDM', 'Pay per Click Ads'), 'Other', inplace = True)\n",
    "    df.last_notable_activity.replace(('Had a Phone Conversation','Approached upfront','Resubscribed to emails','View in browser link Clicked','Form Submitted on Website','Email Received'), 'Other', inplace = True)\n",
    "    # bucket buisnessman and working professional \n",
    "    df.what_is_your_current_occupation.replace('Businessman', 'Working Professional', inplace =True)\n",
    "    #bucketing add forms\n",
    "    df.lead_origin.replace(('Quick Add Form','Lead Add Form'),'Add Form', inplace =True)\n",
    "    #bucketing email bounced and unreachable\n",
    "    df.last_notable_activity.replace('Email Bounced','Unreachable', inplace = True)\n",
    "    \n",
    "    # as NaN can be seen equal to other (not known), I will replace NaN's with 'Other' in occupation\n",
    "    df.what_is_your_current_occupation.replace(np.NaN, 'Other', inplace =True)\n",
    "    df.what_matters_most_to_you_in_choosing_a_course.replace(np.NaN, 'Other', inplace =True)\n",
    "    \n",
    "    \n",
    "    #drop column which is just for identification\n",
    "    df.drop(columns = 'prospect_id', inplace =True)\n",
    "    \n",
    "    \n",
    "    #drop columns which have no or little variance\n",
    "    df.drop(columns = 'country', inplace =True) #A/B testing\n",
    "    df.drop(columns = 'search', inplace =True) #A/B testing\n",
    "    df.drop(columns = 'what_matters_most_to_you_in_choosing_a_course', inplace =True)\n",
    "    df.drop(columns = 'magazine', inplace =True)\n",
    "    df.drop(columns = 'newspaper_article', inplace =True)\n",
    "    df.drop(columns = 'x_education_forums', inplace =True)\n",
    "    df.drop(columns = 'newspaper', inplace =True)\n",
    "    df.drop(columns = 'digital_advertisement', inplace =True)\n",
    "    df.drop(columns = 'through_recommendations', inplace =True)\n",
    "    df.drop(columns = 'receive_more_updates_about_our_courses', inplace =True)\n",
    "    df.drop(columns = 'get_updates_on_dm_content', inplace =True)\n",
    "    df.drop(columns = 'i_agree_to_pay_the_amount_through_cheque', inplace =True)\n",
    "    df.drop(columns = 'update_me_on_supply_chain_content', inplace = True)\n",
    "    df.drop(columns = 'do_not_call', inplace = True)\n",
    "    \n",
    "    #treating outliers with z scorre > 3\n",
    "    z = np.abs(stats.zscore(df.page_views_per_visit))\n",
    "    threshold = 5\n",
    "    outliers_pagevisits =(np.where(z > 3))\n",
    "    outliers_pagevisits = np.array(outliers_pagevisits).tolist()\n",
    "    z1 = np.abs(stats.zscore(df.totalvisits))\n",
    "    threshold = 5\n",
    "    outliers_totalvisits =(np.where(z1 > 3))\n",
    "    outliers_totalvisits = np.array(outliers_totalvisits).tolist()\n",
    "    #combine both lists to the drop these rows\n",
    "    outliers = [*outliers_totalvisits, *outliers_pagevisits]\n",
    "    for i in outliers:\n",
    "        df.drop(df.index[[i]], inplace = True)\n",
    "    #df.drop(columns = 'lead_number', inplace =True) #--> will use it later to give the score based on this number\n",
    "    \n",
    "    \n",
    "    #display(df.isnull().sum())\n",
    "    return df\n",
    "    "
   ]
  },
  {
   "cell_type": "markdown",
   "id": "1a7c20d2",
   "metadata": {},
   "source": [
    "Load Dataset"
   ]
  },
  {
   "cell_type": "code",
   "execution_count": 81,
   "id": "274de0e4",
   "metadata": {},
   "outputs": [],
   "source": [
    "## Kaggle dataset into df\n",
    "lead_df = pd.read_csv('files/Lead Scoring.csv')\n",
    "lead_df.columns=[e.lower().replace(' ', '_') for e in lead_df.columns] #all columns in lower case and with _"
   ]
  },
  {
   "cell_type": "code",
   "execution_count": null,
   "id": "4507717a",
   "metadata": {},
   "outputs": [],
   "source": [
    "Checking the Conversion Rate"
   ]
  },
  {
   "cell_type": "code",
   "execution_count": 190,
   "id": "3ad862c7",
   "metadata": {},
   "outputs": [
    {
     "name": "stdout",
     "output_type": "stream",
     "text": [
      "The current conversion rate from X Education is  39 %\n"
     ]
    }
   ],
   "source": [
    "print(\"The current conversion rate from X Education is \", round((sum(lead_df['converted'])/len(lead_df['converted'].index))*100), \"%\")"
   ]
  },
  {
   "cell_type": "markdown",
   "id": "4e8551e7",
   "metadata": {},
   "source": [
    "Check & handle Null Values"
   ]
  },
  {
   "cell_type": "code",
   "execution_count": 82,
   "id": "82a079be",
   "metadata": {},
   "outputs": [
    {
     "name": "stdout",
     "output_type": "stream",
     "text": [
      "<class 'pandas.core.frame.DataFrame'>\n",
      "RangeIndex: 9240 entries, 0 to 9239\n",
      "Data columns (total 37 columns):\n",
      " #   Column                                         Non-Null Count  Dtype  \n",
      "---  ------                                         --------------  -----  \n",
      " 0   prospect_id                                    9240 non-null   object \n",
      " 1   lead_number                                    9240 non-null   int64  \n",
      " 2   lead_origin                                    9240 non-null   object \n",
      " 3   lead_source                                    9204 non-null   object \n",
      " 4   do_not_email                                   9240 non-null   object \n",
      " 5   do_not_call                                    9240 non-null   object \n",
      " 6   converted                                      9240 non-null   int64  \n",
      " 7   totalvisits                                    9103 non-null   float64\n",
      " 8   total_time_spent_on_website                    9240 non-null   int64  \n",
      " 9   page_views_per_visit                           9103 non-null   float64\n",
      " 10  last_activity                                  9137 non-null   object \n",
      " 11  country                                        6779 non-null   object \n",
      " 12  specialization                                 7802 non-null   object \n",
      " 13  how_did_you_hear_about_x_education             7033 non-null   object \n",
      " 14  what_is_your_current_occupation                6550 non-null   object \n",
      " 15  what_matters_most_to_you_in_choosing_a_course  6531 non-null   object \n",
      " 16  search                                         9240 non-null   object \n",
      " 17  magazine                                       9240 non-null   object \n",
      " 18  newspaper_article                              9240 non-null   object \n",
      " 19  x_education_forums                             9240 non-null   object \n",
      " 20  newspaper                                      9240 non-null   object \n",
      " 21  digital_advertisement                          9240 non-null   object \n",
      " 22  through_recommendations                        9240 non-null   object \n",
      " 23  receive_more_updates_about_our_courses         9240 non-null   object \n",
      " 24  tags                                           5887 non-null   object \n",
      " 25  lead_quality                                   4473 non-null   object \n",
      " 26  update_me_on_supply_chain_content              9240 non-null   object \n",
      " 27  get_updates_on_dm_content                      9240 non-null   object \n",
      " 28  lead_profile                                   6531 non-null   object \n",
      " 29  city                                           7820 non-null   object \n",
      " 30  asymmetrique_activity_index                    5022 non-null   object \n",
      " 31  asymmetrique_profile_index                     5022 non-null   object \n",
      " 32  asymmetrique_activity_score                    5022 non-null   float64\n",
      " 33  asymmetrique_profile_score                     5022 non-null   float64\n",
      " 34  i_agree_to_pay_the_amount_through_cheque       9240 non-null   object \n",
      " 35  a_free_copy_of_mastering_the_interview         9240 non-null   object \n",
      " 36  last_notable_activity                          9240 non-null   object \n",
      "dtypes: float64(4), int64(3), object(30)\n",
      "memory usage: 2.6+ MB\n"
     ]
    }
   ],
   "source": [
    "lead_df.info()"
   ]
  },
  {
   "cell_type": "code",
   "execution_count": 83,
   "id": "886cb9fb",
   "metadata": {},
   "outputs": [
    {
     "data": {
      "text/html": [
       "<div>\n",
       "<style scoped>\n",
       "    .dataframe tbody tr th:only-of-type {\n",
       "        vertical-align: middle;\n",
       "    }\n",
       "\n",
       "    .dataframe tbody tr th {\n",
       "        vertical-align: top;\n",
       "    }\n",
       "\n",
       "    .dataframe thead th {\n",
       "        text-align: right;\n",
       "    }\n",
       "</style>\n",
       "<table border=\"1\" class=\"dataframe\">\n",
       "  <thead>\n",
       "    <tr style=\"text-align: right;\">\n",
       "      <th></th>\n",
       "      <th>Column</th>\n",
       "      <th>Describtion</th>\n",
       "    </tr>\n",
       "  </thead>\n",
       "  <tbody>\n",
       "    <tr>\n",
       "      <th>0</th>\n",
       "      <td>Prospect ID</td>\n",
       "      <td>A unique ID with which the customer is identified.</td>\n",
       "    </tr>\n",
       "    <tr>\n",
       "      <th>1</th>\n",
       "      <td>Lead Number</td>\n",
       "      <td>A lead number assigned to each lead procured.</td>\n",
       "    </tr>\n",
       "    <tr>\n",
       "      <th>2</th>\n",
       "      <td>Lead Origin</td>\n",
       "      <td>The origin identifier with which the customer was identified to be a lead. Includes API, Landing Page Submission, etc.</td>\n",
       "    </tr>\n",
       "    <tr>\n",
       "      <th>3</th>\n",
       "      <td>Lead Source</td>\n",
       "      <td>The source of the lead. Includes Google, Organic Search, Olark Chat, etc.</td>\n",
       "    </tr>\n",
       "    <tr>\n",
       "      <th>4</th>\n",
       "      <td>Do Not Email</td>\n",
       "      <td>An indicator variable selected by the customer wherein they select whether of not they want to be emailed about the course or not.</td>\n",
       "    </tr>\n",
       "    <tr>\n",
       "      <th>5</th>\n",
       "      <td>Do Not Call</td>\n",
       "      <td>An indicator variable selected by the customer wherein they select whether of not they want to be called about the course or not.</td>\n",
       "    </tr>\n",
       "    <tr>\n",
       "      <th>6</th>\n",
       "      <td>Converted</td>\n",
       "      <td>The target variable. Indicates whether a lead has been successfully converted or not.</td>\n",
       "    </tr>\n",
       "    <tr>\n",
       "      <th>7</th>\n",
       "      <td>TotalVisits</td>\n",
       "      <td>The total number of visits made by the customer on the website.</td>\n",
       "    </tr>\n",
       "    <tr>\n",
       "      <th>8</th>\n",
       "      <td>Total Time Spent on Website</td>\n",
       "      <td>The total time spent by the customer on the website.</td>\n",
       "    </tr>\n",
       "    <tr>\n",
       "      <th>9</th>\n",
       "      <td>Page Views Per Visit</td>\n",
       "      <td>Average number of pages on the website viewed during the visits.</td>\n",
       "    </tr>\n",
       "    <tr>\n",
       "      <th>10</th>\n",
       "      <td>Last Activity</td>\n",
       "      <td>Last activity performed by the customer. Includes Email Opened, Olark Chat Conversation, etc.</td>\n",
       "    </tr>\n",
       "    <tr>\n",
       "      <th>11</th>\n",
       "      <td>Country</td>\n",
       "      <td>The country of the customer.</td>\n",
       "    </tr>\n",
       "    <tr>\n",
       "      <th>12</th>\n",
       "      <td>Specialization</td>\n",
       "      <td>The industry domain in which the customer worked before. Includes the level 'Select Specialization' which means the customer had not selected this option while filling the form.</td>\n",
       "    </tr>\n",
       "    <tr>\n",
       "      <th>13</th>\n",
       "      <td>How did you hear about X Education</td>\n",
       "      <td>The source from which the customer heard about X Education.</td>\n",
       "    </tr>\n",
       "    <tr>\n",
       "      <th>14</th>\n",
       "      <td>What is your current occupation</td>\n",
       "      <td>Indicates whether the customer is a student, umemployed or employed.</td>\n",
       "    </tr>\n",
       "    <tr>\n",
       "      <th>15</th>\n",
       "      <td>What matters most to you in choosing this course</td>\n",
       "      <td>An option selected by the customer indicating what is their main motto behind doing this course.</td>\n",
       "    </tr>\n",
       "    <tr>\n",
       "      <th>16</th>\n",
       "      <td>Search</td>\n",
       "      <td>Indicating whether the customer had seen the ad in any of the listed items.</td>\n",
       "    </tr>\n",
       "    <tr>\n",
       "      <th>17</th>\n",
       "      <td>Magazine</td>\n",
       "      <td>NaN</td>\n",
       "    </tr>\n",
       "    <tr>\n",
       "      <th>18</th>\n",
       "      <td>Newspaper Article</td>\n",
       "      <td>NaN</td>\n",
       "    </tr>\n",
       "    <tr>\n",
       "      <th>19</th>\n",
       "      <td>X Education Forums</td>\n",
       "      <td>NaN</td>\n",
       "    </tr>\n",
       "    <tr>\n",
       "      <th>20</th>\n",
       "      <td>Newspaper</td>\n",
       "      <td>NaN</td>\n",
       "    </tr>\n",
       "    <tr>\n",
       "      <th>21</th>\n",
       "      <td>Digital Advertisement</td>\n",
       "      <td>NaN</td>\n",
       "    </tr>\n",
       "    <tr>\n",
       "      <th>22</th>\n",
       "      <td>Through Recommendations</td>\n",
       "      <td>Indicates whether the customer came in through recommendations.</td>\n",
       "    </tr>\n",
       "    <tr>\n",
       "      <th>23</th>\n",
       "      <td>Receive More Updates About Our Courses</td>\n",
       "      <td>Indicates whether the customer chose to receive more updates about the courses.</td>\n",
       "    </tr>\n",
       "    <tr>\n",
       "      <th>24</th>\n",
       "      <td>Tags</td>\n",
       "      <td>Tags assigned to customers indicating the current status of the lead.</td>\n",
       "    </tr>\n",
       "    <tr>\n",
       "      <th>25</th>\n",
       "      <td>Lead Quality</td>\n",
       "      <td>Indicates the quality of lead based on the data and intuition the the employee who has been assigned to the lead.</td>\n",
       "    </tr>\n",
       "    <tr>\n",
       "      <th>26</th>\n",
       "      <td>Update me on Supply Chain Content</td>\n",
       "      <td>Indicates whether the customer wants updates on the Supply Chain Content.</td>\n",
       "    </tr>\n",
       "    <tr>\n",
       "      <th>27</th>\n",
       "      <td>Get updates on DM Content</td>\n",
       "      <td>Indicates whether the customer wants updates on the DM Content.</td>\n",
       "    </tr>\n",
       "    <tr>\n",
       "      <th>28</th>\n",
       "      <td>Lead Profile</td>\n",
       "      <td>A lead level assigned to each customer based on their profile.</td>\n",
       "    </tr>\n",
       "    <tr>\n",
       "      <th>29</th>\n",
       "      <td>City</td>\n",
       "      <td>The city of the customer.</td>\n",
       "    </tr>\n",
       "    <tr>\n",
       "      <th>30</th>\n",
       "      <td>Asymmetrique Activity Index</td>\n",
       "      <td>An index and score assigned to each customer based on their activity and their profile</td>\n",
       "    </tr>\n",
       "    <tr>\n",
       "      <th>31</th>\n",
       "      <td>Asymmetrique Profile Index</td>\n",
       "      <td>NaN</td>\n",
       "    </tr>\n",
       "    <tr>\n",
       "      <th>32</th>\n",
       "      <td>Asymmetrique Activity Score</td>\n",
       "      <td>NaN</td>\n",
       "    </tr>\n",
       "    <tr>\n",
       "      <th>33</th>\n",
       "      <td>Asymmetrique Profile Score</td>\n",
       "      <td>NaN</td>\n",
       "    </tr>\n",
       "    <tr>\n",
       "      <th>34</th>\n",
       "      <td>I agree to pay the amount through cheque</td>\n",
       "      <td>Indicates whether the customer has agreed to pay the amount through cheque or not.</td>\n",
       "    </tr>\n",
       "    <tr>\n",
       "      <th>35</th>\n",
       "      <td>a free copy of Mastering The Interview</td>\n",
       "      <td>Indicates whether the customer wants a free copy of 'Mastering the Interview' or not.</td>\n",
       "    </tr>\n",
       "    <tr>\n",
       "      <th>36</th>\n",
       "      <td>Last Notable Activity</td>\n",
       "      <td>The last notable acitivity performed by the student.</td>\n",
       "    </tr>\n",
       "  </tbody>\n",
       "</table>\n",
       "</div>"
      ],
      "text/plain": [
       "                                              Column  \\\n",
       "0                                        Prospect ID   \n",
       "1                                        Lead Number   \n",
       "2                                        Lead Origin   \n",
       "3                                        Lead Source   \n",
       "4                                       Do Not Email   \n",
       "5                                        Do Not Call   \n",
       "6                                          Converted   \n",
       "7                                        TotalVisits   \n",
       "8                        Total Time Spent on Website   \n",
       "9                               Page Views Per Visit   \n",
       "10                                     Last Activity   \n",
       "11                                           Country   \n",
       "12                                    Specialization   \n",
       "13                How did you hear about X Education   \n",
       "14                   What is your current occupation   \n",
       "15  What matters most to you in choosing this course   \n",
       "16                                            Search   \n",
       "17                                          Magazine   \n",
       "18                                 Newspaper Article   \n",
       "19                                X Education Forums   \n",
       "20                                         Newspaper   \n",
       "21                             Digital Advertisement   \n",
       "22                           Through Recommendations   \n",
       "23            Receive More Updates About Our Courses   \n",
       "24                                              Tags   \n",
       "25                                      Lead Quality   \n",
       "26                 Update me on Supply Chain Content   \n",
       "27                         Get updates on DM Content   \n",
       "28                                      Lead Profile   \n",
       "29                                              City   \n",
       "30                       Asymmetrique Activity Index   \n",
       "31                        Asymmetrique Profile Index   \n",
       "32                       Asymmetrique Activity Score   \n",
       "33                        Asymmetrique Profile Score   \n",
       "34          I agree to pay the amount through cheque   \n",
       "35            a free copy of Mastering The Interview   \n",
       "36                             Last Notable Activity   \n",
       "\n",
       "                                                                                                                                                                          Describtion  \n",
       "0                                                                                                                                  A unique ID with which the customer is identified.  \n",
       "1                                                                                                                                       A lead number assigned to each lead procured.  \n",
       "2                                                              The origin identifier with which the customer was identified to be a lead. Includes API, Landing Page Submission, etc.  \n",
       "3                                                                                                           The source of the lead. Includes Google, Organic Search, Olark Chat, etc.  \n",
       "4                                                  An indicator variable selected by the customer wherein they select whether of not they want to be emailed about the course or not.  \n",
       "5                                                   An indicator variable selected by the customer wherein they select whether of not they want to be called about the course or not.  \n",
       "6                                                                                               The target variable. Indicates whether a lead has been successfully converted or not.  \n",
       "7                                                                                                                     The total number of visits made by the customer on the website.  \n",
       "8                                                                                                                                The total time spent by the customer on the website.  \n",
       "9                                                                                                                    Average number of pages on the website viewed during the visits.  \n",
       "10                                                                                      Last activity performed by the customer. Includes Email Opened, Olark Chat Conversation, etc.  \n",
       "11                                                                                                                                                       The country of the customer.  \n",
       "12  The industry domain in which the customer worked before. Includes the level 'Select Specialization' which means the customer had not selected this option while filling the form.  \n",
       "13                                                                                                                        The source from which the customer heard about X Education.  \n",
       "14                                                                                                               Indicates whether the customer is a student, umemployed or employed.  \n",
       "15                                                                                   An option selected by the customer indicating what is their main motto behind doing this course.  \n",
       "16                                                                                                        Indicating whether the customer had seen the ad in any of the listed items.  \n",
       "17                                                                                                                                                                                NaN  \n",
       "18                                                                                                                                                                                NaN  \n",
       "19                                                                                                                                                                                NaN  \n",
       "20                                                                                                                                                                                NaN  \n",
       "21                                                                                                                                                                                NaN  \n",
       "22                                                                                                                    Indicates whether the customer came in through recommendations.  \n",
       "23                                                                                                    Indicates whether the customer chose to receive more updates about the courses.  \n",
       "24                                                                                                              Tags assigned to customers indicating the current status of the lead.  \n",
       "25                                                                  Indicates the quality of lead based on the data and intuition the the employee who has been assigned to the lead.  \n",
       "26                                                                                                          Indicates whether the customer wants updates on the Supply Chain Content.  \n",
       "27                                                                                                                    Indicates whether the customer wants updates on the DM Content.  \n",
       "28                                                                                                                     A lead level assigned to each customer based on their profile.  \n",
       "29                                                                                                                                                          The city of the customer.  \n",
       "30                                                                                             An index and score assigned to each customer based on their activity and their profile  \n",
       "31                                                                                                                                                                                NaN  \n",
       "32                                                                                                                                                                                NaN  \n",
       "33                                                                                                                                                                                NaN  \n",
       "34                                                                                                 Indicates whether the customer has agreed to pay the amount through cheque or not.  \n",
       "35                                                                                              Indicates whether the customer wants a free copy of 'Mastering the Interview' or not.  \n",
       "36                                                                                                                               The last notable acitivity performed by the student.  "
      ]
     },
     "execution_count": 83,
     "metadata": {},
     "output_type": "execute_result"
    }
   ],
   "source": [
    "metadata = pd.read_excel('files/Leads Data Dictionary.xlsx')\n",
    "#metadata= metadata.drop(metadata.index[:2])\n",
    "metadata= metadata.drop(columns ='Unnamed: 0').rename(columns={'Unnamed: 1': 'Column', 'Unnamed: 2': 'Describtion'}).drop(metadata.index[:2]).reset_index().drop(columns='index')\n",
    "metadata"
   ]
  },
  {
   "cell_type": "markdown",
   "id": "121bed2c",
   "metadata": {},
   "source": [
    "Duplicates /Missing Values"
   ]
  },
  {
   "cell_type": "code",
   "execution_count": 84,
   "id": "15061e10",
   "metadata": {},
   "outputs": [
    {
     "data": {
      "text/plain": [
       "(9240, 37)"
      ]
     },
     "metadata": {},
     "output_type": "display_data"
    },
    {
     "data": {
      "text/plain": [
       "(9240, 37)"
      ]
     },
     "execution_count": 84,
     "metadata": {},
     "output_type": "execute_result"
    }
   ],
   "source": [
    "#check & delete duplicates\n",
    "display(lead_df.shape)\n",
    "lead_df= lead_df.drop_duplicates()\n",
    "lead_df.shape"
   ]
  },
  {
   "cell_type": "code",
   "execution_count": 85,
   "id": "87e3195e",
   "metadata": {},
   "outputs": [
    {
     "data": {
      "text/plain": [
       "(9240, 37)"
      ]
     },
     "metadata": {},
     "output_type": "display_data"
    },
    {
     "data": {
      "text/plain": [
       "(9240, 37)"
      ]
     },
     "execution_count": 85,
     "metadata": {},
     "output_type": "execute_result"
    }
   ],
   "source": [
    "#check &delete empty rows\n",
    "display(lead_df.shape)\n",
    "lead_df =lead_df.dropna(how ='all')\n",
    "lead_df.shape"
   ]
  },
  {
   "cell_type": "code",
   "execution_count": 86,
   "id": "17f8a736",
   "metadata": {},
   "outputs": [
    {
     "data": {
      "text/plain": [
       "prospect_id                                         0\n",
       "lead_number                                         0\n",
       "lead_origin                                         0\n",
       "lead_source                                        36\n",
       "do_not_email                                        0\n",
       "do_not_call                                         0\n",
       "converted                                           0\n",
       "totalvisits                                       137\n",
       "total_time_spent_on_website                         0\n",
       "page_views_per_visit                              137\n",
       "last_activity                                     103\n",
       "country                                          2461\n",
       "specialization                                   1438\n",
       "how_did_you_hear_about_x_education               2207\n",
       "what_is_your_current_occupation                  2690\n",
       "what_matters_most_to_you_in_choosing_a_course    2709\n",
       "search                                              0\n",
       "magazine                                            0\n",
       "newspaper_article                                   0\n",
       "x_education_forums                                  0\n",
       "newspaper                                           0\n",
       "digital_advertisement                               0\n",
       "through_recommendations                             0\n",
       "receive_more_updates_about_our_courses              0\n",
       "tags                                             3353\n",
       "lead_quality                                     4767\n",
       "update_me_on_supply_chain_content                   0\n",
       "get_updates_on_dm_content                           0\n",
       "lead_profile                                     2709\n",
       "city                                             1420\n",
       "asymmetrique_activity_index                      4218\n",
       "asymmetrique_profile_index                       4218\n",
       "asymmetrique_activity_score                      4218\n",
       "asymmetrique_profile_score                       4218\n",
       "i_agree_to_pay_the_amount_through_cheque            0\n",
       "a_free_copy_of_mastering_the_interview              0\n",
       "last_notable_activity                               0\n",
       "dtype: int64"
      ]
     },
     "execution_count": 86,
     "metadata": {},
     "output_type": "execute_result"
    }
   ],
   "source": [
    "lead_df.isnull().sum()"
   ]
  },
  {
   "cell_type": "code",
   "execution_count": 87,
   "id": "c73a81ce",
   "metadata": {},
   "outputs": [
    {
     "data": {
      "text/plain": [
       "(6,\n",
       " ['tags',\n",
       "  'lead_quality',\n",
       "  'asymmetrique_activity_index',\n",
       "  'asymmetrique_profile_index',\n",
       "  'asymmetrique_activity_score',\n",
       "  'asymmetrique_profile_score'])"
      ]
     },
     "execution_count": 87,
     "metadata": {},
     "output_type": "execute_result"
    }
   ],
   "source": [
    "#get columns with more than 30% missing values (assumption these columns shouldn't be filled with means/medians)\n",
    "missing_value_df = lead_df.isnull()\n",
    "#get % of missing values\n",
    "percent_missing = lead_df.isnull().sum() * 100 / len(lead_df)\n",
    "missing_value_df = pd.DataFrame({'column_name': lead_df.columns,\n",
    "                                 'percent_missing': percent_missing})\n",
    "\n",
    "\n",
    "missing_data_30 = list(missing_value_df[missing_value_df['percent_missing']>30]['column_name'])\n",
    "len(missing_data_30), missing_data_30\n"
   ]
  },
  {
   "cell_type": "code",
   "execution_count": 88,
   "id": "3680f44a",
   "metadata": {},
   "outputs": [
    {
     "name": "stdout",
     "output_type": "stream",
     "text": [
      "Originally the dataset had 37 columns\n",
      "Now the dataset has 31 columns\n"
     ]
    }
   ],
   "source": [
    "# dropping columns with more than 30& missing valueslead\n",
    "print('Originally the dataset had', len(lead_df.columns), 'columns')\n",
    "lead_df.drop(columns=missing_data_30, inplace= True)\n",
    "print('Now the dataset has', len(lead_df.columns), 'columns')\n"
   ]
  },
  {
   "cell_type": "markdown",
   "id": "ad7611f6",
   "metadata": {},
   "source": [
    "Deal with missing data < 30 %"
   ]
  },
  {
   "cell_type": "code",
   "execution_count": 89,
   "id": "75c033db",
   "metadata": {},
   "outputs": [
    {
     "data": {
      "text/plain": [
       "(11,\n",
       " ['lead_source',\n",
       "  'totalvisits',\n",
       "  'page_views_per_visit',\n",
       "  'last_activity',\n",
       "  'country',\n",
       "  'specialization',\n",
       "  'how_did_you_hear_about_x_education',\n",
       "  'what_is_your_current_occupation',\n",
       "  'what_matters_most_to_you_in_choosing_a_course',\n",
       "  'lead_profile',\n",
       "  'city'])"
      ]
     },
     "execution_count": 89,
     "metadata": {},
     "output_type": "execute_result"
    }
   ],
   "source": [
    "missing_value_df = lead_df.isnull()\n",
    "#get % of missing values\n",
    "percent_missing = lead_df.isnull().sum() * 100 / len(lead_df)\n",
    "missing_value_df = pd.DataFrame({'column_name': lead_df.columns,\n",
    "                                 'percent_missing': percent_missing})\n",
    "\n",
    "\n",
    "missing_data = list(missing_value_df[missing_value_df['percent_missing']!=0]['column_name'])\n",
    "len(missing_data), missing_data"
   ]
  },
  {
   "cell_type": "markdown",
   "id": "24d38ac4",
   "metadata": {},
   "source": [
    "Total visits"
   ]
  },
  {
   "cell_type": "code",
   "execution_count": 90,
   "id": "66c99206",
   "metadata": {},
   "outputs": [
    {
     "data": {
      "text/plain": [
       "False    9103\n",
       "True      137\n",
       "Name: totalvisits, dtype: int64"
      ]
     },
     "metadata": {},
     "output_type": "display_data"
    },
    {
     "data": {
      "text/plain": [
       "<AxesSubplot:xlabel='totalvisits'>"
      ]
     },
     "execution_count": 90,
     "metadata": {},
     "output_type": "execute_result"
    },
    {
     "data": {
      "image/png": "[encoded data removed]",
      "text/plain": [
       "<Figure size 432x288 with 1 Axes>"
      ]
     },
     "metadata": {
      "needs_background": "light"
     },
     "output_type": "display_data"
    }
   ],
   "source": [
    "display(lead_df.totalvisits.isnull().value_counts())\n",
    "#check for outliers\n",
    "sns.boxplot(lead_df.totalvisits)"
   ]
  },
  {
   "cell_type": "code",
   "execution_count": 91,
   "id": "b97498d4",
   "metadata": {},
   "outputs": [
    {
     "data": {
      "text/plain": [
       "0"
      ]
     },
     "execution_count": 91,
     "metadata": {},
     "output_type": "execute_result"
    }
   ],
   "source": [
    "# replacement with median to deal with the ouliers ->will later remove outliers\n",
    "lead_df['totalvisits'].fillna(lead_df['totalvisits'].median(),inplace=True)\n",
    "lead_df['totalvisits'].isnull().sum()"
   ]
  },
  {
   "cell_type": "markdown",
   "id": "85b21851",
   "metadata": {},
   "source": [
    "page_views_per_visit"
   ]
  },
  {
   "cell_type": "code",
   "execution_count": 92,
   "id": "672e7fb9",
   "metadata": {},
   "outputs": [
    {
     "data": {
      "text/plain": [
       "False    9103\n",
       "True      137\n",
       "Name: page_views_per_visit, dtype: int64"
      ]
     },
     "metadata": {},
     "output_type": "display_data"
    },
    {
     "data": {
      "text/plain": [
       "<AxesSubplot:xlabel='page_views_per_visit'>"
      ]
     },
     "execution_count": 92,
     "metadata": {},
     "output_type": "execute_result"
    },
    {
     "data": {
      "image/png": "[encoded data removed]",
      "text/plain": [
       "<Figure size 432x288 with 1 Axes>"
      ]
     },
     "metadata": {
      "needs_background": "light"
     },
     "output_type": "display_data"
    }
   ],
   "source": [
    "display(lead_df.page_views_per_visit.isnull().value_counts())\n",
    "#check for outliers\n",
    "sns.boxplot(lead_df.page_views_per_visit)"
   ]
  },
  {
   "cell_type": "code",
   "execution_count": 93,
   "id": "8a42b794",
   "metadata": {},
   "outputs": [
    {
     "data": {
      "text/plain": [
       "0"
      ]
     },
     "execution_count": 93,
     "metadata": {},
     "output_type": "execute_result"
    }
   ],
   "source": [
    "# replacement with median to deal with the ouliers\n",
    "lead_df['page_views_per_visit'].fillna(lead_df['page_views_per_visit'].median(),inplace=True)\n",
    "lead_df['page_views_per_visit'].isnull().sum()"
   ]
  },
  {
   "cell_type": "markdown",
   "id": "611644d6",
   "metadata": {},
   "source": [
    "last_activity"
   ]
  },
  {
   "cell_type": "code",
   "execution_count": 94,
   "id": "0cd47c6d",
   "metadata": {},
   "outputs": [
    {
     "data": {
      "text/plain": [
       "False    9137\n",
       "True      103\n",
       "Name: last_activity, dtype: int64"
      ]
     },
     "metadata": {},
     "output_type": "display_data"
    },
    {
     "data": {
      "text/plain": [
       "Email Opened                    3437\n",
       "SMS Sent                        2745\n",
       "Olark Chat Conversation          973\n",
       "Page Visited on Website          640\n",
       "Converted to Lead                428\n",
       "Email Bounced                    326\n",
       "Email Link Clicked               267\n",
       "Form Submitted on Website        116\n",
       "Unreachable                       93\n",
       "Unsubscribed                      61\n",
       "Had a Phone Conversation          30\n",
       "Approached upfront                 9\n",
       "View in browser link Clicked       6\n",
       "Email Received                     2\n",
       "Email Marked Spam                  2\n",
       "Visited Booth in Tradeshow         1\n",
       "Resubscribed to emails             1\n",
       "Name: last_activity, dtype: int64"
      ]
     },
     "execution_count": 94,
     "metadata": {},
     "output_type": "execute_result"
    }
   ],
   "source": [
    "display(lead_df.last_activity.isnull().value_counts())\n",
    "#check values\n",
    "lead_df.last_activity.value_counts()"
   ]
  },
  {
   "cell_type": "code",
   "execution_count": 95,
   "id": "d8719ce4",
   "metadata": {},
   "outputs": [
    {
     "data": {
      "text/plain": [
       "False    9240\n",
       "Name: last_activity, dtype: int64"
      ]
     },
     "metadata": {},
     "output_type": "display_data"
    },
    {
     "data": {
      "text/plain": [
       "Email Opened                    3540\n",
       "SMS Sent                        2745\n",
       "Olark Chat Conversation          973\n",
       "Page Visited on Website          640\n",
       "Converted to Lead                428\n",
       "Email Bounced                    326\n",
       "Email Link Clicked               267\n",
       "Form Submitted on Website        116\n",
       "Unreachable                       93\n",
       "Unsubscribed                      61\n",
       "Had a Phone Conversation          30\n",
       "Approached upfront                 9\n",
       "View in browser link Clicked       6\n",
       "Email Received                     2\n",
       "Email Marked Spam                  2\n",
       "Visited Booth in Tradeshow         1\n",
       "Resubscribed to emails             1\n",
       "Name: last_activity, dtype: int64"
      ]
     },
     "execution_count": 95,
     "metadata": {},
     "output_type": "execute_result"
    }
   ],
   "source": [
    "#using the most frequent method to fill values\n",
    "lead_df.last_activity.replace(np.NaN, 'Email Opened', inplace =True)\n",
    "\n",
    "display(lead_df.last_activity.isnull().value_counts())\n",
    "lead_df.last_activity.value_counts()"
   ]
  },
  {
   "cell_type": "code",
   "execution_count": 96,
   "id": "b24e1695",
   "metadata": {},
   "outputs": [],
   "source": [
    "#bucketing values < 30 to 'Other'\n",
    "lead_df.last_activity.replace(('Approached upfront','View in browser link Clicked','Email Received','Email Marked Spam','Visited Booth in Tradeshow','Resubscribed to emails'), 'Other', inplace = True)\n",
    "\n"
   ]
  },
  {
   "cell_type": "markdown",
   "id": "48895f80",
   "metadata": {},
   "source": [
    "country"
   ]
  },
  {
   "cell_type": "code",
   "execution_count": 97,
   "id": "4b5d87c2",
   "metadata": {},
   "outputs": [
    {
     "data": {
      "text/plain": [
       "False    6779\n",
       "True     2461\n",
       "Name: country, dtype: int64"
      ]
     },
     "metadata": {},
     "output_type": "display_data"
    },
    {
     "data": {
      "text/plain": [
       "India                   6492\n",
       "United States             69\n",
       "United Arab Emirates      53\n",
       "Singapore                 24\n",
       "Saudi Arabia              21\n",
       "United Kingdom            15\n",
       "Australia                 13\n",
       "Qatar                     10\n",
       "Hong Kong                  7\n",
       "Bahrain                    7\n",
       "Oman                       6\n",
       "France                     6\n",
       "unknown                    5\n",
       "South Africa               4\n",
       "Nigeria                    4\n",
       "Germany                    4\n",
       "Kuwait                     4\n",
       "Canada                     4\n",
       "Sweden                     3\n",
       "China                      2\n",
       "Asia/Pacific Region        2\n",
       "Uganda                     2\n",
       "Bangladesh                 2\n",
       "Italy                      2\n",
       "Belgium                    2\n",
       "Netherlands                2\n",
       "Ghana                      2\n",
       "Philippines                2\n",
       "Russia                     1\n",
       "Switzerland                1\n",
       "Vietnam                    1\n",
       "Denmark                    1\n",
       "Tanzania                   1\n",
       "Liberia                    1\n",
       "Malaysia                   1\n",
       "Kenya                      1\n",
       "Sri Lanka                  1\n",
       "Indonesia                  1\n",
       "Name: country, dtype: int64"
      ]
     },
     "execution_count": 97,
     "metadata": {},
     "output_type": "execute_result"
    }
   ],
   "source": [
    "display(lead_df.country.isnull().value_counts())\n",
    "#check unique values\n",
    "lead_df.country.value_counts()\n",
    "# problem: no variation (most values from india)\n",
    "#probably will drop the column"
   ]
  },
  {
   "cell_type": "markdown",
   "id": "8ad33b24",
   "metadata": {},
   "source": [
    "specialization"
   ]
  },
  {
   "cell_type": "code",
   "execution_count": 98,
   "id": "5fc43357",
   "metadata": {},
   "outputs": [
    {
     "data": {
      "text/plain": [
       "False    7802\n",
       "True     1438\n",
       "Name: specialization, dtype: int64"
      ]
     },
     "metadata": {},
     "output_type": "display_data"
    },
    {
     "data": {
      "text/plain": [
       "Select                               1942\n",
       "Finance Management                    976\n",
       "Human Resource Management             848\n",
       "Marketing Management                  838\n",
       "Operations Management                 503\n",
       "Business Administration               403\n",
       "IT Projects Management                366\n",
       "Supply Chain Management               349\n",
       "Banking, Investment And Insurance     338\n",
       "Travel and Tourism                    203\n",
       "Media and Advertising                 203\n",
       "International Business                178\n",
       "Healthcare Management                 159\n",
       "Hospitality Management                114\n",
       "E-COMMERCE                            112\n",
       "Retail Management                     100\n",
       "Rural and Agribusiness                 73\n",
       "E-Business                             57\n",
       "Services Excellence                    40\n",
       "Name: specialization, dtype: int64"
      ]
     },
     "execution_count": 98,
     "metadata": {},
     "output_type": "execute_result"
    }
   ],
   "source": [
    "display(lead_df.specialization.isnull().value_counts())\n",
    "#check unique values\n",
    "lead_df.specialization.value_counts()"
   ]
  },
  {
   "cell_type": "code",
   "execution_count": 99,
   "id": "163383d0",
   "metadata": {},
   "outputs": [
    {
     "data": {
      "text/plain": [
       "prospect_id                                         0\n",
       "lead_number                                         0\n",
       "lead_origin                                         0\n",
       "lead_source                                         0\n",
       "do_not_email                                        0\n",
       "do_not_call                                         0\n",
       "converted                                           0\n",
       "totalvisits                                         0\n",
       "total_time_spent_on_website                         0\n",
       "page_views_per_visit                                0\n",
       "last_activity                                       0\n",
       "country                                             0\n",
       "specialization                                   1942\n",
       "how_did_you_hear_about_x_education               5043\n",
       "what_is_your_current_occupation                     0\n",
       "what_matters_most_to_you_in_choosing_a_course       0\n",
       "search                                              0\n",
       "magazine                                            0\n",
       "newspaper_article                                   0\n",
       "x_education_forums                                  0\n",
       "newspaper                                           0\n",
       "digital_advertisement                               0\n",
       "through_recommendations                             0\n",
       "receive_more_updates_about_our_courses              0\n",
       "update_me_on_supply_chain_content                   0\n",
       "get_updates_on_dm_content                           0\n",
       "lead_profile                                     4146\n",
       "city                                             2249\n",
       "i_agree_to_pay_the_amount_through_cheque            0\n",
       "a_free_copy_of_mastering_the_interview              0\n",
       "last_notable_activity                               0\n",
       "dtype: int64"
      ]
     },
     "execution_count": 99,
     "metadata": {},
     "output_type": "execute_result"
    }
   ],
   "source": [
    "#checking df for more select values\n",
    "lead_df[lead_df == 'Select'].count()"
   ]
  },
  {
   "cell_type": "code",
   "execution_count": 100,
   "id": "acea4c72",
   "metadata": {},
   "outputs": [],
   "source": [
    "#checking df for  select values\n",
    "lead_df[lead_df == 'Select'].count()\n",
    "# select seems to be a placeholder - will treat it as null value --> will be included in Pipeline\n",
    "lead_df.replace('Select', np.NaN, inplace =True)\n",
    "# will be dropped as it has now more than 30% missing values\n"
   ]
  },
  {
   "cell_type": "markdown",
   "id": "650afe54",
   "metadata": {},
   "source": [
    "what_is_your_current_occupation"
   ]
  },
  {
   "cell_type": "code",
   "execution_count": 101,
   "id": "cea9dd78",
   "metadata": {},
   "outputs": [
    {
     "data": {
      "text/plain": [
       "2690"
      ]
     },
     "metadata": {},
     "output_type": "display_data"
    },
    {
     "data": {
      "text/plain": [
       "Unemployed              5600\n",
       "Working Professional     706\n",
       "Student                  210\n",
       "Other                     16\n",
       "Housewife                 10\n",
       "Businessman                8\n",
       "Name: what_is_your_current_occupation, dtype: int64"
      ]
     },
     "execution_count": 101,
     "metadata": {},
     "output_type": "execute_result"
    }
   ],
   "source": [
    "display(lead_df.what_is_your_current_occupation.isnull().sum())\n",
    "lead_df.what_is_your_current_occupation.value_counts()\n"
   ]
  },
  {
   "cell_type": "code",
   "execution_count": 102,
   "id": "0c466a7d",
   "metadata": {},
   "outputs": [
    {
     "data": {
      "text/plain": [
       "Unemployed              5600\n",
       "Other                   2706\n",
       "Working Professional     714\n",
       "Student                  210\n",
       "Housewife                 10\n",
       "Name: what_is_your_current_occupation, dtype: int64"
      ]
     },
     "execution_count": 102,
     "metadata": {},
     "output_type": "execute_result"
    }
   ],
   "source": [
    "# as NaN can be seen equal to other (not known), I will replace NaN's with 'Other'\n",
    "lead_df.what_is_your_current_occupation.replace(np.NaN, 'Other', inplace =True)\n",
    "\n",
    "# buisnessman and working professional are similar, so i will bucket it together\n",
    "lead_df.what_is_your_current_occupation.replace('Businessman', 'Working Professional', inplace =True)\n",
    "lead_df.what_is_your_current_occupation.value_counts()"
   ]
  },
  {
   "cell_type": "markdown",
   "id": "4c49f48b",
   "metadata": {},
   "source": [
    "what_matters_most_to_you_in_choosing_a_course"
   ]
  },
  {
   "cell_type": "code",
   "execution_count": 103,
   "id": "51c0984e",
   "metadata": {},
   "outputs": [
    {
     "data": {
      "text/plain": [
       "2709"
      ]
     },
     "metadata": {},
     "output_type": "display_data"
    },
    {
     "data": {
      "text/plain": [
       "Better Career Prospects      6528\n",
       "Flexibility & Convenience       2\n",
       "Other                           1\n",
       "Name: what_matters_most_to_you_in_choosing_a_course, dtype: int64"
      ]
     },
     "execution_count": 103,
     "metadata": {},
     "output_type": "execute_result"
    }
   ],
   "source": [
    "display(lead_df.what_matters_most_to_you_in_choosing_a_course.isnull().sum())\n",
    "lead_df.what_matters_most_to_you_in_choosing_a_course.value_counts()"
   ]
  },
  {
   "cell_type": "code",
   "execution_count": 104,
   "id": "b5710644",
   "metadata": {},
   "outputs": [
    {
     "data": {
      "text/plain": [
       "Better Career Prospects      6528\n",
       "Other                        2710\n",
       "Flexibility & Convenience       2\n",
       "Name: what_matters_most_to_you_in_choosing_a_course, dtype: int64"
      ]
     },
     "execution_count": 104,
     "metadata": {},
     "output_type": "execute_result"
    }
   ],
   "source": [
    "# as NaN can be seen equal to other (not known), I will replace NaN's with 'Other'\n",
    "lead_df.what_matters_most_to_you_in_choosing_a_course.replace(np.NaN, 'Other', inplace =True)\n",
    "lead_df.what_matters_most_to_you_in_choosing_a_course.value_counts()"
   ]
  },
  {
   "cell_type": "code",
   "execution_count": 105,
   "id": "96aae5fa",
   "metadata": {
    "scrolled": true
   },
   "outputs": [
    {
     "data": {
      "text/plain": [
       "Better Career Prospects      6528\n",
       "Other                        2710\n",
       "Flexibility & Convenience       2\n",
       "Name: what_matters_most_to_you_in_choosing_a_course, dtype: int64"
      ]
     },
     "metadata": {},
     "output_type": "display_data"
    },
    {
     "data": {
      "text/plain": [
       "<AxesSubplot:xlabel='count', ylabel='what_matters_most_to_you_in_choosing_a_course'>"
      ]
     },
     "execution_count": 105,
     "metadata": {},
     "output_type": "execute_result"
    },
    {
     "data": {
      "image/png": "[encoded data removed]",
      "text/plain": [
       "<Figure size 432x288 with 1 Axes>"
      ]
     },
     "metadata": {
      "needs_background": "light"
     },
     "output_type": "display_data"
    }
   ],
   "source": [
    "display(lead_df.what_matters_most_to_you_in_choosing_a_course.value_counts())\n",
    "sns.countplot( y=lead_df.what_matters_most_to_you_in_choosing_a_course, hue = lead_df.converted)\n",
    "\n",
    "# no high variance / importance for analysing what makes people to convert or not --> will drop column"
   ]
  },
  {
   "cell_type": "markdown",
   "id": "bc190406",
   "metadata": {},
   "source": [
    "lead_source"
   ]
  },
  {
   "cell_type": "code",
   "execution_count": 106,
   "id": "ce105015",
   "metadata": {},
   "outputs": [
    {
     "data": {
      "text/plain": [
       "36"
      ]
     },
     "metadata": {},
     "output_type": "display_data"
    },
    {
     "data": {
      "text/plain": [
       "Google               2868\n",
       "Direct Traffic       2543\n",
       "Olark Chat           1755\n",
       "Organic Search       1154\n",
       "Reference             534\n",
       "Welingak Website      142\n",
       "Referral Sites        125\n",
       "Facebook               55\n",
       "bing                    6\n",
       "google                  5\n",
       "Click2call              4\n",
       "Press_Release           2\n",
       "Social Media            2\n",
       "Live Chat               2\n",
       "youtubechannel          1\n",
       "testone                 1\n",
       "Pay per Click Ads       1\n",
       "welearnblog_Home        1\n",
       "WeLearn                 1\n",
       "blog                    1\n",
       "NC_EDM                  1\n",
       "Name: lead_source, dtype: int64"
      ]
     },
     "execution_count": 106,
     "metadata": {},
     "output_type": "execute_result"
    }
   ],
   "source": [
    "display(lead_df.lead_source.isnull().sum())\n",
    "lead_df.lead_source.value_counts()"
   ]
  },
  {
   "cell_type": "code",
   "execution_count": 107,
   "id": "7c7e41ae",
   "metadata": {
    "scrolled": true
   },
   "outputs": [
    {
     "data": {
      "text/plain": [
       "False    9240\n",
       "Name: lead_source, dtype: int64"
      ]
     },
     "metadata": {},
     "output_type": "display_data"
    },
    {
     "data": {
      "text/plain": [
       "Google               2904\n",
       "Direct Traffic       2543\n",
       "Olark Chat           1755\n",
       "Organic Search       1154\n",
       "Reference             534\n",
       "Welingak Website      142\n",
       "Referral Sites        125\n",
       "Facebook               55\n",
       "bing                    6\n",
       "google                  5\n",
       "Click2call              4\n",
       "Press_Release           2\n",
       "Social Media            2\n",
       "Live Chat               2\n",
       "youtubechannel          1\n",
       "testone                 1\n",
       "Pay per Click Ads       1\n",
       "welearnblog_Home        1\n",
       "WeLearn                 1\n",
       "blog                    1\n",
       "NC_EDM                  1\n",
       "Name: lead_source, dtype: int64"
      ]
     },
     "execution_count": 107,
     "metadata": {},
     "output_type": "execute_result"
    }
   ],
   "source": [
    "#using the most frequent method to fill values\n",
    "lead_df.lead_source.replace(np.NaN, 'Google', inplace =True)\n",
    "\n",
    "display(lead_df.lead_source.isnull().value_counts())\n",
    "lead_df.lead_source.value_counts()"
   ]
  },
  {
   "cell_type": "code",
   "execution_count": 108,
   "id": "f2dc8e5c",
   "metadata": {},
   "outputs": [],
   "source": [
    "#bucketing spam as unsubscribed\n",
    "lead_df.lead_source.replace('Email Marked Spam','Unsubscribed', inplace = True)\n",
    "#bucketing values < 30 to 'Other'\n",
    "lead_df.lead_source.replace(('bing','google','blog','Payoer Click Ads','Social Media','WeLearn','Click2call','Live Chat','welearnblog_Home','youtubechannel','testone','Press_Release','NC_EDM','Pay per Click Ads' ), 'Other', inplace = True)"
   ]
  },
  {
   "cell_type": "code",
   "execution_count": 109,
   "id": "b24b3969",
   "metadata": {},
   "outputs": [
    {
     "data": {
      "text/plain": [
       "Google              2904\n",
       "Direct Traffic      2543\n",
       "Olark Chat          1755\n",
       "Organic Search      1154\n",
       "Reference            534\n",
       "Welingak Website     142\n",
       "Referral Sites       125\n",
       "Facebook              55\n",
       "Other                 28\n",
       "Name: lead_source, dtype: int64"
      ]
     },
     "execution_count": 109,
     "metadata": {},
     "output_type": "execute_result"
    }
   ],
   "source": [
    "lead_df.lead_source.value_counts()"
   ]
  },
  {
   "cell_type": "markdown",
   "id": "b40a6710",
   "metadata": {},
   "source": [
    "----------"
   ]
  },
  {
   "cell_type": "markdown",
   "id": "3eb63dd6",
   "metadata": {},
   "source": [
    "Analysing remaining columns"
   ]
  },
  {
   "cell_type": "code",
   "execution_count": 110,
   "id": "c4f103f4",
   "metadata": {},
   "outputs": [
    {
     "data": {
      "text/plain": [
       "Landing Page Submission    4886\n",
       "API                        3580\n",
       "Lead Add Form               718\n",
       "Lead Import                  55\n",
       "Quick Add Form                1\n",
       "Name: lead_origin, dtype: int64"
      ]
     },
     "metadata": {},
     "output_type": "display_data"
    },
    {
     "data": {
      "text/plain": [
       "Landing Page Submission    4886\n",
       "API                        3580\n",
       "Add Form                    719\n",
       "Lead Import                  55\n",
       "Name: lead_origin, dtype: int64"
      ]
     },
     "metadata": {},
     "output_type": "display_data"
    },
    {
     "data": {
      "text/plain": [
       "<AxesSubplot:xlabel='count', ylabel='lead_origin'>"
      ]
     },
     "execution_count": 110,
     "metadata": {},
     "output_type": "execute_result"
    },
    {
     "data": {
      "image/png": "[encoded data removed]",
      "text/plain": [
       "<Figure size 432x288 with 1 Axes>"
      ]
     },
     "metadata": {
      "needs_background": "light"
     },
     "output_type": "display_data"
    }
   ],
   "source": [
    "display(lead_df.lead_origin.value_counts())\n",
    "#bucketing add forms together\n",
    "lead_df.lead_origin.replace(('Quick Add Form','Lead Add Form'),'Add Form', inplace =True)\n",
    "display(lead_df.lead_origin.value_counts())\n",
    "sns.countplot( y=lead_df.lead_origin, hue = lead_df.converted)\n",
    "\n",
    "#The conversion from the API and LP submission are really poor -> first recommendation to improve these channels"
   ]
  },
  {
   "cell_type": "code",
   "execution_count": 111,
   "id": "f28c422a",
   "metadata": {},
   "outputs": [
    {
     "data": {
      "text/plain": [
       "No     8506\n",
       "Yes     734\n",
       "Name: do_not_email, dtype: int64"
      ]
     },
     "execution_count": 111,
     "metadata": {},
     "output_type": "execute_result"
    }
   ],
   "source": [
    "lead_df.do_not_email.value_counts()"
   ]
  },
  {
   "cell_type": "code",
   "execution_count": 112,
   "id": "90c4302a",
   "metadata": {},
   "outputs": [
    {
     "data": {
      "text/plain": [
       "No     9238\n",
       "Yes       2\n",
       "Name: do_not_call, dtype: int64"
      ]
     },
     "execution_count": 112,
     "metadata": {},
     "output_type": "execute_result"
    }
   ],
   "source": [
    "lead_df.do_not_call.value_counts()\n",
    "#almost no variance will drop it"
   ]
  },
  {
   "cell_type": "code",
   "execution_count": 113,
   "id": "9a671ab1",
   "metadata": {},
   "outputs": [
    {
     "data": {
      "text/plain": [
       "0    5679\n",
       "1    3561\n",
       "Name: converted, dtype: int64"
      ]
     },
     "execution_count": 113,
     "metadata": {},
     "output_type": "execute_result"
    }
   ],
   "source": [
    "lead_df.converted.value_counts() #will be the target variable 1= converted 0 = not converted"
   ]
  },
  {
   "cell_type": "code",
   "execution_count": 114,
   "id": "78c02a99",
   "metadata": {},
   "outputs": [
    {
     "data": {
      "text/plain": [
       "<seaborn.axisgrid.FacetGrid at 0x7f8d20f4a0a0>"
      ]
     },
     "execution_count": 114,
     "metadata": {},
     "output_type": "execute_result"
    },
    {
     "data": {
      "image/png": "[encoded data removed]",
      "text/plain": [
       "<Figure size 360x360 with 1 Axes>"
      ]
     },
     "metadata": {
      "needs_background": "light"
     },
     "output_type": "display_data"
    }
   ],
   "source": [
    "lead_df.total_time_spent_on_website.value_counts()\n",
    "sns.displot(data=lead_df.total_time_spent_on_website)"
   ]
  },
  {
   "cell_type": "code",
   "execution_count": 115,
   "id": "e68007a7",
   "metadata": {},
   "outputs": [
    {
     "data": {
      "text/plain": [
       "No     9226\n",
       "Yes      14\n",
       "Name: search, dtype: int64"
      ]
     },
     "execution_count": 115,
     "metadata": {},
     "output_type": "execute_result"
    }
   ],
   "source": [
    "lead_df.search.value_counts()\n",
    "#not great variance, might be using it in B in a A/B testing"
   ]
  },
  {
   "cell_type": "code",
   "execution_count": 116,
   "id": "8cacb812",
   "metadata": {},
   "outputs": [
    {
     "data": {
      "text/plain": [
       "No    9240\n",
       "Name: magazine, dtype: int64"
      ]
     },
     "execution_count": 116,
     "metadata": {},
     "output_type": "execute_result"
    }
   ],
   "source": [
    "lead_df.magazine.value_counts()\n",
    "#just one value, no importance so will drop the column"
   ]
  },
  {
   "cell_type": "code",
   "execution_count": 117,
   "id": "5f4d946a",
   "metadata": {},
   "outputs": [
    {
     "data": {
      "text/plain": [
       "No     9238\n",
       "Yes       2\n",
       "Name: newspaper_article, dtype: int64"
      ]
     },
     "execution_count": 117,
     "metadata": {},
     "output_type": "execute_result"
    }
   ],
   "source": [
    "lead_df.newspaper_article.value_counts()\n",
    "#again almost no variance, no importance so will drop the column"
   ]
  },
  {
   "cell_type": "code",
   "execution_count": 118,
   "id": "8569bbd6",
   "metadata": {},
   "outputs": [
    {
     "data": {
      "text/plain": [
       "No     9239\n",
       "Yes       1\n",
       "Name: x_education_forums, dtype: int64"
      ]
     },
     "execution_count": 118,
     "metadata": {},
     "output_type": "execute_result"
    }
   ],
   "source": [
    "lead_df.x_education_forums.value_counts()\n",
    "#again almost no variance, no importance so will drop the column"
   ]
  },
  {
   "cell_type": "code",
   "execution_count": 119,
   "id": "d72cbb12",
   "metadata": {},
   "outputs": [
    {
     "data": {
      "text/plain": [
       "No    9240\n",
       "Name: update_me_on_supply_chain_content, dtype: int64"
      ]
     },
     "execution_count": 119,
     "metadata": {},
     "output_type": "execute_result"
    }
   ],
   "source": [
    "lead_df.update_me_on_supply_chain_content.value_counts()\n",
    "#again no variance, no importance so will drop the column"
   ]
  },
  {
   "cell_type": "code",
   "execution_count": 120,
   "id": "70466244",
   "metadata": {},
   "outputs": [
    {
     "data": {
      "text/plain": [
       "No     9239\n",
       "Yes       1\n",
       "Name: newspaper, dtype: int64"
      ]
     },
     "execution_count": 120,
     "metadata": {},
     "output_type": "execute_result"
    }
   ],
   "source": [
    "lead_df.newspaper.value_counts()\n",
    "#again almost no variance, no importance so will drop the column"
   ]
  },
  {
   "cell_type": "code",
   "execution_count": 121,
   "id": "6e114229",
   "metadata": {},
   "outputs": [
    {
     "data": {
      "text/plain": [
       "No     9236\n",
       "Yes       4\n",
       "Name: digital_advertisement, dtype: int64"
      ]
     },
     "execution_count": 121,
     "metadata": {},
     "output_type": "execute_result"
    }
   ],
   "source": [
    "lead_df.digital_advertisement.value_counts()\n",
    "#again almost no variance, no importance so will drop the column"
   ]
  },
  {
   "cell_type": "code",
   "execution_count": 122,
   "id": "9bff5ed0",
   "metadata": {},
   "outputs": [
    {
     "data": {
      "text/plain": [
       "No     9233\n",
       "Yes       7\n",
       "Name: through_recommendations, dtype: int64"
      ]
     },
     "execution_count": 122,
     "metadata": {},
     "output_type": "execute_result"
    }
   ],
   "source": [
    "lead_df.through_recommendations.value_counts()\n",
    "#again almost no variance, no importance so will drop the column"
   ]
  },
  {
   "cell_type": "code",
   "execution_count": 123,
   "id": "ca9bda6b",
   "metadata": {},
   "outputs": [
    {
     "data": {
      "text/plain": [
       "No    9240\n",
       "Name: receive_more_updates_about_our_courses, dtype: int64"
      ]
     },
     "execution_count": 123,
     "metadata": {},
     "output_type": "execute_result"
    }
   ],
   "source": [
    "lead_df.receive_more_updates_about_our_courses.value_counts()\n",
    "# no variance, no importance so will drop the column"
   ]
  },
  {
   "cell_type": "code",
   "execution_count": 124,
   "id": "10a63d99",
   "metadata": {},
   "outputs": [
    {
     "data": {
      "text/plain": [
       "No    9240\n",
       "Name: get_updates_on_dm_content, dtype: int64"
      ]
     },
     "execution_count": 124,
     "metadata": {},
     "output_type": "execute_result"
    }
   ],
   "source": [
    "lead_df.get_updates_on_dm_content.value_counts()\n",
    "# no variance, no importance so will drop the column"
   ]
  },
  {
   "cell_type": "code",
   "execution_count": 125,
   "id": "97ed9da1",
   "metadata": {},
   "outputs": [
    {
     "data": {
      "text/plain": [
       "No    9240\n",
       "Name: i_agree_to_pay_the_amount_through_cheque, dtype: int64"
      ]
     },
     "execution_count": 125,
     "metadata": {},
     "output_type": "execute_result"
    }
   ],
   "source": [
    "lead_df.i_agree_to_pay_the_amount_through_cheque.value_counts()\n",
    "# no variance, no importance so will drop the column"
   ]
  },
  {
   "cell_type": "code",
   "execution_count": 126,
   "id": "c28d08e3",
   "metadata": {},
   "outputs": [
    {
     "data": {
      "text/plain": [
       "No     6352\n",
       "Yes    2888\n",
       "Name: a_free_copy_of_mastering_the_interview, dtype: int64"
      ]
     },
     "metadata": {},
     "output_type": "display_data"
    },
    {
     "data": {
      "text/plain": [
       "<AxesSubplot:xlabel='count', ylabel='a_free_copy_of_mastering_the_interview'>"
      ]
     },
     "execution_count": 126,
     "metadata": {},
     "output_type": "execute_result"
    },
    {
     "data": {
      "image/png": "[encoded data removed]",
      "text/plain": [
       "<Figure size 432x288 with 1 Axes>"
      ]
     },
     "metadata": {
      "needs_background": "light"
     },
     "output_type": "display_data"
    }
   ],
   "source": [
    "display(lead_df.a_free_copy_of_mastering_the_interview.value_counts())\n",
    "sns.countplot( y=lead_df.a_free_copy_of_mastering_the_interview, hue = lead_df.converted)\n",
    "#has apperantly no big influence on ppl to convert"
   ]
  },
  {
   "cell_type": "code",
   "execution_count": 127,
   "id": "9c35d856",
   "metadata": {},
   "outputs": [
    {
     "data": {
      "text/plain": [
       "Modified                        3407\n",
       "Email Opened                    2827\n",
       "SMS Sent                        2172\n",
       "Page Visited on Website          318\n",
       "Olark Chat Conversation          183\n",
       "Email Link Clicked               173\n",
       "Email Bounced                     60\n",
       "Unsubscribed                      47\n",
       "Unreachable                       32\n",
       "Had a Phone Conversation          14\n",
       "Email Marked Spam                  2\n",
       "Approached upfront                 1\n",
       "Resubscribed to emails             1\n",
       "View in browser link Clicked       1\n",
       "Form Submitted on Website          1\n",
       "Email Received                     1\n",
       "Name: last_notable_activity, dtype: int64"
      ]
     },
     "metadata": {},
     "output_type": "display_data"
    },
    {
     "data": {
      "text/plain": [
       "Modified                   3407\n",
       "Email Opened               2827\n",
       "SMS Sent                   2172\n",
       "Page Visited on Website     318\n",
       "Olark Chat Conversation     183\n",
       "Email Link Clicked          173\n",
       "Unreachable                  92\n",
       "Unsubscribed                 49\n",
       "Other                        19\n",
       "Name: last_notable_activity, dtype: int64"
      ]
     },
     "execution_count": 127,
     "metadata": {},
     "output_type": "execute_result"
    }
   ],
   "source": [
    "display(lead_df.last_notable_activity.value_counts())\n",
    "#bucketing unsubscribed and Email marked spam\n",
    "lead_df.last_notable_activity.replace('Email Marked Spam','Unsubscribed', inplace = True)\n",
    "#bucketing bounced and unrechable\n",
    "lead_df.last_notable_activity.replace('Email Bounced','Unreachable', inplace = True)\n",
    "#bucketing under 30 to other\n",
    "lead_df.last_notable_activity.replace(('Had a Phone Conversation','Approached upfront','Resubscribed to emails','View in browser link Clicked','Form Submitted on Website','Email Received'), 'Other', inplace = True)\n",
    "lead_df.last_notable_activity.value_counts()"
   ]
  },
  {
   "cell_type": "markdown",
   "id": "9cd63f4f",
   "metadata": {},
   "source": [
    "Check Outliers in numerical features"
   ]
  },
  {
   "cell_type": "code",
   "execution_count": 128,
   "id": "9854ac04",
   "metadata": {},
   "outputs": [],
   "source": [
    "# getting numerical  values\n",
    "lead_numerical = lead_df.select_dtypes(include=np.number)\n",
    "#dropping lead number and converted(target variabble)\n",
    "lead_numerical.drop(columns =(['lead_number', 'converted']),inplace = True)"
   ]
  },
  {
   "cell_type": "code",
   "execution_count": 129,
   "id": "3ba63dda",
   "metadata": {},
   "outputs": [
    {
     "data": {
      "image/png": "[encoded data removed]",
      "text/plain": [
       "<Figure size 432x288 with 1 Axes>"
      ]
     },
     "metadata": {
      "needs_background": "light"
     },
     "output_type": "display_data"
    },
    {
     "data": {
      "image/png": "[encoded data removed]",
      "text/plain": [
       "<Figure size 432x288 with 1 Axes>"
      ]
     },
     "metadata": {
      "needs_background": "light"
     },
     "output_type": "display_data"
    },
    {
     "data": {
      "image/png": "[encoded data removed]",
      "text/plain": [
       "<Figure size 432x288 with 1 Axes>"
      ]
     },
     "metadata": {
      "needs_background": "light"
     },
     "output_type": "display_data"
    }
   ],
   "source": [
    "#total_visits\n",
    "for i in lead_numerical:\n",
    "    \n",
    "    sns.boxplot(i, data =lead_numerical)\n",
    "    plt.show()"
   ]
  },
  {
   "cell_type": "markdown",
   "id": "15e2b4f6",
   "metadata": {},
   "source": [
    "Outliers detected in page_views_per_visit and totalvisits with z-score\n",
    "\n",
    "A Z-score of zero represents a value that equals the mean. The further away an observation's Z-score is from zero, the more unusual it is. A standard cut-off value for finding outliers are Z-scores of +/-3 or further from zero."
   ]
  },
  {
   "cell_type": "code",
   "execution_count": 130,
   "id": "e7362933",
   "metadata": {},
   "outputs": [],
   "source": [
    "z = np.abs(stats.zscore(lead_df.page_views_per_visit))\n",
    "threshold = 5\n",
    "outliers_pagevisits =(np.where(z > 3))\n",
    "outliers_pagevisits = np.array(outliers_pagevisits).tolist()\n",
    "\n",
    "z1 = np.abs(stats.zscore(lead_df.totalvisits))\n",
    "threshold = 5\n",
    "outliers_totalvisits =(np.where(z1 > 3))\n",
    "outliers_totalvisits = np.array(outliers_totalvisits).tolist()\n",
    "\n",
    "#combine both lists to the drop these rows\n",
    "outliers = [*outliers_totalvisits, *outliers_pagevisits]\n",
    "#outliers\n"
   ]
  },
  {
   "cell_type": "code",
   "execution_count": 131,
   "id": "78412efe",
   "metadata": {},
   "outputs": [],
   "source": [
    "a =lead_df.shape"
   ]
  },
  {
   "cell_type": "code",
   "execution_count": 132,
   "id": "457031ae",
   "metadata": {},
   "outputs": [],
   "source": [
    "for i in outliers:\n",
    "    lead_df.drop(lead_df.index[[i]], inplace = True)"
   ]
  },
  {
   "cell_type": "code",
   "execution_count": 133,
   "id": "7633e64d",
   "metadata": {},
   "outputs": [
    {
     "name": "stdout",
     "output_type": "stream",
     "text": [
      "The original df shape was (9240, 31) . After removing the outliers, the dataset shape is: (9037, 31) . 98 % of the dataset rows will be used for the analysis!\n"
     ]
    }
   ],
   "source": [
    "b= lead_df.shape\n",
    "print(\"The original df shape was\",a, \". After removing the outliers, the dataset shape is:\",b,\".\", round(b[0] / a[0] *100), \"% of the dataset rows will be used for the analysis!\")\n"
   ]
  },
  {
   "cell_type": "code",
   "execution_count": 327,
   "id": "e919c5d4",
   "metadata": {},
   "outputs": [
    {
     "data": {
      "text/html": [
       "<div>\n",
       "<style scoped>\n",
       "    .dataframe tbody tr th:only-of-type {\n",
       "        vertical-align: middle;\n",
       "    }\n",
       "\n",
       "    .dataframe tbody tr th {\n",
       "        vertical-align: top;\n",
       "    }\n",
       "\n",
       "    .dataframe thead th {\n",
       "        text-align: right;\n",
       "    }\n",
       "</style>\n",
       "<table border=\"1\" class=\"dataframe\">\n",
       "  <thead>\n",
       "    <tr style=\"text-align: right;\">\n",
       "      <th></th>\n",
       "      <th>lead_number</th>\n",
       "      <th>lead_origin</th>\n",
       "      <th>lead_source</th>\n",
       "      <th>do_not_email</th>\n",
       "      <th>converted</th>\n",
       "      <th>totalvisits</th>\n",
       "      <th>total_time_spent_on_website</th>\n",
       "      <th>page_views_per_visit</th>\n",
       "      <th>last_activity</th>\n",
       "      <th>what_is_your_current_occupation</th>\n",
       "      <th>a_free_copy_of_mastering_the_interview</th>\n",
       "      <th>last_notable_activity</th>\n",
       "    </tr>\n",
       "  </thead>\n",
       "  <tbody>\n",
       "    <tr>\n",
       "      <th>0</th>\n",
       "      <td>660737</td>\n",
       "      <td>API</td>\n",
       "      <td>Olark Chat</td>\n",
       "      <td>No</td>\n",
       "      <td>0</td>\n",
       "      <td>0.000</td>\n",
       "      <td>0</td>\n",
       "      <td>0.000</td>\n",
       "      <td>Page Visited on Website</td>\n",
       "      <td>Unemployed</td>\n",
       "      <td>No</td>\n",
       "      <td>Modified</td>\n",
       "    </tr>\n",
       "    <tr>\n",
       "      <th>1</th>\n",
       "      <td>660728</td>\n",
       "      <td>API</td>\n",
       "      <td>Organic Search</td>\n",
       "      <td>No</td>\n",
       "      <td>0</td>\n",
       "      <td>5.000</td>\n",
       "      <td>674</td>\n",
       "      <td>2.500</td>\n",
       "      <td>Email Opened</td>\n",
       "      <td>Unemployed</td>\n",
       "      <td>No</td>\n",
       "      <td>Email Opened</td>\n",
       "    </tr>\n",
       "    <tr>\n",
       "      <th>2</th>\n",
       "      <td>660727</td>\n",
       "      <td>Landing Page Submission</td>\n",
       "      <td>Direct Traffic</td>\n",
       "      <td>No</td>\n",
       "      <td>1</td>\n",
       "      <td>2.000</td>\n",
       "      <td>1532</td>\n",
       "      <td>2.000</td>\n",
       "      <td>Email Opened</td>\n",
       "      <td>Student</td>\n",
       "      <td>Yes</td>\n",
       "      <td>Email Opened</td>\n",
       "    </tr>\n",
       "    <tr>\n",
       "      <th>3</th>\n",
       "      <td>660719</td>\n",
       "      <td>Landing Page Submission</td>\n",
       "      <td>Direct Traffic</td>\n",
       "      <td>No</td>\n",
       "      <td>0</td>\n",
       "      <td>1.000</td>\n",
       "      <td>305</td>\n",
       "      <td>1.000</td>\n",
       "      <td>Unreachable</td>\n",
       "      <td>Unemployed</td>\n",
       "      <td>No</td>\n",
       "      <td>Modified</td>\n",
       "    </tr>\n",
       "    <tr>\n",
       "      <th>4</th>\n",
       "      <td>660681</td>\n",
       "      <td>Landing Page Submission</td>\n",
       "      <td>Google</td>\n",
       "      <td>No</td>\n",
       "      <td>1</td>\n",
       "      <td>2.000</td>\n",
       "      <td>1428</td>\n",
       "      <td>1.000</td>\n",
       "      <td>Converted to Lead</td>\n",
       "      <td>Unemployed</td>\n",
       "      <td>No</td>\n",
       "      <td>Modified</td>\n",
       "    </tr>\n",
       "    <tr>\n",
       "      <th>...</th>\n",
       "      <td>...</td>\n",
       "      <td>...</td>\n",
       "      <td>...</td>\n",
       "      <td>...</td>\n",
       "      <td>...</td>\n",
       "      <td>...</td>\n",
       "      <td>...</td>\n",
       "      <td>...</td>\n",
       "      <td>...</td>\n",
       "      <td>...</td>\n",
       "      <td>...</td>\n",
       "      <td>...</td>\n",
       "    </tr>\n",
       "    <tr>\n",
       "      <th>9235</th>\n",
       "      <td>579564</td>\n",
       "      <td>Landing Page Submission</td>\n",
       "      <td>Direct Traffic</td>\n",
       "      <td>Yes</td>\n",
       "      <td>1</td>\n",
       "      <td>8.000</td>\n",
       "      <td>1845</td>\n",
       "      <td>2.670</td>\n",
       "      <td>Other</td>\n",
       "      <td>Unemployed</td>\n",
       "      <td>No</td>\n",
       "      <td>Unsubscribed</td>\n",
       "    </tr>\n",
       "    <tr>\n",
       "      <th>9236</th>\n",
       "      <td>579546</td>\n",
       "      <td>Landing Page Submission</td>\n",
       "      <td>Direct Traffic</td>\n",
       "      <td>No</td>\n",
       "      <td>0</td>\n",
       "      <td>2.000</td>\n",
       "      <td>238</td>\n",
       "      <td>2.000</td>\n",
       "      <td>SMS Sent</td>\n",
       "      <td>Unemployed</td>\n",
       "      <td>Yes</td>\n",
       "      <td>SMS Sent</td>\n",
       "    </tr>\n",
       "    <tr>\n",
       "      <th>9237</th>\n",
       "      <td>579545</td>\n",
       "      <td>Landing Page Submission</td>\n",
       "      <td>Direct Traffic</td>\n",
       "      <td>Yes</td>\n",
       "      <td>0</td>\n",
       "      <td>2.000</td>\n",
       "      <td>199</td>\n",
       "      <td>2.000</td>\n",
       "      <td>SMS Sent</td>\n",
       "      <td>Unemployed</td>\n",
       "      <td>Yes</td>\n",
       "      <td>SMS Sent</td>\n",
       "    </tr>\n",
       "    <tr>\n",
       "      <th>9238</th>\n",
       "      <td>579538</td>\n",
       "      <td>Landing Page Submission</td>\n",
       "      <td>Google</td>\n",
       "      <td>No</td>\n",
       "      <td>1</td>\n",
       "      <td>3.000</td>\n",
       "      <td>499</td>\n",
       "      <td>3.000</td>\n",
       "      <td>SMS Sent</td>\n",
       "      <td>Other</td>\n",
       "      <td>No</td>\n",
       "      <td>SMS Sent</td>\n",
       "    </tr>\n",
       "    <tr>\n",
       "      <th>9239</th>\n",
       "      <td>579533</td>\n",
       "      <td>Landing Page Submission</td>\n",
       "      <td>Direct Traffic</td>\n",
       "      <td>No</td>\n",
       "      <td>1</td>\n",
       "      <td>6.000</td>\n",
       "      <td>1279</td>\n",
       "      <td>3.000</td>\n",
       "      <td>SMS Sent</td>\n",
       "      <td>Unemployed</td>\n",
       "      <td>Yes</td>\n",
       "      <td>Modified</td>\n",
       "    </tr>\n",
       "  </tbody>\n",
       "</table>\n",
       "<p>9037 rows × 12 columns</p>\n",
       "</div>"
      ],
      "text/plain": [
       "      lead_number              lead_origin     lead_source do_not_email  \\\n",
       "0          660737                      API      Olark Chat           No   \n",
       "1          660728                      API  Organic Search           No   \n",
       "2          660727  Landing Page Submission  Direct Traffic           No   \n",
       "3          660719  Landing Page Submission  Direct Traffic           No   \n",
       "4          660681  Landing Page Submission          Google           No   \n",
       "...           ...                      ...             ...          ...   \n",
       "9235       579564  Landing Page Submission  Direct Traffic          Yes   \n",
       "9236       579546  Landing Page Submission  Direct Traffic           No   \n",
       "9237       579545  Landing Page Submission  Direct Traffic          Yes   \n",
       "9238       579538  Landing Page Submission          Google           No   \n",
       "9239       579533  Landing Page Submission  Direct Traffic           No   \n",
       "\n",
       "      converted  totalvisits  total_time_spent_on_website  \\\n",
       "0             0        0.000                            0   \n",
       "1             0        5.000                          674   \n",
       "2             1        2.000                         1532   \n",
       "3             0        1.000                          305   \n",
       "4             1        2.000                         1428   \n",
       "...         ...          ...                          ...   \n",
       "9235          1        8.000                         1845   \n",
       "9236          0        2.000                          238   \n",
       "9237          0        2.000                          199   \n",
       "9238          1        3.000                          499   \n",
       "9239          1        6.000                         1279   \n",
       "\n",
       "      page_views_per_visit            last_activity  \\\n",
       "0                    0.000  Page Visited on Website   \n",
       "1                    2.500             Email Opened   \n",
       "2                    2.000             Email Opened   \n",
       "3                    1.000              Unreachable   \n",
       "4                    1.000        Converted to Lead   \n",
       "...                    ...                      ...   \n",
       "9235                 2.670                    Other   \n",
       "9236                 2.000                 SMS Sent   \n",
       "9237                 2.000                 SMS Sent   \n",
       "9238                 3.000                 SMS Sent   \n",
       "9239                 3.000                 SMS Sent   \n",
       "\n",
       "     what_is_your_current_occupation a_free_copy_of_mastering_the_interview  \\\n",
       "0                         Unemployed                                     No   \n",
       "1                         Unemployed                                     No   \n",
       "2                            Student                                    Yes   \n",
       "3                         Unemployed                                     No   \n",
       "4                         Unemployed                                     No   \n",
       "...                              ...                                    ...   \n",
       "9235                      Unemployed                                     No   \n",
       "9236                      Unemployed                                    Yes   \n",
       "9237                      Unemployed                                    Yes   \n",
       "9238                           Other                                     No   \n",
       "9239                      Unemployed                                    Yes   \n",
       "\n",
       "     last_notable_activity  \n",
       "0                 Modified  \n",
       "1             Email Opened  \n",
       "2             Email Opened  \n",
       "3                 Modified  \n",
       "4                 Modified  \n",
       "...                    ...  \n",
       "9235          Unsubscribed  \n",
       "9236              SMS Sent  \n",
       "9237              SMS Sent  \n",
       "9238              SMS Sent  \n",
       "9239              Modified  \n",
       "\n",
       "[9037 rows x 12 columns]"
      ]
     },
     "execution_count": 327,
     "metadata": {},
     "output_type": "execute_result"
    }
   ],
   "source": [
    "#loading cleaned dataset\n",
    "lead_df = pd.read_csv('files/Lead Scoring.csv')\n",
    "clean_data(lead_df)"
   ]
  },
  {
   "cell_type": "markdown",
   "id": "f5571535",
   "metadata": {},
   "source": [
    "Checking Imbalance of dataset \n",
    "\n",
    "using the dependent variable ='converted' , now concrete cutoff when a dataset is considered imbalanced, however common is to consider it as imbalanced if the ratio is greater than 1:9"
   ]
  },
  {
   "cell_type": "code",
   "execution_count": 328,
   "id": "cdad8dea",
   "metadata": {},
   "outputs": [
    {
     "data": {
      "text/plain": [
       "0    5548\n",
       "1    3489\n",
       "Name: converted, dtype: int64"
      ]
     },
     "execution_count": 328,
     "metadata": {},
     "output_type": "execute_result"
    }
   ],
   "source": [
    "lead_df.converted.value_counts()\n",
    "#dataset imbalance ratio is just 1: 1.6, so no down-or upsampling needed"
   ]
  },
  {
   "cell_type": "markdown",
   "id": "eee92bf9",
   "metadata": {},
   "source": [
    "Data preprocessing"
   ]
  },
  {
   "cell_type": "code",
   "execution_count": 329,
   "id": "3f2ee3b5",
   "metadata": {},
   "outputs": [
    {
     "data": {
      "text/plain": [
       "(9037, 7)"
      ]
     },
     "execution_count": 329,
     "metadata": {},
     "output_type": "execute_result"
    }
   ],
   "source": [
    "# numerical &categorical values\n",
    "lead_numerical = lead_df.select_dtypes(include=np.number).drop(columns=['lead_number', 'converted'])\n",
    "lead_categorical = lead_df.select_dtypes(include=np.object)\n",
    "lead_categorical.shape"
   ]
  },
  {
   "cell_type": "code",
   "execution_count": 330,
   "id": "9c83bde4",
   "metadata": {},
   "outputs": [
    {
     "name": "stdout",
     "output_type": "stream",
     "text": [
      "['totalvisits', 'total_time_spent_on_website', 'page_views_per_visit']\n"
     ]
    },
    {
     "data": {
      "text/plain": [
       "['lead_origin',\n",
       " 'lead_source',\n",
       " 'do_not_email',\n",
       " 'last_activity',\n",
       " 'what_is_your_current_occupation',\n",
       " 'a_free_copy_of_mastering_the_interview',\n",
       " 'last_notable_activity']"
      ]
     },
     "execution_count": 330,
     "metadata": {},
     "output_type": "execute_result"
    }
   ],
   "source": [
    "print(list(lead_numerical))\n",
    "list(lead_categorical)\n"
   ]
  },
  {
   "cell_type": "markdown",
   "id": "efd0257b",
   "metadata": {},
   "source": [
    "Checking for high correlation in numerical values"
   ]
  },
  {
   "cell_type": "code",
   "execution_count": 331,
   "id": "b0d08f54",
   "metadata": {},
   "outputs": [
    {
     "data": {
      "image/png": "[encoded data removed]",
      "text/plain": [
       "<Figure size 720x576 with 2 Axes>"
      ]
     },
     "metadata": {
      "needs_background": "light"
     },
     "output_type": "display_data"
    }
   ],
   "source": [
    "#correleation between numerical features\n",
    "#Dropping features that show a high correlation between them (greater than 0.9)\n",
    "\n",
    "correlations = lead_numerical.corr()\n",
    "cmap = sns.cm.rocket_r  ## for reversing the colors\n",
    "mask=np.zeros_like(lead_numerical.corr())\n",
    "mask[np.triu_indices_from(mask)]=True\n",
    "fig, ax=plt.subplots(figsize=(10, 8))\n",
    "ax=sns.heatmap(lead_numerical.corr(), mask=mask, annot=True,cmap=cmap)\n",
    "plt.show()\n",
    "\n",
    "#no high correlation"
   ]
  },
  {
   "cell_type": "markdown",
   "id": "3f79c202",
   "metadata": {},
   "source": [
    "Encoding"
   ]
  },
  {
   "cell_type": "code",
   "execution_count": 332,
   "id": "5c85b86e",
   "metadata": {},
   "outputs": [
    {
     "data": {
      "text/plain": [
       "(9037, 36)"
      ]
     },
     "metadata": {},
     "output_type": "display_data"
    }
   ],
   "source": [
    "#get dummies for categorical values\n",
    "dummies = pd.get_dummies(data = lead_categorical, drop_first=True)\n",
    "display(dummies.shape)\n"
   ]
  },
  {
   "cell_type": "markdown",
   "id": "581f314a",
   "metadata": {},
   "source": [
    "Scaling numerical features\n",
    "\n",
    "*data normalization is not needed but also won’t affect the output for Tree/Random Forest classifiers"
   ]
  },
  {
   "cell_type": "code",
   "execution_count": 333,
   "id": "0acdd478",
   "metadata": {},
   "outputs": [
    {
     "data": {
      "text/html": [
       "<div>\n",
       "<style scoped>\n",
       "    .dataframe tbody tr th:only-of-type {\n",
       "        vertical-align: middle;\n",
       "    }\n",
       "\n",
       "    .dataframe tbody tr th {\n",
       "        vertical-align: top;\n",
       "    }\n",
       "\n",
       "    .dataframe thead th {\n",
       "        text-align: right;\n",
       "    }\n",
       "</style>\n",
       "<table border=\"1\" class=\"dataframe\">\n",
       "  <thead>\n",
       "    <tr style=\"text-align: right;\">\n",
       "      <th></th>\n",
       "      <th>totalvisits</th>\n",
       "      <th>total_time_spent_on_website</th>\n",
       "      <th>page_views_per_visit</th>\n",
       "    </tr>\n",
       "  </thead>\n",
       "  <tbody>\n",
       "    <tr>\n",
       "      <th>0</th>\n",
       "      <td>0.000</td>\n",
       "      <td>0</td>\n",
       "      <td>0.000</td>\n",
       "    </tr>\n",
       "    <tr>\n",
       "      <th>1</th>\n",
       "      <td>5.000</td>\n",
       "      <td>674</td>\n",
       "      <td>2.500</td>\n",
       "    </tr>\n",
       "  </tbody>\n",
       "</table>\n",
       "</div>"
      ],
      "text/plain": [
       "   totalvisits  total_time_spent_on_website  page_views_per_visit\n",
       "0        0.000                            0                 0.000\n",
       "1        5.000                          674                 2.500"
      ]
     },
     "metadata": {},
     "output_type": "display_data"
    },
    {
     "name": "stdout",
     "output_type": "stream",
     "text": [
      "\n"
     ]
    },
    {
     "data": {
      "text/html": [
       "<div>\n",
       "<style scoped>\n",
       "    .dataframe tbody tr th:only-of-type {\n",
       "        vertical-align: middle;\n",
       "    }\n",
       "\n",
       "    .dataframe tbody tr th {\n",
       "        vertical-align: top;\n",
       "    }\n",
       "\n",
       "    .dataframe thead th {\n",
       "        text-align: right;\n",
       "    }\n",
       "</style>\n",
       "<table border=\"1\" class=\"dataframe\">\n",
       "  <thead>\n",
       "    <tr style=\"text-align: right;\">\n",
       "      <th></th>\n",
       "      <th>totalvisits</th>\n",
       "      <th>total_time_spent_on_website</th>\n",
       "      <th>page_views_per_visit</th>\n",
       "    </tr>\n",
       "  </thead>\n",
       "  <tbody>\n",
       "    <tr>\n",
       "      <th>0</th>\n",
       "      <td>-1.082</td>\n",
       "      <td>-0.890</td>\n",
       "      <td>-1.149</td>\n",
       "    </tr>\n",
       "    <tr>\n",
       "      <th>1</th>\n",
       "      <td>0.609</td>\n",
       "      <td>0.340</td>\n",
       "      <td>0.088</td>\n",
       "    </tr>\n",
       "  </tbody>\n",
       "</table>\n",
       "</div>"
      ],
      "text/plain": [
       "   totalvisits  total_time_spent_on_website  page_views_per_visit\n",
       "0       -1.082                       -0.890                -1.149\n",
       "1        0.609                        0.340                 0.088"
      ]
     },
     "metadata": {},
     "output_type": "display_data"
    },
    {
     "data": {
      "text/plain": [
       "(9037, 3)"
      ]
     },
     "execution_count": 333,
     "metadata": {},
     "output_type": "execute_result"
    }
   ],
   "source": [
    "\n",
    "#scaling numerical features\n",
    "\n",
    "scaler = StandardScaler()\n",
    "scaler.fit(lead_numerical) #z score \n",
    "lead_numericals_scaled = scaler.transform(lead_numerical) #gives an array\n",
    "lead_numericals_scaled = pd.DataFrame(lead_numericals_scaled, columns = lead_numerical.columns) #transform it to a df\n",
    "display(lead_numerical.head(2))\n",
    "print()\n",
    "display(lead_numericals_scaled.head(2))\n",
    "\n",
    "lead_numericals_scaled.shape\n"
   ]
  },
  {
   "cell_type": "markdown",
   "id": "04e6664c",
   "metadata": {},
   "source": [
    "Plotting categorical Features"
   ]
  },
  {
   "cell_type": "code",
   "execution_count": 287,
   "id": "86fd66f3",
   "metadata": {},
   "outputs": [
    {
     "data": {
      "image/png": "[encoded data removed]",
      "text/plain": [
       "<Figure size 720x360 with 1 Axes>"
      ]
     },
     "metadata": {
      "needs_background": "light"
     },
     "output_type": "display_data"
    },
    {
     "data": {
      "image/png": "[encoded data removed]",
      "text/plain": [
       "<Figure size 720x360 with 1 Axes>"
      ]
     },
     "metadata": {
      "needs_background": "light"
     },
     "output_type": "display_data"
    },
    {
     "data": {
      "image/png": "[encoded data removed]",
      "text/plain": [
       "<Figure size 720x360 with 1 Axes>"
      ]
     },
     "metadata": {
      "needs_background": "light"
     },
     "output_type": "display_data"
    },
    {
     "data": {
      "image/png": "[encoded data removed]",
      "text/plain": [
       "<Figure size 720x360 with 1 Axes>"
      ]
     },
     "metadata": {
      "needs_background": "light"
     },
     "output_type": "display_data"
    },
    {
     "data": {
      "image/png": "[encoded data removed]",
      "text/plain": [
       "<Figure size 720x360 with 1 Axes>"
      ]
     },
     "metadata": {
      "needs_background": "light"
     },
     "output_type": "display_data"
    },
    {
     "data": {
      "image/png": "[encoded data removed]",
      "text/plain": [
       "<Figure size 720x360 with 1 Axes>"
      ]
     },
     "metadata": {
      "needs_background": "light"
     },
     "output_type": "display_data"
    },
    {
     "data": {
      "image/png": "[encoded data removed]",
      "text/plain": [
       "<Figure size 720x360 with 1 Axes>"
      ]
     },
     "metadata": {
      "needs_background": "light"
     },
     "output_type": "display_data"
    }
   ],
   "source": [
    "for c in lead_categorical:\n",
    "    plt.figure(figsize=(10,5))\n",
    "    plt.bar(lead_categorical[c].unique(), lead_categorical[c].value_counts())\n",
    "    plt.title(c)\n",
    "    plt.xticks(rotation=45)\n",
    "    plt.show();"
   ]
  },
  {
   "cell_type": "markdown",
   "id": "32d0d1b4",
   "metadata": {},
   "source": [
    "Plotting numerical Features"
   ]
  },
  {
   "cell_type": "code",
   "execution_count": 288,
   "id": "5d210a1e",
   "metadata": {},
   "outputs": [
    {
     "data": {
      "image/png": "[encoded data removed]",
      "text/plain": [
       "<Figure size 540x540 with 12 Axes>"
      ]
     },
     "metadata": {
      "needs_background": "light"
     },
     "output_type": "display_data"
    }
   ],
   "source": [
    "#Use seaborn library to construct distribution plots for the numerical_scaled variables##\n",
    "sns.pairplot(lead_numericals_scaled)\n",
    "plt.show()"
   ]
  },
  {
   "cell_type": "markdown",
   "id": "98af4c79",
   "metadata": {},
   "source": [
    "Combining scaled numerical and encoded categorical data"
   ]
  },
  {
   "cell_type": "code",
   "execution_count": 334,
   "id": "4a1dca30",
   "metadata": {},
   "outputs": [],
   "source": [
    "#hstack scaled numerical & encoded categorical\n",
    "lead_df_numbers = pd.DataFrame(np.hstack([dummies, lead_numericals_scaled]))\n",
    "\n",
    "#saving column names in a list to append it\n",
    "column_names = [*dummies.columns.tolist(),*lead_numericals_scaled.columns.tolist()]\n",
    "\n",
    "\n",
    "lead_df_numbers.set_axis(column_names,axis =1,inplace=True)\n",
    "\n"
   ]
  },
  {
   "cell_type": "markdown",
   "id": "2b73936b",
   "metadata": {},
   "source": [
    "Correlation for scaled and encoded dataset"
   ]
  },
  {
   "cell_type": "code",
   "execution_count": 290,
   "id": "a64ec057",
   "metadata": {},
   "outputs": [
    {
     "data": {
      "image/png": "[encoded data removed]",
      "text/plain": [
       "<Figure size 2160x2160 with 2 Axes>"
      ]
     },
     "metadata": {
      "needs_background": "light"
     },
     "output_type": "display_data"
    }
   ],
   "source": [
    "dfCorr = lead_df_numbers.corr()\n",
    "filteredDf = dfCorr[((dfCorr >= .89) | (dfCorr <= -.89)) & (dfCorr !=1.000)] #just showing high correlation without duplicates (1)\n",
    "plt.figure(figsize=(30,30))\n",
    "sns.heatmap(filteredDf, annot=True, cmap=\"Reds\")\n",
    "plt.show()\n",
    "\n",
    "#lead_origin_Lead_import and lead_source_Facebook are highly correlated, will drop"
   ]
  },
  {
   "cell_type": "code",
   "execution_count": 335,
   "id": "6470ab40",
   "metadata": {},
   "outputs": [],
   "source": [
    "#lead_origin_Lead_import and lead_source_Facebook are highly correlated\n",
    "#dropping lead_source_Facebook\n",
    "lead_df_numbers.drop(columns='lead_source_Facebook',inplace=True)"
   ]
  },
  {
   "cell_type": "markdown",
   "id": "1e9f0186",
   "metadata": {},
   "source": [
    "Setting the independent and dependent variable"
   ]
  },
  {
   "cell_type": "code",
   "execution_count": 336,
   "id": "f70c5249",
   "metadata": {},
   "outputs": [
    {
     "data": {
      "text/plain": [
       "(9037, 38)"
      ]
     },
     "metadata": {},
     "output_type": "display_data"
    },
    {
     "data": {
      "text/plain": [
       "(9037,)"
      ]
     },
     "execution_count": 336,
     "metadata": {},
     "output_type": "execute_result"
    }
   ],
   "source": [
    "X = lead_df_numbers\n",
    "display(X.shape)\n",
    "y = lead_df.converted\n",
    "y = y.values.ravel() #y needs to be converted into a 1D for later modelling\n",
    "y.shape\n"
   ]
  },
  {
   "cell_type": "markdown",
   "id": "b7a8682d",
   "metadata": {},
   "source": [
    "Testing Models"
   ]
  },
  {
   "cell_type": "code",
   "execution_count": 337,
   "id": "01e9b67b",
   "metadata": {},
   "outputs": [],
   "source": [
    "\n",
    "models = {\n",
    "# Decision Trees\n",
    "\"Decision Tree Classifier\":DecisionTreeClassifier(), \n",
    "# Naive Bayes\n",
    "\"GaussianNB\": GaussianNB(),\n",
    "# Support Vector Machines\n",
    "\"LinearSVC\": LinearSVC(),\n",
    "# Logistic Regression\n",
    "\"Logistic Regression\": LogisticRegression(),\n",
    "#Random Forest\n",
    "\"Random Forest\": RandomForestClassifier()\n",
    "            }"
   ]
  },
  {
   "cell_type": "code",
   "execution_count": 338,
   "id": "44b5368e",
   "metadata": {},
   "outputs": [],
   "source": [
    "def eval_model(x,y,models):\n",
    "    pd.options.display.float_format = \"{:,.3f}\".format #show three decimals in df\n",
    "    accuracy, precision, recall = {}, {}, {}\n",
    "    #enumerate attachs a number to the running output\n",
    "    for (i, (name, model)) in enumerate (models.items()): #to access the models (name= key , model/items =values in dict)\n",
    "        \n",
    "        X_train, X_test, y_train, y_test = train_test_split(X, y, test_size =0.3, random_state = 10)\n",
    "        #model Training\n",
    "        model.fit(X_train, y_train)\n",
    "        \n",
    "        y_pred = model.predict(X_test)\n",
    "        y_pred_train = model.predict(X_train)\n",
    "        \n",
    "        #confusion matrix (not displaying it as it gets to much output)\n",
    "        #try:\n",
    "        #    print(name,\" Confusion matrix for the train set: \")\n",
    "        #    print(confusion_matrix(y_train,y_pred_train))\n",
    "\n",
    "        #    \n",
    "        #    print(name, \"Confusion matrix for the test set: \")\n",
    "        #    print(confusion_matrix(y_test, y_pred))\n",
    "        #    \n",
    "        #except:\n",
    "        #    print(\"confusion matrix is not available for this model: \", name)\n",
    "\n",
    "        accuracy[name] = accuracy_score(y_pred, y_test)\n",
    "        precision[name] = precision_score(y_pred, y_test)\n",
    "        recall[name] = recall_score(y_pred, y_test)\n",
    "        f1_score = 2*(( precision[name] * recall[name])/( precision[name] + recall[name]))\n",
    "        #F1 score increases as the precision and recall value rises for a model.\n",
    "        #A high score indicates that the model is well versed in terms of handling the class imbalance problem.\n",
    "        print(name,\"\\nF1 score of the model: \",f1_score.round(3)) \n",
    "        cross_val_scores = cross_val_score(model, X_train, y_train, cv=10)\n",
    "        print(\"Cross validation score: \",np.mean(cross_val_scores).round(3),\"\\n\")\n",
    "\n",
    "\n",
    "        \n",
    "    df_model = pd.DataFrame(index=models.keys(), columns=['Accuracy', 'Precision', 'Recall'])\n",
    "    df_model['Accuracy'] = accuracy.values()\n",
    "    df_model['Precision'] = precision.values()\n",
    "    df_model['Recall'] = recall.values()\n",
    "\n",
    "    \n",
    "    \n",
    "    \n",
    "    return df_model\n",
    "        "
   ]
  },
  {
   "cell_type": "code",
   "execution_count": 339,
   "id": "cacf5b51",
   "metadata": {},
   "outputs": [
    {
     "name": "stdout",
     "output_type": "stream",
     "text": [
      "Decision Tree Classifier \n",
      "F1 score of the model:  0.713\n",
      "Cross validation score:  0.776 \n",
      "\n",
      "GaussianNB \n",
      "F1 score of the model:  0.63\n",
      "Cross validation score:  0.754 \n",
      "\n",
      "LinearSVC \n",
      "F1 score of the model:  0.74\n",
      "Cross validation score:  0.821 \n",
      "\n",
      "Logistic Regression \n",
      "F1 score of the model:  0.741\n",
      "Cross validation score:  0.822 \n",
      "\n",
      "Random Forest \n",
      "F1 score of the model:  0.749\n",
      "Cross validation score:  0.805 \n",
      "\n"
     ]
    },
    {
     "data": {
      "text/html": [
       "<div>\n",
       "<style scoped>\n",
       "    .dataframe tbody tr th:only-of-type {\n",
       "        vertical-align: middle;\n",
       "    }\n",
       "\n",
       "    .dataframe tbody tr th {\n",
       "        vertical-align: top;\n",
       "    }\n",
       "\n",
       "    .dataframe thead th {\n",
       "        text-align: right;\n",
       "    }\n",
       "</style>\n",
       "<table border=\"1\" class=\"dataframe\">\n",
       "  <thead>\n",
       "    <tr style=\"text-align: right;\">\n",
       "      <th></th>\n",
       "      <th>Accuracy</th>\n",
       "      <th>Precision</th>\n",
       "      <th>Recall</th>\n",
       "    </tr>\n",
       "  </thead>\n",
       "  <tbody>\n",
       "    <tr>\n",
       "      <th>Decision Tree Classifier</th>\n",
       "      <td>0.771</td>\n",
       "      <td>0.744</td>\n",
       "      <td>0.684</td>\n",
       "    </tr>\n",
       "    <tr>\n",
       "      <th>GaussianNB</th>\n",
       "      <td>0.760</td>\n",
       "      <td>0.536</td>\n",
       "      <td>0.763</td>\n",
       "    </tr>\n",
       "    <tr>\n",
       "      <th>LinearSVC</th>\n",
       "      <td>0.811</td>\n",
       "      <td>0.707</td>\n",
       "      <td>0.777</td>\n",
       "    </tr>\n",
       "    <tr>\n",
       "      <th>Logistic Regression</th>\n",
       "      <td>0.812</td>\n",
       "      <td>0.706</td>\n",
       "      <td>0.779</td>\n",
       "    </tr>\n",
       "    <tr>\n",
       "      <th>Random Forest</th>\n",
       "      <td>0.808</td>\n",
       "      <td>0.749</td>\n",
       "      <td>0.749</td>\n",
       "    </tr>\n",
       "  </tbody>\n",
       "</table>\n",
       "</div>"
      ],
      "text/plain": [
       "                          Accuracy  Precision  Recall\n",
       "Decision Tree Classifier     0.771      0.744   0.684\n",
       "GaussianNB                   0.760      0.536   0.763\n",
       "LinearSVC                    0.811      0.707   0.777\n",
       "Logistic Regression          0.812      0.706   0.779\n",
       "Random Forest                0.808      0.749   0.749"
      ]
     },
     "execution_count": 339,
     "metadata": {},
     "output_type": "execute_result"
    }
   ],
   "source": [
    "eval_model(X,y,models)"
   ]
  },
  {
   "cell_type": "markdown",
   "id": "ac52ed09",
   "metadata": {},
   "source": [
    "Logistic Regression has overall the best results, therefore I will move forward with it for the feature importance selection"
   ]
  },
  {
   "cell_type": "markdown",
   "id": "825ab455",
   "metadata": {},
   "source": [
    "Statsmodel analysis of Logistic Regression\n",
    "\n",
    "statsmodels is a Python module that provides classes and functions for the estimation of many different statistical models, as well as for conducting statistical tests, and statistical data exploration. "
   ]
  },
  {
   "cell_type": "code",
   "execution_count": 340,
   "id": "fae9075f",
   "metadata": {},
   "outputs": [],
   "source": [
    "# train-test splitting\n",
    "X_train, X_test, y_train, y_test = train_test_split(X, y, test_size=0.3, random_state=100)"
   ]
  },
  {
   "cell_type": "code",
   "execution_count": 341,
   "id": "43ac6d4b",
   "metadata": {},
   "outputs": [
    {
     "name": "stdout",
     "output_type": "stream",
     "text": [
      "Optimization terminated successfully.\n",
      "         Current function value: 0.390502\n",
      "         Iterations 25\n"
     ]
    },
    {
     "data": {
      "text/html": [
       "<table class=\"simpletable\">\n",
       "<caption>Logit Regression Results</caption>\n",
       "<tr>\n",
       "  <th>Dep. Variable:</th>           <td>y</td>        <th>  No. Observations:  </th>  <td>  6325</td> \n",
       "</tr>\n",
       "<tr>\n",
       "  <th>Model:</th>                 <td>Logit</td>      <th>  Df Residuals:      </th>  <td>  6286</td> \n",
       "</tr>\n",
       "<tr>\n",
       "  <th>Method:</th>                 <td>MLE</td>       <th>  Df Model:          </th>  <td>    38</td> \n",
       "</tr>\n",
       "<tr>\n",
       "  <th>Date:</th>            <td>Wed, 06 Oct 2021</td> <th>  Pseudo R-squ.:     </th>  <td>0.4130</td> \n",
       "</tr>\n",
       "<tr>\n",
       "  <th>Time:</th>                <td>19:57:16</td>     <th>  Log-Likelihood:    </th> <td> -2469.9</td>\n",
       "</tr>\n",
       "<tr>\n",
       "  <th>converged:</th>             <td>True</td>       <th>  LL-Null:           </th> <td> -4207.7</td>\n",
       "</tr>\n",
       "<tr>\n",
       "  <th>Covariance Type:</th>     <td>nonrobust</td>    <th>  LLR p-value:       </th>  <td> 0.000</td> \n",
       "</tr>\n",
       "</table>\n",
       "<table class=\"simpletable\">\n",
       "<tr>\n",
       "                            <td></td>                              <th>coef</th>     <th>std err</th>      <th>z</th>      <th>P>|z|</th>  <th>[0.025</th>    <th>0.975]</th>  \n",
       "</tr>\n",
       "<tr>\n",
       "  <th>const</th>                                                <td> 2.763e+04</td> <td>      nan</td> <td>      nan</td> <td>   nan</td> <td>      nan</td> <td>      nan</td>\n",
       "</tr>\n",
       "<tr>\n",
       "  <th>lead_origin_Add Form</th>                                 <td>    3.1646</td> <td>    0.579</td> <td>    5.466</td> <td> 0.000</td> <td>    2.030</td> <td>    4.299</td>\n",
       "</tr>\n",
       "<tr>\n",
       "  <th>lead_origin_Landing Page Submission</th>                  <td>   -0.2193</td> <td>    0.111</td> <td>   -1.977</td> <td> 0.048</td> <td>   -0.437</td> <td>   -0.002</td>\n",
       "</tr>\n",
       "<tr>\n",
       "  <th>lead_origin_Lead Import</th>                              <td>    0.1645</td> <td>    0.457</td> <td>    0.360</td> <td> 0.719</td> <td>   -0.732</td> <td>    1.061</td>\n",
       "</tr>\n",
       "<tr>\n",
       "  <th>lead_source_Google</th>                                   <td>    0.2985</td> <td>    0.119</td> <td>    2.499</td> <td> 0.012</td> <td>    0.064</td> <td>    0.533</td>\n",
       "</tr>\n",
       "<tr>\n",
       "  <th>lead_source_Olark Chat</th>                               <td>    1.4076</td> <td>    0.168</td> <td>    8.364</td> <td> 0.000</td> <td>    1.078</td> <td>    1.737</td>\n",
       "</tr>\n",
       "<tr>\n",
       "  <th>lead_source_Organic Search</th>                           <td>    0.1851</td> <td>    0.134</td> <td>    1.379</td> <td> 0.168</td> <td>   -0.078</td> <td>    0.448</td>\n",
       "</tr>\n",
       "<tr>\n",
       "  <th>lead_source_Other</th>                                    <td>    0.5338</td> <td>    0.662</td> <td>    0.807</td> <td> 0.420</td> <td>   -0.763</td> <td>    1.831</td>\n",
       "</tr>\n",
       "<tr>\n",
       "  <th>lead_source_Reference</th>                                <td>    0.4886</td> <td>    0.617</td> <td>    0.792</td> <td> 0.429</td> <td>   -0.721</td> <td>    1.698</td>\n",
       "</tr>\n",
       "<tr>\n",
       "  <th>lead_source_Referral Sites</th>                           <td>   -0.0514</td> <td>    0.375</td> <td>   -0.137</td> <td> 0.891</td> <td>   -0.786</td> <td>    0.683</td>\n",
       "</tr>\n",
       "<tr>\n",
       "  <th>lead_source_Welingak Website</th>                         <td>    2.1802</td> <td>    0.926</td> <td>    2.354</td> <td> 0.019</td> <td>    0.365</td> <td>    3.995</td>\n",
       "</tr>\n",
       "<tr>\n",
       "  <th>do_not_email_Yes</th>                                     <td>   -1.1694</td> <td>    0.216</td> <td>   -5.414</td> <td> 0.000</td> <td>   -1.593</td> <td>   -0.746</td>\n",
       "</tr>\n",
       "<tr>\n",
       "  <th>last_activity_Email Bounced</th>                          <td>   -0.7727</td> <td>    0.490</td> <td>   -1.577</td> <td> 0.115</td> <td>   -1.733</td> <td>    0.188</td>\n",
       "</tr>\n",
       "<tr>\n",
       "  <th>last_activity_Email Link Clicked</th>                     <td>    0.5282</td> <td>    0.419</td> <td>    1.261</td> <td> 0.207</td> <td>   -0.293</td> <td>    1.349</td>\n",
       "</tr>\n",
       "<tr>\n",
       "  <th>last_activity_Email Opened</th>                           <td>    0.8194</td> <td>    0.245</td> <td>    3.341</td> <td> 0.001</td> <td>    0.339</td> <td>    1.300</td>\n",
       "</tr>\n",
       "<tr>\n",
       "  <th>last_activity_Form Submitted on Website</th>              <td>    0.4551</td> <td>    0.397</td> <td>    1.147</td> <td> 0.251</td> <td>   -0.323</td> <td>    1.233</td>\n",
       "</tr>\n",
       "<tr>\n",
       "  <th>last_activity_Had a Phone Conversation</th>               <td>    0.7011</td> <td>    0.891</td> <td>    0.787</td> <td> 0.431</td> <td>   -1.045</td> <td>    2.448</td>\n",
       "</tr>\n",
       "<tr>\n",
       "  <th>last_activity_Olark Chat Conversation</th>                <td>   -0.5244</td> <td>    0.279</td> <td>   -1.876</td> <td> 0.061</td> <td>   -1.072</td> <td>    0.023</td>\n",
       "</tr>\n",
       "<tr>\n",
       "  <th>last_activity_Other</th>                                  <td>    0.9659</td> <td>    0.850</td> <td>    1.137</td> <td> 0.256</td> <td>   -0.699</td> <td>    2.631</td>\n",
       "</tr>\n",
       "<tr>\n",
       "  <th>last_activity_Page Visited on Website</th>                <td>    0.4685</td> <td>    0.297</td> <td>    1.580</td> <td> 0.114</td> <td>   -0.113</td> <td>    1.050</td>\n",
       "</tr>\n",
       "<tr>\n",
       "  <th>last_activity_SMS Sent</th>                               <td>    1.3150</td> <td>    0.249</td> <td>    5.290</td> <td> 0.000</td> <td>    0.828</td> <td>    1.802</td>\n",
       "</tr>\n",
       "<tr>\n",
       "  <th>last_activity_Unreachable</th>                            <td>    0.6537</td> <td>    0.438</td> <td>    1.491</td> <td> 0.136</td> <td>   -0.205</td> <td>    1.513</td>\n",
       "</tr>\n",
       "<tr>\n",
       "  <th>last_activity_Unsubscribed</th>                           <td>   -1.1824</td> <td>    2.111</td> <td>   -0.560</td> <td> 0.575</td> <td>   -5.320</td> <td>    2.956</td>\n",
       "</tr>\n",
       "<tr>\n",
       "  <th>what_is_your_current_occupation_Other</th>                <td>-2.764e+04</td> <td>      nan</td> <td>      nan</td> <td>   nan</td> <td>      nan</td> <td>      nan</td>\n",
       "</tr>\n",
       "<tr>\n",
       "  <th>what_is_your_current_occupation_Student</th>              <td>-2.764e+04</td> <td>      nan</td> <td>      nan</td> <td>   nan</td> <td>      nan</td> <td>      nan</td>\n",
       "</tr>\n",
       "<tr>\n",
       "  <th>what_is_your_current_occupation_Unemployed</th>           <td>-2.764e+04</td> <td>      nan</td> <td>      nan</td> <td>   nan</td> <td>      nan</td> <td>      nan</td>\n",
       "</tr>\n",
       "<tr>\n",
       "  <th>what_is_your_current_occupation_Working Professional</th> <td>-2.763e+04</td> <td>      nan</td> <td>      nan</td> <td>   nan</td> <td>      nan</td> <td>      nan</td>\n",
       "</tr>\n",
       "<tr>\n",
       "  <th>a_free_copy_of_mastering_the_interview_Yes</th>           <td>   -0.0854</td> <td>    0.110</td> <td>   -0.773</td> <td> 0.440</td> <td>   -0.302</td> <td>    0.131</td>\n",
       "</tr>\n",
       "<tr>\n",
       "  <th>last_notable_activity_Email Opened</th>                   <td>    0.4039</td> <td>    0.491</td> <td>    0.822</td> <td> 0.411</td> <td>   -0.559</td> <td>    1.366</td>\n",
       "</tr>\n",
       "<tr>\n",
       "  <th>last_notable_activity_Modified</th>                       <td>    0.0764</td> <td>    0.470</td> <td>    0.163</td> <td> 0.871</td> <td>   -0.845</td> <td>    0.997</td>\n",
       "</tr>\n",
       "<tr>\n",
       "  <th>last_notable_activity_Olark Chat Conversation</th>        <td>    0.2796</td> <td>    0.596</td> <td>    0.469</td> <td> 0.639</td> <td>   -0.889</td> <td>    1.448</td>\n",
       "</tr>\n",
       "<tr>\n",
       "  <th>last_notable_activity_Other</th>                          <td>    2.6927</td> <td>    1.296</td> <td>    2.078</td> <td> 0.038</td> <td>    0.153</td> <td>    5.233</td>\n",
       "</tr>\n",
       "<tr>\n",
       "  <th>last_notable_activity_Page Visited on Website</th>        <td>    0.0422</td> <td>    0.555</td> <td>    0.076</td> <td> 0.939</td> <td>   -1.045</td> <td>    1.130</td>\n",
       "</tr>\n",
       "<tr>\n",
       "  <th>last_notable_activity_SMS Sent</th>                       <td>    1.1700</td> <td>    0.494</td> <td>    2.367</td> <td> 0.018</td> <td>    0.201</td> <td>    2.139</td>\n",
       "</tr>\n",
       "<tr>\n",
       "  <th>last_notable_activity_Unreachable</th>                    <td>    2.0720</td> <td>    0.678</td> <td>    3.057</td> <td> 0.002</td> <td>    0.743</td> <td>    3.401</td>\n",
       "</tr>\n",
       "<tr>\n",
       "  <th>last_notable_activity_Unsubscribed</th>                   <td>    3.2839</td> <td>    2.198</td> <td>    1.494</td> <td> 0.135</td> <td>   -1.024</td> <td>    7.592</td>\n",
       "</tr>\n",
       "<tr>\n",
       "  <th>totalvisits</th>                                          <td>    0.2809</td> <td>    0.054</td> <td>    5.164</td> <td> 0.000</td> <td>    0.174</td> <td>    0.388</td>\n",
       "</tr>\n",
       "<tr>\n",
       "  <th>total_time_spent_on_website</th>                          <td>    1.1336</td> <td>    0.042</td> <td>   26.981</td> <td> 0.000</td> <td>    1.051</td> <td>    1.216</td>\n",
       "</tr>\n",
       "<tr>\n",
       "  <th>page_views_per_visit</th>                                 <td>   -0.2352</td> <td>    0.057</td> <td>   -4.095</td> <td> 0.000</td> <td>   -0.348</td> <td>   -0.123</td>\n",
       "</tr>\n",
       "</table>"
      ],
      "text/plain": [
       "<class 'statsmodels.iolib.summary.Summary'>\n",
       "\"\"\"\n",
       "                           Logit Regression Results                           \n",
       "==============================================================================\n",
       "Dep. Variable:                      y   No. Observations:                 6325\n",
       "Model:                          Logit   Df Residuals:                     6286\n",
       "Method:                           MLE   Df Model:                           38\n",
       "Date:                Wed, 06 Oct 2021   Pseudo R-squ.:                  0.4130\n",
       "Time:                        19:57:16   Log-Likelihood:                -2469.9\n",
       "converged:                       True   LL-Null:                       -4207.7\n",
       "Covariance Type:            nonrobust   LLR p-value:                     0.000\n",
       "========================================================================================================================\n",
       "                                                           coef    std err          z      P>|z|      [0.025      0.975]\n",
       "------------------------------------------------------------------------------------------------------------------------\n",
       "const                                                 2.763e+04        nan        nan        nan         nan         nan\n",
       "lead_origin_Add Form                                     3.1646      0.579      5.466      0.000       2.030       4.299\n",
       "lead_origin_Landing Page Submission                     -0.2193      0.111     -1.977      0.048      -0.437      -0.002\n",
       "lead_origin_Lead Import                                  0.1645      0.457      0.360      0.719      -0.732       1.061\n",
       "lead_source_Google                                       0.2985      0.119      2.499      0.012       0.064       0.533\n",
       "lead_source_Olark Chat                                   1.4076      0.168      8.364      0.000       1.078       1.737\n",
       "lead_source_Organic Search                               0.1851      0.134      1.379      0.168      -0.078       0.448\n",
       "lead_source_Other                                        0.5338      0.662      0.807      0.420      -0.763       1.831\n",
       "lead_source_Reference                                    0.4886      0.617      0.792      0.429      -0.721       1.698\n",
       "lead_source_Referral Sites                              -0.0514      0.375     -0.137      0.891      -0.786       0.683\n",
       "lead_source_Welingak Website                             2.1802      0.926      2.354      0.019       0.365       3.995\n",
       "do_not_email_Yes                                        -1.1694      0.216     -5.414      0.000      -1.593      -0.746\n",
       "last_activity_Email Bounced                             -0.7727      0.490     -1.577      0.115      -1.733       0.188\n",
       "last_activity_Email Link Clicked                         0.5282      0.419      1.261      0.207      -0.293       1.349\n",
       "last_activity_Email Opened                               0.8194      0.245      3.341      0.001       0.339       1.300\n",
       "last_activity_Form Submitted on Website                  0.4551      0.397      1.147      0.251      -0.323       1.233\n",
       "last_activity_Had a Phone Conversation                   0.7011      0.891      0.787      0.431      -1.045       2.448\n",
       "last_activity_Olark Chat Conversation                   -0.5244      0.279     -1.876      0.061      -1.072       0.023\n",
       "last_activity_Other                                      0.9659      0.850      1.137      0.256      -0.699       2.631\n",
       "last_activity_Page Visited on Website                    0.4685      0.297      1.580      0.114      -0.113       1.050\n",
       "last_activity_SMS Sent                                   1.3150      0.249      5.290      0.000       0.828       1.802\n",
       "last_activity_Unreachable                                0.6537      0.438      1.491      0.136      -0.205       1.513\n",
       "last_activity_Unsubscribed                              -1.1824      2.111     -0.560      0.575      -5.320       2.956\n",
       "what_is_your_current_occupation_Other                -2.764e+04        nan        nan        nan         nan         nan\n",
       "what_is_your_current_occupation_Student              -2.764e+04        nan        nan        nan         nan         nan\n",
       "what_is_your_current_occupation_Unemployed           -2.764e+04        nan        nan        nan         nan         nan\n",
       "what_is_your_current_occupation_Working Professional -2.763e+04        nan        nan        nan         nan         nan\n",
       "a_free_copy_of_mastering_the_interview_Yes              -0.0854      0.110     -0.773      0.440      -0.302       0.131\n",
       "last_notable_activity_Email Opened                       0.4039      0.491      0.822      0.411      -0.559       1.366\n",
       "last_notable_activity_Modified                           0.0764      0.470      0.163      0.871      -0.845       0.997\n",
       "last_notable_activity_Olark Chat Conversation            0.2796      0.596      0.469      0.639      -0.889       1.448\n",
       "last_notable_activity_Other                              2.6927      1.296      2.078      0.038       0.153       5.233\n",
       "last_notable_activity_Page Visited on Website            0.0422      0.555      0.076      0.939      -1.045       1.130\n",
       "last_notable_activity_SMS Sent                           1.1700      0.494      2.367      0.018       0.201       2.139\n",
       "last_notable_activity_Unreachable                        2.0720      0.678      3.057      0.002       0.743       3.401\n",
       "last_notable_activity_Unsubscribed                       3.2839      2.198      1.494      0.135      -1.024       7.592\n",
       "totalvisits                                              0.2809      0.054      5.164      0.000       0.174       0.388\n",
       "total_time_spent_on_website                              1.1336      0.042     26.981      0.000       1.051       1.216\n",
       "page_views_per_visit                                    -0.2352      0.057     -4.095      0.000      -0.348      -0.123\n",
       "========================================================================================================================\n",
       "\"\"\""
      ]
     },
     "execution_count": 341,
     "metadata": {},
     "output_type": "execute_result"
    }
   ],
   "source": [
    "# Logistic regression = Logit\n",
    "logm1 = sm.Logit(y_train,(sm.add_constant(X_train)), family = sm.families.Binomial())\n",
    "result= logm1.fit()\n",
    "result.summary()\n",
    "    \n",
    "## Logistic regression = Logit\n",
    "#logm1 = sm.Logit(y_train,(sm.add_constant(X_train)), family = sm.families.Binomial())\n",
    "#logm1.fit().summary()"
   ]
  },
  {
   "cell_type": "markdown",
   "id": "f628af9f",
   "metadata": {},
   "source": [
    "The p-Value: The p-value for each term tests the null hypothesis that the coefficient is equal to zero (no effect). A low p-value (< 0.05) indicates that you can reject the null hypothesis. In other words, a predictor that has a low p-value is likely to be a meaningful addition to your model because changes in the predictor's value are related to changes in the response variable.\n",
    "\n",
    "Conversely, a larger (insignificant) p-value suggests that changes in the predictor are not associated with changes in the response.\n",
    "\n",
    "It is also important to avoid high correlation between the selected features. Using the VIF (Variance Inflation Factor) method this can be detected.\n",
    "\n",
    "Note: Values of VIF that exceed 10 are often regarded as indicating multicollinearity, but in even values above 2.5 may be a cause for concern. "
   ]
  },
  {
   "cell_type": "code",
   "execution_count": 322,
   "id": "353a3dd3",
   "metadata": {},
   "outputs": [],
   "source": [
    "def check_vif(X_train):\n",
    "    vif = pd.DataFrame()\n",
    "    vif['Features']=X_train.columns\n",
    "    vif['VIF'] = [variance_inflation_factor(X_train.values,i) for i in range(X_train.shape[1])]\n",
    "    vif=vif.sort_values(by='VIF', ascending = False)\n",
    "    vif['Ranking'] = range(len(vif), 0, -1)\n",
    "    return vif\n"
   ]
  },
  {
   "cell_type": "code",
   "execution_count": 323,
   "id": "d8d1640e",
   "metadata": {
    "scrolled": true
   },
   "outputs": [
    {
     "data": {
      "text/html": [
       "<div>\n",
       "<style scoped>\n",
       "    .dataframe tbody tr th:only-of-type {\n",
       "        vertical-align: middle;\n",
       "    }\n",
       "\n",
       "    .dataframe tbody tr th {\n",
       "        vertical-align: top;\n",
       "    }\n",
       "\n",
       "    .dataframe thead th {\n",
       "        text-align: right;\n",
       "    }\n",
       "</style>\n",
       "<table border=\"1\" class=\"dataframe\">\n",
       "  <thead>\n",
       "    <tr style=\"text-align: right;\">\n",
       "      <th></th>\n",
       "      <th>Features</th>\n",
       "      <th>VIF</th>\n",
       "      <th>Ranking</th>\n",
       "    </tr>\n",
       "  </thead>\n",
       "  <tbody>\n",
       "    <tr>\n",
       "      <th>24</th>\n",
       "      <td>what_is_your_current_occupation_Unemployed</td>\n",
       "      <td>98.222</td>\n",
       "      <td>38</td>\n",
       "    </tr>\n",
       "    <tr>\n",
       "      <th>28</th>\n",
       "      <td>last_notable_activity_Modified</td>\n",
       "      <td>51.341</td>\n",
       "      <td>37</td>\n",
       "    </tr>\n",
       "    <tr>\n",
       "      <th>22</th>\n",
       "      <td>what_is_your_current_occupation_Other</td>\n",
       "      <td>48.384</td>\n",
       "      <td>36</td>\n",
       "    </tr>\n",
       "    <tr>\n",
       "      <th>27</th>\n",
       "      <td>last_notable_activity_Email Opened</td>\n",
       "      <td>47.326</td>\n",
       "      <td>35</td>\n",
       "    </tr>\n",
       "    <tr>\n",
       "      <th>32</th>\n",
       "      <td>last_notable_activity_SMS Sent</td>\n",
       "      <td>37.739</td>\n",
       "      <td>34</td>\n",
       "    </tr>\n",
       "    <tr>\n",
       "      <th>0</th>\n",
       "      <td>lead_origin_Add Form</td>\n",
       "      <td>14.904</td>\n",
       "      <td>33</td>\n",
       "    </tr>\n",
       "    <tr>\n",
       "      <th>13</th>\n",
       "      <td>last_activity_Email Opened</td>\n",
       "      <td>14.290</td>\n",
       "      <td>32</td>\n",
       "    </tr>\n",
       "    <tr>\n",
       "      <th>25</th>\n",
       "      <td>what_is_your_current_occupation_Working Professional</td>\n",
       "      <td>13.622</td>\n",
       "      <td>31</td>\n",
       "    </tr>\n",
       "    <tr>\n",
       "      <th>7</th>\n",
       "      <td>lead_source_Reference</td>\n",
       "      <td>12.043</td>\n",
       "      <td>30</td>\n",
       "    </tr>\n",
       "    <tr>\n",
       "      <th>19</th>\n",
       "      <td>last_activity_SMS Sent</td>\n",
       "      <td>11.905</td>\n",
       "      <td>29</td>\n",
       "    </tr>\n",
       "    <tr>\n",
       "      <th>31</th>\n",
       "      <td>last_notable_activity_Page Visited on Website</td>\n",
       "      <td>6.666</td>\n",
       "      <td>28</td>\n",
       "    </tr>\n",
       "    <tr>\n",
       "      <th>1</th>\n",
       "      <td>lead_origin_Landing Page Submission</td>\n",
       "      <td>5.548</td>\n",
       "      <td>27</td>\n",
       "    </tr>\n",
       "    <tr>\n",
       "      <th>34</th>\n",
       "      <td>last_notable_activity_Unsubscribed</td>\n",
       "      <td>5.029</td>\n",
       "      <td>26</td>\n",
       "    </tr>\n",
       "    <tr>\n",
       "      <th>23</th>\n",
       "      <td>what_is_your_current_occupation_Student</td>\n",
       "      <td>4.745</td>\n",
       "      <td>25</td>\n",
       "    </tr>\n",
       "    <tr>\n",
       "      <th>21</th>\n",
       "      <td>last_activity_Unsubscribed</td>\n",
       "      <td>4.532</td>\n",
       "      <td>24</td>\n",
       "    </tr>\n",
       "    <tr>\n",
       "      <th>4</th>\n",
       "      <td>lead_source_Olark Chat</td>\n",
       "      <td>4.191</td>\n",
       "      <td>23</td>\n",
       "    </tr>\n",
       "    <tr>\n",
       "      <th>16</th>\n",
       "      <td>last_activity_Olark Chat Conversation</td>\n",
       "      <td>4.142</td>\n",
       "      <td>22</td>\n",
       "    </tr>\n",
       "    <tr>\n",
       "      <th>29</th>\n",
       "      <td>last_notable_activity_Olark Chat Conversation</td>\n",
       "      <td>4.089</td>\n",
       "      <td>21</td>\n",
       "    </tr>\n",
       "    <tr>\n",
       "      <th>9</th>\n",
       "      <td>lead_source_Welingak Website</td>\n",
       "      <td>3.911</td>\n",
       "      <td>20</td>\n",
       "    </tr>\n",
       "    <tr>\n",
       "      <th>18</th>\n",
       "      <td>last_activity_Page Visited on Website</td>\n",
       "      <td>3.690</td>\n",
       "      <td>19</td>\n",
       "    </tr>\n",
       "    <tr>\n",
       "      <th>3</th>\n",
       "      <td>lead_source_Google</td>\n",
       "      <td>3.643</td>\n",
       "      <td>18</td>\n",
       "    </tr>\n",
       "    <tr>\n",
       "      <th>26</th>\n",
       "      <td>a_free_copy_of_mastering_the_interview_Yes</td>\n",
       "      <td>3.094</td>\n",
       "      <td>17</td>\n",
       "    </tr>\n",
       "    <tr>\n",
       "      <th>12</th>\n",
       "      <td>last_activity_Email Link Clicked</td>\n",
       "      <td>2.981</td>\n",
       "      <td>16</td>\n",
       "    </tr>\n",
       "    <tr>\n",
       "      <th>11</th>\n",
       "      <td>last_activity_Email Bounced</td>\n",
       "      <td>2.929</td>\n",
       "      <td>15</td>\n",
       "    </tr>\n",
       "    <tr>\n",
       "      <th>37</th>\n",
       "      <td>page_views_per_visit</td>\n",
       "      <td>2.815</td>\n",
       "      <td>14</td>\n",
       "    </tr>\n",
       "    <tr>\n",
       "      <th>33</th>\n",
       "      <td>last_notable_activity_Unreachable</td>\n",
       "      <td>2.646</td>\n",
       "      <td>13</td>\n",
       "    </tr>\n",
       "    <tr>\n",
       "      <th>35</th>\n",
       "      <td>totalvisits</td>\n",
       "      <td>2.562</td>\n",
       "      <td>12</td>\n",
       "    </tr>\n",
       "    <tr>\n",
       "      <th>10</th>\n",
       "      <td>do_not_email_Yes</td>\n",
       "      <td>2.257</td>\n",
       "      <td>11</td>\n",
       "    </tr>\n",
       "    <tr>\n",
       "      <th>30</th>\n",
       "      <td>last_notable_activity_Other</td>\n",
       "      <td>1.958</td>\n",
       "      <td>10</td>\n",
       "    </tr>\n",
       "    <tr>\n",
       "      <th>5</th>\n",
       "      <td>lead_source_Organic Search</td>\n",
       "      <td>1.834</td>\n",
       "      <td>9</td>\n",
       "    </tr>\n",
       "    <tr>\n",
       "      <th>15</th>\n",
       "      <td>last_activity_Had a Phone Conversation</td>\n",
       "      <td>1.805</td>\n",
       "      <td>8</td>\n",
       "    </tr>\n",
       "    <tr>\n",
       "      <th>20</th>\n",
       "      <td>last_activity_Unreachable</td>\n",
       "      <td>1.384</td>\n",
       "      <td>7</td>\n",
       "    </tr>\n",
       "    <tr>\n",
       "      <th>36</th>\n",
       "      <td>total_time_spent_on_website</td>\n",
       "      <td>1.316</td>\n",
       "      <td>6</td>\n",
       "    </tr>\n",
       "    <tr>\n",
       "      <th>14</th>\n",
       "      <td>last_activity_Form Submitted on Website</td>\n",
       "      <td>1.273</td>\n",
       "      <td>5</td>\n",
       "    </tr>\n",
       "    <tr>\n",
       "      <th>8</th>\n",
       "      <td>lead_source_Referral Sites</td>\n",
       "      <td>1.139</td>\n",
       "      <td>4</td>\n",
       "    </tr>\n",
       "    <tr>\n",
       "      <th>2</th>\n",
       "      <td>lead_origin_Lead Import</td>\n",
       "      <td>1.108</td>\n",
       "      <td>3</td>\n",
       "    </tr>\n",
       "    <tr>\n",
       "      <th>17</th>\n",
       "      <td>last_activity_Other</td>\n",
       "      <td>1.078</td>\n",
       "      <td>2</td>\n",
       "    </tr>\n",
       "    <tr>\n",
       "      <th>6</th>\n",
       "      <td>lead_source_Other</td>\n",
       "      <td>1.071</td>\n",
       "      <td>1</td>\n",
       "    </tr>\n",
       "  </tbody>\n",
       "</table>\n",
       "</div>"
      ],
      "text/plain": [
       "                                                Features    VIF  Ranking\n",
       "24            what_is_your_current_occupation_Unemployed 98.222       38\n",
       "28                        last_notable_activity_Modified 51.341       37\n",
       "22                 what_is_your_current_occupation_Other 48.384       36\n",
       "27                    last_notable_activity_Email Opened 47.326       35\n",
       "32                        last_notable_activity_SMS Sent 37.739       34\n",
       "0                                   lead_origin_Add Form 14.904       33\n",
       "13                            last_activity_Email Opened 14.290       32\n",
       "25  what_is_your_current_occupation_Working Professional 13.622       31\n",
       "7                                  lead_source_Reference 12.043       30\n",
       "19                                last_activity_SMS Sent 11.905       29\n",
       "31         last_notable_activity_Page Visited on Website  6.666       28\n",
       "1                    lead_origin_Landing Page Submission  5.548       27\n",
       "34                    last_notable_activity_Unsubscribed  5.029       26\n",
       "23               what_is_your_current_occupation_Student  4.745       25\n",
       "21                            last_activity_Unsubscribed  4.532       24\n",
       "4                                 lead_source_Olark Chat  4.191       23\n",
       "16                 last_activity_Olark Chat Conversation  4.142       22\n",
       "29         last_notable_activity_Olark Chat Conversation  4.089       21\n",
       "9                           lead_source_Welingak Website  3.911       20\n",
       "18                 last_activity_Page Visited on Website  3.690       19\n",
       "3                                     lead_source_Google  3.643       18\n",
       "26            a_free_copy_of_mastering_the_interview_Yes  3.094       17\n",
       "12                      last_activity_Email Link Clicked  2.981       16\n",
       "11                           last_activity_Email Bounced  2.929       15\n",
       "37                                  page_views_per_visit  2.815       14\n",
       "33                     last_notable_activity_Unreachable  2.646       13\n",
       "35                                           totalvisits  2.562       12\n",
       "10                                      do_not_email_Yes  2.257       11\n",
       "30                           last_notable_activity_Other  1.958       10\n",
       "5                             lead_source_Organic Search  1.834        9\n",
       "15                last_activity_Had a Phone Conversation  1.805        8\n",
       "20                             last_activity_Unreachable  1.384        7\n",
       "36                           total_time_spent_on_website  1.316        6\n",
       "14               last_activity_Form Submitted on Website  1.273        5\n",
       "8                             lead_source_Referral Sites  1.139        4\n",
       "2                                lead_origin_Lead Import  1.108        3\n",
       "17                                   last_activity_Other  1.078        2\n",
       "6                                      lead_source_Other  1.071        1"
      ]
     },
     "execution_count": 323,
     "metadata": {},
     "output_type": "execute_result"
    }
   ],
   "source": [
    "check_vif(X_train)"
   ]
  },
  {
   "cell_type": "markdown",
   "id": "77c39029",
   "metadata": {},
   "source": [
    "There are several columns with a VIF > 2.5 , for the next step of Feature selection, I will only consider 11 features (which have a VIF< 2.5)"
   ]
  },
  {
   "cell_type": "markdown",
   "id": "c46d6900",
   "metadata": {},
   "source": [
    "Recursive feature elimination\n",
    "\n",
    "RFE is a wrapper-type feature selection algorithm. In this case the model= LogisticRegression is used in the core of the method, is wrapped by RFE, and used to help select features. "
   ]
  },
  {
   "cell_type": "code",
   "execution_count": 342,
   "id": "6c59c0f5",
   "metadata": {},
   "outputs": [
    {
     "name": "stdout",
     "output_type": "stream",
     "text": [
      "Final selected features: \n"
     ]
    },
    {
     "data": {
      "text/html": [
       "<div>\n",
       "<style scoped>\n",
       "    .dataframe tbody tr th:only-of-type {\n",
       "        vertical-align: middle;\n",
       "    }\n",
       "\n",
       "    .dataframe tbody tr th {\n",
       "        vertical-align: top;\n",
       "    }\n",
       "\n",
       "    .dataframe thead th {\n",
       "        text-align: right;\n",
       "    }\n",
       "</style>\n",
       "<table border=\"1\" class=\"dataframe\">\n",
       "  <thead>\n",
       "    <tr style=\"text-align: right;\">\n",
       "      <th></th>\n",
       "      <th>lead_origin_Add Form</th>\n",
       "      <th>lead_source_Olark Chat</th>\n",
       "      <th>lead_source_Welingak Website</th>\n",
       "      <th>last_activity_Email Bounced</th>\n",
       "      <th>last_activity_Olark Chat Conversation</th>\n",
       "      <th>what_is_your_current_occupation_Other</th>\n",
       "      <th>what_is_your_current_occupation_Working Professional</th>\n",
       "      <th>last_notable_activity_Other</th>\n",
       "      <th>last_notable_activity_SMS Sent</th>\n",
       "      <th>last_notable_activity_Unreachable</th>\n",
       "      <th>total_time_spent_on_website</th>\n",
       "    </tr>\n",
       "  </thead>\n",
       "  <tbody>\n",
       "    <tr>\n",
       "      <th>0</th>\n",
       "      <td>0.000</td>\n",
       "      <td>0.000</td>\n",
       "      <td>0.000</td>\n",
       "      <td>0.000</td>\n",
       "      <td>0.000</td>\n",
       "      <td>0.000</td>\n",
       "      <td>0.000</td>\n",
       "      <td>0.000</td>\n",
       "      <td>0.000</td>\n",
       "      <td>0.000</td>\n",
       "      <td>-0.045</td>\n",
       "    </tr>\n",
       "    <tr>\n",
       "      <th>1</th>\n",
       "      <td>0.000</td>\n",
       "      <td>0.000</td>\n",
       "      <td>0.000</td>\n",
       "      <td>0.000</td>\n",
       "      <td>0.000</td>\n",
       "      <td>0.000</td>\n",
       "      <td>0.000</td>\n",
       "      <td>0.000</td>\n",
       "      <td>1.000</td>\n",
       "      <td>0.000</td>\n",
       "      <td>-0.184</td>\n",
       "    </tr>\n",
       "  </tbody>\n",
       "</table>\n",
       "</div>"
      ],
      "text/plain": [
       "   lead_origin_Add Form  lead_source_Olark Chat  lead_source_Welingak Website  \\\n",
       "0                 0.000                   0.000                         0.000   \n",
       "1                 0.000                   0.000                         0.000   \n",
       "\n",
       "   last_activity_Email Bounced  last_activity_Olark Chat Conversation  \\\n",
       "0                        0.000                                  0.000   \n",
       "1                        0.000                                  0.000   \n",
       "\n",
       "   what_is_your_current_occupation_Other  \\\n",
       "0                                  0.000   \n",
       "1                                  0.000   \n",
       "\n",
       "   what_is_your_current_occupation_Working Professional  \\\n",
       "0                                                 0.000   \n",
       "1                                                 0.000   \n",
       "\n",
       "   last_notable_activity_Other  last_notable_activity_SMS Sent  \\\n",
       "0                        0.000                           0.000   \n",
       "1                        0.000                           1.000   \n",
       "\n",
       "   last_notable_activity_Unreachable  total_time_spent_on_website  \n",
       "0                              0.000                       -0.045  \n",
       "1                              0.000                       -0.184  "
      ]
     },
     "metadata": {},
     "output_type": "display_data"
    },
    {
     "data": {
      "text/html": [
       "<div>\n",
       "<style scoped>\n",
       "    .dataframe tbody tr th:only-of-type {\n",
       "        vertical-align: middle;\n",
       "    }\n",
       "\n",
       "    .dataframe tbody tr th {\n",
       "        vertical-align: top;\n",
       "    }\n",
       "\n",
       "    .dataframe thead th {\n",
       "        text-align: right;\n",
       "    }\n",
       "</style>\n",
       "<table border=\"1\" class=\"dataframe\">\n",
       "  <thead>\n",
       "    <tr style=\"text-align: right;\">\n",
       "      <th></th>\n",
       "      <th>Features</th>\n",
       "    </tr>\n",
       "  </thead>\n",
       "  <tbody>\n",
       "    <tr>\n",
       "      <th>0</th>\n",
       "      <td>lead_origin_Add Form</td>\n",
       "    </tr>\n",
       "    <tr>\n",
       "      <th>1</th>\n",
       "      <td>lead_source_Olark Chat</td>\n",
       "    </tr>\n",
       "    <tr>\n",
       "      <th>2</th>\n",
       "      <td>lead_source_Welingak Website</td>\n",
       "    </tr>\n",
       "    <tr>\n",
       "      <th>3</th>\n",
       "      <td>last_activity_Email Bounced</td>\n",
       "    </tr>\n",
       "    <tr>\n",
       "      <th>4</th>\n",
       "      <td>last_activity_Olark Chat Conversation</td>\n",
       "    </tr>\n",
       "    <tr>\n",
       "      <th>5</th>\n",
       "      <td>what_is_your_current_occupation_Other</td>\n",
       "    </tr>\n",
       "    <tr>\n",
       "      <th>6</th>\n",
       "      <td>what_is_your_current_occupation_Working Professional</td>\n",
       "    </tr>\n",
       "    <tr>\n",
       "      <th>7</th>\n",
       "      <td>last_notable_activity_Other</td>\n",
       "    </tr>\n",
       "    <tr>\n",
       "      <th>8</th>\n",
       "      <td>last_notable_activity_SMS Sent</td>\n",
       "    </tr>\n",
       "    <tr>\n",
       "      <th>9</th>\n",
       "      <td>last_notable_activity_Unreachable</td>\n",
       "    </tr>\n",
       "    <tr>\n",
       "      <th>10</th>\n",
       "      <td>total_time_spent_on_website</td>\n",
       "    </tr>\n",
       "  </tbody>\n",
       "</table>\n",
       "</div>"
      ],
      "text/plain": [
       "                                                Features\n",
       "0                                   lead_origin_Add Form\n",
       "1                                 lead_source_Olark Chat\n",
       "2                           lead_source_Welingak Website\n",
       "3                            last_activity_Email Bounced\n",
       "4                  last_activity_Olark Chat Conversation\n",
       "5                  what_is_your_current_occupation_Other\n",
       "6   what_is_your_current_occupation_Working Professional\n",
       "7                            last_notable_activity_Other\n",
       "8                         last_notable_activity_SMS Sent\n",
       "9                      last_notable_activity_Unreachable\n",
       "10                           total_time_spent_on_website"
      ]
     },
     "metadata": {},
     "output_type": "display_data"
    },
    {
     "name": "stdout",
     "output_type": "stream",
     "text": [
      "Cross validation score:  0.814 . Cross validation score with all features: 0.822\n"
     ]
    }
   ],
   "source": [
    "# Inputing 11 features selected for RFE\n",
    "# We will then optimize the model further by inspecting VIF and p-value of the features\n",
    "\n",
    "model = LogisticRegression()\n",
    "selector = RFE(model, n_features_to_select=11, step = 1) # Step is how many features to add or drop everytime  \n",
    "selector = selector.fit(X_train, y_train)\n",
    "\n",
    "#list(zip(X_train.columns, rfe.support_, rfe.ranking_))\n",
    "\n",
    "\n",
    "kept_features = selector.get_support(indices = True) \n",
    "kept_features = list(X_train.iloc[:,kept_features].columns)\n",
    "\n",
    "X_train = selector.transform(X_train)\n",
    "X_test  = selector.transform(X_test)\n",
    "\n",
    "X_train = pd.DataFrame(X_train, columns=kept_features)\n",
    "X_test  = pd.DataFrame(X_test, columns=kept_features)\n",
    "\n",
    "\n",
    "print(\"Final selected features: \")\n",
    "display(X_train.head(2))\n",
    "top_10 =pd.DataFrame()\n",
    "top_10['Features']=(X_train.columns)\n",
    "display(top_10)\n",
    "\n",
    "cross_val_scores_new = cross_val_score(selector, X_train_ref, y_train_ref, cv=10)\n",
    "print(\"Cross validation score: \",np.mean(cross_val_scores_new).round(3), \". Cross validation score with all features: 0.822\")\n"
   ]
  },
  {
   "cell_type": "markdown",
   "id": "c37a68f6",
   "metadata": {},
   "source": [
    "The cross validation score hasn't changed a lot, which shows that the selected variables can greatly explain the convertion.\n",
    "\n",
    "Checking again the VIF of the selected features:"
   ]
  },
  {
   "cell_type": "code",
   "execution_count": 344,
   "id": "608399c5",
   "metadata": {},
   "outputs": [],
   "source": [
    "col = X_train.columns[rfe.support_] # saving selected columns"
   ]
  },
  {
   "cell_type": "markdown",
   "id": "27e2400c",
   "metadata": {},
   "source": [
    "Statsmodels for the selected 11 features"
   ]
  },
  {
   "cell_type": "code",
   "execution_count": 346,
   "id": "80ff7b00",
   "metadata": {},
   "outputs": [
    {
     "name": "stdout",
     "output_type": "stream",
     "text": [
      "Optimization terminated successfully.\n",
      "         Current function value: 0.404446\n",
      "         Iterations 8\n"
     ]
    },
    {
     "data": {
      "text/html": [
       "<table class=\"simpletable\">\n",
       "<caption>Logit Regression Results</caption>\n",
       "<tr>\n",
       "  <th>Dep. Variable:</th>           <td>y</td>        <th>  No. Observations:  </th>  <td>  6325</td> \n",
       "</tr>\n",
       "<tr>\n",
       "  <th>Model:</th>                 <td>Logit</td>      <th>  Df Residuals:      </th>  <td>  6313</td> \n",
       "</tr>\n",
       "<tr>\n",
       "  <th>Method:</th>                 <td>MLE</td>       <th>  Df Model:          </th>  <td>    11</td> \n",
       "</tr>\n",
       "<tr>\n",
       "  <th>Date:</th>            <td>Wed, 06 Oct 2021</td> <th>  Pseudo R-squ.:     </th>  <td>0.3920</td> \n",
       "</tr>\n",
       "<tr>\n",
       "  <th>Time:</th>                <td>20:03:31</td>     <th>  Log-Likelihood:    </th> <td> -2558.1</td>\n",
       "</tr>\n",
       "<tr>\n",
       "  <th>converged:</th>             <td>True</td>       <th>  LL-Null:           </th> <td> -4207.7</td>\n",
       "</tr>\n",
       "<tr>\n",
       "  <th>Covariance Type:</th>     <td>nonrobust</td>    <th>  LLR p-value:       </th>  <td> 0.000</td> \n",
       "</tr>\n",
       "</table>\n",
       "<table class=\"simpletable\">\n",
       "<tr>\n",
       "                            <td></td>                              <th>coef</th>     <th>std err</th>      <th>z</th>      <th>P>|z|</th>  <th>[0.025</th>    <th>0.975]</th>  \n",
       "</tr>\n",
       "<tr>\n",
       "  <th>const</th>                                                <td>   -1.1739</td> <td>    0.054</td> <td>  -21.677</td> <td> 0.000</td> <td>   -1.280</td> <td>   -1.068</td>\n",
       "</tr>\n",
       "<tr>\n",
       "  <th>lead_origin_Add Form</th>                                 <td>    3.6962</td> <td>    0.208</td> <td>   17.774</td> <td> 0.000</td> <td>    3.289</td> <td>    4.104</td>\n",
       "</tr>\n",
       "<tr>\n",
       "  <th>lead_source_Olark Chat</th>                               <td>    1.4643</td> <td>    0.108</td> <td>   13.569</td> <td> 0.000</td> <td>    1.253</td> <td>    1.676</td>\n",
       "</tr>\n",
       "<tr>\n",
       "  <th>lead_source_Welingak Website</th>                         <td>    1.6762</td> <td>    0.748</td> <td>    2.242</td> <td> 0.025</td> <td>    0.211</td> <td>    3.142</td>\n",
       "</tr>\n",
       "<tr>\n",
       "  <th>last_activity_Email Bounced</th>                          <td>   -2.6885</td> <td>    0.379</td> <td>   -7.103</td> <td> 0.000</td> <td>   -3.430</td> <td>   -1.947</td>\n",
       "</tr>\n",
       "<tr>\n",
       "  <th>last_activity_Olark Chat Conversation</th>                <td>   -1.3558</td> <td>    0.165</td> <td>   -8.218</td> <td> 0.000</td> <td>   -1.679</td> <td>   -1.032</td>\n",
       "</tr>\n",
       "<tr>\n",
       "  <th>what_is_your_current_occupation_Other</th>                <td>   -1.2309</td> <td>    0.090</td> <td>  -13.728</td> <td> 0.000</td> <td>   -1.407</td> <td>   -1.055</td>\n",
       "</tr>\n",
       "<tr>\n",
       "  <th>what_is_your_current_occupation_Working Professional</th> <td>    2.5491</td> <td>    0.188</td> <td>   13.559</td> <td> 0.000</td> <td>    2.181</td> <td>    2.918</td>\n",
       "</tr>\n",
       "<tr>\n",
       "  <th>last_notable_activity_Other</th>                          <td>    2.5395</td> <td>    0.918</td> <td>    2.767</td> <td> 0.006</td> <td>    0.741</td> <td>    4.338</td>\n",
       "</tr>\n",
       "<tr>\n",
       "  <th>last_notable_activity_SMS Sent</th>                       <td>    1.3471</td> <td>    0.080</td> <td>   16.899</td> <td> 0.000</td> <td>    1.191</td> <td>    1.503</td>\n",
       "</tr>\n",
       "<tr>\n",
       "  <th>last_notable_activity_Unreachable</th>                    <td>    1.7550</td> <td>    0.430</td> <td>    4.082</td> <td> 0.000</td> <td>    0.912</td> <td>    2.598</td>\n",
       "</tr>\n",
       "<tr>\n",
       "  <th>total_time_spent_on_website</th>                          <td>    1.1483</td> <td>    0.041</td> <td>   28.082</td> <td> 0.000</td> <td>    1.068</td> <td>    1.228</td>\n",
       "</tr>\n",
       "</table>"
      ],
      "text/plain": [
       "<class 'statsmodels.iolib.summary.Summary'>\n",
       "\"\"\"\n",
       "                           Logit Regression Results                           \n",
       "==============================================================================\n",
       "Dep. Variable:                      y   No. Observations:                 6325\n",
       "Model:                          Logit   Df Residuals:                     6313\n",
       "Method:                           MLE   Df Model:                           11\n",
       "Date:                Wed, 06 Oct 2021   Pseudo R-squ.:                  0.3920\n",
       "Time:                        20:03:31   Log-Likelihood:                -2558.1\n",
       "converged:                       True   LL-Null:                       -4207.7\n",
       "Covariance Type:            nonrobust   LLR p-value:                     0.000\n",
       "========================================================================================================================\n",
       "                                                           coef    std err          z      P>|z|      [0.025      0.975]\n",
       "------------------------------------------------------------------------------------------------------------------------\n",
       "const                                                   -1.1739      0.054    -21.677      0.000      -1.280      -1.068\n",
       "lead_origin_Add Form                                     3.6962      0.208     17.774      0.000       3.289       4.104\n",
       "lead_source_Olark Chat                                   1.4643      0.108     13.569      0.000       1.253       1.676\n",
       "lead_source_Welingak Website                             1.6762      0.748      2.242      0.025       0.211       3.142\n",
       "last_activity_Email Bounced                             -2.6885      0.379     -7.103      0.000      -3.430      -1.947\n",
       "last_activity_Olark Chat Conversation                   -1.3558      0.165     -8.218      0.000      -1.679      -1.032\n",
       "what_is_your_current_occupation_Other                   -1.2309      0.090    -13.728      0.000      -1.407      -1.055\n",
       "what_is_your_current_occupation_Working Professional     2.5491      0.188     13.559      0.000       2.181       2.918\n",
       "last_notable_activity_Other                              2.5395      0.918      2.767      0.006       0.741       4.338\n",
       "last_notable_activity_SMS Sent                           1.3471      0.080     16.899      0.000       1.191       1.503\n",
       "last_notable_activity_Unreachable                        1.7550      0.430      4.082      0.000       0.912       2.598\n",
       "total_time_spent_on_website                              1.1483      0.041     28.082      0.000       1.068       1.228\n",
       "========================================================================================================================\n",
       "\"\"\""
      ]
     },
     "execution_count": 346,
     "metadata": {},
     "output_type": "execute_result"
    }
   ],
   "source": [
    "X_train_sm = sm.add_constant(X_train[col])\n",
    "logm2 = sm.Logit(y_train,X_train_sm, family = sm.families.Binomial())\n",
    "result = logm2.fit()\n",
    "result.summary()"
   ]
  },
  {
   "cell_type": "code",
   "execution_count": 363,
   "id": "82501781",
   "metadata": {},
   "outputs": [
    {
     "data": {
      "text/html": [
       "<div>\n",
       "<style scoped>\n",
       "    .dataframe tbody tr th:only-of-type {\n",
       "        vertical-align: middle;\n",
       "    }\n",
       "\n",
       "    .dataframe tbody tr th {\n",
       "        vertical-align: top;\n",
       "    }\n",
       "\n",
       "    .dataframe thead th {\n",
       "        text-align: right;\n",
       "    }\n",
       "</style>\n",
       "<table border=\"1\" class=\"dataframe\">\n",
       "  <thead>\n",
       "    <tr style=\"text-align: right;\">\n",
       "      <th></th>\n",
       "      <th>Features</th>\n",
       "      <th>VIF</th>\n",
       "      <th>Ranking</th>\n",
       "    </tr>\n",
       "  </thead>\n",
       "  <tbody>\n",
       "    <tr>\n",
       "      <th>0</th>\n",
       "      <td>const</td>\n",
       "      <td>2.544</td>\n",
       "      <td>12</td>\n",
       "    </tr>\n",
       "    <tr>\n",
       "      <th>2</th>\n",
       "      <td>lead_source_Olark Chat</td>\n",
       "      <td>1.439</td>\n",
       "      <td>11</td>\n",
       "    </tr>\n",
       "    <tr>\n",
       "      <th>1</th>\n",
       "      <td>lead_origin_Add Form</td>\n",
       "      <td>1.389</td>\n",
       "      <td>10</td>\n",
       "    </tr>\n",
       "    <tr>\n",
       "      <th>5</th>\n",
       "      <td>last_activity_Olark Chat Conversation</td>\n",
       "      <td>1.288</td>\n",
       "      <td>9</td>\n",
       "    </tr>\n",
       "    <tr>\n",
       "      <th>11</th>\n",
       "      <td>total_time_spent_on_website</td>\n",
       "      <td>1.268</td>\n",
       "      <td>8</td>\n",
       "    </tr>\n",
       "    <tr>\n",
       "      <th>3</th>\n",
       "      <td>lead_source_Welingak Website</td>\n",
       "      <td>1.247</td>\n",
       "      <td>7</td>\n",
       "    </tr>\n",
       "    <tr>\n",
       "      <th>6</th>\n",
       "      <td>what_is_your_current_occupation_Other</td>\n",
       "      <td>1.153</td>\n",
       "      <td>6</td>\n",
       "    </tr>\n",
       "    <tr>\n",
       "      <th>4</th>\n",
       "      <td>last_activity_Email Bounced</td>\n",
       "      <td>1.140</td>\n",
       "      <td>5</td>\n",
       "    </tr>\n",
       "    <tr>\n",
       "      <th>10</th>\n",
       "      <td>last_notable_activity_Unreachable</td>\n",
       "      <td>1.120</td>\n",
       "      <td>4</td>\n",
       "    </tr>\n",
       "    <tr>\n",
       "      <th>9</th>\n",
       "      <td>last_notable_activity_SMS Sent</td>\n",
       "      <td>1.107</td>\n",
       "      <td>3</td>\n",
       "    </tr>\n",
       "    <tr>\n",
       "      <th>7</th>\n",
       "      <td>what_is_your_current_occupation_Working Professional</td>\n",
       "      <td>1.102</td>\n",
       "      <td>2</td>\n",
       "    </tr>\n",
       "    <tr>\n",
       "      <th>8</th>\n",
       "      <td>last_notable_activity_Other</td>\n",
       "      <td>1.001</td>\n",
       "      <td>1</td>\n",
       "    </tr>\n",
       "  </tbody>\n",
       "</table>\n",
       "</div>"
      ],
      "text/plain": [
       "                                                Features   VIF  Ranking\n",
       "0                                                  const 2.544       12\n",
       "2                                 lead_source_Olark Chat 1.439       11\n",
       "1                                   lead_origin_Add Form 1.389       10\n",
       "5                  last_activity_Olark Chat Conversation 1.288        9\n",
       "11                           total_time_spent_on_website 1.268        8\n",
       "3                           lead_source_Welingak Website 1.247        7\n",
       "6                  what_is_your_current_occupation_Other 1.153        6\n",
       "4                            last_activity_Email Bounced 1.140        5\n",
       "10                     last_notable_activity_Unreachable 1.120        4\n",
       "9                         last_notable_activity_SMS Sent 1.107        3\n",
       "7   what_is_your_current_occupation_Working Professional 1.102        2\n",
       "8                            last_notable_activity_Other 1.001        1"
      ]
     },
     "execution_count": 363,
     "metadata": {},
     "output_type": "execute_result"
    }
   ],
   "source": [
    "check_vif(X_train_sm)"
   ]
  },
  {
   "cell_type": "markdown",
   "id": "77c409c6",
   "metadata": {},
   "source": [
    "Selected Feature have no VIF > 2.5 and therefore a good selection for the lead scoring"
   ]
  },
  {
   "cell_type": "markdown",
   "id": "445f79a2",
   "metadata": {},
   "source": [
    "Getting the Likelihood to convert on the train data"
   ]
  },
  {
   "cell_type": "code",
   "execution_count": 362,
   "id": "cd612157",
   "metadata": {},
   "outputs": [
    {
     "data": {
      "text/plain": [
       "(0.9994912637014542, 0.0022790844966511185, 0.3471936758893281)"
      ]
     },
     "execution_count": 362,
     "metadata": {},
     "output_type": "execute_result"
    }
   ],
   "source": [
    "\n",
    "y_train_pred = result.predict(X_train_sm)\n",
    "y_train_pred.max(), y_train_pred.min(), y_pred_train.mean() #reflect the liklihood calculated from the model that a lead will convert"
   ]
  },
  {
   "cell_type": "code",
   "execution_count": 360,
   "id": "520491f7",
   "metadata": {},
   "outputs": [
    {
     "name": "stdout",
     "output_type": "stream",
     "text": [
      "There are 3383 leads in the train set that have a probability of converting higher than 80%.\n"
     ]
    }
   ],
   "source": [
    "conversion_80= [i for i in y_train_pred.value_counts() if i > 0.8]\n",
    "print(\"There are\",len(conversion_80), \"leads in the train set that have a probability of converting higher than 80%.\")\n"
   ]
  },
  {
   "cell_type": "code",
   "execution_count": 395,
   "id": "bf9cfc3a",
   "metadata": {},
   "outputs": [
    {
     "data": {
      "text/html": [
       "<div>\n",
       "<style scoped>\n",
       "    .dataframe tbody tr th:only-of-type {\n",
       "        vertical-align: middle;\n",
       "    }\n",
       "\n",
       "    .dataframe tbody tr th {\n",
       "        vertical-align: top;\n",
       "    }\n",
       "\n",
       "    .dataframe thead th {\n",
       "        text-align: right;\n",
       "    }\n",
       "</style>\n",
       "<table border=\"1\" class=\"dataframe\">\n",
       "  <thead>\n",
       "    <tr style=\"text-align: right;\">\n",
       "      <th></th>\n",
       "      <th>convertion_prob</th>\n",
       "      <th>converted</th>\n",
       "      <th>percentage</th>\n",
       "    </tr>\n",
       "  </thead>\n",
       "  <tbody>\n",
       "    <tr>\n",
       "      <th>5</th>\n",
       "      <td>0.874</td>\n",
       "      <td>0</td>\n",
       "      <td>87.400</td>\n",
       "    </tr>\n",
       "    <tr>\n",
       "      <th>24</th>\n",
       "      <td>0.831</td>\n",
       "      <td>0</td>\n",
       "      <td>83.100</td>\n",
       "    </tr>\n",
       "    <tr>\n",
       "      <th>29</th>\n",
       "      <td>0.818</td>\n",
       "      <td>0</td>\n",
       "      <td>81.800</td>\n",
       "    </tr>\n",
       "    <tr>\n",
       "      <th>187</th>\n",
       "      <td>0.945</td>\n",
       "      <td>0</td>\n",
       "      <td>94.500</td>\n",
       "    </tr>\n",
       "    <tr>\n",
       "      <th>293</th>\n",
       "      <td>0.887</td>\n",
       "      <td>0</td>\n",
       "      <td>88.700</td>\n",
       "    </tr>\n",
       "    <tr>\n",
       "      <th>...</th>\n",
       "      <td>...</td>\n",
       "      <td>...</td>\n",
       "      <td>...</td>\n",
       "    </tr>\n",
       "    <tr>\n",
       "      <th>6172</th>\n",
       "      <td>0.960</td>\n",
       "      <td>0</td>\n",
       "      <td>96.000</td>\n",
       "    </tr>\n",
       "    <tr>\n",
       "      <th>6178</th>\n",
       "      <td>0.852</td>\n",
       "      <td>0</td>\n",
       "      <td>85.200</td>\n",
       "    </tr>\n",
       "    <tr>\n",
       "      <th>6179</th>\n",
       "      <td>0.846</td>\n",
       "      <td>0</td>\n",
       "      <td>84.600</td>\n",
       "    </tr>\n",
       "    <tr>\n",
       "      <th>6203</th>\n",
       "      <td>0.982</td>\n",
       "      <td>0</td>\n",
       "      <td>98.200</td>\n",
       "    </tr>\n",
       "    <tr>\n",
       "      <th>6315</th>\n",
       "      <td>0.900</td>\n",
       "      <td>0</td>\n",
       "      <td>90.000</td>\n",
       "    </tr>\n",
       "  </tbody>\n",
       "</table>\n",
       "<p>126 rows × 3 columns</p>\n",
       "</div>"
      ],
      "text/plain": [
       "      convertion_prob  converted  percentage\n",
       "5               0.874          0      87.400\n",
       "24              0.831          0      83.100\n",
       "29              0.818          0      81.800\n",
       "187             0.945          0      94.500\n",
       "293             0.887          0      88.700\n",
       "...               ...        ...         ...\n",
       "6172            0.960          0      96.000\n",
       "6178            0.852          0      85.200\n",
       "6179            0.846          0      84.600\n",
       "6203            0.982          0      98.200\n",
       "6315            0.900          0      90.000\n",
       "\n",
       "[126 rows x 3 columns]"
      ]
     },
     "execution_count": 395,
     "metadata": {},
     "output_type": "execute_result"
    }
   ],
   "source": [
    "y_train_pred_df = pd.DataFrame()\n",
    "y_train_pred_df['convertion_prob']=y_train_pred\n",
    "y_train_pred_df['converted'] = y_train\n",
    "y_train_pred_df['percentage'] =(y_train_pred* 100).round(1)\n",
    "prob_80_df = y_train_pred_df[y_train_pred_df['convertion_prob']>0.8]\n",
    "prob_80_df_not_converted = prob_80_df[prob_80_df['converted']==0]\n",
    "prob_80_df_not_converted"
   ]
  },
  {
   "cell_type": "code",
   "execution_count": 366,
   "id": "de0c8420",
   "metadata": {},
   "outputs": [
    {
     "data": {
      "text/plain": [
       "(0.9995262171520569, 0.0024113695456011793, 0.3824505928853755)"
      ]
     },
     "execution_count": 366,
     "metadata": {},
     "output_type": "execute_result"
    }
   ],
   "source": [
    "X_test_sm = sm.add_constant(X_test[col])\n",
    "y_pred = result.predict(X_test_sm)\n",
    "y_pred.max(), y_pred.min(), y_train.mean() #reflect the liklihood calculated from the model that a lead will convert"
   ]
  },
  {
   "cell_type": "code",
   "execution_count": 368,
   "id": "e3b7fcda",
   "metadata": {},
   "outputs": [
    {
     "name": "stdout",
     "output_type": "stream",
     "text": [
      "There are 1729 leads in the test set that have a probability of converting higher than 80%.\n"
     ]
    }
   ],
   "source": [
    "conversion_80_test= [i for i in y_pred.value_counts() if i > 0.8]\n",
    "print(\"There are\",len(conversion_80_test), \"leads in the test set that have a probability of converting higher than 80%.\")\n"
   ]
  },
  {
   "cell_type": "code",
   "execution_count": 396,
   "id": "bf5560e6",
   "metadata": {},
   "outputs": [
    {
     "data": {
      "text/html": [
       "<div>\n",
       "<style scoped>\n",
       "    .dataframe tbody tr th:only-of-type {\n",
       "        vertical-align: middle;\n",
       "    }\n",
       "\n",
       "    .dataframe tbody tr th {\n",
       "        vertical-align: top;\n",
       "    }\n",
       "\n",
       "    .dataframe thead th {\n",
       "        text-align: right;\n",
       "    }\n",
       "</style>\n",
       "<table border=\"1\" class=\"dataframe\">\n",
       "  <thead>\n",
       "    <tr style=\"text-align: right;\">\n",
       "      <th></th>\n",
       "      <th>convertion_prob</th>\n",
       "      <th>converted</th>\n",
       "      <th>percentage</th>\n",
       "    </tr>\n",
       "  </thead>\n",
       "  <tbody>\n",
       "    <tr>\n",
       "      <th>5</th>\n",
       "      <td>0.874</td>\n",
       "      <td>0</td>\n",
       "      <td>87.400</td>\n",
       "    </tr>\n",
       "    <tr>\n",
       "      <th>24</th>\n",
       "      <td>0.831</td>\n",
       "      <td>0</td>\n",
       "      <td>83.100</td>\n",
       "    </tr>\n",
       "    <tr>\n",
       "      <th>29</th>\n",
       "      <td>0.818</td>\n",
       "      <td>0</td>\n",
       "      <td>81.800</td>\n",
       "    </tr>\n",
       "    <tr>\n",
       "      <th>187</th>\n",
       "      <td>0.945</td>\n",
       "      <td>0</td>\n",
       "      <td>94.500</td>\n",
       "    </tr>\n",
       "    <tr>\n",
       "      <th>293</th>\n",
       "      <td>0.887</td>\n",
       "      <td>0</td>\n",
       "      <td>88.700</td>\n",
       "    </tr>\n",
       "    <tr>\n",
       "      <th>...</th>\n",
       "      <td>...</td>\n",
       "      <td>...</td>\n",
       "      <td>...</td>\n",
       "    </tr>\n",
       "    <tr>\n",
       "      <th>6172</th>\n",
       "      <td>0.960</td>\n",
       "      <td>0</td>\n",
       "      <td>96.000</td>\n",
       "    </tr>\n",
       "    <tr>\n",
       "      <th>6178</th>\n",
       "      <td>0.852</td>\n",
       "      <td>0</td>\n",
       "      <td>85.200</td>\n",
       "    </tr>\n",
       "    <tr>\n",
       "      <th>6179</th>\n",
       "      <td>0.846</td>\n",
       "      <td>0</td>\n",
       "      <td>84.600</td>\n",
       "    </tr>\n",
       "    <tr>\n",
       "      <th>6203</th>\n",
       "      <td>0.982</td>\n",
       "      <td>0</td>\n",
       "      <td>98.200</td>\n",
       "    </tr>\n",
       "    <tr>\n",
       "      <th>6315</th>\n",
       "      <td>0.900</td>\n",
       "      <td>0</td>\n",
       "      <td>90.000</td>\n",
       "    </tr>\n",
       "  </tbody>\n",
       "</table>\n",
       "<p>126 rows × 3 columns</p>\n",
       "</div>"
      ],
      "text/plain": [
       "      convertion_prob  converted  percentage\n",
       "5               0.874          0      87.400\n",
       "24              0.831          0      83.100\n",
       "29              0.818          0      81.800\n",
       "187             0.945          0      94.500\n",
       "293             0.887          0      88.700\n",
       "...               ...        ...         ...\n",
       "6172            0.960          0      96.000\n",
       "6178            0.852          0      85.200\n",
       "6179            0.846          0      84.600\n",
       "6203            0.982          0      98.200\n",
       "6315            0.900          0      90.000\n",
       "\n",
       "[126 rows x 3 columns]"
      ]
     },
     "execution_count": 396,
     "metadata": {},
     "output_type": "execute_result"
    }
   ],
   "source": [
    "y_pred_df = pd.DataFrame()\n",
    "y_pred_df['convertion_prob']=y_pred\n",
    "y_pred_df['converted'] = y_test\n",
    "y_pred_df['percentage'] = (y_pred* 100).round(1)\n",
    "prob_80_df_test = y_pred_df[y_pred_df['convertion_prob']>0.8]\n",
    "prob_80_df_not_converted_test = prob_80_df[prob_80_df['converted']==0]\n",
    "prob_80_df_not_converted_test"
   ]
  },
  {
   "cell_type": "markdown",
   "id": "90e44b9c",
   "metadata": {},
   "source": [
    "Concating both train_test to display the overall likelihood to convert"
   ]
  },
  {
   "cell_type": "code",
   "execution_count": 397,
   "id": "10c7e9b8",
   "metadata": {},
   "outputs": [],
   "source": [
    "Leadlist_focus = pd.concat([prob_80_df_not_converted, prob_80_df_not_converted_test], ignore_index=True)"
   ]
  },
  {
   "cell_type": "code",
   "execution_count": 398,
   "id": "b33df4b9",
   "metadata": {},
   "outputs": [
    {
     "data": {
      "text/html": [
       "<div>\n",
       "<style scoped>\n",
       "    .dataframe tbody tr th:only-of-type {\n",
       "        vertical-align: middle;\n",
       "    }\n",
       "\n",
       "    .dataframe tbody tr th {\n",
       "        vertical-align: top;\n",
       "    }\n",
       "\n",
       "    .dataframe thead th {\n",
       "        text-align: right;\n",
       "    }\n",
       "</style>\n",
       "<table border=\"1\" class=\"dataframe\">\n",
       "  <thead>\n",
       "    <tr style=\"text-align: right;\">\n",
       "      <th></th>\n",
       "      <th>convertion_prob</th>\n",
       "      <th>converted</th>\n",
       "      <th>percentage</th>\n",
       "    </tr>\n",
       "  </thead>\n",
       "  <tbody>\n",
       "    <tr>\n",
       "      <th>0</th>\n",
       "      <td>0.874</td>\n",
       "      <td>0</td>\n",
       "      <td>87.400</td>\n",
       "    </tr>\n",
       "    <tr>\n",
       "      <th>1</th>\n",
       "      <td>0.831</td>\n",
       "      <td>0</td>\n",
       "      <td>83.100</td>\n",
       "    </tr>\n",
       "    <tr>\n",
       "      <th>2</th>\n",
       "      <td>0.818</td>\n",
       "      <td>0</td>\n",
       "      <td>81.800</td>\n",
       "    </tr>\n",
       "    <tr>\n",
       "      <th>3</th>\n",
       "      <td>0.945</td>\n",
       "      <td>0</td>\n",
       "      <td>94.500</td>\n",
       "    </tr>\n",
       "    <tr>\n",
       "      <th>4</th>\n",
       "      <td>0.887</td>\n",
       "      <td>0</td>\n",
       "      <td>88.700</td>\n",
       "    </tr>\n",
       "    <tr>\n",
       "      <th>...</th>\n",
       "      <td>...</td>\n",
       "      <td>...</td>\n",
       "      <td>...</td>\n",
       "    </tr>\n",
       "    <tr>\n",
       "      <th>247</th>\n",
       "      <td>0.960</td>\n",
       "      <td>0</td>\n",
       "      <td>96.000</td>\n",
       "    </tr>\n",
       "    <tr>\n",
       "      <th>248</th>\n",
       "      <td>0.852</td>\n",
       "      <td>0</td>\n",
       "      <td>85.200</td>\n",
       "    </tr>\n",
       "    <tr>\n",
       "      <th>249</th>\n",
       "      <td>0.846</td>\n",
       "      <td>0</td>\n",
       "      <td>84.600</td>\n",
       "    </tr>\n",
       "    <tr>\n",
       "      <th>250</th>\n",
       "      <td>0.982</td>\n",
       "      <td>0</td>\n",
       "      <td>98.200</td>\n",
       "    </tr>\n",
       "    <tr>\n",
       "      <th>251</th>\n",
       "      <td>0.900</td>\n",
       "      <td>0</td>\n",
       "      <td>90.000</td>\n",
       "    </tr>\n",
       "  </tbody>\n",
       "</table>\n",
       "<p>252 rows × 3 columns</p>\n",
       "</div>"
      ],
      "text/plain": [
       "     convertion_prob  converted  percentage\n",
       "0              0.874          0      87.400\n",
       "1              0.831          0      83.100\n",
       "2              0.818          0      81.800\n",
       "3              0.945          0      94.500\n",
       "4              0.887          0      88.700\n",
       "..               ...        ...         ...\n",
       "247            0.960          0      96.000\n",
       "248            0.852          0      85.200\n",
       "249            0.846          0      84.600\n",
       "250            0.982          0      98.200\n",
       "251            0.900          0      90.000\n",
       "\n",
       "[252 rows x 3 columns]"
      ]
     },
     "execution_count": 398,
     "metadata": {},
     "output_type": "execute_result"
    }
   ],
   "source": [
    "Leadlist_focus"
   ]
  },
  {
   "cell_type": "code",
   "execution_count": null,
   "id": "5489330f",
   "metadata": {},
   "outputs": [],
   "source": []
  }
 ],
 "metadata": {
  "kernelspec": {
   "display_name": "Python 3",
   "language": "python",
   "name": "python3"
  },
  "language_info": {
   "codemirror_mode": {
    "name": "ipython",
    "version": 3
   },
   "file_extension": ".py",
   "mimetype": "text/x-python",
   "name": "python",
   "nbconvert_exporter": "python",
   "pygments_lexer": "ipython3",
   "version": "3.9.6"
  }
 },
 "nbformat": 4,
 "nbformat_minor": 5
}
